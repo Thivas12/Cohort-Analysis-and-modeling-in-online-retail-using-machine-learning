{
 "cells": [
  {
   "cell_type": "markdown",
   "id": "c7a8f20c",
   "metadata": {
    "papermill": {
     "duration": 0.024464,
     "end_time": "2022-10-29T09:16:29.012247",
     "exception": false,
     "start_time": "2022-10-29T09:16:28.987783",
     "status": "completed"
    },
    "tags": []
   },
   "source": [
    "# **Introduction**"
   ]
  },
  {
   "cell_type": "markdown",
   "id": "c9fb5dc2",
   "metadata": {
    "papermill": {
     "duration": 0.023391,
     "end_time": "2022-10-29T09:16:29.058851",
     "exception": false,
     "start_time": "2022-10-29T09:16:29.035460",
     "status": "completed"
    },
    "tags": []
   },
   "source": [
    "**In this project, we will,**\n",
    "* **Investigate the online retail dataset and do data cleaning**\n",
    "* **Will find the most and least expensive products**\n",
    "* **Overlook at the sales numbers, using different features like countries, products, customers**\n",
    "* **Performing Cohort analysis for retention rate and for average sales quantity**\n",
    "* **Visualizing how sales amount change with time**\n",
    "* **Taking a new online retail dataset and I again did clean and processed the data**\n",
    "* **Used FP-Algorithm to get frequent patterns from a portion of huge numbers of invoices in the dataset**\n",
    "* **Using mlxtend library's association_rules module to get the confidence metric, so I can sort them on that basis**"
   ]
  },
  {
   "cell_type": "markdown",
   "id": "225fbca9",
   "metadata": {
    "papermill": {
     "duration": 0.022839,
     "end_time": "2022-10-29T09:16:29.104648",
     "exception": false,
     "start_time": "2022-10-29T09:16:29.081809",
     "status": "completed"
    },
    "tags": []
   },
   "source": [
    "# **Importing Basic Dependencies**"
   ]
  },
  {
   "cell_type": "code",
   "execution_count": 1,
   "id": "ddd20273",
   "metadata": {
    "execution": {
     "iopub.execute_input": "2022-10-29T09:16:29.152957Z",
     "iopub.status.busy": "2022-10-29T09:16:29.152401Z",
     "iopub.status.idle": "2022-10-29T09:16:30.244138Z",
     "shell.execute_reply": "2022-10-29T09:16:30.243267Z"
    },
    "papermill": {
     "duration": 1.118556,
     "end_time": "2022-10-29T09:16:30.246427",
     "exception": false,
     "start_time": "2022-10-29T09:16:29.127871",
     "status": "completed"
    },
    "tags": []
   },
   "outputs": [],
   "source": [
    "import numpy as np # linear algebra\n",
    "import pandas as pd # data processing, CSV file I/O (e.g. pd.read_csv)\n",
    "import datetime as dt # processing dates\n",
    "import plotly.express as px # charts plotting\n",
    "import plotly.graph_objects as go # more customized plotting\n",
    "import warnings\n",
    "warnings.filterwarnings(\"ignore\")"
   ]
  },
  {
   "cell_type": "code",
   "execution_count": 2,
   "id": "3305423a",
   "metadata": {
    "execution": {
     "iopub.execute_input": "2022-10-29T09:16:30.296511Z",
     "iopub.status.busy": "2022-10-29T09:16:30.295612Z",
     "iopub.status.idle": "2022-10-29T09:16:32.058269Z",
     "shell.execute_reply": "2022-10-29T09:16:32.057358Z"
    },
    "papermill": {
     "duration": 1.789655,
     "end_time": "2022-10-29T09:16:32.060422",
     "exception": false,
     "start_time": "2022-10-29T09:16:30.270767",
     "status": "completed"
    },
    "tags": []
   },
   "outputs": [],
   "source": [
    "retail = pd.read_csv('../input/onlineretail/online_retail.csv')"
   ]
  },
  {
   "cell_type": "markdown",
   "id": "245362fc",
   "metadata": {
    "papermill": {
     "duration": 0.023122,
     "end_time": "2022-10-29T09:16:32.107244",
     "exception": false,
     "start_time": "2022-10-29T09:16:32.084122",
     "status": "completed"
    },
    "tags": []
   },
   "source": [
    "# **Checking and Preparing the Data**"
   ]
  },
  {
   "cell_type": "code",
   "execution_count": 3,
   "id": "9004e49b",
   "metadata": {
    "execution": {
     "iopub.execute_input": "2022-10-29T09:16:32.155487Z",
     "iopub.status.busy": "2022-10-29T09:16:32.154677Z",
     "iopub.status.idle": "2022-10-29T09:16:32.175101Z",
     "shell.execute_reply": "2022-10-29T09:16:32.174090Z"
    },
    "papermill": {
     "duration": 0.046696,
     "end_time": "2022-10-29T09:16:32.177188",
     "exception": false,
     "start_time": "2022-10-29T09:16:32.130492",
     "status": "completed"
    },
    "tags": []
   },
   "outputs": [
    {
     "data": {
      "text/html": [
       "<div>\n",
       "<style scoped>\n",
       "    .dataframe tbody tr th:only-of-type {\n",
       "        vertical-align: middle;\n",
       "    }\n",
       "\n",
       "    .dataframe tbody tr th {\n",
       "        vertical-align: top;\n",
       "    }\n",
       "\n",
       "    .dataframe thead th {\n",
       "        text-align: right;\n",
       "    }\n",
       "</style>\n",
       "<table border=\"1\" class=\"dataframe\">\n",
       "  <thead>\n",
       "    <tr style=\"text-align: right;\">\n",
       "      <th></th>\n",
       "      <th>Invoice</th>\n",
       "      <th>StockCode</th>\n",
       "      <th>Description</th>\n",
       "      <th>Quantity</th>\n",
       "      <th>InvoiceDate</th>\n",
       "      <th>Price</th>\n",
       "      <th>Customer ID</th>\n",
       "      <th>Country</th>\n",
       "    </tr>\n",
       "  </thead>\n",
       "  <tbody>\n",
       "    <tr>\n",
       "      <th>0</th>\n",
       "      <td>489434</td>\n",
       "      <td>85048</td>\n",
       "      <td>15CM CHRISTMAS GLASS BALL 20 LIGHTS</td>\n",
       "      <td>12</td>\n",
       "      <td>01-12-2009 07:45</td>\n",
       "      <td>6.95</td>\n",
       "      <td>13085.0</td>\n",
       "      <td>United Kingdom</td>\n",
       "    </tr>\n",
       "    <tr>\n",
       "      <th>1</th>\n",
       "      <td>489434</td>\n",
       "      <td>79323P</td>\n",
       "      <td>PINK CHERRY LIGHTS</td>\n",
       "      <td>12</td>\n",
       "      <td>01-12-2009 07:45</td>\n",
       "      <td>6.75</td>\n",
       "      <td>13085.0</td>\n",
       "      <td>United Kingdom</td>\n",
       "    </tr>\n",
       "    <tr>\n",
       "      <th>2</th>\n",
       "      <td>489434</td>\n",
       "      <td>79323W</td>\n",
       "      <td>WHITE CHERRY LIGHTS</td>\n",
       "      <td>12</td>\n",
       "      <td>01-12-2009 07:45</td>\n",
       "      <td>6.75</td>\n",
       "      <td>13085.0</td>\n",
       "      <td>United Kingdom</td>\n",
       "    </tr>\n",
       "    <tr>\n",
       "      <th>3</th>\n",
       "      <td>489434</td>\n",
       "      <td>22041</td>\n",
       "      <td>RECORD FRAME 7\" SINGLE SIZE</td>\n",
       "      <td>48</td>\n",
       "      <td>01-12-2009 07:45</td>\n",
       "      <td>2.10</td>\n",
       "      <td>13085.0</td>\n",
       "      <td>United Kingdom</td>\n",
       "    </tr>\n",
       "    <tr>\n",
       "      <th>4</th>\n",
       "      <td>489434</td>\n",
       "      <td>21232</td>\n",
       "      <td>STRAWBERRY CERAMIC TRINKET BOX</td>\n",
       "      <td>24</td>\n",
       "      <td>01-12-2009 07:45</td>\n",
       "      <td>1.25</td>\n",
       "      <td>13085.0</td>\n",
       "      <td>United Kingdom</td>\n",
       "    </tr>\n",
       "  </tbody>\n",
       "</table>\n",
       "</div>"
      ],
      "text/plain": [
       "  Invoice StockCode                          Description  Quantity  \\\n",
       "0  489434     85048  15CM CHRISTMAS GLASS BALL 20 LIGHTS        12   \n",
       "1  489434    79323P                   PINK CHERRY LIGHTS        12   \n",
       "2  489434    79323W                  WHITE CHERRY LIGHTS        12   \n",
       "3  489434     22041         RECORD FRAME 7\" SINGLE SIZE         48   \n",
       "4  489434     21232       STRAWBERRY CERAMIC TRINKET BOX        24   \n",
       "\n",
       "        InvoiceDate  Price  Customer ID         Country  \n",
       "0  01-12-2009 07:45   6.95      13085.0  United Kingdom  \n",
       "1  01-12-2009 07:45   6.75      13085.0  United Kingdom  \n",
       "2  01-12-2009 07:45   6.75      13085.0  United Kingdom  \n",
       "3  01-12-2009 07:45   2.10      13085.0  United Kingdom  \n",
       "4  01-12-2009 07:45   1.25      13085.0  United Kingdom  "
      ]
     },
     "execution_count": 3,
     "metadata": {},
     "output_type": "execute_result"
    }
   ],
   "source": [
    "retail.head()"
   ]
  },
  {
   "cell_type": "code",
   "execution_count": 4,
   "id": "86a17f3a",
   "metadata": {
    "execution": {
     "iopub.execute_input": "2022-10-29T09:16:32.226091Z",
     "iopub.status.busy": "2022-10-29T09:16:32.225781Z",
     "iopub.status.idle": "2022-10-29T09:16:32.237815Z",
     "shell.execute_reply": "2022-10-29T09:16:32.236934Z"
    },
    "papermill": {
     "duration": 0.038437,
     "end_time": "2022-10-29T09:16:32.239804",
     "exception": false,
     "start_time": "2022-10-29T09:16:32.201367",
     "status": "completed"
    },
    "tags": []
   },
   "outputs": [
    {
     "data": {
      "text/html": [
       "<div>\n",
       "<style scoped>\n",
       "    .dataframe tbody tr th:only-of-type {\n",
       "        vertical-align: middle;\n",
       "    }\n",
       "\n",
       "    .dataframe tbody tr th {\n",
       "        vertical-align: top;\n",
       "    }\n",
       "\n",
       "    .dataframe thead th {\n",
       "        text-align: right;\n",
       "    }\n",
       "</style>\n",
       "<table border=\"1\" class=\"dataframe\">\n",
       "  <thead>\n",
       "    <tr style=\"text-align: right;\">\n",
       "      <th></th>\n",
       "      <th>Invoice</th>\n",
       "      <th>StockCode</th>\n",
       "      <th>Description</th>\n",
       "      <th>Quantity</th>\n",
       "      <th>InvoiceDate</th>\n",
       "      <th>Price</th>\n",
       "      <th>Customer ID</th>\n",
       "      <th>Country</th>\n",
       "    </tr>\n",
       "  </thead>\n",
       "  <tbody>\n",
       "    <tr>\n",
       "      <th>1048570</th>\n",
       "      <td>580501</td>\n",
       "      <td>23284</td>\n",
       "      <td>DOORMAT KEEP CALM AND COME IN</td>\n",
       "      <td>2</td>\n",
       "      <td>04-12-2011 13:00</td>\n",
       "      <td>8.25</td>\n",
       "      <td>14546.0</td>\n",
       "      <td>United Kingdom</td>\n",
       "    </tr>\n",
       "    <tr>\n",
       "      <th>1048571</th>\n",
       "      <td>580501</td>\n",
       "      <td>22507</td>\n",
       "      <td>MEMO BOARD RETROSPOT  DESIGN</td>\n",
       "      <td>3</td>\n",
       "      <td>04-12-2011 13:00</td>\n",
       "      <td>4.95</td>\n",
       "      <td>14546.0</td>\n",
       "      <td>United Kingdom</td>\n",
       "    </tr>\n",
       "    <tr>\n",
       "      <th>1048572</th>\n",
       "      <td>580502</td>\n",
       "      <td>22469</td>\n",
       "      <td>HEART OF WICKER SMALL</td>\n",
       "      <td>3</td>\n",
       "      <td>04-12-2011 13:15</td>\n",
       "      <td>1.65</td>\n",
       "      <td>16931.0</td>\n",
       "      <td>United Kingdom</td>\n",
       "    </tr>\n",
       "    <tr>\n",
       "      <th>1048573</th>\n",
       "      <td>580502</td>\n",
       "      <td>23489</td>\n",
       "      <td>VINTAGE BELLS GARLAND</td>\n",
       "      <td>2</td>\n",
       "      <td>04-12-2011 13:15</td>\n",
       "      <td>2.89</td>\n",
       "      <td>16931.0</td>\n",
       "      <td>United Kingdom</td>\n",
       "    </tr>\n",
       "    <tr>\n",
       "      <th>1048574</th>\n",
       "      <td>580502</td>\n",
       "      <td>23046</td>\n",
       "      <td>PAPER LANTERN 9 POINT DELUXE STAR</td>\n",
       "      <td>1</td>\n",
       "      <td>04-12-2011 13:15</td>\n",
       "      <td>6.65</td>\n",
       "      <td>16931.0</td>\n",
       "      <td>United Kingdom</td>\n",
       "    </tr>\n",
       "  </tbody>\n",
       "</table>\n",
       "</div>"
      ],
      "text/plain": [
       "        Invoice StockCode                        Description  Quantity  \\\n",
       "1048570  580501     23284      DOORMAT KEEP CALM AND COME IN         2   \n",
       "1048571  580501     22507       MEMO BOARD RETROSPOT  DESIGN         3   \n",
       "1048572  580502     22469              HEART OF WICKER SMALL         3   \n",
       "1048573  580502     23489              VINTAGE BELLS GARLAND         2   \n",
       "1048574  580502     23046  PAPER LANTERN 9 POINT DELUXE STAR         1   \n",
       "\n",
       "              InvoiceDate  Price  Customer ID         Country  \n",
       "1048570  04-12-2011 13:00   8.25      14546.0  United Kingdom  \n",
       "1048571  04-12-2011 13:00   4.95      14546.0  United Kingdom  \n",
       "1048572  04-12-2011 13:15   1.65      16931.0  United Kingdom  \n",
       "1048573  04-12-2011 13:15   2.89      16931.0  United Kingdom  \n",
       "1048574  04-12-2011 13:15   6.65      16931.0  United Kingdom  "
      ]
     },
     "execution_count": 4,
     "metadata": {},
     "output_type": "execute_result"
    }
   ],
   "source": [
    "retail.tail()"
   ]
  },
  {
   "cell_type": "code",
   "execution_count": 5,
   "id": "799ecdc8",
   "metadata": {
    "execution": {
     "iopub.execute_input": "2022-10-29T09:16:32.289779Z",
     "iopub.status.busy": "2022-10-29T09:16:32.289429Z",
     "iopub.status.idle": "2022-10-29T09:16:32.295664Z",
     "shell.execute_reply": "2022-10-29T09:16:32.294853Z"
    },
    "papermill": {
     "duration": 0.033036,
     "end_time": "2022-10-29T09:16:32.297414",
     "exception": false,
     "start_time": "2022-10-29T09:16:32.264378",
     "status": "completed"
    },
    "tags": []
   },
   "outputs": [
    {
     "data": {
      "text/plain": [
       "(1048575, 8)"
      ]
     },
     "execution_count": 5,
     "metadata": {},
     "output_type": "execute_result"
    }
   ],
   "source": [
    "retail.shape"
   ]
  },
  {
   "cell_type": "code",
   "execution_count": 6,
   "id": "109c5577",
   "metadata": {
    "execution": {
     "iopub.execute_input": "2022-10-29T09:16:32.346102Z",
     "iopub.status.busy": "2022-10-29T09:16:32.345764Z",
     "iopub.status.idle": "2022-10-29T09:16:32.351789Z",
     "shell.execute_reply": "2022-10-29T09:16:32.350981Z"
    },
    "papermill": {
     "duration": 0.032323,
     "end_time": "2022-10-29T09:16:32.353474",
     "exception": false,
     "start_time": "2022-10-29T09:16:32.321151",
     "status": "completed"
    },
    "tags": []
   },
   "outputs": [
    {
     "data": {
      "text/plain": [
       "Index(['Invoice', 'StockCode', 'Description', 'Quantity', 'InvoiceDate',\n",
       "       'Price', 'Customer ID', 'Country'],\n",
       "      dtype='object')"
      ]
     },
     "execution_count": 6,
     "metadata": {},
     "output_type": "execute_result"
    }
   ],
   "source": [
    "retail.columns"
   ]
  },
  {
   "cell_type": "code",
   "execution_count": 7,
   "id": "92f291f5",
   "metadata": {
    "execution": {
     "iopub.execute_input": "2022-10-29T09:16:32.402623Z",
     "iopub.status.busy": "2022-10-29T09:16:32.402362Z",
     "iopub.status.idle": "2022-10-29T09:16:33.015882Z",
     "shell.execute_reply": "2022-10-29T09:16:33.015010Z"
    },
    "papermill": {
     "duration": 0.640425,
     "end_time": "2022-10-29T09:16:33.017855",
     "exception": false,
     "start_time": "2022-10-29T09:16:32.377430",
     "status": "completed"
    },
    "tags": []
   },
   "outputs": [
    {
     "data": {
      "text/plain": [
       "34150"
      ]
     },
     "execution_count": 7,
     "metadata": {},
     "output_type": "execute_result"
    }
   ],
   "source": [
    "retail.duplicated().sum()"
   ]
  },
  {
   "cell_type": "code",
   "execution_count": 8,
   "id": "871025c6",
   "metadata": {
    "execution": {
     "iopub.execute_input": "2022-10-29T09:16:33.067804Z",
     "iopub.status.busy": "2022-10-29T09:16:33.067496Z",
     "iopub.status.idle": "2022-10-29T09:16:33.726738Z",
     "shell.execute_reply": "2022-10-29T09:16:33.725803Z"
    },
    "papermill": {
     "duration": 0.686274,
     "end_time": "2022-10-29T09:16:33.728873",
     "exception": false,
     "start_time": "2022-10-29T09:16:33.042599",
     "status": "completed"
    },
    "tags": []
   },
   "outputs": [],
   "source": [
    "retail = retail.drop_duplicates()"
   ]
  },
  {
   "cell_type": "code",
   "execution_count": 9,
   "id": "d8c620f4",
   "metadata": {
    "execution": {
     "iopub.execute_input": "2022-10-29T09:16:33.779755Z",
     "iopub.status.busy": "2022-10-29T09:16:33.779266Z",
     "iopub.status.idle": "2022-10-29T09:16:33.960325Z",
     "shell.execute_reply": "2022-10-29T09:16:33.959353Z"
    },
    "papermill": {
     "duration": 0.209263,
     "end_time": "2022-10-29T09:16:33.962567",
     "exception": false,
     "start_time": "2022-10-29T09:16:33.753304",
     "status": "completed"
    },
    "tags": []
   },
   "outputs": [
    {
     "data": {
      "text/plain": [
       "Invoice             0\n",
       "StockCode           0\n",
       "Description      4265\n",
       "Quantity            0\n",
       "InvoiceDate         0\n",
       "Price               0\n",
       "Customer ID    228826\n",
       "Country             0\n",
       "dtype: int64"
      ]
     },
     "execution_count": 9,
     "metadata": {},
     "output_type": "execute_result"
    }
   ],
   "source": [
    "retail.isnull().sum()"
   ]
  },
  {
   "cell_type": "code",
   "execution_count": 10,
   "id": "a15f12d4",
   "metadata": {
    "execution": {
     "iopub.execute_input": "2022-10-29T09:16:34.013327Z",
     "iopub.status.busy": "2022-10-29T09:16:34.012992Z",
     "iopub.status.idle": "2022-10-29T09:16:34.201257Z",
     "shell.execute_reply": "2022-10-29T09:16:34.200292Z"
    },
    "papermill": {
     "duration": 0.216102,
     "end_time": "2022-10-29T09:16:34.203222",
     "exception": false,
     "start_time": "2022-10-29T09:16:33.987120",
     "status": "completed"
    },
    "tags": []
   },
   "outputs": [
    {
     "name": "stdout",
     "output_type": "stream",
     "text": [
      "<class 'pandas.core.frame.DataFrame'>\n",
      "Int64Index: 1014425 entries, 0 to 1048574\n",
      "Data columns (total 8 columns):\n",
      " #   Column       Non-Null Count    Dtype  \n",
      "---  ------       --------------    -----  \n",
      " 0   Invoice      1014425 non-null  object \n",
      " 1   StockCode    1014425 non-null  object \n",
      " 2   Description  1010160 non-null  object \n",
      " 3   Quantity     1014425 non-null  int64  \n",
      " 4   InvoiceDate  1014425 non-null  object \n",
      " 5   Price        1014425 non-null  float64\n",
      " 6   Customer ID  785599 non-null   float64\n",
      " 7   Country      1014425 non-null  object \n",
      "dtypes: float64(2), int64(1), object(5)\n",
      "memory usage: 69.7+ MB\n"
     ]
    }
   ],
   "source": [
    "retail.info()"
   ]
  },
  {
   "cell_type": "code",
   "execution_count": 11,
   "id": "11f41431",
   "metadata": {
    "execution": {
     "iopub.execute_input": "2022-10-29T09:16:34.253268Z",
     "iopub.status.busy": "2022-10-29T09:16:34.252956Z",
     "iopub.status.idle": "2022-10-29T09:16:34.339012Z",
     "shell.execute_reply": "2022-10-29T09:16:34.338317Z"
    },
    "papermill": {
     "duration": 0.113238,
     "end_time": "2022-10-29T09:16:34.340985",
     "exception": false,
     "start_time": "2022-10-29T09:16:34.227747",
     "status": "completed"
    },
    "tags": []
   },
   "outputs": [
    {
     "data": {
      "text/html": [
       "<div>\n",
       "<style scoped>\n",
       "    .dataframe tbody tr th:only-of-type {\n",
       "        vertical-align: middle;\n",
       "    }\n",
       "\n",
       "    .dataframe tbody tr th {\n",
       "        vertical-align: top;\n",
       "    }\n",
       "\n",
       "    .dataframe thead th {\n",
       "        text-align: right;\n",
       "    }\n",
       "</style>\n",
       "<table border=\"1\" class=\"dataframe\">\n",
       "  <thead>\n",
       "    <tr style=\"text-align: right;\">\n",
       "      <th></th>\n",
       "      <th>Quantity</th>\n",
       "      <th>Price</th>\n",
       "      <th>Customer ID</th>\n",
       "    </tr>\n",
       "  </thead>\n",
       "  <tbody>\n",
       "    <tr>\n",
       "      <th>count</th>\n",
       "      <td>1.014425e+06</td>\n",
       "      <td>1.014425e+06</td>\n",
       "      <td>785599.000000</td>\n",
       "    </tr>\n",
       "    <tr>\n",
       "      <th>mean</th>\n",
       "      <td>1.009725e+01</td>\n",
       "      <td>4.590115e+00</td>\n",
       "      <td>15313.078667</td>\n",
       "    </tr>\n",
       "    <tr>\n",
       "      <th>std</th>\n",
       "      <td>1.352799e+02</td>\n",
       "      <td>1.215813e+02</td>\n",
       "      <td>1695.992802</td>\n",
       "    </tr>\n",
       "    <tr>\n",
       "      <th>min</th>\n",
       "      <td>-7.421500e+04</td>\n",
       "      <td>-5.359436e+04</td>\n",
       "      <td>12346.000000</td>\n",
       "    </tr>\n",
       "    <tr>\n",
       "      <th>25%</th>\n",
       "      <td>1.000000e+00</td>\n",
       "      <td>1.250000e+00</td>\n",
       "      <td>13963.000000</td>\n",
       "    </tr>\n",
       "    <tr>\n",
       "      <th>50%</th>\n",
       "      <td>3.000000e+00</td>\n",
       "      <td>2.100000e+00</td>\n",
       "      <td>15235.000000</td>\n",
       "    </tr>\n",
       "    <tr>\n",
       "      <th>75%</th>\n",
       "      <td>1.000000e+01</td>\n",
       "      <td>4.150000e+00</td>\n",
       "      <td>16788.000000</td>\n",
       "    </tr>\n",
       "    <tr>\n",
       "      <th>max</th>\n",
       "      <td>7.421500e+04</td>\n",
       "      <td>3.897000e+04</td>\n",
       "      <td>18287.000000</td>\n",
       "    </tr>\n",
       "  </tbody>\n",
       "</table>\n",
       "</div>"
      ],
      "text/plain": [
       "           Quantity         Price    Customer ID\n",
       "count  1.014425e+06  1.014425e+06  785599.000000\n",
       "mean   1.009725e+01  4.590115e+00   15313.078667\n",
       "std    1.352799e+02  1.215813e+02    1695.992802\n",
       "min   -7.421500e+04 -5.359436e+04   12346.000000\n",
       "25%    1.000000e+00  1.250000e+00   13963.000000\n",
       "50%    3.000000e+00  2.100000e+00   15235.000000\n",
       "75%    1.000000e+01  4.150000e+00   16788.000000\n",
       "max    7.421500e+04  3.897000e+04   18287.000000"
      ]
     },
     "execution_count": 11,
     "metadata": {},
     "output_type": "execute_result"
    }
   ],
   "source": [
    "retail.describe()"
   ]
  },
  {
   "cell_type": "code",
   "execution_count": 12,
   "id": "b669bdd0",
   "metadata": {
    "execution": {
     "iopub.execute_input": "2022-10-29T09:16:34.392766Z",
     "iopub.status.busy": "2022-10-29T09:16:34.392218Z",
     "iopub.status.idle": "2022-10-29T09:16:38.552858Z",
     "shell.execute_reply": "2022-10-29T09:16:38.551901Z"
    },
    "papermill": {
     "duration": 4.18909,
     "end_time": "2022-10-29T09:16:38.555498",
     "exception": false,
     "start_time": "2022-10-29T09:16:34.366408",
     "status": "completed"
    },
    "tags": []
   },
   "outputs": [],
   "source": [
    "retail['InvoiceDate_DT'] = pd.to_datetime(retail['InvoiceDate'])\n",
    "retail = retail[retail['Customer ID'].notna()]"
   ]
  },
  {
   "cell_type": "code",
   "execution_count": 13,
   "id": "409281cc",
   "metadata": {
    "execution": {
     "iopub.execute_input": "2022-10-29T09:16:38.606908Z",
     "iopub.status.busy": "2022-10-29T09:16:38.605995Z",
     "iopub.status.idle": "2022-10-29T09:16:38.612072Z",
     "shell.execute_reply": "2022-10-29T09:16:38.611208Z"
    },
    "papermill": {
     "duration": 0.033114,
     "end_time": "2022-10-29T09:16:38.613780",
     "exception": false,
     "start_time": "2022-10-29T09:16:38.580666",
     "status": "completed"
    },
    "tags": []
   },
   "outputs": [
    {
     "data": {
      "text/plain": [
       "(785599, 9)"
      ]
     },
     "execution_count": 13,
     "metadata": {},
     "output_type": "execute_result"
    }
   ],
   "source": [
    "retail.shape"
   ]
  },
  {
   "cell_type": "code",
   "execution_count": 14,
   "id": "94819c07",
   "metadata": {
    "execution": {
     "iopub.execute_input": "2022-10-29T09:16:38.663985Z",
     "iopub.status.busy": "2022-10-29T09:16:38.663716Z",
     "iopub.status.idle": "2022-10-29T09:16:38.769831Z",
     "shell.execute_reply": "2022-10-29T09:16:38.768755Z"
    },
    "papermill": {
     "duration": 0.133672,
     "end_time": "2022-10-29T09:16:38.772014",
     "exception": false,
     "start_time": "2022-10-29T09:16:38.638342",
     "status": "completed"
    },
    "tags": []
   },
   "outputs": [],
   "source": [
    "retail['Customer ID'] = retail['Customer ID'].astype(np.int64)\n",
    "retail = retail.sort_values('InvoiceDate_DT')\n",
    "retail['Total'] = retail['Quantity'] * retail['Price']"
   ]
  },
  {
   "cell_type": "code",
   "execution_count": 15,
   "id": "237996b6",
   "metadata": {
    "execution": {
     "iopub.execute_input": "2022-10-29T09:16:38.822727Z",
     "iopub.status.busy": "2022-10-29T09:16:38.822429Z",
     "iopub.status.idle": "2022-10-29T09:16:38.842437Z",
     "shell.execute_reply": "2022-10-29T09:16:38.841834Z"
    },
    "papermill": {
     "duration": 0.047035,
     "end_time": "2022-10-29T09:16:38.844003",
     "exception": false,
     "start_time": "2022-10-29T09:16:38.796968",
     "status": "completed"
    },
    "tags": []
   },
   "outputs": [
    {
     "data": {
      "text/html": [
       "<div>\n",
       "<style scoped>\n",
       "    .dataframe tbody tr th:only-of-type {\n",
       "        vertical-align: middle;\n",
       "    }\n",
       "\n",
       "    .dataframe tbody tr th {\n",
       "        vertical-align: top;\n",
       "    }\n",
       "\n",
       "    .dataframe thead th {\n",
       "        text-align: right;\n",
       "    }\n",
       "</style>\n",
       "<table border=\"1\" class=\"dataframe\">\n",
       "  <thead>\n",
       "    <tr style=\"text-align: right;\">\n",
       "      <th></th>\n",
       "      <th>Invoice</th>\n",
       "      <th>StockCode</th>\n",
       "      <th>Description</th>\n",
       "      <th>Quantity</th>\n",
       "      <th>InvoiceDate</th>\n",
       "      <th>Price</th>\n",
       "      <th>Customer ID</th>\n",
       "      <th>Country</th>\n",
       "      <th>InvoiceDate_DT</th>\n",
       "      <th>Total</th>\n",
       "    </tr>\n",
       "  </thead>\n",
       "  <tbody>\n",
       "    <tr>\n",
       "      <th>0</th>\n",
       "      <td>489434</td>\n",
       "      <td>85048</td>\n",
       "      <td>15CM CHRISTMAS GLASS BALL 20 LIGHTS</td>\n",
       "      <td>12</td>\n",
       "      <td>01-12-2009 07:45</td>\n",
       "      <td>6.95</td>\n",
       "      <td>13085</td>\n",
       "      <td>United Kingdom</td>\n",
       "      <td>2009-01-12 07:45:00</td>\n",
       "      <td>83.40</td>\n",
       "    </tr>\n",
       "    <tr>\n",
       "      <th>1</th>\n",
       "      <td>489434</td>\n",
       "      <td>79323P</td>\n",
       "      <td>PINK CHERRY LIGHTS</td>\n",
       "      <td>12</td>\n",
       "      <td>01-12-2009 07:45</td>\n",
       "      <td>6.75</td>\n",
       "      <td>13085</td>\n",
       "      <td>United Kingdom</td>\n",
       "      <td>2009-01-12 07:45:00</td>\n",
       "      <td>81.00</td>\n",
       "    </tr>\n",
       "    <tr>\n",
       "      <th>2</th>\n",
       "      <td>489434</td>\n",
       "      <td>79323W</td>\n",
       "      <td>WHITE CHERRY LIGHTS</td>\n",
       "      <td>12</td>\n",
       "      <td>01-12-2009 07:45</td>\n",
       "      <td>6.75</td>\n",
       "      <td>13085</td>\n",
       "      <td>United Kingdom</td>\n",
       "      <td>2009-01-12 07:45:00</td>\n",
       "      <td>81.00</td>\n",
       "    </tr>\n",
       "    <tr>\n",
       "      <th>3</th>\n",
       "      <td>489434</td>\n",
       "      <td>22041</td>\n",
       "      <td>RECORD FRAME 7\" SINGLE SIZE</td>\n",
       "      <td>48</td>\n",
       "      <td>01-12-2009 07:45</td>\n",
       "      <td>2.10</td>\n",
       "      <td>13085</td>\n",
       "      <td>United Kingdom</td>\n",
       "      <td>2009-01-12 07:45:00</td>\n",
       "      <td>100.80</td>\n",
       "    </tr>\n",
       "    <tr>\n",
       "      <th>4</th>\n",
       "      <td>489434</td>\n",
       "      <td>21232</td>\n",
       "      <td>STRAWBERRY CERAMIC TRINKET BOX</td>\n",
       "      <td>24</td>\n",
       "      <td>01-12-2009 07:45</td>\n",
       "      <td>1.25</td>\n",
       "      <td>13085</td>\n",
       "      <td>United Kingdom</td>\n",
       "      <td>2009-01-12 07:45:00</td>\n",
       "      <td>30.00</td>\n",
       "    </tr>\n",
       "    <tr>\n",
       "      <th>...</th>\n",
       "      <td>...</td>\n",
       "      <td>...</td>\n",
       "      <td>...</td>\n",
       "      <td>...</td>\n",
       "      <td>...</td>\n",
       "      <td>...</td>\n",
       "      <td>...</td>\n",
       "      <td>...</td>\n",
       "      <td>...</td>\n",
       "      <td>...</td>\n",
       "    </tr>\n",
       "    <tr>\n",
       "      <th>920141</th>\n",
       "      <td>570876</td>\n",
       "      <td>23394</td>\n",
       "      <td>POSTE FRANCE CUSHION COVER</td>\n",
       "      <td>1</td>\n",
       "      <td>12-10-2011 17:19</td>\n",
       "      <td>3.75</td>\n",
       "      <td>16085</td>\n",
       "      <td>United Kingdom</td>\n",
       "      <td>2011-12-10 17:19:00</td>\n",
       "      <td>3.75</td>\n",
       "    </tr>\n",
       "    <tr>\n",
       "      <th>920140</th>\n",
       "      <td>570876</td>\n",
       "      <td>46000M</td>\n",
       "      <td>POLYESTER FILLER PAD 45x45cm</td>\n",
       "      <td>1</td>\n",
       "      <td>12-10-2011 17:19</td>\n",
       "      <td>1.55</td>\n",
       "      <td>16085</td>\n",
       "      <td>United Kingdom</td>\n",
       "      <td>2011-12-10 17:19:00</td>\n",
       "      <td>1.55</td>\n",
       "    </tr>\n",
       "    <tr>\n",
       "      <th>920139</th>\n",
       "      <td>570876</td>\n",
       "      <td>46000S</td>\n",
       "      <td>POLYESTER FILLER PAD 40x40cm</td>\n",
       "      <td>1</td>\n",
       "      <td>12-10-2011 17:19</td>\n",
       "      <td>1.45</td>\n",
       "      <td>16085</td>\n",
       "      <td>United Kingdom</td>\n",
       "      <td>2011-12-10 17:19:00</td>\n",
       "      <td>1.45</td>\n",
       "    </tr>\n",
       "    <tr>\n",
       "      <th>920149</th>\n",
       "      <td>570876</td>\n",
       "      <td>22470</td>\n",
       "      <td>HEART OF WICKER LARGE</td>\n",
       "      <td>3</td>\n",
       "      <td>12-10-2011 17:19</td>\n",
       "      <td>2.95</td>\n",
       "      <td>16085</td>\n",
       "      <td>United Kingdom</td>\n",
       "      <td>2011-12-10 17:19:00</td>\n",
       "      <td>8.85</td>\n",
       "    </tr>\n",
       "    <tr>\n",
       "      <th>920159</th>\n",
       "      <td>570876</td>\n",
       "      <td>23118</td>\n",
       "      <td>PARISIENNE JEWELLERY DRAWER</td>\n",
       "      <td>2</td>\n",
       "      <td>12-10-2011 17:19</td>\n",
       "      <td>7.50</td>\n",
       "      <td>16085</td>\n",
       "      <td>United Kingdom</td>\n",
       "      <td>2011-12-10 17:19:00</td>\n",
       "      <td>15.00</td>\n",
       "    </tr>\n",
       "  </tbody>\n",
       "</table>\n",
       "<p>785599 rows × 10 columns</p>\n",
       "</div>"
      ],
      "text/plain": [
       "       Invoice StockCode                          Description  Quantity  \\\n",
       "0       489434     85048  15CM CHRISTMAS GLASS BALL 20 LIGHTS        12   \n",
       "1       489434    79323P                   PINK CHERRY LIGHTS        12   \n",
       "2       489434    79323W                  WHITE CHERRY LIGHTS        12   \n",
       "3       489434     22041         RECORD FRAME 7\" SINGLE SIZE         48   \n",
       "4       489434     21232       STRAWBERRY CERAMIC TRINKET BOX        24   \n",
       "...        ...       ...                                  ...       ...   \n",
       "920141  570876     23394           POSTE FRANCE CUSHION COVER         1   \n",
       "920140  570876    46000M         POLYESTER FILLER PAD 45x45cm         1   \n",
       "920139  570876    46000S         POLYESTER FILLER PAD 40x40cm         1   \n",
       "920149  570876     22470                HEART OF WICKER LARGE         3   \n",
       "920159  570876     23118         PARISIENNE JEWELLERY DRAWER          2   \n",
       "\n",
       "             InvoiceDate  Price  Customer ID         Country  \\\n",
       "0       01-12-2009 07:45   6.95        13085  United Kingdom   \n",
       "1       01-12-2009 07:45   6.75        13085  United Kingdom   \n",
       "2       01-12-2009 07:45   6.75        13085  United Kingdom   \n",
       "3       01-12-2009 07:45   2.10        13085  United Kingdom   \n",
       "4       01-12-2009 07:45   1.25        13085  United Kingdom   \n",
       "...                  ...    ...          ...             ...   \n",
       "920141  12-10-2011 17:19   3.75        16085  United Kingdom   \n",
       "920140  12-10-2011 17:19   1.55        16085  United Kingdom   \n",
       "920139  12-10-2011 17:19   1.45        16085  United Kingdom   \n",
       "920149  12-10-2011 17:19   2.95        16085  United Kingdom   \n",
       "920159  12-10-2011 17:19   7.50        16085  United Kingdom   \n",
       "\n",
       "            InvoiceDate_DT   Total  \n",
       "0      2009-01-12 07:45:00   83.40  \n",
       "1      2009-01-12 07:45:00   81.00  \n",
       "2      2009-01-12 07:45:00   81.00  \n",
       "3      2009-01-12 07:45:00  100.80  \n",
       "4      2009-01-12 07:45:00   30.00  \n",
       "...                    ...     ...  \n",
       "920141 2011-12-10 17:19:00    3.75  \n",
       "920140 2011-12-10 17:19:00    1.55  \n",
       "920139 2011-12-10 17:19:00    1.45  \n",
       "920149 2011-12-10 17:19:00    8.85  \n",
       "920159 2011-12-10 17:19:00   15.00  \n",
       "\n",
       "[785599 rows x 10 columns]"
      ]
     },
     "execution_count": 15,
     "metadata": {},
     "output_type": "execute_result"
    }
   ],
   "source": [
    "retail"
   ]
  },
  {
   "cell_type": "code",
   "execution_count": 16,
   "id": "c9db9057",
   "metadata": {
    "execution": {
     "iopub.execute_input": "2022-10-29T09:16:38.894906Z",
     "iopub.status.busy": "2022-10-29T09:16:38.894609Z",
     "iopub.status.idle": "2022-10-29T09:16:38.898380Z",
     "shell.execute_reply": "2022-10-29T09:16:38.897670Z"
    },
    "papermill": {
     "duration": 0.030995,
     "end_time": "2022-10-29T09:16:38.899831",
     "exception": false,
     "start_time": "2022-10-29T09:16:38.868836",
     "status": "completed"
    },
    "tags": []
   },
   "outputs": [],
   "source": [
    "df = pd.DataFrame(retail)"
   ]
  },
  {
   "cell_type": "code",
   "execution_count": 17,
   "id": "b4352e12",
   "metadata": {
    "execution": {
     "iopub.execute_input": "2022-10-29T09:16:38.950201Z",
     "iopub.status.busy": "2022-10-29T09:16:38.949939Z",
     "iopub.status.idle": "2022-10-29T09:16:42.682593Z",
     "shell.execute_reply": "2022-10-29T09:16:42.681540Z"
    },
    "papermill": {
     "duration": 3.760294,
     "end_time": "2022-10-29T09:16:42.684645",
     "exception": false,
     "start_time": "2022-10-29T09:16:38.924351",
     "status": "completed"
    },
    "tags": []
   },
   "outputs": [],
   "source": [
    "df.to_csv(\"online_retail_clean.csv\")"
   ]
  },
  {
   "cell_type": "markdown",
   "id": "7edaea2d",
   "metadata": {
    "papermill": {
     "duration": 0.024355,
     "end_time": "2022-10-29T09:16:42.734086",
     "exception": false,
     "start_time": "2022-10-29T09:16:42.709731",
     "status": "completed"
    },
    "tags": []
   },
   "source": [
    "# **General Sales Analytics**"
   ]
  },
  {
   "cell_type": "markdown",
   "id": "cb2f620a",
   "metadata": {
    "papermill": {
     "duration": 0.024465,
     "end_time": "2022-10-29T09:16:42.783002",
     "exception": false,
     "start_time": "2022-10-29T09:16:42.758537",
     "status": "completed"
    },
    "tags": []
   },
   "source": [
    "### **Most and Least Expensive Product**"
   ]
  },
  {
   "cell_type": "code",
   "execution_count": 18,
   "id": "6ddf0412",
   "metadata": {
    "execution": {
     "iopub.execute_input": "2022-10-29T09:16:42.833803Z",
     "iopub.status.busy": "2022-10-29T09:16:42.833497Z",
     "iopub.status.idle": "2022-10-29T09:16:42.845081Z",
     "shell.execute_reply": "2022-10-29T09:16:42.844223Z"
    },
    "papermill": {
     "duration": 0.039585,
     "end_time": "2022-10-29T09:16:42.847122",
     "exception": false,
     "start_time": "2022-10-29T09:16:42.807537",
     "status": "completed"
    },
    "tags": []
   },
   "outputs": [],
   "source": [
    "least_expensive = retail.loc[retail['Price'] == retail['Price'].min()] "
   ]
  },
  {
   "cell_type": "code",
   "execution_count": 19,
   "id": "6d200a28",
   "metadata": {
    "execution": {
     "iopub.execute_input": "2022-10-29T09:16:42.899864Z",
     "iopub.status.busy": "2022-10-29T09:16:42.899543Z",
     "iopub.status.idle": "2022-10-29T09:16:42.920968Z",
     "shell.execute_reply": "2022-10-29T09:16:42.920068Z"
    },
    "papermill": {
     "duration": 0.049106,
     "end_time": "2022-10-29T09:16:42.922825",
     "exception": false,
     "start_time": "2022-10-29T09:16:42.873719",
     "status": "completed"
    },
    "tags": []
   },
   "outputs": [
    {
     "data": {
      "text/html": [
       "<div>\n",
       "<style scoped>\n",
       "    .dataframe tbody tr th:only-of-type {\n",
       "        vertical-align: middle;\n",
       "    }\n",
       "\n",
       "    .dataframe tbody tr th {\n",
       "        vertical-align: top;\n",
       "    }\n",
       "\n",
       "    .dataframe thead th {\n",
       "        text-align: right;\n",
       "    }\n",
       "</style>\n",
       "<table border=\"1\" class=\"dataframe\">\n",
       "  <thead>\n",
       "    <tr style=\"text-align: right;\">\n",
       "      <th></th>\n",
       "      <th>Invoice</th>\n",
       "      <th>StockCode</th>\n",
       "      <th>Description</th>\n",
       "      <th>Quantity</th>\n",
       "      <th>InvoiceDate</th>\n",
       "      <th>Price</th>\n",
       "      <th>Customer ID</th>\n",
       "      <th>Country</th>\n",
       "      <th>InvoiceDate_DT</th>\n",
       "      <th>Total</th>\n",
       "    </tr>\n",
       "  </thead>\n",
       "  <tbody>\n",
       "    <tr>\n",
       "      <th>4674</th>\n",
       "      <td>489825</td>\n",
       "      <td>22076</td>\n",
       "      <td>6 RIBBONS EMPIRE</td>\n",
       "      <td>12</td>\n",
       "      <td>02-12-2009 13:34</td>\n",
       "      <td>0.0</td>\n",
       "      <td>16126</td>\n",
       "      <td>United Kingdom</td>\n",
       "      <td>2009-02-12 13:34:00</td>\n",
       "      <td>0.0</td>\n",
       "    </tr>\n",
       "    <tr>\n",
       "      <th>6781</th>\n",
       "      <td>489998</td>\n",
       "      <td>48185</td>\n",
       "      <td>DOOR MAT FAIRY CAKE</td>\n",
       "      <td>2</td>\n",
       "      <td>03-12-2009 11:19</td>\n",
       "      <td>0.0</td>\n",
       "      <td>15658</td>\n",
       "      <td>United Kingdom</td>\n",
       "      <td>2009-03-12 11:19:00</td>\n",
       "      <td>0.0</td>\n",
       "    </tr>\n",
       "    <tr>\n",
       "      <th>16107</th>\n",
       "      <td>490727</td>\n",
       "      <td>M</td>\n",
       "      <td>Manual</td>\n",
       "      <td>1</td>\n",
       "      <td>07-12-2009 16:38</td>\n",
       "      <td>0.0</td>\n",
       "      <td>17231</td>\n",
       "      <td>United Kingdom</td>\n",
       "      <td>2009-07-12 16:38:00</td>\n",
       "      <td>0.0</td>\n",
       "    </tr>\n",
       "    <tr>\n",
       "      <th>18738</th>\n",
       "      <td>490961</td>\n",
       "      <td>22065</td>\n",
       "      <td>CHRISTMAS PUDDING TRINKET POT</td>\n",
       "      <td>1</td>\n",
       "      <td>08-12-2009 15:25</td>\n",
       "      <td>0.0</td>\n",
       "      <td>14108</td>\n",
       "      <td>United Kingdom</td>\n",
       "      <td>2009-08-12 15:25:00</td>\n",
       "      <td>0.0</td>\n",
       "    </tr>\n",
       "    <tr>\n",
       "      <th>18739</th>\n",
       "      <td>490961</td>\n",
       "      <td>22142</td>\n",
       "      <td>CHRISTMAS CRAFT WHITE FAIRY</td>\n",
       "      <td>12</td>\n",
       "      <td>08-12-2009 15:25</td>\n",
       "      <td>0.0</td>\n",
       "      <td>14108</td>\n",
       "      <td>United Kingdom</td>\n",
       "      <td>2009-08-12 15:25:00</td>\n",
       "      <td>0.0</td>\n",
       "    </tr>\n",
       "    <tr>\n",
       "      <th>...</th>\n",
       "      <td>...</td>\n",
       "      <td>...</td>\n",
       "      <td>...</td>\n",
       "      <td>...</td>\n",
       "      <td>...</td>\n",
       "      <td>...</td>\n",
       "      <td>...</td>\n",
       "      <td>...</td>\n",
       "      <td>...</td>\n",
       "      <td>...</td>\n",
       "    </tr>\n",
       "    <tr>\n",
       "      <th>1005014</th>\n",
       "      <td>577168</td>\n",
       "      <td>M</td>\n",
       "      <td>Manual</td>\n",
       "      <td>1</td>\n",
       "      <td>18-11-2011 10:42</td>\n",
       "      <td>0.0</td>\n",
       "      <td>12603</td>\n",
       "      <td>Germany</td>\n",
       "      <td>2011-11-18 10:42:00</td>\n",
       "      <td>0.0</td>\n",
       "    </tr>\n",
       "    <tr>\n",
       "      <th>1006110</th>\n",
       "      <td>577314</td>\n",
       "      <td>23407</td>\n",
       "      <td>SET OF 2 TRAYS HOME SWEET HOME</td>\n",
       "      <td>2</td>\n",
       "      <td>18-11-2011 13:23</td>\n",
       "      <td>0.0</td>\n",
       "      <td>12444</td>\n",
       "      <td>Norway</td>\n",
       "      <td>2011-11-18 13:23:00</td>\n",
       "      <td>0.0</td>\n",
       "    </tr>\n",
       "    <tr>\n",
       "      <th>1011446</th>\n",
       "      <td>577696</td>\n",
       "      <td>M</td>\n",
       "      <td>Manual</td>\n",
       "      <td>1</td>\n",
       "      <td>21-11-2011 11:57</td>\n",
       "      <td>0.0</td>\n",
       "      <td>16406</td>\n",
       "      <td>United Kingdom</td>\n",
       "      <td>2011-11-21 11:57:00</td>\n",
       "      <td>0.0</td>\n",
       "    </tr>\n",
       "    <tr>\n",
       "      <th>1027583</th>\n",
       "      <td>578841</td>\n",
       "      <td>84826</td>\n",
       "      <td>ASSTD DESIGN 3D PAPER STICKERS</td>\n",
       "      <td>12540</td>\n",
       "      <td>25-11-2011 15:57</td>\n",
       "      <td>0.0</td>\n",
       "      <td>13256</td>\n",
       "      <td>United Kingdom</td>\n",
       "      <td>2011-11-25 15:57:00</td>\n",
       "      <td>0.0</td>\n",
       "    </tr>\n",
       "    <tr>\n",
       "      <th>713074</th>\n",
       "      <td>553000</td>\n",
       "      <td>47566</td>\n",
       "      <td>PARTY BUNTING</td>\n",
       "      <td>4</td>\n",
       "      <td>12-05-2011 15:21</td>\n",
       "      <td>0.0</td>\n",
       "      <td>17667</td>\n",
       "      <td>United Kingdom</td>\n",
       "      <td>2011-12-05 15:21:00</td>\n",
       "      <td>0.0</td>\n",
       "    </tr>\n",
       "  </tbody>\n",
       "</table>\n",
       "<p>70 rows × 10 columns</p>\n",
       "</div>"
      ],
      "text/plain": [
       "        Invoice StockCode                     Description  Quantity  \\\n",
       "4674     489825     22076              6 RIBBONS EMPIRE          12   \n",
       "6781     489998     48185             DOOR MAT FAIRY CAKE         2   \n",
       "16107    490727         M                          Manual         1   \n",
       "18738    490961     22065  CHRISTMAS PUDDING TRINKET POT          1   \n",
       "18739    490961     22142    CHRISTMAS CRAFT WHITE FAIRY         12   \n",
       "...         ...       ...                             ...       ...   \n",
       "1005014  577168         M                          Manual         1   \n",
       "1006110  577314     23407  SET OF 2 TRAYS HOME SWEET HOME         2   \n",
       "1011446  577696         M                          Manual         1   \n",
       "1027583  578841     84826  ASSTD DESIGN 3D PAPER STICKERS     12540   \n",
       "713074   553000     47566                   PARTY BUNTING         4   \n",
       "\n",
       "              InvoiceDate  Price  Customer ID         Country  \\\n",
       "4674     02-12-2009 13:34    0.0        16126  United Kingdom   \n",
       "6781     03-12-2009 11:19    0.0        15658  United Kingdom   \n",
       "16107    07-12-2009 16:38    0.0        17231  United Kingdom   \n",
       "18738    08-12-2009 15:25    0.0        14108  United Kingdom   \n",
       "18739    08-12-2009 15:25    0.0        14108  United Kingdom   \n",
       "...                   ...    ...          ...             ...   \n",
       "1005014  18-11-2011 10:42    0.0        12603         Germany   \n",
       "1006110  18-11-2011 13:23    0.0        12444          Norway   \n",
       "1011446  21-11-2011 11:57    0.0        16406  United Kingdom   \n",
       "1027583  25-11-2011 15:57    0.0        13256  United Kingdom   \n",
       "713074   12-05-2011 15:21    0.0        17667  United Kingdom   \n",
       "\n",
       "             InvoiceDate_DT  Total  \n",
       "4674    2009-02-12 13:34:00    0.0  \n",
       "6781    2009-03-12 11:19:00    0.0  \n",
       "16107   2009-07-12 16:38:00    0.0  \n",
       "18738   2009-08-12 15:25:00    0.0  \n",
       "18739   2009-08-12 15:25:00    0.0  \n",
       "...                     ...    ...  \n",
       "1005014 2011-11-18 10:42:00    0.0  \n",
       "1006110 2011-11-18 13:23:00    0.0  \n",
       "1011446 2011-11-21 11:57:00    0.0  \n",
       "1027583 2011-11-25 15:57:00    0.0  \n",
       "713074  2011-12-05 15:21:00    0.0  \n",
       "\n",
       "[70 rows x 10 columns]"
      ]
     },
     "execution_count": 19,
     "metadata": {},
     "output_type": "execute_result"
    }
   ],
   "source": [
    "least_expensive"
   ]
  },
  {
   "cell_type": "code",
   "execution_count": 20,
   "id": "a5768240",
   "metadata": {
    "execution": {
     "iopub.execute_input": "2022-10-29T09:16:42.975651Z",
     "iopub.status.busy": "2022-10-29T09:16:42.975341Z",
     "iopub.status.idle": "2022-10-29T09:16:42.990436Z",
     "shell.execute_reply": "2022-10-29T09:16:42.989649Z"
    },
    "papermill": {
     "duration": 0.042773,
     "end_time": "2022-10-29T09:16:42.992135",
     "exception": false,
     "start_time": "2022-10-29T09:16:42.949362",
     "status": "completed"
    },
    "tags": []
   },
   "outputs": [
    {
     "data": {
      "text/html": [
       "<div>\n",
       "<style scoped>\n",
       "    .dataframe tbody tr th:only-of-type {\n",
       "        vertical-align: middle;\n",
       "    }\n",
       "\n",
       "    .dataframe tbody tr th {\n",
       "        vertical-align: top;\n",
       "    }\n",
       "\n",
       "    .dataframe thead th {\n",
       "        text-align: right;\n",
       "    }\n",
       "</style>\n",
       "<table border=\"1\" class=\"dataframe\">\n",
       "  <thead>\n",
       "    <tr style=\"text-align: right;\">\n",
       "      <th></th>\n",
       "      <th>Description</th>\n",
       "      <th>Price</th>\n",
       "      <th>Quantity</th>\n",
       "    </tr>\n",
       "  </thead>\n",
       "  <tbody>\n",
       "    <tr>\n",
       "      <th>0</th>\n",
       "      <td>FLAMINGO LIGHTS</td>\n",
       "      <td>0.0</td>\n",
       "      <td>24</td>\n",
       "    </tr>\n",
       "    <tr>\n",
       "      <th>1</th>\n",
       "      <td>OVAL WALL MIRROR DIAMANTE</td>\n",
       "      <td>0.0</td>\n",
       "      <td>1</td>\n",
       "    </tr>\n",
       "    <tr>\n",
       "      <th>2</th>\n",
       "      <td>36 FOIL STAR CAKE CASES</td>\n",
       "      <td>0.0</td>\n",
       "      <td>144</td>\n",
       "    </tr>\n",
       "    <tr>\n",
       "      <th>3</th>\n",
       "      <td>6 RIBBONS EMPIRE</td>\n",
       "      <td>0.0</td>\n",
       "      <td>12</td>\n",
       "    </tr>\n",
       "    <tr>\n",
       "      <th>4</th>\n",
       "      <td>ADVENT CALENDAR GINGHAM SACK</td>\n",
       "      <td>0.0</td>\n",
       "      <td>4</td>\n",
       "    </tr>\n",
       "    <tr>\n",
       "      <th>...</th>\n",
       "      <td>...</td>\n",
       "      <td>...</td>\n",
       "      <td>...</td>\n",
       "    </tr>\n",
       "    <tr>\n",
       "      <th>56</th>\n",
       "      <td>SET/5 RED SPOTTY LID GLASS BOWLS</td>\n",
       "      <td>0.0</td>\n",
       "      <td>2</td>\n",
       "    </tr>\n",
       "    <tr>\n",
       "      <th>57</th>\n",
       "      <td>TV DINNER TRAY DOLLY GIRL</td>\n",
       "      <td>0.0</td>\n",
       "      <td>9</td>\n",
       "    </tr>\n",
       "    <tr>\n",
       "      <th>58</th>\n",
       "      <td>This is a test product.</td>\n",
       "      <td>0.0</td>\n",
       "      <td>10</td>\n",
       "    </tr>\n",
       "    <tr>\n",
       "      <th>59</th>\n",
       "      <td>VINTAGE CREAM CAT FOOD CONTAINER</td>\n",
       "      <td>0.0</td>\n",
       "      <td>1</td>\n",
       "    </tr>\n",
       "    <tr>\n",
       "      <th>60</th>\n",
       "      <td>VINTAGE GLASS COFFEE CADDY</td>\n",
       "      <td>0.0</td>\n",
       "      <td>1</td>\n",
       "    </tr>\n",
       "  </tbody>\n",
       "</table>\n",
       "<p>61 rows × 3 columns</p>\n",
       "</div>"
      ],
      "text/plain": [
       "                         Description  Price  Quantity\n",
       "0                    FLAMINGO LIGHTS    0.0        24\n",
       "1         OVAL WALL MIRROR DIAMANTE     0.0         1\n",
       "2           36 FOIL STAR CAKE CASES     0.0       144\n",
       "3                 6 RIBBONS EMPIRE      0.0        12\n",
       "4       ADVENT CALENDAR GINGHAM SACK    0.0         4\n",
       "..                               ...    ...       ...\n",
       "56  SET/5 RED SPOTTY LID GLASS BOWLS    0.0         2\n",
       "57         TV DINNER TRAY DOLLY GIRL    0.0         9\n",
       "58           This is a test product.    0.0        10\n",
       "59  VINTAGE CREAM CAT FOOD CONTAINER    0.0         1\n",
       "60        VINTAGE GLASS COFFEE CADDY    0.0         1\n",
       "\n",
       "[61 rows x 3 columns]"
      ]
     },
     "execution_count": 20,
     "metadata": {},
     "output_type": "execute_result"
    }
   ],
   "source": [
    "least_expensive = least_expensive.groupby(['Description', 'Price'], as_index=False)['Quantity'].agg('sum')\n",
    "least_expensive "
   ]
  },
  {
   "cell_type": "code",
   "execution_count": 21,
   "id": "b71574eb",
   "metadata": {
    "execution": {
     "iopub.execute_input": "2022-10-29T09:16:43.044117Z",
     "iopub.status.busy": "2022-10-29T09:16:43.043829Z",
     "iopub.status.idle": "2022-10-29T09:16:43.056914Z",
     "shell.execute_reply": "2022-10-29T09:16:43.056160Z"
    },
    "papermill": {
     "duration": 0.040313,
     "end_time": "2022-10-29T09:16:43.058422",
     "exception": false,
     "start_time": "2022-10-29T09:16:43.018109",
     "status": "completed"
    },
    "tags": []
   },
   "outputs": [
    {
     "data": {
      "text/html": [
       "<div>\n",
       "<style scoped>\n",
       "    .dataframe tbody tr th:only-of-type {\n",
       "        vertical-align: middle;\n",
       "    }\n",
       "\n",
       "    .dataframe tbody tr th {\n",
       "        vertical-align: top;\n",
       "    }\n",
       "\n",
       "    .dataframe thead th {\n",
       "        text-align: right;\n",
       "    }\n",
       "</style>\n",
       "<table border=\"1\" class=\"dataframe\">\n",
       "  <thead>\n",
       "    <tr style=\"text-align: right;\">\n",
       "      <th></th>\n",
       "      <th>Invoice</th>\n",
       "      <th>StockCode</th>\n",
       "      <th>Description</th>\n",
       "      <th>Quantity</th>\n",
       "      <th>InvoiceDate</th>\n",
       "      <th>Price</th>\n",
       "      <th>Customer ID</th>\n",
       "      <th>Country</th>\n",
       "      <th>InvoiceDate_DT</th>\n",
       "      <th>Total</th>\n",
       "    </tr>\n",
       "  </thead>\n",
       "  <tbody>\n",
       "    <tr>\n",
       "      <th>748142</th>\n",
       "      <td>C556445</td>\n",
       "      <td>M</td>\n",
       "      <td>Manual</td>\n",
       "      <td>-1</td>\n",
       "      <td>10-06-2011 15:31</td>\n",
       "      <td>38970.0</td>\n",
       "      <td>15098</td>\n",
       "      <td>United Kingdom</td>\n",
       "      <td>2011-10-06 15:31:00</td>\n",
       "      <td>-38970.0</td>\n",
       "    </tr>\n",
       "  </tbody>\n",
       "</table>\n",
       "</div>"
      ],
      "text/plain": [
       "        Invoice StockCode Description  Quantity       InvoiceDate    Price  \\\n",
       "748142  C556445         M      Manual        -1  10-06-2011 15:31  38970.0   \n",
       "\n",
       "        Customer ID         Country      InvoiceDate_DT    Total  \n",
       "748142        15098  United Kingdom 2011-10-06 15:31:00 -38970.0  "
      ]
     },
     "execution_count": 21,
     "metadata": {},
     "output_type": "execute_result"
    }
   ],
   "source": [
    "most_expensive = retail.loc[retail['Price'] == retail['Price'].max()]\n",
    "most_expensive "
   ]
  },
  {
   "cell_type": "markdown",
   "id": "33f60b4b",
   "metadata": {
    "execution": {
     "iopub.execute_input": "2022-10-29T05:57:50.156597Z",
     "iopub.status.busy": "2022-10-29T05:57:50.155872Z",
     "iopub.status.idle": "2022-10-29T05:57:50.164412Z",
     "shell.execute_reply": "2022-10-29T05:57:50.162661Z",
     "shell.execute_reply.started": "2022-10-29T05:57:50.156541Z"
    },
    "papermill": {
     "duration": 0.025306,
     "end_time": "2022-10-29T09:16:43.108891",
     "exception": false,
     "start_time": "2022-10-29T09:16:43.083585",
     "status": "completed"
    },
    "tags": []
   },
   "source": [
    "**We can see that the most expensive product in the dataset has a weird \n",
    "description 'Manual' and is priced at £38970.0. It is interesting that \n",
    "the quantity is -1; looks like someone returned an item priced that high \n",
    "or did not pay for it yet.**\n",
    "\n",
    "**Finding the least expensive product needs one extra step, because we have \n",
    "61 unique descriptions of products priced at £0.0. Now, what if we disregard \n",
    "zero-priced products in order to get more meaningful insights?**"
   ]
  },
  {
   "cell_type": "code",
   "execution_count": 22,
   "id": "e611e468",
   "metadata": {
    "execution": {
     "iopub.execute_input": "2022-10-29T09:16:43.160526Z",
     "iopub.status.busy": "2022-10-29T09:16:43.160206Z",
     "iopub.status.idle": "2022-10-29T09:16:43.260791Z",
     "shell.execute_reply": "2022-10-29T09:16:43.259880Z"
    },
    "papermill": {
     "duration": 0.128533,
     "end_time": "2022-10-29T09:16:43.262470",
     "exception": false,
     "start_time": "2022-10-29T09:16:43.133937",
     "status": "completed"
    },
    "tags": []
   },
   "outputs": [
    {
     "data": {
      "text/html": [
       "<div>\n",
       "<style scoped>\n",
       "    .dataframe tbody tr th:only-of-type {\n",
       "        vertical-align: middle;\n",
       "    }\n",
       "\n",
       "    .dataframe tbody tr th {\n",
       "        vertical-align: top;\n",
       "    }\n",
       "\n",
       "    .dataframe thead th {\n",
       "        text-align: right;\n",
       "    }\n",
       "</style>\n",
       "<table border=\"1\" class=\"dataframe\">\n",
       "  <thead>\n",
       "    <tr style=\"text-align: right;\">\n",
       "      <th></th>\n",
       "      <th>Invoice</th>\n",
       "      <th>StockCode</th>\n",
       "      <th>Description</th>\n",
       "      <th>Quantity</th>\n",
       "      <th>InvoiceDate</th>\n",
       "      <th>Price</th>\n",
       "      <th>Customer ID</th>\n",
       "      <th>Country</th>\n",
       "      <th>InvoiceDate_DT</th>\n",
       "      <th>Total</th>\n",
       "    </tr>\n",
       "  </thead>\n",
       "  <tbody>\n",
       "    <tr>\n",
       "      <th>0</th>\n",
       "      <td>489434</td>\n",
       "      <td>85048</td>\n",
       "      <td>15CM CHRISTMAS GLASS BALL 20 LIGHTS</td>\n",
       "      <td>12</td>\n",
       "      <td>01-12-2009 07:45</td>\n",
       "      <td>6.95</td>\n",
       "      <td>13085</td>\n",
       "      <td>United Kingdom</td>\n",
       "      <td>2009-01-12 07:45:00</td>\n",
       "      <td>83.40</td>\n",
       "    </tr>\n",
       "    <tr>\n",
       "      <th>1</th>\n",
       "      <td>489434</td>\n",
       "      <td>79323P</td>\n",
       "      <td>PINK CHERRY LIGHTS</td>\n",
       "      <td>12</td>\n",
       "      <td>01-12-2009 07:45</td>\n",
       "      <td>6.75</td>\n",
       "      <td>13085</td>\n",
       "      <td>United Kingdom</td>\n",
       "      <td>2009-01-12 07:45:00</td>\n",
       "      <td>81.00</td>\n",
       "    </tr>\n",
       "    <tr>\n",
       "      <th>2</th>\n",
       "      <td>489434</td>\n",
       "      <td>79323W</td>\n",
       "      <td>WHITE CHERRY LIGHTS</td>\n",
       "      <td>12</td>\n",
       "      <td>01-12-2009 07:45</td>\n",
       "      <td>6.75</td>\n",
       "      <td>13085</td>\n",
       "      <td>United Kingdom</td>\n",
       "      <td>2009-01-12 07:45:00</td>\n",
       "      <td>81.00</td>\n",
       "    </tr>\n",
       "    <tr>\n",
       "      <th>3</th>\n",
       "      <td>489434</td>\n",
       "      <td>22041</td>\n",
       "      <td>RECORD FRAME 7\" SINGLE SIZE</td>\n",
       "      <td>48</td>\n",
       "      <td>01-12-2009 07:45</td>\n",
       "      <td>2.10</td>\n",
       "      <td>13085</td>\n",
       "      <td>United Kingdom</td>\n",
       "      <td>2009-01-12 07:45:00</td>\n",
       "      <td>100.80</td>\n",
       "    </tr>\n",
       "    <tr>\n",
       "      <th>4</th>\n",
       "      <td>489434</td>\n",
       "      <td>21232</td>\n",
       "      <td>STRAWBERRY CERAMIC TRINKET BOX</td>\n",
       "      <td>24</td>\n",
       "      <td>01-12-2009 07:45</td>\n",
       "      <td>1.25</td>\n",
       "      <td>13085</td>\n",
       "      <td>United Kingdom</td>\n",
       "      <td>2009-01-12 07:45:00</td>\n",
       "      <td>30.00</td>\n",
       "    </tr>\n",
       "    <tr>\n",
       "      <th>...</th>\n",
       "      <td>...</td>\n",
       "      <td>...</td>\n",
       "      <td>...</td>\n",
       "      <td>...</td>\n",
       "      <td>...</td>\n",
       "      <td>...</td>\n",
       "      <td>...</td>\n",
       "      <td>...</td>\n",
       "      <td>...</td>\n",
       "      <td>...</td>\n",
       "    </tr>\n",
       "    <tr>\n",
       "      <th>920141</th>\n",
       "      <td>570876</td>\n",
       "      <td>23394</td>\n",
       "      <td>POSTE FRANCE CUSHION COVER</td>\n",
       "      <td>1</td>\n",
       "      <td>12-10-2011 17:19</td>\n",
       "      <td>3.75</td>\n",
       "      <td>16085</td>\n",
       "      <td>United Kingdom</td>\n",
       "      <td>2011-12-10 17:19:00</td>\n",
       "      <td>3.75</td>\n",
       "    </tr>\n",
       "    <tr>\n",
       "      <th>920140</th>\n",
       "      <td>570876</td>\n",
       "      <td>46000M</td>\n",
       "      <td>POLYESTER FILLER PAD 45x45cm</td>\n",
       "      <td>1</td>\n",
       "      <td>12-10-2011 17:19</td>\n",
       "      <td>1.55</td>\n",
       "      <td>16085</td>\n",
       "      <td>United Kingdom</td>\n",
       "      <td>2011-12-10 17:19:00</td>\n",
       "      <td>1.55</td>\n",
       "    </tr>\n",
       "    <tr>\n",
       "      <th>920139</th>\n",
       "      <td>570876</td>\n",
       "      <td>46000S</td>\n",
       "      <td>POLYESTER FILLER PAD 40x40cm</td>\n",
       "      <td>1</td>\n",
       "      <td>12-10-2011 17:19</td>\n",
       "      <td>1.45</td>\n",
       "      <td>16085</td>\n",
       "      <td>United Kingdom</td>\n",
       "      <td>2011-12-10 17:19:00</td>\n",
       "      <td>1.45</td>\n",
       "    </tr>\n",
       "    <tr>\n",
       "      <th>920149</th>\n",
       "      <td>570876</td>\n",
       "      <td>22470</td>\n",
       "      <td>HEART OF WICKER LARGE</td>\n",
       "      <td>3</td>\n",
       "      <td>12-10-2011 17:19</td>\n",
       "      <td>2.95</td>\n",
       "      <td>16085</td>\n",
       "      <td>United Kingdom</td>\n",
       "      <td>2011-12-10 17:19:00</td>\n",
       "      <td>8.85</td>\n",
       "    </tr>\n",
       "    <tr>\n",
       "      <th>920159</th>\n",
       "      <td>570876</td>\n",
       "      <td>23118</td>\n",
       "      <td>PARISIENNE JEWELLERY DRAWER</td>\n",
       "      <td>2</td>\n",
       "      <td>12-10-2011 17:19</td>\n",
       "      <td>7.50</td>\n",
       "      <td>16085</td>\n",
       "      <td>United Kingdom</td>\n",
       "      <td>2011-12-10 17:19:00</td>\n",
       "      <td>15.00</td>\n",
       "    </tr>\n",
       "  </tbody>\n",
       "</table>\n",
       "<p>767439 rows × 10 columns</p>\n",
       "</div>"
      ],
      "text/plain": [
       "       Invoice StockCode                          Description  Quantity  \\\n",
       "0       489434     85048  15CM CHRISTMAS GLASS BALL 20 LIGHTS        12   \n",
       "1       489434    79323P                   PINK CHERRY LIGHTS        12   \n",
       "2       489434    79323W                  WHITE CHERRY LIGHTS        12   \n",
       "3       489434     22041         RECORD FRAME 7\" SINGLE SIZE         48   \n",
       "4       489434     21232       STRAWBERRY CERAMIC TRINKET BOX        24   \n",
       "...        ...       ...                                  ...       ...   \n",
       "920141  570876     23394           POSTE FRANCE CUSHION COVER         1   \n",
       "920140  570876    46000M         POLYESTER FILLER PAD 45x45cm         1   \n",
       "920139  570876    46000S         POLYESTER FILLER PAD 40x40cm         1   \n",
       "920149  570876     22470                HEART OF WICKER LARGE         3   \n",
       "920159  570876     23118         PARISIENNE JEWELLERY DRAWER          2   \n",
       "\n",
       "             InvoiceDate  Price  Customer ID         Country  \\\n",
       "0       01-12-2009 07:45   6.95        13085  United Kingdom   \n",
       "1       01-12-2009 07:45   6.75        13085  United Kingdom   \n",
       "2       01-12-2009 07:45   6.75        13085  United Kingdom   \n",
       "3       01-12-2009 07:45   2.10        13085  United Kingdom   \n",
       "4       01-12-2009 07:45   1.25        13085  United Kingdom   \n",
       "...                  ...    ...          ...             ...   \n",
       "920141  12-10-2011 17:19   3.75        16085  United Kingdom   \n",
       "920140  12-10-2011 17:19   1.55        16085  United Kingdom   \n",
       "920139  12-10-2011 17:19   1.45        16085  United Kingdom   \n",
       "920149  12-10-2011 17:19   2.95        16085  United Kingdom   \n",
       "920159  12-10-2011 17:19   7.50        16085  United Kingdom   \n",
       "\n",
       "            InvoiceDate_DT   Total  \n",
       "0      2009-01-12 07:45:00   83.40  \n",
       "1      2009-01-12 07:45:00   81.00  \n",
       "2      2009-01-12 07:45:00   81.00  \n",
       "3      2009-01-12 07:45:00  100.80  \n",
       "4      2009-01-12 07:45:00   30.00  \n",
       "...                    ...     ...  \n",
       "920141 2011-12-10 17:19:00    3.75  \n",
       "920140 2011-12-10 17:19:00    1.55  \n",
       "920139 2011-12-10 17:19:00    1.45  \n",
       "920149 2011-12-10 17:19:00    8.85  \n",
       "920159 2011-12-10 17:19:00   15.00  \n",
       "\n",
       "[767439 rows x 10 columns]"
      ]
     },
     "execution_count": 22,
     "metadata": {},
     "output_type": "execute_result"
    }
   ],
   "source": [
    "retail_no_returns = retail.loc[retail['Quantity'] > 0]\n",
    "retail_no_returns"
   ]
  },
  {
   "cell_type": "code",
   "execution_count": 23,
   "id": "2157eeaf",
   "metadata": {
    "execution": {
     "iopub.execute_input": "2022-10-29T09:16:43.315517Z",
     "iopub.status.busy": "2022-10-29T09:16:43.315223Z",
     "iopub.status.idle": "2022-10-29T09:16:43.328816Z",
     "shell.execute_reply": "2022-10-29T09:16:43.328068Z"
    },
    "papermill": {
     "duration": 0.041981,
     "end_time": "2022-10-29T09:16:43.330511",
     "exception": false,
     "start_time": "2022-10-29T09:16:43.288530",
     "status": "completed"
    },
    "tags": []
   },
   "outputs": [
    {
     "data": {
      "text/html": [
       "<div>\n",
       "<style scoped>\n",
       "    .dataframe tbody tr th:only-of-type {\n",
       "        vertical-align: middle;\n",
       "    }\n",
       "\n",
       "    .dataframe tbody tr th {\n",
       "        vertical-align: top;\n",
       "    }\n",
       "\n",
       "    .dataframe thead th {\n",
       "        text-align: right;\n",
       "    }\n",
       "</style>\n",
       "<table border=\"1\" class=\"dataframe\">\n",
       "  <thead>\n",
       "    <tr style=\"text-align: right;\">\n",
       "      <th></th>\n",
       "      <th>Invoice</th>\n",
       "      <th>StockCode</th>\n",
       "      <th>Description</th>\n",
       "      <th>Quantity</th>\n",
       "      <th>InvoiceDate</th>\n",
       "      <th>Price</th>\n",
       "      <th>Customer ID</th>\n",
       "      <th>Country</th>\n",
       "      <th>InvoiceDate_DT</th>\n",
       "      <th>Total</th>\n",
       "    </tr>\n",
       "  </thead>\n",
       "  <tbody>\n",
       "    <tr>\n",
       "      <th>135013</th>\n",
       "      <td>502263</td>\n",
       "      <td>M</td>\n",
       "      <td>Manual</td>\n",
       "      <td>1</td>\n",
       "      <td>23-03-2010 15:22</td>\n",
       "      <td>10953.5</td>\n",
       "      <td>12918</td>\n",
       "      <td>United Kingdom</td>\n",
       "      <td>2010-03-23 15:22:00</td>\n",
       "      <td>10953.5</td>\n",
       "    </tr>\n",
       "  </tbody>\n",
       "</table>\n",
       "</div>"
      ],
      "text/plain": [
       "       Invoice StockCode Description  Quantity       InvoiceDate    Price  \\\n",
       "135013  502263         M      Manual         1  23-03-2010 15:22  10953.5   \n",
       "\n",
       "        Customer ID         Country      InvoiceDate_DT    Total  \n",
       "135013        12918  United Kingdom 2010-03-23 15:22:00  10953.5  "
      ]
     },
     "execution_count": 23,
     "metadata": {},
     "output_type": "execute_result"
    }
   ],
   "source": [
    "most_expensive_no_returns = retail_no_returns.loc[retail_no_returns['Price'] == retail_no_returns['Price'].max()] \n",
    "most_expensive_no_returns"
   ]
  },
  {
   "cell_type": "code",
   "execution_count": 24,
   "id": "292c3a9c",
   "metadata": {
    "execution": {
     "iopub.execute_input": "2022-10-29T09:16:43.385815Z",
     "iopub.status.busy": "2022-10-29T09:16:43.384902Z",
     "iopub.status.idle": "2022-10-29T09:16:43.397163Z",
     "shell.execute_reply": "2022-10-29T09:16:43.396088Z"
    },
    "papermill": {
     "duration": 0.042498,
     "end_time": "2022-10-29T09:16:43.398869",
     "exception": false,
     "start_time": "2022-10-29T09:16:43.356371",
     "status": "completed"
    },
    "tags": []
   },
   "outputs": [
    {
     "data": {
      "text/html": [
       "<div>\n",
       "<style scoped>\n",
       "    .dataframe tbody tr th:only-of-type {\n",
       "        vertical-align: middle;\n",
       "    }\n",
       "\n",
       "    .dataframe tbody tr th {\n",
       "        vertical-align: top;\n",
       "    }\n",
       "\n",
       "    .dataframe thead th {\n",
       "        text-align: right;\n",
       "    }\n",
       "</style>\n",
       "<table border=\"1\" class=\"dataframe\">\n",
       "  <thead>\n",
       "    <tr style=\"text-align: right;\">\n",
       "      <th></th>\n",
       "      <th>Description</th>\n",
       "      <th>Price</th>\n",
       "      <th>Quantity</th>\n",
       "    </tr>\n",
       "  </thead>\n",
       "  <tbody>\n",
       "    <tr>\n",
       "      <th>0</th>\n",
       "      <td>Manual</td>\n",
       "      <td>10953.5</td>\n",
       "      <td>1</td>\n",
       "    </tr>\n",
       "  </tbody>\n",
       "</table>\n",
       "</div>"
      ],
      "text/plain": [
       "  Description    Price  Quantity\n",
       "0      Manual  10953.5         1"
      ]
     },
     "execution_count": 24,
     "metadata": {},
     "output_type": "execute_result"
    }
   ],
   "source": [
    "most_expensive_no_returns = most_expensive_no_returns.groupby(['Description', 'Price'], as_index=False)['Quantity'].agg('sum')\n",
    "most_expensive_no_returns"
   ]
  },
  {
   "cell_type": "code",
   "execution_count": 25,
   "id": "99b0bbe1",
   "metadata": {
    "execution": {
     "iopub.execute_input": "2022-10-29T09:16:43.453182Z",
     "iopub.status.busy": "2022-10-29T09:16:43.452881Z",
     "iopub.status.idle": "2022-10-29T09:16:43.530565Z",
     "shell.execute_reply": "2022-10-29T09:16:43.529474Z"
    },
    "papermill": {
     "duration": 0.107078,
     "end_time": "2022-10-29T09:16:43.532543",
     "exception": false,
     "start_time": "2022-10-29T09:16:43.425465",
     "status": "completed"
    },
    "tags": []
   },
   "outputs": [],
   "source": [
    "retail_non_zero_price = retail.loc[retail['Price'] != 0]"
   ]
  },
  {
   "cell_type": "code",
   "execution_count": 26,
   "id": "7f7ef88f",
   "metadata": {
    "execution": {
     "iopub.execute_input": "2022-10-29T09:16:43.586850Z",
     "iopub.status.busy": "2022-10-29T09:16:43.586169Z",
     "iopub.status.idle": "2022-10-29T09:16:43.603810Z",
     "shell.execute_reply": "2022-10-29T09:16:43.603070Z"
    },
    "papermill": {
     "duration": 0.04651,
     "end_time": "2022-10-29T09:16:43.605372",
     "exception": false,
     "start_time": "2022-10-29T09:16:43.558862",
     "status": "completed"
    },
    "tags": []
   },
   "outputs": [
    {
     "data": {
      "text/html": [
       "<div>\n",
       "<style scoped>\n",
       "    .dataframe tbody tr th:only-of-type {\n",
       "        vertical-align: middle;\n",
       "    }\n",
       "\n",
       "    .dataframe tbody tr th {\n",
       "        vertical-align: top;\n",
       "    }\n",
       "\n",
       "    .dataframe thead th {\n",
       "        text-align: right;\n",
       "    }\n",
       "</style>\n",
       "<table border=\"1\" class=\"dataframe\">\n",
       "  <thead>\n",
       "    <tr style=\"text-align: right;\">\n",
       "      <th></th>\n",
       "      <th>Invoice</th>\n",
       "      <th>StockCode</th>\n",
       "      <th>Description</th>\n",
       "      <th>Quantity</th>\n",
       "      <th>InvoiceDate</th>\n",
       "      <th>Price</th>\n",
       "      <th>Customer ID</th>\n",
       "      <th>Country</th>\n",
       "      <th>InvoiceDate_DT</th>\n",
       "      <th>Total</th>\n",
       "    </tr>\n",
       "  </thead>\n",
       "  <tbody>\n",
       "    <tr>\n",
       "      <th>0</th>\n",
       "      <td>489434</td>\n",
       "      <td>85048</td>\n",
       "      <td>15CM CHRISTMAS GLASS BALL 20 LIGHTS</td>\n",
       "      <td>12</td>\n",
       "      <td>01-12-2009 07:45</td>\n",
       "      <td>6.95</td>\n",
       "      <td>13085</td>\n",
       "      <td>United Kingdom</td>\n",
       "      <td>2009-01-12 07:45:00</td>\n",
       "      <td>83.40</td>\n",
       "    </tr>\n",
       "    <tr>\n",
       "      <th>1</th>\n",
       "      <td>489434</td>\n",
       "      <td>79323P</td>\n",
       "      <td>PINK CHERRY LIGHTS</td>\n",
       "      <td>12</td>\n",
       "      <td>01-12-2009 07:45</td>\n",
       "      <td>6.75</td>\n",
       "      <td>13085</td>\n",
       "      <td>United Kingdom</td>\n",
       "      <td>2009-01-12 07:45:00</td>\n",
       "      <td>81.00</td>\n",
       "    </tr>\n",
       "    <tr>\n",
       "      <th>2</th>\n",
       "      <td>489434</td>\n",
       "      <td>79323W</td>\n",
       "      <td>WHITE CHERRY LIGHTS</td>\n",
       "      <td>12</td>\n",
       "      <td>01-12-2009 07:45</td>\n",
       "      <td>6.75</td>\n",
       "      <td>13085</td>\n",
       "      <td>United Kingdom</td>\n",
       "      <td>2009-01-12 07:45:00</td>\n",
       "      <td>81.00</td>\n",
       "    </tr>\n",
       "    <tr>\n",
       "      <th>3</th>\n",
       "      <td>489434</td>\n",
       "      <td>22041</td>\n",
       "      <td>RECORD FRAME 7\" SINGLE SIZE</td>\n",
       "      <td>48</td>\n",
       "      <td>01-12-2009 07:45</td>\n",
       "      <td>2.10</td>\n",
       "      <td>13085</td>\n",
       "      <td>United Kingdom</td>\n",
       "      <td>2009-01-12 07:45:00</td>\n",
       "      <td>100.80</td>\n",
       "    </tr>\n",
       "    <tr>\n",
       "      <th>4</th>\n",
       "      <td>489434</td>\n",
       "      <td>21232</td>\n",
       "      <td>STRAWBERRY CERAMIC TRINKET BOX</td>\n",
       "      <td>24</td>\n",
       "      <td>01-12-2009 07:45</td>\n",
       "      <td>1.25</td>\n",
       "      <td>13085</td>\n",
       "      <td>United Kingdom</td>\n",
       "      <td>2009-01-12 07:45:00</td>\n",
       "      <td>30.00</td>\n",
       "    </tr>\n",
       "    <tr>\n",
       "      <th>...</th>\n",
       "      <td>...</td>\n",
       "      <td>...</td>\n",
       "      <td>...</td>\n",
       "      <td>...</td>\n",
       "      <td>...</td>\n",
       "      <td>...</td>\n",
       "      <td>...</td>\n",
       "      <td>...</td>\n",
       "      <td>...</td>\n",
       "      <td>...</td>\n",
       "    </tr>\n",
       "    <tr>\n",
       "      <th>920141</th>\n",
       "      <td>570876</td>\n",
       "      <td>23394</td>\n",
       "      <td>POSTE FRANCE CUSHION COVER</td>\n",
       "      <td>1</td>\n",
       "      <td>12-10-2011 17:19</td>\n",
       "      <td>3.75</td>\n",
       "      <td>16085</td>\n",
       "      <td>United Kingdom</td>\n",
       "      <td>2011-12-10 17:19:00</td>\n",
       "      <td>3.75</td>\n",
       "    </tr>\n",
       "    <tr>\n",
       "      <th>920140</th>\n",
       "      <td>570876</td>\n",
       "      <td>46000M</td>\n",
       "      <td>POLYESTER FILLER PAD 45x45cm</td>\n",
       "      <td>1</td>\n",
       "      <td>12-10-2011 17:19</td>\n",
       "      <td>1.55</td>\n",
       "      <td>16085</td>\n",
       "      <td>United Kingdom</td>\n",
       "      <td>2011-12-10 17:19:00</td>\n",
       "      <td>1.55</td>\n",
       "    </tr>\n",
       "    <tr>\n",
       "      <th>920139</th>\n",
       "      <td>570876</td>\n",
       "      <td>46000S</td>\n",
       "      <td>POLYESTER FILLER PAD 40x40cm</td>\n",
       "      <td>1</td>\n",
       "      <td>12-10-2011 17:19</td>\n",
       "      <td>1.45</td>\n",
       "      <td>16085</td>\n",
       "      <td>United Kingdom</td>\n",
       "      <td>2011-12-10 17:19:00</td>\n",
       "      <td>1.45</td>\n",
       "    </tr>\n",
       "    <tr>\n",
       "      <th>920149</th>\n",
       "      <td>570876</td>\n",
       "      <td>22470</td>\n",
       "      <td>HEART OF WICKER LARGE</td>\n",
       "      <td>3</td>\n",
       "      <td>12-10-2011 17:19</td>\n",
       "      <td>2.95</td>\n",
       "      <td>16085</td>\n",
       "      <td>United Kingdom</td>\n",
       "      <td>2011-12-10 17:19:00</td>\n",
       "      <td>8.85</td>\n",
       "    </tr>\n",
       "    <tr>\n",
       "      <th>920159</th>\n",
       "      <td>570876</td>\n",
       "      <td>23118</td>\n",
       "      <td>PARISIENNE JEWELLERY DRAWER</td>\n",
       "      <td>2</td>\n",
       "      <td>12-10-2011 17:19</td>\n",
       "      <td>7.50</td>\n",
       "      <td>16085</td>\n",
       "      <td>United Kingdom</td>\n",
       "      <td>2011-12-10 17:19:00</td>\n",
       "      <td>15.00</td>\n",
       "    </tr>\n",
       "  </tbody>\n",
       "</table>\n",
       "<p>785529 rows × 10 columns</p>\n",
       "</div>"
      ],
      "text/plain": [
       "       Invoice StockCode                          Description  Quantity  \\\n",
       "0       489434     85048  15CM CHRISTMAS GLASS BALL 20 LIGHTS        12   \n",
       "1       489434    79323P                   PINK CHERRY LIGHTS        12   \n",
       "2       489434    79323W                  WHITE CHERRY LIGHTS        12   \n",
       "3       489434     22041         RECORD FRAME 7\" SINGLE SIZE         48   \n",
       "4       489434     21232       STRAWBERRY CERAMIC TRINKET BOX        24   \n",
       "...        ...       ...                                  ...       ...   \n",
       "920141  570876     23394           POSTE FRANCE CUSHION COVER         1   \n",
       "920140  570876    46000M         POLYESTER FILLER PAD 45x45cm         1   \n",
       "920139  570876    46000S         POLYESTER FILLER PAD 40x40cm         1   \n",
       "920149  570876     22470                HEART OF WICKER LARGE         3   \n",
       "920159  570876     23118         PARISIENNE JEWELLERY DRAWER          2   \n",
       "\n",
       "             InvoiceDate  Price  Customer ID         Country  \\\n",
       "0       01-12-2009 07:45   6.95        13085  United Kingdom   \n",
       "1       01-12-2009 07:45   6.75        13085  United Kingdom   \n",
       "2       01-12-2009 07:45   6.75        13085  United Kingdom   \n",
       "3       01-12-2009 07:45   2.10        13085  United Kingdom   \n",
       "4       01-12-2009 07:45   1.25        13085  United Kingdom   \n",
       "...                  ...    ...          ...             ...   \n",
       "920141  12-10-2011 17:19   3.75        16085  United Kingdom   \n",
       "920140  12-10-2011 17:19   1.55        16085  United Kingdom   \n",
       "920139  12-10-2011 17:19   1.45        16085  United Kingdom   \n",
       "920149  12-10-2011 17:19   2.95        16085  United Kingdom   \n",
       "920159  12-10-2011 17:19   7.50        16085  United Kingdom   \n",
       "\n",
       "            InvoiceDate_DT   Total  \n",
       "0      2009-01-12 07:45:00   83.40  \n",
       "1      2009-01-12 07:45:00   81.00  \n",
       "2      2009-01-12 07:45:00   81.00  \n",
       "3      2009-01-12 07:45:00  100.80  \n",
       "4      2009-01-12 07:45:00   30.00  \n",
       "...                    ...     ...  \n",
       "920141 2011-12-10 17:19:00    3.75  \n",
       "920140 2011-12-10 17:19:00    1.55  \n",
       "920139 2011-12-10 17:19:00    1.45  \n",
       "920149 2011-12-10 17:19:00    8.85  \n",
       "920159 2011-12-10 17:19:00   15.00  \n",
       "\n",
       "[785529 rows x 10 columns]"
      ]
     },
     "execution_count": 26,
     "metadata": {},
     "output_type": "execute_result"
    }
   ],
   "source": [
    "retail_non_zero_price"
   ]
  },
  {
   "cell_type": "code",
   "execution_count": 27,
   "id": "0a430974",
   "metadata": {
    "execution": {
     "iopub.execute_input": "2022-10-29T09:16:43.658975Z",
     "iopub.status.busy": "2022-10-29T09:16:43.658544Z",
     "iopub.status.idle": "2022-10-29T09:16:43.663907Z",
     "shell.execute_reply": "2022-10-29T09:16:43.663363Z"
    },
    "papermill": {
     "duration": 0.034105,
     "end_time": "2022-10-29T09:16:43.665557",
     "exception": false,
     "start_time": "2022-10-29T09:16:43.631452",
     "status": "completed"
    },
    "tags": []
   },
   "outputs": [],
   "source": [
    "least_expensive_not_null = retail_non_zero_price.loc[retail_non_zero_price['Price'] == retail_non_zero_price['Price'].min()]"
   ]
  },
  {
   "cell_type": "code",
   "execution_count": 28,
   "id": "b80e94be",
   "metadata": {
    "execution": {
     "iopub.execute_input": "2022-10-29T09:16:43.719626Z",
     "iopub.status.busy": "2022-10-29T09:16:43.719322Z",
     "iopub.status.idle": "2022-10-29T09:16:43.735132Z",
     "shell.execute_reply": "2022-10-29T09:16:43.734305Z"
    },
    "papermill": {
     "duration": 0.045185,
     "end_time": "2022-10-29T09:16:43.737004",
     "exception": false,
     "start_time": "2022-10-29T09:16:43.691819",
     "status": "completed"
    },
    "tags": []
   },
   "outputs": [
    {
     "data": {
      "text/html": [
       "<div>\n",
       "<style scoped>\n",
       "    .dataframe tbody tr th:only-of-type {\n",
       "        vertical-align: middle;\n",
       "    }\n",
       "\n",
       "    .dataframe tbody tr th {\n",
       "        vertical-align: top;\n",
       "    }\n",
       "\n",
       "    .dataframe thead th {\n",
       "        text-align: right;\n",
       "    }\n",
       "</style>\n",
       "<table border=\"1\" class=\"dataframe\">\n",
       "  <thead>\n",
       "    <tr style=\"text-align: right;\">\n",
       "      <th></th>\n",
       "      <th>Invoice</th>\n",
       "      <th>StockCode</th>\n",
       "      <th>Description</th>\n",
       "      <th>Quantity</th>\n",
       "      <th>InvoiceDate</th>\n",
       "      <th>Price</th>\n",
       "      <th>Customer ID</th>\n",
       "      <th>Country</th>\n",
       "      <th>InvoiceDate_DT</th>\n",
       "      <th>Total</th>\n",
       "    </tr>\n",
       "  </thead>\n",
       "  <tbody>\n",
       "    <tr>\n",
       "      <th>77702</th>\n",
       "      <td>496473</td>\n",
       "      <td>PADS</td>\n",
       "      <td>PADS TO MATCH ALL CUSHIONS</td>\n",
       "      <td>1</td>\n",
       "      <td>01-02-2010 15:38</td>\n",
       "      <td>0.001</td>\n",
       "      <td>17350</td>\n",
       "      <td>United Kingdom</td>\n",
       "      <td>2010-01-02 15:38:00</td>\n",
       "      <td>0.001</td>\n",
       "    </tr>\n",
       "    <tr>\n",
       "      <th>62299</th>\n",
       "      <td>494914</td>\n",
       "      <td>PADS</td>\n",
       "      <td>PADS TO MATCH ALL CUSHIONS</td>\n",
       "      <td>1</td>\n",
       "      <td>19-01-2010 17:04</td>\n",
       "      <td>0.001</td>\n",
       "      <td>16705</td>\n",
       "      <td>United Kingdom</td>\n",
       "      <td>2010-01-19 17:04:00</td>\n",
       "      <td>0.001</td>\n",
       "    </tr>\n",
       "    <tr>\n",
       "      <th>74731</th>\n",
       "      <td>496222</td>\n",
       "      <td>PADS</td>\n",
       "      <td>PADS TO MATCH ALL CUSHIONS</td>\n",
       "      <td>1</td>\n",
       "      <td>29-01-2010 13:53</td>\n",
       "      <td>0.001</td>\n",
       "      <td>13583</td>\n",
       "      <td>United Kingdom</td>\n",
       "      <td>2010-01-29 13:53:00</td>\n",
       "      <td>0.001</td>\n",
       "    </tr>\n",
       "    <tr>\n",
       "      <th>90798</th>\n",
       "      <td>497935</td>\n",
       "      <td>PADS</td>\n",
       "      <td>PADS TO MATCH ALL CUSHIONS</td>\n",
       "      <td>1</td>\n",
       "      <td>15-02-2010 10:47</td>\n",
       "      <td>0.001</td>\n",
       "      <td>13408</td>\n",
       "      <td>United Kingdom</td>\n",
       "      <td>2010-02-15 10:47:00</td>\n",
       "      <td>0.001</td>\n",
       "    </tr>\n",
       "    <tr>\n",
       "      <th>97716</th>\n",
       "      <td>498562</td>\n",
       "      <td>PADS</td>\n",
       "      <td>PADS TO MATCH ALL CUSHIONS</td>\n",
       "      <td>1</td>\n",
       "      <td>21-02-2010 12:03</td>\n",
       "      <td>0.001</td>\n",
       "      <td>15182</td>\n",
       "      <td>United Kingdom</td>\n",
       "      <td>2010-02-21 12:03:00</td>\n",
       "      <td>0.001</td>\n",
       "    </tr>\n",
       "    <tr>\n",
       "      <th>101718</th>\n",
       "      <td>499056</td>\n",
       "      <td>PADS</td>\n",
       "      <td>PADS TO MATCH ALL CUSHIONS</td>\n",
       "      <td>1</td>\n",
       "      <td>24-02-2010 13:46</td>\n",
       "      <td>0.001</td>\n",
       "      <td>13765</td>\n",
       "      <td>United Kingdom</td>\n",
       "      <td>2010-02-24 13:46:00</td>\n",
       "      <td>0.001</td>\n",
       "    </tr>\n",
       "    <tr>\n",
       "      <th>104480</th>\n",
       "      <td>499399</td>\n",
       "      <td>PADS</td>\n",
       "      <td>PADS TO MATCH ALL CUSHIONS</td>\n",
       "      <td>1</td>\n",
       "      <td>26-02-2010 13:26</td>\n",
       "      <td>0.001</td>\n",
       "      <td>14459</td>\n",
       "      <td>United Kingdom</td>\n",
       "      <td>2010-02-26 13:26:00</td>\n",
       "      <td>0.001</td>\n",
       "    </tr>\n",
       "    <tr>\n",
       "      <th>79794</th>\n",
       "      <td>496643</td>\n",
       "      <td>PADS</td>\n",
       "      <td>PADS TO MATCH ALL CUSHIONS</td>\n",
       "      <td>1</td>\n",
       "      <td>03-02-2010 11:58</td>\n",
       "      <td>0.001</td>\n",
       "      <td>13408</td>\n",
       "      <td>United Kingdom</td>\n",
       "      <td>2010-03-02 11:58:00</td>\n",
       "      <td>0.001</td>\n",
       "    </tr>\n",
       "    <tr>\n",
       "      <th>123947</th>\n",
       "      <td>501176</td>\n",
       "      <td>PADS</td>\n",
       "      <td>PADS TO MATCH ALL CUSHIONS</td>\n",
       "      <td>1</td>\n",
       "      <td>15-03-2010 11:00</td>\n",
       "      <td>0.001</td>\n",
       "      <td>14857</td>\n",
       "      <td>United Kingdom</td>\n",
       "      <td>2010-03-15 11:00:00</td>\n",
       "      <td>0.001</td>\n",
       "    </tr>\n",
       "    <tr>\n",
       "      <th>178629</th>\n",
       "      <td>506303</td>\n",
       "      <td>PADS</td>\n",
       "      <td>PADS TO MATCH ALL CUSHIONS</td>\n",
       "      <td>1</td>\n",
       "      <td>29-04-2010 10:43</td>\n",
       "      <td>0.001</td>\n",
       "      <td>14249</td>\n",
       "      <td>United Kingdom</td>\n",
       "      <td>2010-04-29 10:43:00</td>\n",
       "      <td>0.001</td>\n",
       "    </tr>\n",
       "    <tr>\n",
       "      <th>440930</th>\n",
       "      <td>531433</td>\n",
       "      <td>PADS</td>\n",
       "      <td>PADS TO MATCH ALL CUSHIONS</td>\n",
       "      <td>1</td>\n",
       "      <td>08-11-2010 11:54</td>\n",
       "      <td>0.001</td>\n",
       "      <td>13317</td>\n",
       "      <td>United Kingdom</td>\n",
       "      <td>2010-08-11 11:54:00</td>\n",
       "      <td>0.001</td>\n",
       "    </tr>\n",
       "    <tr>\n",
       "      <th>341826</th>\n",
       "      <td>522766</td>\n",
       "      <td>PADS</td>\n",
       "      <td>PADS TO MATCH ALL CUSHIONS</td>\n",
       "      <td>1</td>\n",
       "      <td>16-09-2010 13:58</td>\n",
       "      <td>0.001</td>\n",
       "      <td>15182</td>\n",
       "      <td>United Kingdom</td>\n",
       "      <td>2010-09-16 13:58:00</td>\n",
       "      <td>0.001</td>\n",
       "    </tr>\n",
       "    <tr>\n",
       "      <th>468280</th>\n",
       "      <td>533528</td>\n",
       "      <td>PADS</td>\n",
       "      <td>PADS TO MATCH ALL CUSHIONS</td>\n",
       "      <td>1</td>\n",
       "      <td>17-11-2010 15:08</td>\n",
       "      <td>0.001</td>\n",
       "      <td>15750</td>\n",
       "      <td>United Kingdom</td>\n",
       "      <td>2010-11-17 15:08:00</td>\n",
       "      <td>0.001</td>\n",
       "    </tr>\n",
       "    <tr>\n",
       "      <th>156809</th>\n",
       "      <td>504332</td>\n",
       "      <td>PADS</td>\n",
       "      <td>PADS TO MATCH ALL CUSHIONS</td>\n",
       "      <td>1</td>\n",
       "      <td>12-04-2010 16:30</td>\n",
       "      <td>0.001</td>\n",
       "      <td>12671</td>\n",
       "      <td>Germany</td>\n",
       "      <td>2010-12-04 16:30:00</td>\n",
       "      <td>0.001</td>\n",
       "    </tr>\n",
       "    <tr>\n",
       "      <th>682656</th>\n",
       "      <td>550193</td>\n",
       "      <td>PADS</td>\n",
       "      <td>PADS TO MATCH ALL CUSHIONS</td>\n",
       "      <td>1</td>\n",
       "      <td>15-04-2011 09:27</td>\n",
       "      <td>0.001</td>\n",
       "      <td>13952</td>\n",
       "      <td>United Kingdom</td>\n",
       "      <td>2011-04-15 09:27:00</td>\n",
       "      <td>0.001</td>\n",
       "    </tr>\n",
       "    <tr>\n",
       "      <th>804506</th>\n",
       "      <td>561226</td>\n",
       "      <td>PADS</td>\n",
       "      <td>PADS TO MATCH ALL CUSHIONS</td>\n",
       "      <td>1</td>\n",
       "      <td>26-07-2011 10:13</td>\n",
       "      <td>0.001</td>\n",
       "      <td>15618</td>\n",
       "      <td>United Kingdom</td>\n",
       "      <td>2011-07-26 10:13:00</td>\n",
       "      <td>0.001</td>\n",
       "    </tr>\n",
       "    <tr>\n",
       "      <th>885332</th>\n",
       "      <td>568200</td>\n",
       "      <td>PADS</td>\n",
       "      <td>PADS TO MATCH ALL CUSHIONS</td>\n",
       "      <td>1</td>\n",
       "      <td>25-09-2011 14:58</td>\n",
       "      <td>0.001</td>\n",
       "      <td>16198</td>\n",
       "      <td>United Kingdom</td>\n",
       "      <td>2011-09-25 14:58:00</td>\n",
       "      <td>0.001</td>\n",
       "    </tr>\n",
       "    <tr>\n",
       "      <th>887202</th>\n",
       "      <td>568375</td>\n",
       "      <td>BANK CHARGES</td>\n",
       "      <td>Bank Charges</td>\n",
       "      <td>1</td>\n",
       "      <td>26-09-2011 17:01</td>\n",
       "      <td>0.001</td>\n",
       "      <td>13405</td>\n",
       "      <td>United Kingdom</td>\n",
       "      <td>2011-09-26 17:01:00</td>\n",
       "      <td>0.001</td>\n",
       "    </tr>\n",
       "  </tbody>\n",
       "</table>\n",
       "</div>"
      ],
      "text/plain": [
       "       Invoice     StockCode                 Description  Quantity  \\\n",
       "77702   496473          PADS  PADS TO MATCH ALL CUSHIONS         1   \n",
       "62299   494914          PADS  PADS TO MATCH ALL CUSHIONS         1   \n",
       "74731   496222          PADS  PADS TO MATCH ALL CUSHIONS         1   \n",
       "90798   497935          PADS  PADS TO MATCH ALL CUSHIONS         1   \n",
       "97716   498562          PADS  PADS TO MATCH ALL CUSHIONS         1   \n",
       "101718  499056          PADS  PADS TO MATCH ALL CUSHIONS         1   \n",
       "104480  499399          PADS  PADS TO MATCH ALL CUSHIONS         1   \n",
       "79794   496643          PADS  PADS TO MATCH ALL CUSHIONS         1   \n",
       "123947  501176          PADS  PADS TO MATCH ALL CUSHIONS         1   \n",
       "178629  506303          PADS  PADS TO MATCH ALL CUSHIONS         1   \n",
       "440930  531433          PADS  PADS TO MATCH ALL CUSHIONS         1   \n",
       "341826  522766          PADS  PADS TO MATCH ALL CUSHIONS         1   \n",
       "468280  533528          PADS  PADS TO MATCH ALL CUSHIONS         1   \n",
       "156809  504332          PADS  PADS TO MATCH ALL CUSHIONS         1   \n",
       "682656  550193          PADS  PADS TO MATCH ALL CUSHIONS         1   \n",
       "804506  561226          PADS  PADS TO MATCH ALL CUSHIONS         1   \n",
       "885332  568200          PADS  PADS TO MATCH ALL CUSHIONS         1   \n",
       "887202  568375  BANK CHARGES                Bank Charges         1   \n",
       "\n",
       "             InvoiceDate  Price  Customer ID         Country  \\\n",
       "77702   01-02-2010 15:38  0.001        17350  United Kingdom   \n",
       "62299   19-01-2010 17:04  0.001        16705  United Kingdom   \n",
       "74731   29-01-2010 13:53  0.001        13583  United Kingdom   \n",
       "90798   15-02-2010 10:47  0.001        13408  United Kingdom   \n",
       "97716   21-02-2010 12:03  0.001        15182  United Kingdom   \n",
       "101718  24-02-2010 13:46  0.001        13765  United Kingdom   \n",
       "104480  26-02-2010 13:26  0.001        14459  United Kingdom   \n",
       "79794   03-02-2010 11:58  0.001        13408  United Kingdom   \n",
       "123947  15-03-2010 11:00  0.001        14857  United Kingdom   \n",
       "178629  29-04-2010 10:43  0.001        14249  United Kingdom   \n",
       "440930  08-11-2010 11:54  0.001        13317  United Kingdom   \n",
       "341826  16-09-2010 13:58  0.001        15182  United Kingdom   \n",
       "468280  17-11-2010 15:08  0.001        15750  United Kingdom   \n",
       "156809  12-04-2010 16:30  0.001        12671         Germany   \n",
       "682656  15-04-2011 09:27  0.001        13952  United Kingdom   \n",
       "804506  26-07-2011 10:13  0.001        15618  United Kingdom   \n",
       "885332  25-09-2011 14:58  0.001        16198  United Kingdom   \n",
       "887202  26-09-2011 17:01  0.001        13405  United Kingdom   \n",
       "\n",
       "            InvoiceDate_DT  Total  \n",
       "77702  2010-01-02 15:38:00  0.001  \n",
       "62299  2010-01-19 17:04:00  0.001  \n",
       "74731  2010-01-29 13:53:00  0.001  \n",
       "90798  2010-02-15 10:47:00  0.001  \n",
       "97716  2010-02-21 12:03:00  0.001  \n",
       "101718 2010-02-24 13:46:00  0.001  \n",
       "104480 2010-02-26 13:26:00  0.001  \n",
       "79794  2010-03-02 11:58:00  0.001  \n",
       "123947 2010-03-15 11:00:00  0.001  \n",
       "178629 2010-04-29 10:43:00  0.001  \n",
       "440930 2010-08-11 11:54:00  0.001  \n",
       "341826 2010-09-16 13:58:00  0.001  \n",
       "468280 2010-11-17 15:08:00  0.001  \n",
       "156809 2010-12-04 16:30:00  0.001  \n",
       "682656 2011-04-15 09:27:00  0.001  \n",
       "804506 2011-07-26 10:13:00  0.001  \n",
       "885332 2011-09-25 14:58:00  0.001  \n",
       "887202 2011-09-26 17:01:00  0.001  "
      ]
     },
     "execution_count": 28,
     "metadata": {},
     "output_type": "execute_result"
    }
   ],
   "source": [
    "least_expensive_not_null"
   ]
  },
  {
   "cell_type": "code",
   "execution_count": 29,
   "id": "46f6098b",
   "metadata": {
    "execution": {
     "iopub.execute_input": "2022-10-29T09:16:43.791908Z",
     "iopub.status.busy": "2022-10-29T09:16:43.791142Z",
     "iopub.status.idle": "2022-10-29T09:16:43.803310Z",
     "shell.execute_reply": "2022-10-29T09:16:43.802556Z"
    },
    "papermill": {
     "duration": 0.041234,
     "end_time": "2022-10-29T09:16:43.804849",
     "exception": false,
     "start_time": "2022-10-29T09:16:43.763615",
     "status": "completed"
    },
    "tags": []
   },
   "outputs": [
    {
     "data": {
      "text/html": [
       "<div>\n",
       "<style scoped>\n",
       "    .dataframe tbody tr th:only-of-type {\n",
       "        vertical-align: middle;\n",
       "    }\n",
       "\n",
       "    .dataframe tbody tr th {\n",
       "        vertical-align: top;\n",
       "    }\n",
       "\n",
       "    .dataframe thead th {\n",
       "        text-align: right;\n",
       "    }\n",
       "</style>\n",
       "<table border=\"1\" class=\"dataframe\">\n",
       "  <thead>\n",
       "    <tr style=\"text-align: right;\">\n",
       "      <th></th>\n",
       "      <th>Description</th>\n",
       "      <th>Price</th>\n",
       "      <th>Quantity</th>\n",
       "    </tr>\n",
       "  </thead>\n",
       "  <tbody>\n",
       "    <tr>\n",
       "      <th>0</th>\n",
       "      <td>Bank Charges</td>\n",
       "      <td>0.001</td>\n",
       "      <td>1</td>\n",
       "    </tr>\n",
       "    <tr>\n",
       "      <th>1</th>\n",
       "      <td>PADS TO MATCH ALL CUSHIONS</td>\n",
       "      <td>0.001</td>\n",
       "      <td>17</td>\n",
       "    </tr>\n",
       "  </tbody>\n",
       "</table>\n",
       "</div>"
      ],
      "text/plain": [
       "                  Description  Price  Quantity\n",
       "0                Bank Charges  0.001         1\n",
       "1  PADS TO MATCH ALL CUSHIONS  0.001        17"
      ]
     },
     "execution_count": 29,
     "metadata": {},
     "output_type": "execute_result"
    }
   ],
   "source": [
    "least_expensive_not_null = least_expensive_not_null.groupby(['Description', 'Price'], as_index=False)['Quantity'].agg('sum')\n",
    "least_expensive_not_null"
   ]
  },
  {
   "cell_type": "markdown",
   "id": "46aa9c6c",
   "metadata": {
    "execution": {
     "iopub.execute_input": "2022-10-29T05:58:02.885930Z",
     "iopub.status.busy": "2022-10-29T05:58:02.885516Z",
     "iopub.status.idle": "2022-10-29T05:58:02.893081Z",
     "shell.execute_reply": "2022-10-29T05:58:02.891526Z",
     "shell.execute_reply.started": "2022-10-29T05:58:02.885895Z"
    },
    "papermill": {
     "duration": 0.026253,
     "end_time": "2022-10-29T09:16:43.857835",
     "exception": false,
     "start_time": "2022-10-29T09:16:43.831582",
     "status": "completed"
    },
    "tags": []
   },
   "source": [
    "**So, the cheapest product is 'PADS TO MATCH ALL CUSHIONS'. \n",
    "It is priced at £0.001 only (so basically you get 100 of such pads for 1 penny!\n",
    "Also, bank charges also are priced at £0.001.**\n",
    "\n",
    "**Customers Analysis: Total Purchase Amount\n",
    "Next, We are interested in finding out, which 10 customers have spent most in the \n",
    "online shop for the two years, and thus are the most valuable clients. Also, I'll define the 10 customers spending least.**"
   ]
  },
  {
   "cell_type": "code",
   "execution_count": 30,
   "id": "31880921",
   "metadata": {
    "execution": {
     "iopub.execute_input": "2022-10-29T09:16:43.912182Z",
     "iopub.status.busy": "2022-10-29T09:16:43.911871Z",
     "iopub.status.idle": "2022-10-29T09:16:44.008844Z",
     "shell.execute_reply": "2022-10-29T09:16:44.008005Z"
    },
    "papermill": {
     "duration": 0.126349,
     "end_time": "2022-10-29T09:16:44.010747",
     "exception": false,
     "start_time": "2022-10-29T09:16:43.884398",
     "status": "completed"
    },
    "tags": []
   },
   "outputs": [],
   "source": [
    "retail_customers = retail.groupby(['Customer ID', 'Country'], as_index=False)['Total'].agg('sum')"
   ]
  },
  {
   "cell_type": "code",
   "execution_count": 31,
   "id": "c98aad14",
   "metadata": {
    "execution": {
     "iopub.execute_input": "2022-10-29T09:16:44.065507Z",
     "iopub.status.busy": "2022-10-29T09:16:44.065207Z",
     "iopub.status.idle": "2022-10-29T09:16:44.077392Z",
     "shell.execute_reply": "2022-10-29T09:16:44.076523Z"
    },
    "papermill": {
     "duration": 0.041219,
     "end_time": "2022-10-29T09:16:44.078937",
     "exception": false,
     "start_time": "2022-10-29T09:16:44.037718",
     "status": "completed"
    },
    "tags": []
   },
   "outputs": [
    {
     "data": {
      "text/html": [
       "<div>\n",
       "<style scoped>\n",
       "    .dataframe tbody tr th:only-of-type {\n",
       "        vertical-align: middle;\n",
       "    }\n",
       "\n",
       "    .dataframe tbody tr th {\n",
       "        vertical-align: top;\n",
       "    }\n",
       "\n",
       "    .dataframe thead th {\n",
       "        text-align: right;\n",
       "    }\n",
       "</style>\n",
       "<table border=\"1\" class=\"dataframe\">\n",
       "  <thead>\n",
       "    <tr style=\"text-align: right;\">\n",
       "      <th></th>\n",
       "      <th>Customer ID</th>\n",
       "      <th>Country</th>\n",
       "      <th>Total</th>\n",
       "    </tr>\n",
       "  </thead>\n",
       "  <tbody>\n",
       "    <tr>\n",
       "      <th>0</th>\n",
       "      <td>12346</td>\n",
       "      <td>United Kingdom</td>\n",
       "      <td>-51.74</td>\n",
       "    </tr>\n",
       "    <tr>\n",
       "      <th>1</th>\n",
       "      <td>12347</td>\n",
       "      <td>Iceland</td>\n",
       "      <td>4696.71</td>\n",
       "    </tr>\n",
       "    <tr>\n",
       "      <th>2</th>\n",
       "      <td>12348</td>\n",
       "      <td>Finland</td>\n",
       "      <td>2019.40</td>\n",
       "    </tr>\n",
       "    <tr>\n",
       "      <th>3</th>\n",
       "      <td>12349</td>\n",
       "      <td>Italy</td>\n",
       "      <td>4404.54</td>\n",
       "    </tr>\n",
       "    <tr>\n",
       "      <th>4</th>\n",
       "      <td>12350</td>\n",
       "      <td>Norway</td>\n",
       "      <td>334.40</td>\n",
       "    </tr>\n",
       "    <tr>\n",
       "      <th>...</th>\n",
       "      <td>...</td>\n",
       "      <td>...</td>\n",
       "      <td>...</td>\n",
       "    </tr>\n",
       "    <tr>\n",
       "      <th>5932</th>\n",
       "      <td>18283</td>\n",
       "      <td>United Kingdom</td>\n",
       "      <td>2456.90</td>\n",
       "    </tr>\n",
       "    <tr>\n",
       "      <th>5933</th>\n",
       "      <td>18284</td>\n",
       "      <td>United Kingdom</td>\n",
       "      <td>436.68</td>\n",
       "    </tr>\n",
       "    <tr>\n",
       "      <th>5934</th>\n",
       "      <td>18285</td>\n",
       "      <td>United Kingdom</td>\n",
       "      <td>427.00</td>\n",
       "    </tr>\n",
       "    <tr>\n",
       "      <th>5935</th>\n",
       "      <td>18286</td>\n",
       "      <td>United Kingdom</td>\n",
       "      <td>1188.43</td>\n",
       "    </tr>\n",
       "    <tr>\n",
       "      <th>5936</th>\n",
       "      <td>18287</td>\n",
       "      <td>United Kingdom</td>\n",
       "      <td>4177.89</td>\n",
       "    </tr>\n",
       "  </tbody>\n",
       "</table>\n",
       "<p>5937 rows × 3 columns</p>\n",
       "</div>"
      ],
      "text/plain": [
       "      Customer ID         Country    Total\n",
       "0           12346  United Kingdom   -51.74\n",
       "1           12347         Iceland  4696.71\n",
       "2           12348         Finland  2019.40\n",
       "3           12349           Italy  4404.54\n",
       "4           12350          Norway   334.40\n",
       "...           ...             ...      ...\n",
       "5932        18283  United Kingdom  2456.90\n",
       "5933        18284  United Kingdom   436.68\n",
       "5934        18285  United Kingdom   427.00\n",
       "5935        18286  United Kingdom  1188.43\n",
       "5936        18287  United Kingdom  4177.89\n",
       "\n",
       "[5937 rows x 3 columns]"
      ]
     },
     "execution_count": 31,
     "metadata": {},
     "output_type": "execute_result"
    }
   ],
   "source": [
    "retail_customers"
   ]
  },
  {
   "cell_type": "code",
   "execution_count": 32,
   "id": "60cd4d48",
   "metadata": {
    "execution": {
     "iopub.execute_input": "2022-10-29T09:16:44.135521Z",
     "iopub.status.busy": "2022-10-29T09:16:44.135222Z",
     "iopub.status.idle": "2022-10-29T09:16:44.141844Z",
     "shell.execute_reply": "2022-10-29T09:16:44.141069Z"
    },
    "papermill": {
     "duration": 0.037093,
     "end_time": "2022-10-29T09:16:44.143910",
     "exception": false,
     "start_time": "2022-10-29T09:16:44.106817",
     "status": "completed"
    },
    "tags": []
   },
   "outputs": [],
   "source": [
    "retail_customers_asc = retail_customers.sort_values('Total').head(10)\n",
    "retail_customers_desc = retail_customers.sort_values('Total', ascending=False).head(10)"
   ]
  },
  {
   "cell_type": "code",
   "execution_count": 33,
   "id": "b104ec29",
   "metadata": {
    "execution": {
     "iopub.execute_input": "2022-10-29T09:16:44.200127Z",
     "iopub.status.busy": "2022-10-29T09:16:44.199833Z",
     "iopub.status.idle": "2022-10-29T09:16:44.209076Z",
     "shell.execute_reply": "2022-10-29T09:16:44.208269Z"
    },
    "papermill": {
     "duration": 0.039018,
     "end_time": "2022-10-29T09:16:44.210965",
     "exception": false,
     "start_time": "2022-10-29T09:16:44.171947",
     "status": "completed"
    },
    "tags": []
   },
   "outputs": [
    {
     "data": {
      "text/html": [
       "<div>\n",
       "<style scoped>\n",
       "    .dataframe tbody tr th:only-of-type {\n",
       "        vertical-align: middle;\n",
       "    }\n",
       "\n",
       "    .dataframe tbody tr th {\n",
       "        vertical-align: top;\n",
       "    }\n",
       "\n",
       "    .dataframe thead th {\n",
       "        text-align: right;\n",
       "    }\n",
       "</style>\n",
       "<table border=\"1\" class=\"dataframe\">\n",
       "  <thead>\n",
       "    <tr style=\"text-align: right;\">\n",
       "      <th></th>\n",
       "      <th>Customer ID</th>\n",
       "      <th>Country</th>\n",
       "      <th>Total</th>\n",
       "    </tr>\n",
       "  </thead>\n",
       "  <tbody>\n",
       "    <tr>\n",
       "      <th>5051</th>\n",
       "      <td>17399</td>\n",
       "      <td>United Kingdom</td>\n",
       "      <td>-25111.09</td>\n",
       "    </tr>\n",
       "    <tr>\n",
       "      <th>580</th>\n",
       "      <td>12918</td>\n",
       "      <td>United Kingdom</td>\n",
       "      <td>-10953.50</td>\n",
       "    </tr>\n",
       "    <tr>\n",
       "      <th>3504</th>\n",
       "      <td>15849</td>\n",
       "      <td>United Kingdom</td>\n",
       "      <td>-5876.34</td>\n",
       "    </tr>\n",
       "    <tr>\n",
       "      <th>3415</th>\n",
       "      <td>15760</td>\n",
       "      <td>Norway</td>\n",
       "      <td>-5795.87</td>\n",
       "    </tr>\n",
       "    <tr>\n",
       "      <th>4633</th>\n",
       "      <td>16981</td>\n",
       "      <td>United Kingdom</td>\n",
       "      <td>-4620.86</td>\n",
       "    </tr>\n",
       "    <tr>\n",
       "      <th>3805</th>\n",
       "      <td>16151</td>\n",
       "      <td>United Kingdom</td>\n",
       "      <td>-4217.59</td>\n",
       "    </tr>\n",
       "    <tr>\n",
       "      <th>1722</th>\n",
       "      <td>14063</td>\n",
       "      <td>United Kingdom</td>\n",
       "      <td>-3767.20</td>\n",
       "    </tr>\n",
       "    <tr>\n",
       "      <th>5672</th>\n",
       "      <td>18023</td>\n",
       "      <td>United Kingdom</td>\n",
       "      <td>-3248.86</td>\n",
       "    </tr>\n",
       "    <tr>\n",
       "      <th>4665</th>\n",
       "      <td>17013</td>\n",
       "      <td>United Kingdom</td>\n",
       "      <td>-3224.76</td>\n",
       "    </tr>\n",
       "    <tr>\n",
       "      <th>2859</th>\n",
       "      <td>15202</td>\n",
       "      <td>United Kingdom</td>\n",
       "      <td>-2570.18</td>\n",
       "    </tr>\n",
       "  </tbody>\n",
       "</table>\n",
       "</div>"
      ],
      "text/plain": [
       "      Customer ID         Country     Total\n",
       "5051        17399  United Kingdom -25111.09\n",
       "580         12918  United Kingdom -10953.50\n",
       "3504        15849  United Kingdom  -5876.34\n",
       "3415        15760          Norway  -5795.87\n",
       "4633        16981  United Kingdom  -4620.86\n",
       "3805        16151  United Kingdom  -4217.59\n",
       "1722        14063  United Kingdom  -3767.20\n",
       "5672        18023  United Kingdom  -3248.86\n",
       "4665        17013  United Kingdom  -3224.76\n",
       "2859        15202  United Kingdom  -2570.18"
      ]
     },
     "execution_count": 33,
     "metadata": {},
     "output_type": "execute_result"
    }
   ],
   "source": [
    "retail_customers_asc "
   ]
  },
  {
   "cell_type": "code",
   "execution_count": 34,
   "id": "0612fbbb",
   "metadata": {
    "execution": {
     "iopub.execute_input": "2022-10-29T09:16:44.267591Z",
     "iopub.status.busy": "2022-10-29T09:16:44.267291Z",
     "iopub.status.idle": "2022-10-29T09:16:44.277019Z",
     "shell.execute_reply": "2022-10-29T09:16:44.276089Z"
    },
    "papermill": {
     "duration": 0.039611,
     "end_time": "2022-10-29T09:16:44.278739",
     "exception": false,
     "start_time": "2022-10-29T09:16:44.239128",
     "status": "completed"
    },
    "tags": []
   },
   "outputs": [
    {
     "data": {
      "text/html": [
       "<div>\n",
       "<style scoped>\n",
       "    .dataframe tbody tr th:only-of-type {\n",
       "        vertical-align: middle;\n",
       "    }\n",
       "\n",
       "    .dataframe tbody tr th {\n",
       "        vertical-align: top;\n",
       "    }\n",
       "\n",
       "    .dataframe thead th {\n",
       "        text-align: right;\n",
       "    }\n",
       "</style>\n",
       "<table border=\"1\" class=\"dataframe\">\n",
       "  <thead>\n",
       "    <tr style=\"text-align: right;\">\n",
       "      <th></th>\n",
       "      <th>Customer ID</th>\n",
       "      <th>Country</th>\n",
       "      <th>Total</th>\n",
       "    </tr>\n",
       "  </thead>\n",
       "  <tbody>\n",
       "    <tr>\n",
       "      <th>5751</th>\n",
       "      <td>18102</td>\n",
       "      <td>United Kingdom</td>\n",
       "      <td>558895.07</td>\n",
       "    </tr>\n",
       "    <tr>\n",
       "      <th>2304</th>\n",
       "      <td>14646</td>\n",
       "      <td>Netherlands</td>\n",
       "      <td>511614.05</td>\n",
       "    </tr>\n",
       "    <tr>\n",
       "      <th>1815</th>\n",
       "      <td>14156</td>\n",
       "      <td>EIRE</td>\n",
       "      <td>296063.44</td>\n",
       "    </tr>\n",
       "    <tr>\n",
       "      <th>2569</th>\n",
       "      <td>14911</td>\n",
       "      <td>EIRE</td>\n",
       "      <td>259455.94</td>\n",
       "    </tr>\n",
       "    <tr>\n",
       "      <th>5102</th>\n",
       "      <td>17450</td>\n",
       "      <td>United Kingdom</td>\n",
       "      <td>231390.55</td>\n",
       "    </tr>\n",
       "    <tr>\n",
       "      <th>1354</th>\n",
       "      <td>13694</td>\n",
       "      <td>United Kingdom</td>\n",
       "      <td>186889.68</td>\n",
       "    </tr>\n",
       "    <tr>\n",
       "      <th>5163</th>\n",
       "      <td>17511</td>\n",
       "      <td>United Kingdom</td>\n",
       "      <td>161112.30</td>\n",
       "    </tr>\n",
       "    <tr>\n",
       "      <th>71</th>\n",
       "      <td>12415</td>\n",
       "      <td>Australia</td>\n",
       "      <td>143269.29</td>\n",
       "    </tr>\n",
       "    <tr>\n",
       "      <th>4336</th>\n",
       "      <td>16684</td>\n",
       "      <td>United Kingdom</td>\n",
       "      <td>136100.27</td>\n",
       "    </tr>\n",
       "    <tr>\n",
       "      <th>2719</th>\n",
       "      <td>15061</td>\n",
       "      <td>United Kingdom</td>\n",
       "      <td>121066.12</td>\n",
       "    </tr>\n",
       "  </tbody>\n",
       "</table>\n",
       "</div>"
      ],
      "text/plain": [
       "      Customer ID         Country      Total\n",
       "5751        18102  United Kingdom  558895.07\n",
       "2304        14646     Netherlands  511614.05\n",
       "1815        14156            EIRE  296063.44\n",
       "2569        14911            EIRE  259455.94\n",
       "5102        17450  United Kingdom  231390.55\n",
       "1354        13694  United Kingdom  186889.68\n",
       "5163        17511  United Kingdom  161112.30\n",
       "71          12415       Australia  143269.29\n",
       "4336        16684  United Kingdom  136100.27\n",
       "2719        15061  United Kingdom  121066.12"
      ]
     },
     "execution_count": 34,
     "metadata": {},
     "output_type": "execute_result"
    }
   ],
   "source": [
    "retail_customers_desc"
   ]
  },
  {
   "cell_type": "code",
   "execution_count": 35,
   "id": "03a8a7ca",
   "metadata": {
    "execution": {
     "iopub.execute_input": "2022-10-29T09:16:44.334648Z",
     "iopub.status.busy": "2022-10-29T09:16:44.334363Z",
     "iopub.status.idle": "2022-10-29T09:16:44.441598Z",
     "shell.execute_reply": "2022-10-29T09:16:44.440764Z"
    },
    "papermill": {
     "duration": 0.137389,
     "end_time": "2022-10-29T09:16:44.443377",
     "exception": false,
     "start_time": "2022-10-29T09:16:44.305988",
     "status": "completed"
    },
    "tags": []
   },
   "outputs": [
    {
     "data": {
      "text/html": [
       "        <script type=\"text/javascript\">\n",
       "        window.PlotlyConfig = {MathJaxConfig: 'local'};\n",
       "        if (window.MathJax && window.MathJax.Hub && window.MathJax.Hub.Config) {window.MathJax.Hub.Config({SVG: {font: \"STIX-Web\"}});}\n",
       "        if (typeof require !== 'undefined') {\n",
       "        require.undef(\"plotly\");\n",
       "        requirejs.config({\n",
       "            paths: {\n",
       "                'plotly': ['https://cdn.plot.ly/plotly-2.14.0.min']\n",
       "            }\n",
       "        });\n",
       "        require(['plotly'], function(Plotly) {\n",
       "            window._Plotly = Plotly;\n",
       "        });\n",
       "        }\n",
       "        </script>\n",
       "        "
      ]
     },
     "metadata": {},
     "output_type": "display_data"
    },
    {
     "data": {
      "text/html": [
       "<div>                            <div id=\"c495fee5-197a-4eb9-b7c6-7c33b2fc6a7a\" class=\"plotly-graph-div\" style=\"height:525px; width:100%;\"></div>            <script type=\"text/javascript\">                require([\"plotly\"], function(Plotly) {                    window.PLOTLYENV=window.PLOTLYENV || {};                                    if (document.getElementById(\"c495fee5-197a-4eb9-b7c6-7c33b2fc6a7a\")) {                    Plotly.newPlot(                        \"c495fee5-197a-4eb9-b7c6-7c33b2fc6a7a\",                        [{\"hovertext\":[\"United Kingdom\",\"Netherlands\",\"EIRE\",\"EIRE\",\"United Kingdom\",\"United Kingdom\",\"United Kingdom\",\"Australia\",\"United Kingdom\",\"United Kingdom\"],\"marker\":{\"color\":[558895.07,511614.05,296063.44,259455.94,231390.55,186889.68,161112.3,143269.29,136100.27,121066.12],\"colorscale\":[[0.0,\"rgb(150,0,90)\"],[0.125,\"rgb(0,0,200)\"],[0.25,\"rgb(0,25,255)\"],[0.375,\"rgb(0,152,255)\"],[0.5,\"rgb(44,255,150)\"],[0.625,\"rgb(151,255,0)\"],[0.75,\"rgb(255,234,0)\"],[0.875,\"rgb(255,111,0)\"],[1.0,\"rgb(255,0,0)\"]],\"opacity\":1},\"name\":\"Customers With Max Total Purchase Amount\",\"x\":[\"18102\",\"14646\",\"14156\",\"14911\",\"17450\",\"13694\",\"17511\",\"12415\",\"16684\",\"15061\"],\"y\":[558895.07,511614.05,296063.44,259455.94,231390.55,186889.68,161112.3,143269.29,136100.27,121066.12],\"type\":\"bar\",\"textposition\":\"inside\",\"texttemplate\":\"£%{y:.3s}\"}],                        {\"template\":{\"data\":{\"histogram2dcontour\":[{\"type\":\"histogram2dcontour\",\"colorbar\":{\"outlinewidth\":0,\"ticks\":\"\"},\"colorscale\":[[0.0,\"#0d0887\"],[0.1111111111111111,\"#46039f\"],[0.2222222222222222,\"#7201a8\"],[0.3333333333333333,\"#9c179e\"],[0.4444444444444444,\"#bd3786\"],[0.5555555555555556,\"#d8576b\"],[0.6666666666666666,\"#ed7953\"],[0.7777777777777778,\"#fb9f3a\"],[0.8888888888888888,\"#fdca26\"],[1.0,\"#f0f921\"]]}],\"choropleth\":[{\"type\":\"choropleth\",\"colorbar\":{\"outlinewidth\":0,\"ticks\":\"\"}}],\"histogram2d\":[{\"type\":\"histogram2d\",\"colorbar\":{\"outlinewidth\":0,\"ticks\":\"\"},\"colorscale\":[[0.0,\"#0d0887\"],[0.1111111111111111,\"#46039f\"],[0.2222222222222222,\"#7201a8\"],[0.3333333333333333,\"#9c179e\"],[0.4444444444444444,\"#bd3786\"],[0.5555555555555556,\"#d8576b\"],[0.6666666666666666,\"#ed7953\"],[0.7777777777777778,\"#fb9f3a\"],[0.8888888888888888,\"#fdca26\"],[1.0,\"#f0f921\"]]}],\"heatmap\":[{\"type\":\"heatmap\",\"colorbar\":{\"outlinewidth\":0,\"ticks\":\"\"},\"colorscale\":[[0.0,\"#0d0887\"],[0.1111111111111111,\"#46039f\"],[0.2222222222222222,\"#7201a8\"],[0.3333333333333333,\"#9c179e\"],[0.4444444444444444,\"#bd3786\"],[0.5555555555555556,\"#d8576b\"],[0.6666666666666666,\"#ed7953\"],[0.7777777777777778,\"#fb9f3a\"],[0.8888888888888888,\"#fdca26\"],[1.0,\"#f0f921\"]]}],\"heatmapgl\":[{\"type\":\"heatmapgl\",\"colorbar\":{\"outlinewidth\":0,\"ticks\":\"\"},\"colorscale\":[[0.0,\"#0d0887\"],[0.1111111111111111,\"#46039f\"],[0.2222222222222222,\"#7201a8\"],[0.3333333333333333,\"#9c179e\"],[0.4444444444444444,\"#bd3786\"],[0.5555555555555556,\"#d8576b\"],[0.6666666666666666,\"#ed7953\"],[0.7777777777777778,\"#fb9f3a\"],[0.8888888888888888,\"#fdca26\"],[1.0,\"#f0f921\"]]}],\"contourcarpet\":[{\"type\":\"contourcarpet\",\"colorbar\":{\"outlinewidth\":0,\"ticks\":\"\"}}],\"contour\":[{\"type\":\"contour\",\"colorbar\":{\"outlinewidth\":0,\"ticks\":\"\"},\"colorscale\":[[0.0,\"#0d0887\"],[0.1111111111111111,\"#46039f\"],[0.2222222222222222,\"#7201a8\"],[0.3333333333333333,\"#9c179e\"],[0.4444444444444444,\"#bd3786\"],[0.5555555555555556,\"#d8576b\"],[0.6666666666666666,\"#ed7953\"],[0.7777777777777778,\"#fb9f3a\"],[0.8888888888888888,\"#fdca26\"],[1.0,\"#f0f921\"]]}],\"surface\":[{\"type\":\"surface\",\"colorbar\":{\"outlinewidth\":0,\"ticks\":\"\"},\"colorscale\":[[0.0,\"#0d0887\"],[0.1111111111111111,\"#46039f\"],[0.2222222222222222,\"#7201a8\"],[0.3333333333333333,\"#9c179e\"],[0.4444444444444444,\"#bd3786\"],[0.5555555555555556,\"#d8576b\"],[0.6666666666666666,\"#ed7953\"],[0.7777777777777778,\"#fb9f3a\"],[0.8888888888888888,\"#fdca26\"],[1.0,\"#f0f921\"]]}],\"mesh3d\":[{\"type\":\"mesh3d\",\"colorbar\":{\"outlinewidth\":0,\"ticks\":\"\"}}],\"scatter\":[{\"fillpattern\":{\"fillmode\":\"overlay\",\"size\":10,\"solidity\":0.2},\"type\":\"scatter\"}],\"parcoords\":[{\"type\":\"parcoords\",\"line\":{\"colorbar\":{\"outlinewidth\":0,\"ticks\":\"\"}}}],\"scatterpolargl\":[{\"type\":\"scatterpolargl\",\"marker\":{\"colorbar\":{\"outlinewidth\":0,\"ticks\":\"\"}}}],\"bar\":[{\"error_x\":{\"color\":\"#2a3f5f\"},\"error_y\":{\"color\":\"#2a3f5f\"},\"marker\":{\"line\":{\"color\":\"#E5ECF6\",\"width\":0.5},\"pattern\":{\"fillmode\":\"overlay\",\"size\":10,\"solidity\":0.2}},\"type\":\"bar\"}],\"scattergeo\":[{\"type\":\"scattergeo\",\"marker\":{\"colorbar\":{\"outlinewidth\":0,\"ticks\":\"\"}}}],\"scatterpolar\":[{\"type\":\"scatterpolar\",\"marker\":{\"colorbar\":{\"outlinewidth\":0,\"ticks\":\"\"}}}],\"histogram\":[{\"marker\":{\"pattern\":{\"fillmode\":\"overlay\",\"size\":10,\"solidity\":0.2}},\"type\":\"histogram\"}],\"scattergl\":[{\"type\":\"scattergl\",\"marker\":{\"colorbar\":{\"outlinewidth\":0,\"ticks\":\"\"}}}],\"scatter3d\":[{\"type\":\"scatter3d\",\"line\":{\"colorbar\":{\"outlinewidth\":0,\"ticks\":\"\"}},\"marker\":{\"colorbar\":{\"outlinewidth\":0,\"ticks\":\"\"}}}],\"scattermapbox\":[{\"type\":\"scattermapbox\",\"marker\":{\"colorbar\":{\"outlinewidth\":0,\"ticks\":\"\"}}}],\"scatterternary\":[{\"type\":\"scatterternary\",\"marker\":{\"colorbar\":{\"outlinewidth\":0,\"ticks\":\"\"}}}],\"scattercarpet\":[{\"type\":\"scattercarpet\",\"marker\":{\"colorbar\":{\"outlinewidth\":0,\"ticks\":\"\"}}}],\"carpet\":[{\"aaxis\":{\"endlinecolor\":\"#2a3f5f\",\"gridcolor\":\"white\",\"linecolor\":\"white\",\"minorgridcolor\":\"white\",\"startlinecolor\":\"#2a3f5f\"},\"baxis\":{\"endlinecolor\":\"#2a3f5f\",\"gridcolor\":\"white\",\"linecolor\":\"white\",\"minorgridcolor\":\"white\",\"startlinecolor\":\"#2a3f5f\"},\"type\":\"carpet\"}],\"table\":[{\"cells\":{\"fill\":{\"color\":\"#EBF0F8\"},\"line\":{\"color\":\"white\"}},\"header\":{\"fill\":{\"color\":\"#C8D4E3\"},\"line\":{\"color\":\"white\"}},\"type\":\"table\"}],\"barpolar\":[{\"marker\":{\"line\":{\"color\":\"#E5ECF6\",\"width\":0.5},\"pattern\":{\"fillmode\":\"overlay\",\"size\":10,\"solidity\":0.2}},\"type\":\"barpolar\"}],\"pie\":[{\"automargin\":true,\"type\":\"pie\"}]},\"layout\":{\"autotypenumbers\":\"strict\",\"colorway\":[\"#636efa\",\"#EF553B\",\"#00cc96\",\"#ab63fa\",\"#FFA15A\",\"#19d3f3\",\"#FF6692\",\"#B6E880\",\"#FF97FF\",\"#FECB52\"],\"font\":{\"color\":\"#2a3f5f\"},\"hovermode\":\"closest\",\"hoverlabel\":{\"align\":\"left\"},\"paper_bgcolor\":\"white\",\"plot_bgcolor\":\"#E5ECF6\",\"polar\":{\"bgcolor\":\"#E5ECF6\",\"angularaxis\":{\"gridcolor\":\"white\",\"linecolor\":\"white\",\"ticks\":\"\"},\"radialaxis\":{\"gridcolor\":\"white\",\"linecolor\":\"white\",\"ticks\":\"\"}},\"ternary\":{\"bgcolor\":\"#E5ECF6\",\"aaxis\":{\"gridcolor\":\"white\",\"linecolor\":\"white\",\"ticks\":\"\"},\"baxis\":{\"gridcolor\":\"white\",\"linecolor\":\"white\",\"ticks\":\"\"},\"caxis\":{\"gridcolor\":\"white\",\"linecolor\":\"white\",\"ticks\":\"\"}},\"coloraxis\":{\"colorbar\":{\"outlinewidth\":0,\"ticks\":\"\"}},\"colorscale\":{\"sequential\":[[0.0,\"#0d0887\"],[0.1111111111111111,\"#46039f\"],[0.2222222222222222,\"#7201a8\"],[0.3333333333333333,\"#9c179e\"],[0.4444444444444444,\"#bd3786\"],[0.5555555555555556,\"#d8576b\"],[0.6666666666666666,\"#ed7953\"],[0.7777777777777778,\"#fb9f3a\"],[0.8888888888888888,\"#fdca26\"],[1.0,\"#f0f921\"]],\"sequentialminus\":[[0.0,\"#0d0887\"],[0.1111111111111111,\"#46039f\"],[0.2222222222222222,\"#7201a8\"],[0.3333333333333333,\"#9c179e\"],[0.4444444444444444,\"#bd3786\"],[0.5555555555555556,\"#d8576b\"],[0.6666666666666666,\"#ed7953\"],[0.7777777777777778,\"#fb9f3a\"],[0.8888888888888888,\"#fdca26\"],[1.0,\"#f0f921\"]],\"diverging\":[[0,\"#8e0152\"],[0.1,\"#c51b7d\"],[0.2,\"#de77ae\"],[0.3,\"#f1b6da\"],[0.4,\"#fde0ef\"],[0.5,\"#f7f7f7\"],[0.6,\"#e6f5d0\"],[0.7,\"#b8e186\"],[0.8,\"#7fbc41\"],[0.9,\"#4d9221\"],[1,\"#276419\"]]},\"xaxis\":{\"gridcolor\":\"white\",\"linecolor\":\"white\",\"ticks\":\"\",\"title\":{\"standoff\":15},\"zerolinecolor\":\"white\",\"automargin\":true,\"zerolinewidth\":2},\"yaxis\":{\"gridcolor\":\"white\",\"linecolor\":\"white\",\"ticks\":\"\",\"title\":{\"standoff\":15},\"zerolinecolor\":\"white\",\"automargin\":true,\"zerolinewidth\":2},\"scene\":{\"xaxis\":{\"backgroundcolor\":\"#E5ECF6\",\"gridcolor\":\"white\",\"linecolor\":\"white\",\"showbackground\":true,\"ticks\":\"\",\"zerolinecolor\":\"white\",\"gridwidth\":2},\"yaxis\":{\"backgroundcolor\":\"#E5ECF6\",\"gridcolor\":\"white\",\"linecolor\":\"white\",\"showbackground\":true,\"ticks\":\"\",\"zerolinecolor\":\"white\",\"gridwidth\":2},\"zaxis\":{\"backgroundcolor\":\"#E5ECF6\",\"gridcolor\":\"white\",\"linecolor\":\"white\",\"showbackground\":true,\"ticks\":\"\",\"zerolinecolor\":\"white\",\"gridwidth\":2}},\"shapedefaults\":{\"line\":{\"color\":\"#2a3f5f\"}},\"annotationdefaults\":{\"arrowcolor\":\"#2a3f5f\",\"arrowhead\":0,\"arrowwidth\":1},\"geo\":{\"bgcolor\":\"white\",\"landcolor\":\"#E5ECF6\",\"subunitcolor\":\"white\",\"showland\":true,\"showlakes\":true,\"lakecolor\":\"white\"},\"title\":{\"x\":0.05},\"mapbox\":{\"style\":\"light\"}}},\"title\":{\"text\":\"Customers With Max Total Purchase Amount\",\"x\":0.45},\"xaxis\":{\"title\":{\"text\":\"Customer ID\"}},\"yaxis\":{\"title\":{\"text\":\"Total Amount, £\"}},\"plot_bgcolor\":\"white\"},                        {\"responsive\": true}                    ).then(function(){\n",
       "                            \n",
       "var gd = document.getElementById('c495fee5-197a-4eb9-b7c6-7c33b2fc6a7a');\n",
       "var x = new MutationObserver(function (mutations, observer) {{\n",
       "        var display = window.getComputedStyle(gd).display;\n",
       "        if (!display || display === 'none') {{\n",
       "            console.log([gd, 'removed!']);\n",
       "            Plotly.purge(gd);\n",
       "            observer.disconnect();\n",
       "        }}\n",
       "}});\n",
       "\n",
       "// Listen for the removal of the full notebook cells\n",
       "var notebookContainer = gd.closest('#notebook-container');\n",
       "if (notebookContainer) {{\n",
       "    x.observe(notebookContainer, {childList: true});\n",
       "}}\n",
       "\n",
       "// Listen for the clearing of the current output cell\n",
       "var outputEl = gd.closest('.output');\n",
       "if (outputEl) {{\n",
       "    x.observe(outputEl, {childList: true});\n",
       "}}\n",
       "\n",
       "                        })                };                });            </script>        </div>"
      ]
     },
     "metadata": {},
     "output_type": "display_data"
    }
   ],
   "source": [
    "fig = go.Figure(data=[\n",
    "    go.Bar(name='Customers With Max Total Purchase Amount', \n",
    "           x=retail_customers_desc['Customer ID'].astype(str), \n",
    "           y=retail_customers_desc['Total'],\n",
    "           marker_opacity=1,\n",
    "           hovertext=retail_customers_desc['Country'],\n",
    "           marker={'color': retail_customers_desc['Total'],\n",
    "                   'colorscale': 'Rainbow'})\n",
    "    ])\n",
    "\n",
    "fig.update_traces(texttemplate='£%{y:.3s}', textposition='inside')\n",
    "\n",
    "fig.update_layout(title='Customers With Max Total Purchase Amount',\n",
    "                  title_x=0.45,\n",
    "                  xaxis_title=\"Customer ID\",\n",
    "                  yaxis_title=\"Total Amount, £\",\n",
    "                  plot_bgcolor='white')\n",
    "fig.show()"
   ]
  },
  {
   "cell_type": "code",
   "execution_count": 36,
   "id": "1b43316d",
   "metadata": {
    "execution": {
     "iopub.execute_input": "2022-10-29T09:16:44.500870Z",
     "iopub.status.busy": "2022-10-29T09:16:44.499913Z",
     "iopub.status.idle": "2022-10-29T09:16:44.519652Z",
     "shell.execute_reply": "2022-10-29T09:16:44.519081Z"
    },
    "papermill": {
     "duration": 0.0495,
     "end_time": "2022-10-29T09:16:44.521121",
     "exception": false,
     "start_time": "2022-10-29T09:16:44.471621",
     "status": "completed"
    },
    "tags": []
   },
   "outputs": [
    {
     "data": {
      "text/html": [
       "<div>                            <div id=\"5eb8e3de-40f1-4282-af4d-b2243a36b779\" class=\"plotly-graph-div\" style=\"height:525px; width:100%;\"></div>            <script type=\"text/javascript\">                require([\"plotly\"], function(Plotly) {                    window.PLOTLYENV=window.PLOTLYENV || {};                                    if (document.getElementById(\"5eb8e3de-40f1-4282-af4d-b2243a36b779\")) {                    Plotly.newPlot(                        \"5eb8e3de-40f1-4282-af4d-b2243a36b779\",                        [{\"hovertext\":[\"United Kingdom\",\"Netherlands\",\"EIRE\",\"EIRE\",\"United Kingdom\",\"United Kingdom\",\"United Kingdom\",\"Australia\",\"United Kingdom\",\"United Kingdom\"],\"marker\":{\"color\":[558895.07,511614.05,296063.44,259455.94,231390.55,186889.68,161112.3,143269.29,136100.27,121066.12],\"colorscale\":[[0.0,\"rgb(150,0,90)\"],[0.125,\"rgb(0,0,200)\"],[0.25,\"rgb(0,25,255)\"],[0.375,\"rgb(0,152,255)\"],[0.5,\"rgb(44,255,150)\"],[0.625,\"rgb(151,255,0)\"],[0.75,\"rgb(255,234,0)\"],[0.875,\"rgb(255,111,0)\"],[1.0,\"rgb(255,0,0)\"]],\"opacity\":1},\"name\":\"Customers With Min Total Purchase Amount\",\"x\":[\"17399\",\"12918\",\"15849\",\"15760\",\"16981\",\"16151\",\"14063\",\"18023\",\"17013\",\"15202\"],\"y\":[-25111.09,-10953.5,-5876.34,-5795.87,-4620.86,-4217.59,-3767.2000000000003,-3248.86,-3224.76,-2570.1800000000003],\"type\":\"bar\",\"textposition\":\"inside\",\"texttemplate\":\"£%{y:.3s}\"}],                        {\"template\":{\"data\":{\"histogram2dcontour\":[{\"type\":\"histogram2dcontour\",\"colorbar\":{\"outlinewidth\":0,\"ticks\":\"\"},\"colorscale\":[[0.0,\"#0d0887\"],[0.1111111111111111,\"#46039f\"],[0.2222222222222222,\"#7201a8\"],[0.3333333333333333,\"#9c179e\"],[0.4444444444444444,\"#bd3786\"],[0.5555555555555556,\"#d8576b\"],[0.6666666666666666,\"#ed7953\"],[0.7777777777777778,\"#fb9f3a\"],[0.8888888888888888,\"#fdca26\"],[1.0,\"#f0f921\"]]}],\"choropleth\":[{\"type\":\"choropleth\",\"colorbar\":{\"outlinewidth\":0,\"ticks\":\"\"}}],\"histogram2d\":[{\"type\":\"histogram2d\",\"colorbar\":{\"outlinewidth\":0,\"ticks\":\"\"},\"colorscale\":[[0.0,\"#0d0887\"],[0.1111111111111111,\"#46039f\"],[0.2222222222222222,\"#7201a8\"],[0.3333333333333333,\"#9c179e\"],[0.4444444444444444,\"#bd3786\"],[0.5555555555555556,\"#d8576b\"],[0.6666666666666666,\"#ed7953\"],[0.7777777777777778,\"#fb9f3a\"],[0.8888888888888888,\"#fdca26\"],[1.0,\"#f0f921\"]]}],\"heatmap\":[{\"type\":\"heatmap\",\"colorbar\":{\"outlinewidth\":0,\"ticks\":\"\"},\"colorscale\":[[0.0,\"#0d0887\"],[0.1111111111111111,\"#46039f\"],[0.2222222222222222,\"#7201a8\"],[0.3333333333333333,\"#9c179e\"],[0.4444444444444444,\"#bd3786\"],[0.5555555555555556,\"#d8576b\"],[0.6666666666666666,\"#ed7953\"],[0.7777777777777778,\"#fb9f3a\"],[0.8888888888888888,\"#fdca26\"],[1.0,\"#f0f921\"]]}],\"heatmapgl\":[{\"type\":\"heatmapgl\",\"colorbar\":{\"outlinewidth\":0,\"ticks\":\"\"},\"colorscale\":[[0.0,\"#0d0887\"],[0.1111111111111111,\"#46039f\"],[0.2222222222222222,\"#7201a8\"],[0.3333333333333333,\"#9c179e\"],[0.4444444444444444,\"#bd3786\"],[0.5555555555555556,\"#d8576b\"],[0.6666666666666666,\"#ed7953\"],[0.7777777777777778,\"#fb9f3a\"],[0.8888888888888888,\"#fdca26\"],[1.0,\"#f0f921\"]]}],\"contourcarpet\":[{\"type\":\"contourcarpet\",\"colorbar\":{\"outlinewidth\":0,\"ticks\":\"\"}}],\"contour\":[{\"type\":\"contour\",\"colorbar\":{\"outlinewidth\":0,\"ticks\":\"\"},\"colorscale\":[[0.0,\"#0d0887\"],[0.1111111111111111,\"#46039f\"],[0.2222222222222222,\"#7201a8\"],[0.3333333333333333,\"#9c179e\"],[0.4444444444444444,\"#bd3786\"],[0.5555555555555556,\"#d8576b\"],[0.6666666666666666,\"#ed7953\"],[0.7777777777777778,\"#fb9f3a\"],[0.8888888888888888,\"#fdca26\"],[1.0,\"#f0f921\"]]}],\"surface\":[{\"type\":\"surface\",\"colorbar\":{\"outlinewidth\":0,\"ticks\":\"\"},\"colorscale\":[[0.0,\"#0d0887\"],[0.1111111111111111,\"#46039f\"],[0.2222222222222222,\"#7201a8\"],[0.3333333333333333,\"#9c179e\"],[0.4444444444444444,\"#bd3786\"],[0.5555555555555556,\"#d8576b\"],[0.6666666666666666,\"#ed7953\"],[0.7777777777777778,\"#fb9f3a\"],[0.8888888888888888,\"#fdca26\"],[1.0,\"#f0f921\"]]}],\"mesh3d\":[{\"type\":\"mesh3d\",\"colorbar\":{\"outlinewidth\":0,\"ticks\":\"\"}}],\"scatter\":[{\"fillpattern\":{\"fillmode\":\"overlay\",\"size\":10,\"solidity\":0.2},\"type\":\"scatter\"}],\"parcoords\":[{\"type\":\"parcoords\",\"line\":{\"colorbar\":{\"outlinewidth\":0,\"ticks\":\"\"}}}],\"scatterpolargl\":[{\"type\":\"scatterpolargl\",\"marker\":{\"colorbar\":{\"outlinewidth\":0,\"ticks\":\"\"}}}],\"bar\":[{\"error_x\":{\"color\":\"#2a3f5f\"},\"error_y\":{\"color\":\"#2a3f5f\"},\"marker\":{\"line\":{\"color\":\"#E5ECF6\",\"width\":0.5},\"pattern\":{\"fillmode\":\"overlay\",\"size\":10,\"solidity\":0.2}},\"type\":\"bar\"}],\"scattergeo\":[{\"type\":\"scattergeo\",\"marker\":{\"colorbar\":{\"outlinewidth\":0,\"ticks\":\"\"}}}],\"scatterpolar\":[{\"type\":\"scatterpolar\",\"marker\":{\"colorbar\":{\"outlinewidth\":0,\"ticks\":\"\"}}}],\"histogram\":[{\"marker\":{\"pattern\":{\"fillmode\":\"overlay\",\"size\":10,\"solidity\":0.2}},\"type\":\"histogram\"}],\"scattergl\":[{\"type\":\"scattergl\",\"marker\":{\"colorbar\":{\"outlinewidth\":0,\"ticks\":\"\"}}}],\"scatter3d\":[{\"type\":\"scatter3d\",\"line\":{\"colorbar\":{\"outlinewidth\":0,\"ticks\":\"\"}},\"marker\":{\"colorbar\":{\"outlinewidth\":0,\"ticks\":\"\"}}}],\"scattermapbox\":[{\"type\":\"scattermapbox\",\"marker\":{\"colorbar\":{\"outlinewidth\":0,\"ticks\":\"\"}}}],\"scatterternary\":[{\"type\":\"scatterternary\",\"marker\":{\"colorbar\":{\"outlinewidth\":0,\"ticks\":\"\"}}}],\"scattercarpet\":[{\"type\":\"scattercarpet\",\"marker\":{\"colorbar\":{\"outlinewidth\":0,\"ticks\":\"\"}}}],\"carpet\":[{\"aaxis\":{\"endlinecolor\":\"#2a3f5f\",\"gridcolor\":\"white\",\"linecolor\":\"white\",\"minorgridcolor\":\"white\",\"startlinecolor\":\"#2a3f5f\"},\"baxis\":{\"endlinecolor\":\"#2a3f5f\",\"gridcolor\":\"white\",\"linecolor\":\"white\",\"minorgridcolor\":\"white\",\"startlinecolor\":\"#2a3f5f\"},\"type\":\"carpet\"}],\"table\":[{\"cells\":{\"fill\":{\"color\":\"#EBF0F8\"},\"line\":{\"color\":\"white\"}},\"header\":{\"fill\":{\"color\":\"#C8D4E3\"},\"line\":{\"color\":\"white\"}},\"type\":\"table\"}],\"barpolar\":[{\"marker\":{\"line\":{\"color\":\"#E5ECF6\",\"width\":0.5},\"pattern\":{\"fillmode\":\"overlay\",\"size\":10,\"solidity\":0.2}},\"type\":\"barpolar\"}],\"pie\":[{\"automargin\":true,\"type\":\"pie\"}]},\"layout\":{\"autotypenumbers\":\"strict\",\"colorway\":[\"#636efa\",\"#EF553B\",\"#00cc96\",\"#ab63fa\",\"#FFA15A\",\"#19d3f3\",\"#FF6692\",\"#B6E880\",\"#FF97FF\",\"#FECB52\"],\"font\":{\"color\":\"#2a3f5f\"},\"hovermode\":\"closest\",\"hoverlabel\":{\"align\":\"left\"},\"paper_bgcolor\":\"white\",\"plot_bgcolor\":\"#E5ECF6\",\"polar\":{\"bgcolor\":\"#E5ECF6\",\"angularaxis\":{\"gridcolor\":\"white\",\"linecolor\":\"white\",\"ticks\":\"\"},\"radialaxis\":{\"gridcolor\":\"white\",\"linecolor\":\"white\",\"ticks\":\"\"}},\"ternary\":{\"bgcolor\":\"#E5ECF6\",\"aaxis\":{\"gridcolor\":\"white\",\"linecolor\":\"white\",\"ticks\":\"\"},\"baxis\":{\"gridcolor\":\"white\",\"linecolor\":\"white\",\"ticks\":\"\"},\"caxis\":{\"gridcolor\":\"white\",\"linecolor\":\"white\",\"ticks\":\"\"}},\"coloraxis\":{\"colorbar\":{\"outlinewidth\":0,\"ticks\":\"\"}},\"colorscale\":{\"sequential\":[[0.0,\"#0d0887\"],[0.1111111111111111,\"#46039f\"],[0.2222222222222222,\"#7201a8\"],[0.3333333333333333,\"#9c179e\"],[0.4444444444444444,\"#bd3786\"],[0.5555555555555556,\"#d8576b\"],[0.6666666666666666,\"#ed7953\"],[0.7777777777777778,\"#fb9f3a\"],[0.8888888888888888,\"#fdca26\"],[1.0,\"#f0f921\"]],\"sequentialminus\":[[0.0,\"#0d0887\"],[0.1111111111111111,\"#46039f\"],[0.2222222222222222,\"#7201a8\"],[0.3333333333333333,\"#9c179e\"],[0.4444444444444444,\"#bd3786\"],[0.5555555555555556,\"#d8576b\"],[0.6666666666666666,\"#ed7953\"],[0.7777777777777778,\"#fb9f3a\"],[0.8888888888888888,\"#fdca26\"],[1.0,\"#f0f921\"]],\"diverging\":[[0,\"#8e0152\"],[0.1,\"#c51b7d\"],[0.2,\"#de77ae\"],[0.3,\"#f1b6da\"],[0.4,\"#fde0ef\"],[0.5,\"#f7f7f7\"],[0.6,\"#e6f5d0\"],[0.7,\"#b8e186\"],[0.8,\"#7fbc41\"],[0.9,\"#4d9221\"],[1,\"#276419\"]]},\"xaxis\":{\"gridcolor\":\"white\",\"linecolor\":\"white\",\"ticks\":\"\",\"title\":{\"standoff\":15},\"zerolinecolor\":\"white\",\"automargin\":true,\"zerolinewidth\":2},\"yaxis\":{\"gridcolor\":\"white\",\"linecolor\":\"white\",\"ticks\":\"\",\"title\":{\"standoff\":15},\"zerolinecolor\":\"white\",\"automargin\":true,\"zerolinewidth\":2},\"scene\":{\"xaxis\":{\"backgroundcolor\":\"#E5ECF6\",\"gridcolor\":\"white\",\"linecolor\":\"white\",\"showbackground\":true,\"ticks\":\"\",\"zerolinecolor\":\"white\",\"gridwidth\":2},\"yaxis\":{\"backgroundcolor\":\"#E5ECF6\",\"gridcolor\":\"white\",\"linecolor\":\"white\",\"showbackground\":true,\"ticks\":\"\",\"zerolinecolor\":\"white\",\"gridwidth\":2},\"zaxis\":{\"backgroundcolor\":\"#E5ECF6\",\"gridcolor\":\"white\",\"linecolor\":\"white\",\"showbackground\":true,\"ticks\":\"\",\"zerolinecolor\":\"white\",\"gridwidth\":2}},\"shapedefaults\":{\"line\":{\"color\":\"#2a3f5f\"}},\"annotationdefaults\":{\"arrowcolor\":\"#2a3f5f\",\"arrowhead\":0,\"arrowwidth\":1},\"geo\":{\"bgcolor\":\"white\",\"landcolor\":\"#E5ECF6\",\"subunitcolor\":\"white\",\"showland\":true,\"showlakes\":true,\"lakecolor\":\"white\"},\"title\":{\"x\":0.05},\"mapbox\":{\"style\":\"light\"}}},\"xaxis\":{\"side\":\"top\",\"title\":{\"text\":\"Customer ID\"}},\"title\":{\"text\":\"Customers With Min Total Purchase Amount\",\"x\":0.45,\"y\":0.97},\"yaxis\":{\"title\":{\"text\":\"Total Amount Returned, £\"}},\"plot_bgcolor\":\"white\"},                        {\"responsive\": true}                    ).then(function(){\n",
       "                            \n",
       "var gd = document.getElementById('5eb8e3de-40f1-4282-af4d-b2243a36b779');\n",
       "var x = new MutationObserver(function (mutations, observer) {{\n",
       "        var display = window.getComputedStyle(gd).display;\n",
       "        if (!display || display === 'none') {{\n",
       "            console.log([gd, 'removed!']);\n",
       "            Plotly.purge(gd);\n",
       "            observer.disconnect();\n",
       "        }}\n",
       "}});\n",
       "\n",
       "// Listen for the removal of the full notebook cells\n",
       "var notebookContainer = gd.closest('#notebook-container');\n",
       "if (notebookContainer) {{\n",
       "    x.observe(notebookContainer, {childList: true});\n",
       "}}\n",
       "\n",
       "// Listen for the clearing of the current output cell\n",
       "var outputEl = gd.closest('.output');\n",
       "if (outputEl) {{\n",
       "    x.observe(outputEl, {childList: true});\n",
       "}}\n",
       "\n",
       "                        })                };                });            </script>        </div>"
      ]
     },
     "metadata": {},
     "output_type": "display_data"
    }
   ],
   "source": [
    "fig = go.Figure(data=[\n",
    "    go.Bar(name='Customers With Min Total Purchase Amount', \n",
    "           x=retail_customers_asc['Customer ID'].astype(str), \n",
    "           y=retail_customers_asc['Total'],\n",
    "           marker_opacity=1,\n",
    "           hovertext=retail_customers_desc['Country'],\n",
    "           marker={'color': retail_customers_desc['Total'],\n",
    "                   'colorscale': 'Rainbow'}\n",
    "          )\n",
    "    ])\n",
    "fig.update_xaxes(side=\"top\")\n",
    "\n",
    "fig.update_traces(texttemplate='£%{y:.3s}', textposition='inside')\n",
    "\n",
    "fig.update_layout(title='Customers With Min Total Purchase Amount',\n",
    "                  title_x=0.45,\n",
    "                  title_y=0.97,\n",
    "                  xaxis_title=\"Customer ID\",\n",
    "                  yaxis_title=\"Total Amount Returned, £\",\n",
    "                  plot_bgcolor='white')\n",
    "fig.show()"
   ]
  },
  {
   "cell_type": "markdown",
   "id": "f19fb225",
   "metadata": {
    "execution": {
     "iopub.execute_input": "2022-10-29T05:58:11.842928Z",
     "iopub.status.busy": "2022-10-29T05:58:11.841767Z",
     "iopub.status.idle": "2022-10-29T05:58:11.849931Z",
     "shell.execute_reply": "2022-10-29T05:58:11.848466Z",
     "shell.execute_reply.started": "2022-10-29T05:58:11.842881Z"
    },
    "papermill": {
     "duration": 0.027225,
     "end_time": "2022-10-29T09:16:44.575868",
     "exception": false,
     "start_time": "2022-10-29T09:16:44.548643",
     "status": "completed"
    },
    "tags": []
   },
   "source": [
    "**What have we learned from the charts?**\n",
    "\n",
    "**Customer with ID 18102 has spent most money in our online store during two years\n",
    ". He comes from United Kingdom, and has paid in total £598k. Another customer \n",
    "from Netherlands comes close to that number - he has spent £523k. \n",
    "In general the top 10 consists of customers from UK, EIRE, Netherlands and Australia - all countries with mature economies.**\n",
    "\n",
    "**On the chart showing customers who spent the least, we can see only negative \n",
    "numbers. From our dataset alone, it seems that those are returns. The largest \n",
    "total negative sum is £25k, and the customer with this returned amount comes from UK as well. It is curious that in general customers who have largest negative values here come from the same countries as customers who have paid most.**\n",
    "\n",
    "**Countries Analysis: Total Purchase Amount\n",
    "Here, I will find 10 countries, total sum of orders from which was the largest,\n",
    "and also 10 countries, where total purchases were minimal.**"
   ]
  },
  {
   "cell_type": "markdown",
   "id": "d77bede0",
   "metadata": {
    "papermill": {
     "duration": 0.02725,
     "end_time": "2022-10-29T09:16:44.630563",
     "exception": false,
     "start_time": "2022-10-29T09:16:44.603313",
     "status": "completed"
    },
    "tags": []
   },
   "source": [
    "# **Countries Analysis: Total Purchase Amount**"
   ]
  },
  {
   "cell_type": "markdown",
   "id": "a40c26ae",
   "metadata": {
    "papermill": {
     "duration": 0.027465,
     "end_time": "2022-10-29T09:16:44.685432",
     "exception": false,
     "start_time": "2022-10-29T09:16:44.657967",
     "status": "completed"
    },
    "tags": []
   },
   "source": [
    "**I will find 10 countries, total sum of orders from which was the largest, and also 10 countries, where total purchases were minimal.**"
   ]
  },
  {
   "cell_type": "code",
   "execution_count": 37,
   "id": "2bd35cc7",
   "metadata": {
    "execution": {
     "iopub.execute_input": "2022-10-29T09:16:44.742703Z",
     "iopub.status.busy": "2022-10-29T09:16:44.741782Z",
     "iopub.status.idle": "2022-10-29T09:16:44.810172Z",
     "shell.execute_reply": "2022-10-29T09:16:44.809323Z"
    },
    "papermill": {
     "duration": 0.099109,
     "end_time": "2022-10-29T09:16:44.812224",
     "exception": false,
     "start_time": "2022-10-29T09:16:44.713115",
     "status": "completed"
    },
    "tags": []
   },
   "outputs": [],
   "source": [
    "retail_countries_purchase = retail.groupby(['Country'], as_index=False)['Total'].agg('sum')\n",
    "retail_countries_purchase_asc = retail_countries_purchase.sort_values('Total').head(10)\n",
    "retail_countries_purchase_desc = retail_countries_purchase.sort_values('Total', ascending=False).head(10)"
   ]
  },
  {
   "cell_type": "code",
   "execution_count": 38,
   "id": "b93f51ae",
   "metadata": {
    "execution": {
     "iopub.execute_input": "2022-10-29T09:16:44.870725Z",
     "iopub.status.busy": "2022-10-29T09:16:44.870375Z",
     "iopub.status.idle": "2022-10-29T09:16:44.879610Z",
     "shell.execute_reply": "2022-10-29T09:16:44.878725Z"
    },
    "papermill": {
     "duration": 0.041106,
     "end_time": "2022-10-29T09:16:44.881297",
     "exception": false,
     "start_time": "2022-10-29T09:16:44.840191",
     "status": "completed"
    },
    "tags": []
   },
   "outputs": [
    {
     "data": {
      "text/html": [
       "<div>\n",
       "<style scoped>\n",
       "    .dataframe tbody tr th:only-of-type {\n",
       "        vertical-align: middle;\n",
       "    }\n",
       "\n",
       "    .dataframe tbody tr th {\n",
       "        vertical-align: top;\n",
       "    }\n",
       "\n",
       "    .dataframe thead th {\n",
       "        text-align: right;\n",
       "    }\n",
       "</style>\n",
       "<table border=\"1\" class=\"dataframe\">\n",
       "  <thead>\n",
       "    <tr style=\"text-align: right;\">\n",
       "      <th></th>\n",
       "      <th>Country</th>\n",
       "      <th>Total</th>\n",
       "    </tr>\n",
       "  </thead>\n",
       "  <tbody>\n",
       "    <tr>\n",
       "      <th>30</th>\n",
       "      <td>Saudi Arabia</td>\n",
       "      <td>131.17</td>\n",
       "    </tr>\n",
       "    <tr>\n",
       "      <th>25</th>\n",
       "      <td>Nigeria</td>\n",
       "      <td>140.39</td>\n",
       "    </tr>\n",
       "    <tr>\n",
       "      <th>40</th>\n",
       "      <td>West Indies</td>\n",
       "      <td>536.41</td>\n",
       "    </tr>\n",
       "    <tr>\n",
       "      <th>8</th>\n",
       "      <td>Czech Republic</td>\n",
       "      <td>707.72</td>\n",
       "    </tr>\n",
       "    <tr>\n",
       "      <th>20</th>\n",
       "      <td>Korea</td>\n",
       "      <td>949.82</td>\n",
       "    </tr>\n",
       "    <tr>\n",
       "      <th>11</th>\n",
       "      <td>European Community</td>\n",
       "      <td>1291.75</td>\n",
       "    </tr>\n",
       "    <tr>\n",
       "      <th>2</th>\n",
       "      <td>Bahrain</td>\n",
       "      <td>1354.37</td>\n",
       "    </tr>\n",
       "    <tr>\n",
       "      <th>4</th>\n",
       "      <td>Brazil</td>\n",
       "      <td>1411.87</td>\n",
       "    </tr>\n",
       "    <tr>\n",
       "      <th>21</th>\n",
       "      <td>Lebanon</td>\n",
       "      <td>1693.88</td>\n",
       "    </tr>\n",
       "    <tr>\n",
       "      <th>29</th>\n",
       "      <td>RSA</td>\n",
       "      <td>1933.74</td>\n",
       "    </tr>\n",
       "  </tbody>\n",
       "</table>\n",
       "</div>"
      ],
      "text/plain": [
       "               Country    Total\n",
       "30        Saudi Arabia   131.17\n",
       "25             Nigeria   140.39\n",
       "40         West Indies   536.41\n",
       "8       Czech Republic   707.72\n",
       "20               Korea   949.82\n",
       "11  European Community  1291.75\n",
       "2              Bahrain  1354.37\n",
       "4               Brazil  1411.87\n",
       "21             Lebanon  1693.88\n",
       "29                 RSA  1933.74"
      ]
     },
     "execution_count": 38,
     "metadata": {},
     "output_type": "execute_result"
    }
   ],
   "source": [
    "retail_countries_purchase_asc"
   ]
  },
  {
   "cell_type": "code",
   "execution_count": 39,
   "id": "5a75d0f1",
   "metadata": {
    "execution": {
     "iopub.execute_input": "2022-10-29T09:16:44.938158Z",
     "iopub.status.busy": "2022-10-29T09:16:44.937816Z",
     "iopub.status.idle": "2022-10-29T09:16:44.947050Z",
     "shell.execute_reply": "2022-10-29T09:16:44.946260Z"
    },
    "papermill": {
     "duration": 0.039783,
     "end_time": "2022-10-29T09:16:44.948715",
     "exception": false,
     "start_time": "2022-10-29T09:16:44.908932",
     "status": "completed"
    },
    "tags": []
   },
   "outputs": [
    {
     "data": {
      "text/html": [
       "<div>\n",
       "<style scoped>\n",
       "    .dataframe tbody tr th:only-of-type {\n",
       "        vertical-align: middle;\n",
       "    }\n",
       "\n",
       "    .dataframe tbody tr th {\n",
       "        vertical-align: top;\n",
       "    }\n",
       "\n",
       "    .dataframe thead th {\n",
       "        text-align: right;\n",
       "    }\n",
       "</style>\n",
       "<table border=\"1\" class=\"dataframe\">\n",
       "  <thead>\n",
       "    <tr style=\"text-align: right;\">\n",
       "      <th></th>\n",
       "      <th>Country</th>\n",
       "      <th>Total</th>\n",
       "    </tr>\n",
       "  </thead>\n",
       "  <tbody>\n",
       "    <tr>\n",
       "      <th>38</th>\n",
       "      <td>United Kingdom</td>\n",
       "      <td>1.327664e+07</td>\n",
       "    </tr>\n",
       "    <tr>\n",
       "      <th>10</th>\n",
       "      <td>EIRE</td>\n",
       "      <td>5.672078e+05</td>\n",
       "    </tr>\n",
       "    <tr>\n",
       "      <th>24</th>\n",
       "      <td>Netherlands</td>\n",
       "      <td>5.366027e+05</td>\n",
       "    </tr>\n",
       "    <tr>\n",
       "      <th>14</th>\n",
       "      <td>Germany</td>\n",
       "      <td>4.048882e+05</td>\n",
       "    </tr>\n",
       "    <tr>\n",
       "      <th>13</th>\n",
       "      <td>France</td>\n",
       "      <td>3.152812e+05</td>\n",
       "    </tr>\n",
       "    <tr>\n",
       "      <th>0</th>\n",
       "      <td>Australia</td>\n",
       "      <td>1.664444e+05</td>\n",
       "    </tr>\n",
       "    <tr>\n",
       "      <th>34</th>\n",
       "      <td>Switzerland</td>\n",
       "      <td>9.877941e+04</td>\n",
       "    </tr>\n",
       "    <tr>\n",
       "      <th>32</th>\n",
       "      <td>Spain</td>\n",
       "      <td>9.074201e+04</td>\n",
       "    </tr>\n",
       "    <tr>\n",
       "      <th>33</th>\n",
       "      <td>Sweden</td>\n",
       "      <td>8.742152e+04</td>\n",
       "    </tr>\n",
       "    <tr>\n",
       "      <th>9</th>\n",
       "      <td>Denmark</td>\n",
       "      <td>6.429069e+04</td>\n",
       "    </tr>\n",
       "  </tbody>\n",
       "</table>\n",
       "</div>"
      ],
      "text/plain": [
       "           Country         Total\n",
       "38  United Kingdom  1.327664e+07\n",
       "10            EIRE  5.672078e+05\n",
       "24     Netherlands  5.366027e+05\n",
       "14         Germany  4.048882e+05\n",
       "13          France  3.152812e+05\n",
       "0        Australia  1.664444e+05\n",
       "34     Switzerland  9.877941e+04\n",
       "32           Spain  9.074201e+04\n",
       "33          Sweden  8.742152e+04\n",
       "9          Denmark  6.429069e+04"
      ]
     },
     "execution_count": 39,
     "metadata": {},
     "output_type": "execute_result"
    }
   ],
   "source": [
    "retail_countries_purchase_desc"
   ]
  },
  {
   "cell_type": "code",
   "execution_count": 40,
   "id": "d9be3128",
   "metadata": {
    "execution": {
     "iopub.execute_input": "2022-10-29T09:16:45.010180Z",
     "iopub.status.busy": "2022-10-29T09:16:45.009847Z",
     "iopub.status.idle": "2022-10-29T09:16:45.025071Z",
     "shell.execute_reply": "2022-10-29T09:16:45.024164Z"
    },
    "papermill": {
     "duration": 0.048171,
     "end_time": "2022-10-29T09:16:45.027339",
     "exception": false,
     "start_time": "2022-10-29T09:16:44.979168",
     "status": "completed"
    },
    "tags": []
   },
   "outputs": [
    {
     "data": {
      "text/html": [
       "<div>                            <div id=\"773b271e-80d7-45ed-bcb6-ca683feb182a\" class=\"plotly-graph-div\" style=\"height:525px; width:100%;\"></div>            <script type=\"text/javascript\">                require([\"plotly\"], function(Plotly) {                    window.PLOTLYENV=window.PLOTLYENV || {};                                    if (document.getElementById(\"773b271e-80d7-45ed-bcb6-ca683feb182a\")) {                    Plotly.newPlot(                        \"773b271e-80d7-45ed-bcb6-ca683feb182a\",                        [{\"marker\":{\"color\":[13276642.817,567207.79,536602.68,404888.161,315281.18,166444.42,98779.41,90742.01,87421.52,64290.69],\"colorscale\":[[0.0,\"rgb(150,0,90)\"],[0.125,\"rgb(0,0,200)\"],[0.25,\"rgb(0,25,255)\"],[0.375,\"rgb(0,152,255)\"],[0.5,\"rgb(44,255,150)\"],[0.625,\"rgb(151,255,0)\"],[0.75,\"rgb(255,234,0)\"],[0.875,\"rgb(255,111,0)\"],[1.0,\"rgb(255,0,0)\"]],\"opacity\":1},\"name\":\"Countries With Max Total Purchase Amount\",\"x\":[\"United Kingdom\",\"EIRE\",\"Netherlands\",\"Germany\",\"France\",\"Australia\",\"Switzerland\",\"Spain\",\"Sweden\",\"Denmark\"],\"y\":[13276642.817,567207.79,536602.68,404888.161,315281.18,166444.42,98779.41,90742.01,87421.52,64290.69],\"type\":\"bar\",\"textposition\":\"outside\",\"texttemplate\":\"£%{y:.3s}\"}],                        {\"template\":{\"data\":{\"histogram2dcontour\":[{\"type\":\"histogram2dcontour\",\"colorbar\":{\"outlinewidth\":0,\"ticks\":\"\"},\"colorscale\":[[0.0,\"#0d0887\"],[0.1111111111111111,\"#46039f\"],[0.2222222222222222,\"#7201a8\"],[0.3333333333333333,\"#9c179e\"],[0.4444444444444444,\"#bd3786\"],[0.5555555555555556,\"#d8576b\"],[0.6666666666666666,\"#ed7953\"],[0.7777777777777778,\"#fb9f3a\"],[0.8888888888888888,\"#fdca26\"],[1.0,\"#f0f921\"]]}],\"choropleth\":[{\"type\":\"choropleth\",\"colorbar\":{\"outlinewidth\":0,\"ticks\":\"\"}}],\"histogram2d\":[{\"type\":\"histogram2d\",\"colorbar\":{\"outlinewidth\":0,\"ticks\":\"\"},\"colorscale\":[[0.0,\"#0d0887\"],[0.1111111111111111,\"#46039f\"],[0.2222222222222222,\"#7201a8\"],[0.3333333333333333,\"#9c179e\"],[0.4444444444444444,\"#bd3786\"],[0.5555555555555556,\"#d8576b\"],[0.6666666666666666,\"#ed7953\"],[0.7777777777777778,\"#fb9f3a\"],[0.8888888888888888,\"#fdca26\"],[1.0,\"#f0f921\"]]}],\"heatmap\":[{\"type\":\"heatmap\",\"colorbar\":{\"outlinewidth\":0,\"ticks\":\"\"},\"colorscale\":[[0.0,\"#0d0887\"],[0.1111111111111111,\"#46039f\"],[0.2222222222222222,\"#7201a8\"],[0.3333333333333333,\"#9c179e\"],[0.4444444444444444,\"#bd3786\"],[0.5555555555555556,\"#d8576b\"],[0.6666666666666666,\"#ed7953\"],[0.7777777777777778,\"#fb9f3a\"],[0.8888888888888888,\"#fdca26\"],[1.0,\"#f0f921\"]]}],\"heatmapgl\":[{\"type\":\"heatmapgl\",\"colorbar\":{\"outlinewidth\":0,\"ticks\":\"\"},\"colorscale\":[[0.0,\"#0d0887\"],[0.1111111111111111,\"#46039f\"],[0.2222222222222222,\"#7201a8\"],[0.3333333333333333,\"#9c179e\"],[0.4444444444444444,\"#bd3786\"],[0.5555555555555556,\"#d8576b\"],[0.6666666666666666,\"#ed7953\"],[0.7777777777777778,\"#fb9f3a\"],[0.8888888888888888,\"#fdca26\"],[1.0,\"#f0f921\"]]}],\"contourcarpet\":[{\"type\":\"contourcarpet\",\"colorbar\":{\"outlinewidth\":0,\"ticks\":\"\"}}],\"contour\":[{\"type\":\"contour\",\"colorbar\":{\"outlinewidth\":0,\"ticks\":\"\"},\"colorscale\":[[0.0,\"#0d0887\"],[0.1111111111111111,\"#46039f\"],[0.2222222222222222,\"#7201a8\"],[0.3333333333333333,\"#9c179e\"],[0.4444444444444444,\"#bd3786\"],[0.5555555555555556,\"#d8576b\"],[0.6666666666666666,\"#ed7953\"],[0.7777777777777778,\"#fb9f3a\"],[0.8888888888888888,\"#fdca26\"],[1.0,\"#f0f921\"]]}],\"surface\":[{\"type\":\"surface\",\"colorbar\":{\"outlinewidth\":0,\"ticks\":\"\"},\"colorscale\":[[0.0,\"#0d0887\"],[0.1111111111111111,\"#46039f\"],[0.2222222222222222,\"#7201a8\"],[0.3333333333333333,\"#9c179e\"],[0.4444444444444444,\"#bd3786\"],[0.5555555555555556,\"#d8576b\"],[0.6666666666666666,\"#ed7953\"],[0.7777777777777778,\"#fb9f3a\"],[0.8888888888888888,\"#fdca26\"],[1.0,\"#f0f921\"]]}],\"mesh3d\":[{\"type\":\"mesh3d\",\"colorbar\":{\"outlinewidth\":0,\"ticks\":\"\"}}],\"scatter\":[{\"fillpattern\":{\"fillmode\":\"overlay\",\"size\":10,\"solidity\":0.2},\"type\":\"scatter\"}],\"parcoords\":[{\"type\":\"parcoords\",\"line\":{\"colorbar\":{\"outlinewidth\":0,\"ticks\":\"\"}}}],\"scatterpolargl\":[{\"type\":\"scatterpolargl\",\"marker\":{\"colorbar\":{\"outlinewidth\":0,\"ticks\":\"\"}}}],\"bar\":[{\"error_x\":{\"color\":\"#2a3f5f\"},\"error_y\":{\"color\":\"#2a3f5f\"},\"marker\":{\"line\":{\"color\":\"#E5ECF6\",\"width\":0.5},\"pattern\":{\"fillmode\":\"overlay\",\"size\":10,\"solidity\":0.2}},\"type\":\"bar\"}],\"scattergeo\":[{\"type\":\"scattergeo\",\"marker\":{\"colorbar\":{\"outlinewidth\":0,\"ticks\":\"\"}}}],\"scatterpolar\":[{\"type\":\"scatterpolar\",\"marker\":{\"colorbar\":{\"outlinewidth\":0,\"ticks\":\"\"}}}],\"histogram\":[{\"marker\":{\"pattern\":{\"fillmode\":\"overlay\",\"size\":10,\"solidity\":0.2}},\"type\":\"histogram\"}],\"scattergl\":[{\"type\":\"scattergl\",\"marker\":{\"colorbar\":{\"outlinewidth\":0,\"ticks\":\"\"}}}],\"scatter3d\":[{\"type\":\"scatter3d\",\"line\":{\"colorbar\":{\"outlinewidth\":0,\"ticks\":\"\"}},\"marker\":{\"colorbar\":{\"outlinewidth\":0,\"ticks\":\"\"}}}],\"scattermapbox\":[{\"type\":\"scattermapbox\",\"marker\":{\"colorbar\":{\"outlinewidth\":0,\"ticks\":\"\"}}}],\"scatterternary\":[{\"type\":\"scatterternary\",\"marker\":{\"colorbar\":{\"outlinewidth\":0,\"ticks\":\"\"}}}],\"scattercarpet\":[{\"type\":\"scattercarpet\",\"marker\":{\"colorbar\":{\"outlinewidth\":0,\"ticks\":\"\"}}}],\"carpet\":[{\"aaxis\":{\"endlinecolor\":\"#2a3f5f\",\"gridcolor\":\"white\",\"linecolor\":\"white\",\"minorgridcolor\":\"white\",\"startlinecolor\":\"#2a3f5f\"},\"baxis\":{\"endlinecolor\":\"#2a3f5f\",\"gridcolor\":\"white\",\"linecolor\":\"white\",\"minorgridcolor\":\"white\",\"startlinecolor\":\"#2a3f5f\"},\"type\":\"carpet\"}],\"table\":[{\"cells\":{\"fill\":{\"color\":\"#EBF0F8\"},\"line\":{\"color\":\"white\"}},\"header\":{\"fill\":{\"color\":\"#C8D4E3\"},\"line\":{\"color\":\"white\"}},\"type\":\"table\"}],\"barpolar\":[{\"marker\":{\"line\":{\"color\":\"#E5ECF6\",\"width\":0.5},\"pattern\":{\"fillmode\":\"overlay\",\"size\":10,\"solidity\":0.2}},\"type\":\"barpolar\"}],\"pie\":[{\"automargin\":true,\"type\":\"pie\"}]},\"layout\":{\"autotypenumbers\":\"strict\",\"colorway\":[\"#636efa\",\"#EF553B\",\"#00cc96\",\"#ab63fa\",\"#FFA15A\",\"#19d3f3\",\"#FF6692\",\"#B6E880\",\"#FF97FF\",\"#FECB52\"],\"font\":{\"color\":\"#2a3f5f\"},\"hovermode\":\"closest\",\"hoverlabel\":{\"align\":\"left\"},\"paper_bgcolor\":\"white\",\"plot_bgcolor\":\"#E5ECF6\",\"polar\":{\"bgcolor\":\"#E5ECF6\",\"angularaxis\":{\"gridcolor\":\"white\",\"linecolor\":\"white\",\"ticks\":\"\"},\"radialaxis\":{\"gridcolor\":\"white\",\"linecolor\":\"white\",\"ticks\":\"\"}},\"ternary\":{\"bgcolor\":\"#E5ECF6\",\"aaxis\":{\"gridcolor\":\"white\",\"linecolor\":\"white\",\"ticks\":\"\"},\"baxis\":{\"gridcolor\":\"white\",\"linecolor\":\"white\",\"ticks\":\"\"},\"caxis\":{\"gridcolor\":\"white\",\"linecolor\":\"white\",\"ticks\":\"\"}},\"coloraxis\":{\"colorbar\":{\"outlinewidth\":0,\"ticks\":\"\"}},\"colorscale\":{\"sequential\":[[0.0,\"#0d0887\"],[0.1111111111111111,\"#46039f\"],[0.2222222222222222,\"#7201a8\"],[0.3333333333333333,\"#9c179e\"],[0.4444444444444444,\"#bd3786\"],[0.5555555555555556,\"#d8576b\"],[0.6666666666666666,\"#ed7953\"],[0.7777777777777778,\"#fb9f3a\"],[0.8888888888888888,\"#fdca26\"],[1.0,\"#f0f921\"]],\"sequentialminus\":[[0.0,\"#0d0887\"],[0.1111111111111111,\"#46039f\"],[0.2222222222222222,\"#7201a8\"],[0.3333333333333333,\"#9c179e\"],[0.4444444444444444,\"#bd3786\"],[0.5555555555555556,\"#d8576b\"],[0.6666666666666666,\"#ed7953\"],[0.7777777777777778,\"#fb9f3a\"],[0.8888888888888888,\"#fdca26\"],[1.0,\"#f0f921\"]],\"diverging\":[[0,\"#8e0152\"],[0.1,\"#c51b7d\"],[0.2,\"#de77ae\"],[0.3,\"#f1b6da\"],[0.4,\"#fde0ef\"],[0.5,\"#f7f7f7\"],[0.6,\"#e6f5d0\"],[0.7,\"#b8e186\"],[0.8,\"#7fbc41\"],[0.9,\"#4d9221\"],[1,\"#276419\"]]},\"xaxis\":{\"gridcolor\":\"white\",\"linecolor\":\"white\",\"ticks\":\"\",\"title\":{\"standoff\":15},\"zerolinecolor\":\"white\",\"automargin\":true,\"zerolinewidth\":2},\"yaxis\":{\"gridcolor\":\"white\",\"linecolor\":\"white\",\"ticks\":\"\",\"title\":{\"standoff\":15},\"zerolinecolor\":\"white\",\"automargin\":true,\"zerolinewidth\":2},\"scene\":{\"xaxis\":{\"backgroundcolor\":\"#E5ECF6\",\"gridcolor\":\"white\",\"linecolor\":\"white\",\"showbackground\":true,\"ticks\":\"\",\"zerolinecolor\":\"white\",\"gridwidth\":2},\"yaxis\":{\"backgroundcolor\":\"#E5ECF6\",\"gridcolor\":\"white\",\"linecolor\":\"white\",\"showbackground\":true,\"ticks\":\"\",\"zerolinecolor\":\"white\",\"gridwidth\":2},\"zaxis\":{\"backgroundcolor\":\"#E5ECF6\",\"gridcolor\":\"white\",\"linecolor\":\"white\",\"showbackground\":true,\"ticks\":\"\",\"zerolinecolor\":\"white\",\"gridwidth\":2}},\"shapedefaults\":{\"line\":{\"color\":\"#2a3f5f\"}},\"annotationdefaults\":{\"arrowcolor\":\"#2a3f5f\",\"arrowhead\":0,\"arrowwidth\":1},\"geo\":{\"bgcolor\":\"white\",\"landcolor\":\"#E5ECF6\",\"subunitcolor\":\"white\",\"showland\":true,\"showlakes\":true,\"lakecolor\":\"white\"},\"title\":{\"x\":0.05},\"mapbox\":{\"style\":\"light\"}}},\"title\":{\"text\":\"Countries With Max Total Purchase Sum\",\"x\":0.5},\"xaxis\":{\"title\":{\"text\":\"Countries\"}},\"yaxis\":{\"title\":{\"text\":\"Total Amount, £\"}},\"plot_bgcolor\":\"white\"},                        {\"responsive\": true}                    ).then(function(){\n",
       "                            \n",
       "var gd = document.getElementById('773b271e-80d7-45ed-bcb6-ca683feb182a');\n",
       "var x = new MutationObserver(function (mutations, observer) {{\n",
       "        var display = window.getComputedStyle(gd).display;\n",
       "        if (!display || display === 'none') {{\n",
       "            console.log([gd, 'removed!']);\n",
       "            Plotly.purge(gd);\n",
       "            observer.disconnect();\n",
       "        }}\n",
       "}});\n",
       "\n",
       "// Listen for the removal of the full notebook cells\n",
       "var notebookContainer = gd.closest('#notebook-container');\n",
       "if (notebookContainer) {{\n",
       "    x.observe(notebookContainer, {childList: true});\n",
       "}}\n",
       "\n",
       "// Listen for the clearing of the current output cell\n",
       "var outputEl = gd.closest('.output');\n",
       "if (outputEl) {{\n",
       "    x.observe(outputEl, {childList: true});\n",
       "}}\n",
       "\n",
       "                        })                };                });            </script>        </div>"
      ]
     },
     "metadata": {},
     "output_type": "display_data"
    }
   ],
   "source": [
    "fig = go.Figure(data=[\n",
    "    go.Bar(name='Countries With Max Total Purchase Amount', \n",
    "           x=retail_countries_purchase_desc['Country'].astype(str), \n",
    "           y=retail_countries_purchase_desc['Total'],\n",
    "           marker_opacity=1,\n",
    "           marker={'color': retail_countries_purchase_desc['Total'],\n",
    "                   'colorscale': 'Rainbow'})\n",
    "    ])\n",
    "\n",
    "fig.update_traces(texttemplate='£%{y:.3s}', textposition='outside')\n",
    "\n",
    "fig.update_layout(title='Countries With Max Total Purchase Sum',\n",
    "                  title_x=0.50,\n",
    "                  xaxis_title=\"Countries\",\n",
    "                  yaxis_title=\"Total Amount, £\",\n",
    "                  plot_bgcolor='white')\n",
    "fig.show()"
   ]
  },
  {
   "cell_type": "code",
   "execution_count": 41,
   "id": "2de26464",
   "metadata": {
    "execution": {
     "iopub.execute_input": "2022-10-29T09:16:45.088199Z",
     "iopub.status.busy": "2022-10-29T09:16:45.087872Z",
     "iopub.status.idle": "2022-10-29T09:16:45.103910Z",
     "shell.execute_reply": "2022-10-29T09:16:45.103001Z"
    },
    "papermill": {
     "duration": 0.04875,
     "end_time": "2022-10-29T09:16:45.105760",
     "exception": false,
     "start_time": "2022-10-29T09:16:45.057010",
     "status": "completed"
    },
    "tags": []
   },
   "outputs": [
    {
     "data": {
      "text/html": [
       "<div>                            <div id=\"11f8f8a3-7703-4e5b-8012-04b3577e475a\" class=\"plotly-graph-div\" style=\"height:525px; width:100%;\"></div>            <script type=\"text/javascript\">                require([\"plotly\"], function(Plotly) {                    window.PLOTLYENV=window.PLOTLYENV || {};                                    if (document.getElementById(\"11f8f8a3-7703-4e5b-8012-04b3577e475a\")) {                    Plotly.newPlot(                        \"11f8f8a3-7703-4e5b-8012-04b3577e475a\",                        [{\"marker\":{\"color\":[13276642.817,567207.79,536602.68,404888.161,315281.18,166444.42,98779.41,90742.01,87421.52,64290.69],\"colorscale\":[[0.0,\"rgb(150,0,90)\"],[0.125,\"rgb(0,0,200)\"],[0.25,\"rgb(0,25,255)\"],[0.375,\"rgb(0,152,255)\"],[0.5,\"rgb(44,255,150)\"],[0.625,\"rgb(151,255,0)\"],[0.75,\"rgb(255,234,0)\"],[0.875,\"rgb(255,111,0)\"],[1.0,\"rgb(255,0,0)\"]],\"opacity\":1},\"name\":\"Countries With Min Total Purchase Amount\",\"x\":[\"Saudi Arabia\",\"Nigeria\",\"West Indies\",\"Czech Republic\",\"Korea\",\"European Community\",\"Bahrain\",\"Brazil\",\"Lebanon\",\"RSA\"],\"y\":[131.17,140.39,536.41,707.72,949.82,1291.75,1354.37,1411.87,1693.88,1933.74],\"type\":\"bar\",\"textposition\":\"inside\",\"texttemplate\":\"£%{y:.3s}\"}],                        {\"template\":{\"data\":{\"histogram2dcontour\":[{\"type\":\"histogram2dcontour\",\"colorbar\":{\"outlinewidth\":0,\"ticks\":\"\"},\"colorscale\":[[0.0,\"#0d0887\"],[0.1111111111111111,\"#46039f\"],[0.2222222222222222,\"#7201a8\"],[0.3333333333333333,\"#9c179e\"],[0.4444444444444444,\"#bd3786\"],[0.5555555555555556,\"#d8576b\"],[0.6666666666666666,\"#ed7953\"],[0.7777777777777778,\"#fb9f3a\"],[0.8888888888888888,\"#fdca26\"],[1.0,\"#f0f921\"]]}],\"choropleth\":[{\"type\":\"choropleth\",\"colorbar\":{\"outlinewidth\":0,\"ticks\":\"\"}}],\"histogram2d\":[{\"type\":\"histogram2d\",\"colorbar\":{\"outlinewidth\":0,\"ticks\":\"\"},\"colorscale\":[[0.0,\"#0d0887\"],[0.1111111111111111,\"#46039f\"],[0.2222222222222222,\"#7201a8\"],[0.3333333333333333,\"#9c179e\"],[0.4444444444444444,\"#bd3786\"],[0.5555555555555556,\"#d8576b\"],[0.6666666666666666,\"#ed7953\"],[0.7777777777777778,\"#fb9f3a\"],[0.8888888888888888,\"#fdca26\"],[1.0,\"#f0f921\"]]}],\"heatmap\":[{\"type\":\"heatmap\",\"colorbar\":{\"outlinewidth\":0,\"ticks\":\"\"},\"colorscale\":[[0.0,\"#0d0887\"],[0.1111111111111111,\"#46039f\"],[0.2222222222222222,\"#7201a8\"],[0.3333333333333333,\"#9c179e\"],[0.4444444444444444,\"#bd3786\"],[0.5555555555555556,\"#d8576b\"],[0.6666666666666666,\"#ed7953\"],[0.7777777777777778,\"#fb9f3a\"],[0.8888888888888888,\"#fdca26\"],[1.0,\"#f0f921\"]]}],\"heatmapgl\":[{\"type\":\"heatmapgl\",\"colorbar\":{\"outlinewidth\":0,\"ticks\":\"\"},\"colorscale\":[[0.0,\"#0d0887\"],[0.1111111111111111,\"#46039f\"],[0.2222222222222222,\"#7201a8\"],[0.3333333333333333,\"#9c179e\"],[0.4444444444444444,\"#bd3786\"],[0.5555555555555556,\"#d8576b\"],[0.6666666666666666,\"#ed7953\"],[0.7777777777777778,\"#fb9f3a\"],[0.8888888888888888,\"#fdca26\"],[1.0,\"#f0f921\"]]}],\"contourcarpet\":[{\"type\":\"contourcarpet\",\"colorbar\":{\"outlinewidth\":0,\"ticks\":\"\"}}],\"contour\":[{\"type\":\"contour\",\"colorbar\":{\"outlinewidth\":0,\"ticks\":\"\"},\"colorscale\":[[0.0,\"#0d0887\"],[0.1111111111111111,\"#46039f\"],[0.2222222222222222,\"#7201a8\"],[0.3333333333333333,\"#9c179e\"],[0.4444444444444444,\"#bd3786\"],[0.5555555555555556,\"#d8576b\"],[0.6666666666666666,\"#ed7953\"],[0.7777777777777778,\"#fb9f3a\"],[0.8888888888888888,\"#fdca26\"],[1.0,\"#f0f921\"]]}],\"surface\":[{\"type\":\"surface\",\"colorbar\":{\"outlinewidth\":0,\"ticks\":\"\"},\"colorscale\":[[0.0,\"#0d0887\"],[0.1111111111111111,\"#46039f\"],[0.2222222222222222,\"#7201a8\"],[0.3333333333333333,\"#9c179e\"],[0.4444444444444444,\"#bd3786\"],[0.5555555555555556,\"#d8576b\"],[0.6666666666666666,\"#ed7953\"],[0.7777777777777778,\"#fb9f3a\"],[0.8888888888888888,\"#fdca26\"],[1.0,\"#f0f921\"]]}],\"mesh3d\":[{\"type\":\"mesh3d\",\"colorbar\":{\"outlinewidth\":0,\"ticks\":\"\"}}],\"scatter\":[{\"fillpattern\":{\"fillmode\":\"overlay\",\"size\":10,\"solidity\":0.2},\"type\":\"scatter\"}],\"parcoords\":[{\"type\":\"parcoords\",\"line\":{\"colorbar\":{\"outlinewidth\":0,\"ticks\":\"\"}}}],\"scatterpolargl\":[{\"type\":\"scatterpolargl\",\"marker\":{\"colorbar\":{\"outlinewidth\":0,\"ticks\":\"\"}}}],\"bar\":[{\"error_x\":{\"color\":\"#2a3f5f\"},\"error_y\":{\"color\":\"#2a3f5f\"},\"marker\":{\"line\":{\"color\":\"#E5ECF6\",\"width\":0.5},\"pattern\":{\"fillmode\":\"overlay\",\"size\":10,\"solidity\":0.2}},\"type\":\"bar\"}],\"scattergeo\":[{\"type\":\"scattergeo\",\"marker\":{\"colorbar\":{\"outlinewidth\":0,\"ticks\":\"\"}}}],\"scatterpolar\":[{\"type\":\"scatterpolar\",\"marker\":{\"colorbar\":{\"outlinewidth\":0,\"ticks\":\"\"}}}],\"histogram\":[{\"marker\":{\"pattern\":{\"fillmode\":\"overlay\",\"size\":10,\"solidity\":0.2}},\"type\":\"histogram\"}],\"scattergl\":[{\"type\":\"scattergl\",\"marker\":{\"colorbar\":{\"outlinewidth\":0,\"ticks\":\"\"}}}],\"scatter3d\":[{\"type\":\"scatter3d\",\"line\":{\"colorbar\":{\"outlinewidth\":0,\"ticks\":\"\"}},\"marker\":{\"colorbar\":{\"outlinewidth\":0,\"ticks\":\"\"}}}],\"scattermapbox\":[{\"type\":\"scattermapbox\",\"marker\":{\"colorbar\":{\"outlinewidth\":0,\"ticks\":\"\"}}}],\"scatterternary\":[{\"type\":\"scatterternary\",\"marker\":{\"colorbar\":{\"outlinewidth\":0,\"ticks\":\"\"}}}],\"scattercarpet\":[{\"type\":\"scattercarpet\",\"marker\":{\"colorbar\":{\"outlinewidth\":0,\"ticks\":\"\"}}}],\"carpet\":[{\"aaxis\":{\"endlinecolor\":\"#2a3f5f\",\"gridcolor\":\"white\",\"linecolor\":\"white\",\"minorgridcolor\":\"white\",\"startlinecolor\":\"#2a3f5f\"},\"baxis\":{\"endlinecolor\":\"#2a3f5f\",\"gridcolor\":\"white\",\"linecolor\":\"white\",\"minorgridcolor\":\"white\",\"startlinecolor\":\"#2a3f5f\"},\"type\":\"carpet\"}],\"table\":[{\"cells\":{\"fill\":{\"color\":\"#EBF0F8\"},\"line\":{\"color\":\"white\"}},\"header\":{\"fill\":{\"color\":\"#C8D4E3\"},\"line\":{\"color\":\"white\"}},\"type\":\"table\"}],\"barpolar\":[{\"marker\":{\"line\":{\"color\":\"#E5ECF6\",\"width\":0.5},\"pattern\":{\"fillmode\":\"overlay\",\"size\":10,\"solidity\":0.2}},\"type\":\"barpolar\"}],\"pie\":[{\"automargin\":true,\"type\":\"pie\"}]},\"layout\":{\"autotypenumbers\":\"strict\",\"colorway\":[\"#636efa\",\"#EF553B\",\"#00cc96\",\"#ab63fa\",\"#FFA15A\",\"#19d3f3\",\"#FF6692\",\"#B6E880\",\"#FF97FF\",\"#FECB52\"],\"font\":{\"color\":\"#2a3f5f\"},\"hovermode\":\"closest\",\"hoverlabel\":{\"align\":\"left\"},\"paper_bgcolor\":\"white\",\"plot_bgcolor\":\"#E5ECF6\",\"polar\":{\"bgcolor\":\"#E5ECF6\",\"angularaxis\":{\"gridcolor\":\"white\",\"linecolor\":\"white\",\"ticks\":\"\"},\"radialaxis\":{\"gridcolor\":\"white\",\"linecolor\":\"white\",\"ticks\":\"\"}},\"ternary\":{\"bgcolor\":\"#E5ECF6\",\"aaxis\":{\"gridcolor\":\"white\",\"linecolor\":\"white\",\"ticks\":\"\"},\"baxis\":{\"gridcolor\":\"white\",\"linecolor\":\"white\",\"ticks\":\"\"},\"caxis\":{\"gridcolor\":\"white\",\"linecolor\":\"white\",\"ticks\":\"\"}},\"coloraxis\":{\"colorbar\":{\"outlinewidth\":0,\"ticks\":\"\"}},\"colorscale\":{\"sequential\":[[0.0,\"#0d0887\"],[0.1111111111111111,\"#46039f\"],[0.2222222222222222,\"#7201a8\"],[0.3333333333333333,\"#9c179e\"],[0.4444444444444444,\"#bd3786\"],[0.5555555555555556,\"#d8576b\"],[0.6666666666666666,\"#ed7953\"],[0.7777777777777778,\"#fb9f3a\"],[0.8888888888888888,\"#fdca26\"],[1.0,\"#f0f921\"]],\"sequentialminus\":[[0.0,\"#0d0887\"],[0.1111111111111111,\"#46039f\"],[0.2222222222222222,\"#7201a8\"],[0.3333333333333333,\"#9c179e\"],[0.4444444444444444,\"#bd3786\"],[0.5555555555555556,\"#d8576b\"],[0.6666666666666666,\"#ed7953\"],[0.7777777777777778,\"#fb9f3a\"],[0.8888888888888888,\"#fdca26\"],[1.0,\"#f0f921\"]],\"diverging\":[[0,\"#8e0152\"],[0.1,\"#c51b7d\"],[0.2,\"#de77ae\"],[0.3,\"#f1b6da\"],[0.4,\"#fde0ef\"],[0.5,\"#f7f7f7\"],[0.6,\"#e6f5d0\"],[0.7,\"#b8e186\"],[0.8,\"#7fbc41\"],[0.9,\"#4d9221\"],[1,\"#276419\"]]},\"xaxis\":{\"gridcolor\":\"white\",\"linecolor\":\"white\",\"ticks\":\"\",\"title\":{\"standoff\":15},\"zerolinecolor\":\"white\",\"automargin\":true,\"zerolinewidth\":2},\"yaxis\":{\"gridcolor\":\"white\",\"linecolor\":\"white\",\"ticks\":\"\",\"title\":{\"standoff\":15},\"zerolinecolor\":\"white\",\"automargin\":true,\"zerolinewidth\":2},\"scene\":{\"xaxis\":{\"backgroundcolor\":\"#E5ECF6\",\"gridcolor\":\"white\",\"linecolor\":\"white\",\"showbackground\":true,\"ticks\":\"\",\"zerolinecolor\":\"white\",\"gridwidth\":2},\"yaxis\":{\"backgroundcolor\":\"#E5ECF6\",\"gridcolor\":\"white\",\"linecolor\":\"white\",\"showbackground\":true,\"ticks\":\"\",\"zerolinecolor\":\"white\",\"gridwidth\":2},\"zaxis\":{\"backgroundcolor\":\"#E5ECF6\",\"gridcolor\":\"white\",\"linecolor\":\"white\",\"showbackground\":true,\"ticks\":\"\",\"zerolinecolor\":\"white\",\"gridwidth\":2}},\"shapedefaults\":{\"line\":{\"color\":\"#2a3f5f\"}},\"annotationdefaults\":{\"arrowcolor\":\"#2a3f5f\",\"arrowhead\":0,\"arrowwidth\":1},\"geo\":{\"bgcolor\":\"white\",\"landcolor\":\"#E5ECF6\",\"subunitcolor\":\"white\",\"showland\":true,\"showlakes\":true,\"lakecolor\":\"white\"},\"title\":{\"x\":0.05},\"mapbox\":{\"style\":\"light\"}}},\"title\":{\"text\":\"Countries With Min Total Purchase Amount\",\"x\":0.45,\"y\":0.97},\"xaxis\":{\"title\":{\"text\":\"Countries\"}},\"yaxis\":{\"title\":{\"text\":\"Total Amount, £\"}},\"plot_bgcolor\":\"white\"},                        {\"responsive\": true}                    ).then(function(){\n",
       "                            \n",
       "var gd = document.getElementById('11f8f8a3-7703-4e5b-8012-04b3577e475a');\n",
       "var x = new MutationObserver(function (mutations, observer) {{\n",
       "        var display = window.getComputedStyle(gd).display;\n",
       "        if (!display || display === 'none') {{\n",
       "            console.log([gd, 'removed!']);\n",
       "            Plotly.purge(gd);\n",
       "            observer.disconnect();\n",
       "        }}\n",
       "}});\n",
       "\n",
       "// Listen for the removal of the full notebook cells\n",
       "var notebookContainer = gd.closest('#notebook-container');\n",
       "if (notebookContainer) {{\n",
       "    x.observe(notebookContainer, {childList: true});\n",
       "}}\n",
       "\n",
       "// Listen for the clearing of the current output cell\n",
       "var outputEl = gd.closest('.output');\n",
       "if (outputEl) {{\n",
       "    x.observe(outputEl, {childList: true});\n",
       "}}\n",
       "\n",
       "                        })                };                });            </script>        </div>"
      ]
     },
     "metadata": {},
     "output_type": "display_data"
    }
   ],
   "source": [
    "fig = go.Figure(data=[\n",
    "    go.Bar(name='Countries With Min Total Purchase Amount', \n",
    "           x=retail_countries_purchase_asc['Country'].astype(str), \n",
    "           y=retail_countries_purchase_asc['Total'],\n",
    "           marker_opacity=1,\n",
    "           marker={'color': retail_countries_purchase_desc['Total'],\n",
    "                   'colorscale': 'Rainbow'}\n",
    "          )\n",
    "    ])\n",
    "\n",
    "fig.update_traces(texttemplate='£%{y:.3s}', textposition='inside')\n",
    "\n",
    "fig.update_layout(title='Countries With Min Total Purchase Amount',\n",
    "                  title_x=0.45,\n",
    "                  title_y=0.97,\n",
    "                  xaxis_title=\"Countries\",\n",
    "                  yaxis_title=\"Total Amount, £\",\n",
    "                  plot_bgcolor='white')\n",
    "fig.show()"
   ]
  },
  {
   "cell_type": "markdown",
   "id": "5b58f266",
   "metadata": {
    "execution": {
     "iopub.execute_input": "2022-10-29T05:58:17.980645Z",
     "iopub.status.busy": "2022-10-29T05:58:17.979757Z",
     "iopub.status.idle": "2022-10-29T05:58:17.987540Z",
     "shell.execute_reply": "2022-10-29T05:58:17.986388Z",
     "shell.execute_reply.started": "2022-10-29T05:58:17.980596Z"
    },
    "papermill": {
     "duration": 0.028551,
     "end_time": "2022-10-29T09:16:45.163616",
     "exception": false,
     "start_time": "2022-10-29T09:16:45.135065",
     "status": "completed"
    },
    "tags": []
   },
   "source": [
    "**If we look at the 10 countries, where maximal purchase totals originate from, \n",
    "it is very clear that United Kingdom is a leader with purchase amount of £13.8M.\n",
    "The closest amount to that is £579k - that much was purchased by EIRE customers. \n",
    "It is 23 times less! One other interesting insight is that all countries in the top ten are located in Europe.**\n",
    "\n",
    "**The country with the smallest purchase value is Saudi Arabia. Customers from \n",
    "Saudi Arabia have spent only £131 in the online shop in two years! \n",
    "While generally countries with smaller purchased amounts are situated outside \n",
    "of Europe, there is an interesting exception: Czech Republic. \n",
    "If we had more data, we would love to dig deeper into the reasons of this fact!**"
   ]
  },
  {
   "cell_type": "markdown",
   "id": "b55a15f5",
   "metadata": {
    "papermill": {
     "duration": 0.029377,
     "end_time": "2022-10-29T09:16:45.222134",
     "exception": false,
     "start_time": "2022-10-29T09:16:45.192757",
     "status": "completed"
    },
    "tags": []
   },
   "source": [
    "# **Countries Analysis: Unique Customers Number**"
   ]
  },
  {
   "cell_type": "markdown",
   "id": "5072d454",
   "metadata": {
    "papermill": {
     "duration": 0.029201,
     "end_time": "2022-10-29T09:16:45.280794",
     "exception": false,
     "start_time": "2022-10-29T09:16:45.251593",
     "status": "completed"
    },
    "tags": []
   },
   "source": [
    "**Next, We are interested in which 10 countries number of unique customers is \n",
    "largest, and in which it is small.**"
   ]
  },
  {
   "cell_type": "code",
   "execution_count": 42,
   "id": "dc54fb62",
   "metadata": {
    "execution": {
     "iopub.execute_input": "2022-10-29T09:16:45.340574Z",
     "iopub.status.busy": "2022-10-29T09:16:45.340277Z",
     "iopub.status.idle": "2022-10-29T09:16:45.432620Z",
     "shell.execute_reply": "2022-10-29T09:16:45.431564Z"
    },
    "papermill": {
     "duration": 0.124814,
     "end_time": "2022-10-29T09:16:45.435029",
     "exception": false,
     "start_time": "2022-10-29T09:16:45.310215",
     "status": "completed"
    },
    "tags": []
   },
   "outputs": [],
   "source": [
    "retail_countries_customers = retail.groupby(['Country'], as_index=False)['Customer ID'].agg({'Customer ID': 'nunique'})"
   ]
  },
  {
   "cell_type": "code",
   "execution_count": 43,
   "id": "806ecfe3",
   "metadata": {
    "execution": {
     "iopub.execute_input": "2022-10-29T09:16:45.495155Z",
     "iopub.status.busy": "2022-10-29T09:16:45.494786Z",
     "iopub.status.idle": "2022-10-29T09:16:45.505282Z",
     "shell.execute_reply": "2022-10-29T09:16:45.504388Z"
    },
    "papermill": {
     "duration": 0.042358,
     "end_time": "2022-10-29T09:16:45.507003",
     "exception": false,
     "start_time": "2022-10-29T09:16:45.464645",
     "status": "completed"
    },
    "tags": []
   },
   "outputs": [
    {
     "data": {
      "text/html": [
       "<div>\n",
       "<style scoped>\n",
       "    .dataframe tbody tr th:only-of-type {\n",
       "        vertical-align: middle;\n",
       "    }\n",
       "\n",
       "    .dataframe tbody tr th {\n",
       "        vertical-align: top;\n",
       "    }\n",
       "\n",
       "    .dataframe thead th {\n",
       "        text-align: right;\n",
       "    }\n",
       "</style>\n",
       "<table border=\"1\" class=\"dataframe\">\n",
       "  <thead>\n",
       "    <tr style=\"text-align: right;\">\n",
       "      <th></th>\n",
       "      <th>Country</th>\n",
       "      <th>Customer ID</th>\n",
       "    </tr>\n",
       "  </thead>\n",
       "  <tbody>\n",
       "    <tr>\n",
       "      <th>0</th>\n",
       "      <td>Australia</td>\n",
       "      <td>15</td>\n",
       "    </tr>\n",
       "    <tr>\n",
       "      <th>1</th>\n",
       "      <td>Austria</td>\n",
       "      <td>13</td>\n",
       "    </tr>\n",
       "    <tr>\n",
       "      <th>2</th>\n",
       "      <td>Bahrain</td>\n",
       "      <td>2</td>\n",
       "    </tr>\n",
       "    <tr>\n",
       "      <th>3</th>\n",
       "      <td>Belgium</td>\n",
       "      <td>29</td>\n",
       "    </tr>\n",
       "    <tr>\n",
       "      <th>4</th>\n",
       "      <td>Brazil</td>\n",
       "      <td>2</td>\n",
       "    </tr>\n",
       "    <tr>\n",
       "      <th>5</th>\n",
       "      <td>Canada</td>\n",
       "      <td>5</td>\n",
       "    </tr>\n",
       "    <tr>\n",
       "      <th>6</th>\n",
       "      <td>Channel Islands</td>\n",
       "      <td>14</td>\n",
       "    </tr>\n",
       "    <tr>\n",
       "      <th>7</th>\n",
       "      <td>Cyprus</td>\n",
       "      <td>11</td>\n",
       "    </tr>\n",
       "    <tr>\n",
       "      <th>8</th>\n",
       "      <td>Czech Republic</td>\n",
       "      <td>1</td>\n",
       "    </tr>\n",
       "    <tr>\n",
       "      <th>9</th>\n",
       "      <td>Denmark</td>\n",
       "      <td>11</td>\n",
       "    </tr>\n",
       "    <tr>\n",
       "      <th>10</th>\n",
       "      <td>EIRE</td>\n",
       "      <td>5</td>\n",
       "    </tr>\n",
       "    <tr>\n",
       "      <th>11</th>\n",
       "      <td>European Community</td>\n",
       "      <td>1</td>\n",
       "    </tr>\n",
       "    <tr>\n",
       "      <th>12</th>\n",
       "      <td>Finland</td>\n",
       "      <td>15</td>\n",
       "    </tr>\n",
       "    <tr>\n",
       "      <th>13</th>\n",
       "      <td>France</td>\n",
       "      <td>94</td>\n",
       "    </tr>\n",
       "    <tr>\n",
       "      <th>14</th>\n",
       "      <td>Germany</td>\n",
       "      <td>106</td>\n",
       "    </tr>\n",
       "    <tr>\n",
       "      <th>15</th>\n",
       "      <td>Greece</td>\n",
       "      <td>4</td>\n",
       "    </tr>\n",
       "    <tr>\n",
       "      <th>16</th>\n",
       "      <td>Iceland</td>\n",
       "      <td>1</td>\n",
       "    </tr>\n",
       "    <tr>\n",
       "      <th>17</th>\n",
       "      <td>Israel</td>\n",
       "      <td>4</td>\n",
       "    </tr>\n",
       "    <tr>\n",
       "      <th>18</th>\n",
       "      <td>Italy</td>\n",
       "      <td>17</td>\n",
       "    </tr>\n",
       "    <tr>\n",
       "      <th>19</th>\n",
       "      <td>Japan</td>\n",
       "      <td>10</td>\n",
       "    </tr>\n",
       "    <tr>\n",
       "      <th>20</th>\n",
       "      <td>Korea</td>\n",
       "      <td>2</td>\n",
       "    </tr>\n",
       "    <tr>\n",
       "      <th>21</th>\n",
       "      <td>Lebanon</td>\n",
       "      <td>1</td>\n",
       "    </tr>\n",
       "    <tr>\n",
       "      <th>22</th>\n",
       "      <td>Lithuania</td>\n",
       "      <td>1</td>\n",
       "    </tr>\n",
       "    <tr>\n",
       "      <th>23</th>\n",
       "      <td>Malta</td>\n",
       "      <td>2</td>\n",
       "    </tr>\n",
       "    <tr>\n",
       "      <th>24</th>\n",
       "      <td>Netherlands</td>\n",
       "      <td>23</td>\n",
       "    </tr>\n",
       "    <tr>\n",
       "      <th>25</th>\n",
       "      <td>Nigeria</td>\n",
       "      <td>1</td>\n",
       "    </tr>\n",
       "    <tr>\n",
       "      <th>26</th>\n",
       "      <td>Norway</td>\n",
       "      <td>13</td>\n",
       "    </tr>\n",
       "    <tr>\n",
       "      <th>27</th>\n",
       "      <td>Poland</td>\n",
       "      <td>6</td>\n",
       "    </tr>\n",
       "    <tr>\n",
       "      <th>28</th>\n",
       "      <td>Portugal</td>\n",
       "      <td>24</td>\n",
       "    </tr>\n",
       "    <tr>\n",
       "      <th>29</th>\n",
       "      <td>RSA</td>\n",
       "      <td>2</td>\n",
       "    </tr>\n",
       "    <tr>\n",
       "      <th>30</th>\n",
       "      <td>Saudi Arabia</td>\n",
       "      <td>1</td>\n",
       "    </tr>\n",
       "    <tr>\n",
       "      <th>31</th>\n",
       "      <td>Singapore</td>\n",
       "      <td>1</td>\n",
       "    </tr>\n",
       "    <tr>\n",
       "      <th>32</th>\n",
       "      <td>Spain</td>\n",
       "      <td>40</td>\n",
       "    </tr>\n",
       "    <tr>\n",
       "      <th>33</th>\n",
       "      <td>Sweden</td>\n",
       "      <td>19</td>\n",
       "    </tr>\n",
       "    <tr>\n",
       "      <th>34</th>\n",
       "      <td>Switzerland</td>\n",
       "      <td>22</td>\n",
       "    </tr>\n",
       "    <tr>\n",
       "      <th>35</th>\n",
       "      <td>Thailand</td>\n",
       "      <td>1</td>\n",
       "    </tr>\n",
       "    <tr>\n",
       "      <th>36</th>\n",
       "      <td>USA</td>\n",
       "      <td>9</td>\n",
       "    </tr>\n",
       "    <tr>\n",
       "      <th>37</th>\n",
       "      <td>United Arab Emirates</td>\n",
       "      <td>4</td>\n",
       "    </tr>\n",
       "    <tr>\n",
       "      <th>38</th>\n",
       "      <td>United Kingdom</td>\n",
       "      <td>5397</td>\n",
       "    </tr>\n",
       "    <tr>\n",
       "      <th>39</th>\n",
       "      <td>Unspecified</td>\n",
       "      <td>7</td>\n",
       "    </tr>\n",
       "    <tr>\n",
       "      <th>40</th>\n",
       "      <td>West Indies</td>\n",
       "      <td>1</td>\n",
       "    </tr>\n",
       "  </tbody>\n",
       "</table>\n",
       "</div>"
      ],
      "text/plain": [
       "                 Country  Customer ID\n",
       "0              Australia           15\n",
       "1                Austria           13\n",
       "2                Bahrain            2\n",
       "3                Belgium           29\n",
       "4                 Brazil            2\n",
       "5                 Canada            5\n",
       "6        Channel Islands           14\n",
       "7                 Cyprus           11\n",
       "8         Czech Republic            1\n",
       "9                Denmark           11\n",
       "10                  EIRE            5\n",
       "11    European Community            1\n",
       "12               Finland           15\n",
       "13                France           94\n",
       "14               Germany          106\n",
       "15                Greece            4\n",
       "16               Iceland            1\n",
       "17                Israel            4\n",
       "18                 Italy           17\n",
       "19                 Japan           10\n",
       "20                 Korea            2\n",
       "21               Lebanon            1\n",
       "22             Lithuania            1\n",
       "23                 Malta            2\n",
       "24           Netherlands           23\n",
       "25               Nigeria            1\n",
       "26                Norway           13\n",
       "27                Poland            6\n",
       "28              Portugal           24\n",
       "29                   RSA            2\n",
       "30          Saudi Arabia            1\n",
       "31             Singapore            1\n",
       "32                 Spain           40\n",
       "33                Sweden           19\n",
       "34           Switzerland           22\n",
       "35              Thailand            1\n",
       "36                   USA            9\n",
       "37  United Arab Emirates            4\n",
       "38        United Kingdom         5397\n",
       "39           Unspecified            7\n",
       "40           West Indies            1"
      ]
     },
     "execution_count": 43,
     "metadata": {},
     "output_type": "execute_result"
    }
   ],
   "source": [
    "retail_countries_customers"
   ]
  },
  {
   "cell_type": "code",
   "execution_count": 44,
   "id": "9bc6e466",
   "metadata": {
    "execution": {
     "iopub.execute_input": "2022-10-29T09:16:45.566745Z",
     "iopub.status.busy": "2022-10-29T09:16:45.566436Z",
     "iopub.status.idle": "2022-10-29T09:16:45.572633Z",
     "shell.execute_reply": "2022-10-29T09:16:45.571854Z"
    },
    "papermill": {
     "duration": 0.037969,
     "end_time": "2022-10-29T09:16:45.574354",
     "exception": false,
     "start_time": "2022-10-29T09:16:45.536385",
     "status": "completed"
    },
    "tags": []
   },
   "outputs": [],
   "source": [
    "retail_countries_customers.rename(columns={'Customer ID': 'Customer Count'}, inplace=True)\n",
    "retail_countries_customers_asc = retail_countries_customers.sort_values('Customer Count').head(10)\n",
    "retail_countries_customers_desc = retail_countries_customers.sort_values('Customer Count', ascending=False).head(10)"
   ]
  },
  {
   "cell_type": "code",
   "execution_count": 45,
   "id": "44815883",
   "metadata": {
    "execution": {
     "iopub.execute_input": "2022-10-29T09:16:45.633817Z",
     "iopub.status.busy": "2022-10-29T09:16:45.633501Z",
     "iopub.status.idle": "2022-10-29T09:16:45.642014Z",
     "shell.execute_reply": "2022-10-29T09:16:45.641171Z"
    },
    "papermill": {
     "duration": 0.040244,
     "end_time": "2022-10-29T09:16:45.643659",
     "exception": false,
     "start_time": "2022-10-29T09:16:45.603415",
     "status": "completed"
    },
    "tags": []
   },
   "outputs": [
    {
     "data": {
      "text/html": [
       "<div>\n",
       "<style scoped>\n",
       "    .dataframe tbody tr th:only-of-type {\n",
       "        vertical-align: middle;\n",
       "    }\n",
       "\n",
       "    .dataframe tbody tr th {\n",
       "        vertical-align: top;\n",
       "    }\n",
       "\n",
       "    .dataframe thead th {\n",
       "        text-align: right;\n",
       "    }\n",
       "</style>\n",
       "<table border=\"1\" class=\"dataframe\">\n",
       "  <thead>\n",
       "    <tr style=\"text-align: right;\">\n",
       "      <th></th>\n",
       "      <th>Country</th>\n",
       "      <th>Customer Count</th>\n",
       "    </tr>\n",
       "  </thead>\n",
       "  <tbody>\n",
       "    <tr>\n",
       "      <th>40</th>\n",
       "      <td>West Indies</td>\n",
       "      <td>1</td>\n",
       "    </tr>\n",
       "    <tr>\n",
       "      <th>35</th>\n",
       "      <td>Thailand</td>\n",
       "      <td>1</td>\n",
       "    </tr>\n",
       "    <tr>\n",
       "      <th>31</th>\n",
       "      <td>Singapore</td>\n",
       "      <td>1</td>\n",
       "    </tr>\n",
       "    <tr>\n",
       "      <th>30</th>\n",
       "      <td>Saudi Arabia</td>\n",
       "      <td>1</td>\n",
       "    </tr>\n",
       "    <tr>\n",
       "      <th>25</th>\n",
       "      <td>Nigeria</td>\n",
       "      <td>1</td>\n",
       "    </tr>\n",
       "    <tr>\n",
       "      <th>22</th>\n",
       "      <td>Lithuania</td>\n",
       "      <td>1</td>\n",
       "    </tr>\n",
       "    <tr>\n",
       "      <th>8</th>\n",
       "      <td>Czech Republic</td>\n",
       "      <td>1</td>\n",
       "    </tr>\n",
       "    <tr>\n",
       "      <th>21</th>\n",
       "      <td>Lebanon</td>\n",
       "      <td>1</td>\n",
       "    </tr>\n",
       "    <tr>\n",
       "      <th>16</th>\n",
       "      <td>Iceland</td>\n",
       "      <td>1</td>\n",
       "    </tr>\n",
       "    <tr>\n",
       "      <th>11</th>\n",
       "      <td>European Community</td>\n",
       "      <td>1</td>\n",
       "    </tr>\n",
       "  </tbody>\n",
       "</table>\n",
       "</div>"
      ],
      "text/plain": [
       "               Country  Customer Count\n",
       "40         West Indies               1\n",
       "35            Thailand               1\n",
       "31           Singapore               1\n",
       "30        Saudi Arabia               1\n",
       "25             Nigeria               1\n",
       "22           Lithuania               1\n",
       "8       Czech Republic               1\n",
       "21             Lebanon               1\n",
       "16             Iceland               1\n",
       "11  European Community               1"
      ]
     },
     "execution_count": 45,
     "metadata": {},
     "output_type": "execute_result"
    }
   ],
   "source": [
    "retail_countries_customers_asc"
   ]
  },
  {
   "cell_type": "code",
   "execution_count": 46,
   "id": "e8725bf5",
   "metadata": {
    "execution": {
     "iopub.execute_input": "2022-10-29T09:16:45.703264Z",
     "iopub.status.busy": "2022-10-29T09:16:45.702923Z",
     "iopub.status.idle": "2022-10-29T09:16:45.711237Z",
     "shell.execute_reply": "2022-10-29T09:16:45.710408Z"
    },
    "papermill": {
     "duration": 0.040094,
     "end_time": "2022-10-29T09:16:45.712863",
     "exception": false,
     "start_time": "2022-10-29T09:16:45.672769",
     "status": "completed"
    },
    "tags": []
   },
   "outputs": [
    {
     "data": {
      "text/html": [
       "<div>\n",
       "<style scoped>\n",
       "    .dataframe tbody tr th:only-of-type {\n",
       "        vertical-align: middle;\n",
       "    }\n",
       "\n",
       "    .dataframe tbody tr th {\n",
       "        vertical-align: top;\n",
       "    }\n",
       "\n",
       "    .dataframe thead th {\n",
       "        text-align: right;\n",
       "    }\n",
       "</style>\n",
       "<table border=\"1\" class=\"dataframe\">\n",
       "  <thead>\n",
       "    <tr style=\"text-align: right;\">\n",
       "      <th></th>\n",
       "      <th>Country</th>\n",
       "      <th>Customer Count</th>\n",
       "    </tr>\n",
       "  </thead>\n",
       "  <tbody>\n",
       "    <tr>\n",
       "      <th>38</th>\n",
       "      <td>United Kingdom</td>\n",
       "      <td>5397</td>\n",
       "    </tr>\n",
       "    <tr>\n",
       "      <th>14</th>\n",
       "      <td>Germany</td>\n",
       "      <td>106</td>\n",
       "    </tr>\n",
       "    <tr>\n",
       "      <th>13</th>\n",
       "      <td>France</td>\n",
       "      <td>94</td>\n",
       "    </tr>\n",
       "    <tr>\n",
       "      <th>32</th>\n",
       "      <td>Spain</td>\n",
       "      <td>40</td>\n",
       "    </tr>\n",
       "    <tr>\n",
       "      <th>3</th>\n",
       "      <td>Belgium</td>\n",
       "      <td>29</td>\n",
       "    </tr>\n",
       "    <tr>\n",
       "      <th>28</th>\n",
       "      <td>Portugal</td>\n",
       "      <td>24</td>\n",
       "    </tr>\n",
       "    <tr>\n",
       "      <th>24</th>\n",
       "      <td>Netherlands</td>\n",
       "      <td>23</td>\n",
       "    </tr>\n",
       "    <tr>\n",
       "      <th>34</th>\n",
       "      <td>Switzerland</td>\n",
       "      <td>22</td>\n",
       "    </tr>\n",
       "    <tr>\n",
       "      <th>33</th>\n",
       "      <td>Sweden</td>\n",
       "      <td>19</td>\n",
       "    </tr>\n",
       "    <tr>\n",
       "      <th>18</th>\n",
       "      <td>Italy</td>\n",
       "      <td>17</td>\n",
       "    </tr>\n",
       "  </tbody>\n",
       "</table>\n",
       "</div>"
      ],
      "text/plain": [
       "           Country  Customer Count\n",
       "38  United Kingdom            5397\n",
       "14         Germany             106\n",
       "13          France              94\n",
       "32           Spain              40\n",
       "3          Belgium              29\n",
       "28        Portugal              24\n",
       "24     Netherlands              23\n",
       "34     Switzerland              22\n",
       "33          Sweden              19\n",
       "18           Italy              17"
      ]
     },
     "execution_count": 46,
     "metadata": {},
     "output_type": "execute_result"
    }
   ],
   "source": [
    "retail_countries_customers_desc"
   ]
  },
  {
   "cell_type": "code",
   "execution_count": 47,
   "id": "b1db51b2",
   "metadata": {
    "execution": {
     "iopub.execute_input": "2022-10-29T09:16:45.772698Z",
     "iopub.status.busy": "2022-10-29T09:16:45.772384Z",
     "iopub.status.idle": "2022-10-29T09:16:45.788528Z",
     "shell.execute_reply": "2022-10-29T09:16:45.787724Z"
    },
    "papermill": {
     "duration": 0.048044,
     "end_time": "2022-10-29T09:16:45.790215",
     "exception": false,
     "start_time": "2022-10-29T09:16:45.742171",
     "status": "completed"
    },
    "tags": []
   },
   "outputs": [
    {
     "data": {
      "text/html": [
       "<div>                            <div id=\"c87c8692-22e9-43fe-98ed-f071592e32bc\" class=\"plotly-graph-div\" style=\"height:525px; width:100%;\"></div>            <script type=\"text/javascript\">                require([\"plotly\"], function(Plotly) {                    window.PLOTLYENV=window.PLOTLYENV || {};                                    if (document.getElementById(\"c87c8692-22e9-43fe-98ed-f071592e32bc\")) {                    Plotly.newPlot(                        \"c87c8692-22e9-43fe-98ed-f071592e32bc\",                        [{\"marker\":{\"color\":[5397,106,94,40,29,24,23,22,19,17],\"colorscale\":[[0.0,\"rgb(150,0,90)\"],[0.125,\"rgb(0,0,200)\"],[0.25,\"rgb(0,25,255)\"],[0.375,\"rgb(0,152,255)\"],[0.5,\"rgb(44,255,150)\"],[0.625,\"rgb(151,255,0)\"],[0.75,\"rgb(255,234,0)\"],[0.875,\"rgb(255,111,0)\"],[1.0,\"rgb(255,0,0)\"]],\"opacity\":1},\"name\":\"Countries with Largest Number of Unique Customers\",\"x\":[\"United Kingdom\",\"Germany\",\"France\",\"Spain\",\"Belgium\",\"Portugal\",\"Netherlands\",\"Switzerland\",\"Sweden\",\"Italy\"],\"y\":[5397,106,94,40,29,24,23,22,19,17],\"type\":\"bar\",\"textposition\":\"outside\",\"texttemplate\":\"%{y:.3s}\"}],                        {\"template\":{\"data\":{\"histogram2dcontour\":[{\"type\":\"histogram2dcontour\",\"colorbar\":{\"outlinewidth\":0,\"ticks\":\"\"},\"colorscale\":[[0.0,\"#0d0887\"],[0.1111111111111111,\"#46039f\"],[0.2222222222222222,\"#7201a8\"],[0.3333333333333333,\"#9c179e\"],[0.4444444444444444,\"#bd3786\"],[0.5555555555555556,\"#d8576b\"],[0.6666666666666666,\"#ed7953\"],[0.7777777777777778,\"#fb9f3a\"],[0.8888888888888888,\"#fdca26\"],[1.0,\"#f0f921\"]]}],\"choropleth\":[{\"type\":\"choropleth\",\"colorbar\":{\"outlinewidth\":0,\"ticks\":\"\"}}],\"histogram2d\":[{\"type\":\"histogram2d\",\"colorbar\":{\"outlinewidth\":0,\"ticks\":\"\"},\"colorscale\":[[0.0,\"#0d0887\"],[0.1111111111111111,\"#46039f\"],[0.2222222222222222,\"#7201a8\"],[0.3333333333333333,\"#9c179e\"],[0.4444444444444444,\"#bd3786\"],[0.5555555555555556,\"#d8576b\"],[0.6666666666666666,\"#ed7953\"],[0.7777777777777778,\"#fb9f3a\"],[0.8888888888888888,\"#fdca26\"],[1.0,\"#f0f921\"]]}],\"heatmap\":[{\"type\":\"heatmap\",\"colorbar\":{\"outlinewidth\":0,\"ticks\":\"\"},\"colorscale\":[[0.0,\"#0d0887\"],[0.1111111111111111,\"#46039f\"],[0.2222222222222222,\"#7201a8\"],[0.3333333333333333,\"#9c179e\"],[0.4444444444444444,\"#bd3786\"],[0.5555555555555556,\"#d8576b\"],[0.6666666666666666,\"#ed7953\"],[0.7777777777777778,\"#fb9f3a\"],[0.8888888888888888,\"#fdca26\"],[1.0,\"#f0f921\"]]}],\"heatmapgl\":[{\"type\":\"heatmapgl\",\"colorbar\":{\"outlinewidth\":0,\"ticks\":\"\"},\"colorscale\":[[0.0,\"#0d0887\"],[0.1111111111111111,\"#46039f\"],[0.2222222222222222,\"#7201a8\"],[0.3333333333333333,\"#9c179e\"],[0.4444444444444444,\"#bd3786\"],[0.5555555555555556,\"#d8576b\"],[0.6666666666666666,\"#ed7953\"],[0.7777777777777778,\"#fb9f3a\"],[0.8888888888888888,\"#fdca26\"],[1.0,\"#f0f921\"]]}],\"contourcarpet\":[{\"type\":\"contourcarpet\",\"colorbar\":{\"outlinewidth\":0,\"ticks\":\"\"}}],\"contour\":[{\"type\":\"contour\",\"colorbar\":{\"outlinewidth\":0,\"ticks\":\"\"},\"colorscale\":[[0.0,\"#0d0887\"],[0.1111111111111111,\"#46039f\"],[0.2222222222222222,\"#7201a8\"],[0.3333333333333333,\"#9c179e\"],[0.4444444444444444,\"#bd3786\"],[0.5555555555555556,\"#d8576b\"],[0.6666666666666666,\"#ed7953\"],[0.7777777777777778,\"#fb9f3a\"],[0.8888888888888888,\"#fdca26\"],[1.0,\"#f0f921\"]]}],\"surface\":[{\"type\":\"surface\",\"colorbar\":{\"outlinewidth\":0,\"ticks\":\"\"},\"colorscale\":[[0.0,\"#0d0887\"],[0.1111111111111111,\"#46039f\"],[0.2222222222222222,\"#7201a8\"],[0.3333333333333333,\"#9c179e\"],[0.4444444444444444,\"#bd3786\"],[0.5555555555555556,\"#d8576b\"],[0.6666666666666666,\"#ed7953\"],[0.7777777777777778,\"#fb9f3a\"],[0.8888888888888888,\"#fdca26\"],[1.0,\"#f0f921\"]]}],\"mesh3d\":[{\"type\":\"mesh3d\",\"colorbar\":{\"outlinewidth\":0,\"ticks\":\"\"}}],\"scatter\":[{\"fillpattern\":{\"fillmode\":\"overlay\",\"size\":10,\"solidity\":0.2},\"type\":\"scatter\"}],\"parcoords\":[{\"type\":\"parcoords\",\"line\":{\"colorbar\":{\"outlinewidth\":0,\"ticks\":\"\"}}}],\"scatterpolargl\":[{\"type\":\"scatterpolargl\",\"marker\":{\"colorbar\":{\"outlinewidth\":0,\"ticks\":\"\"}}}],\"bar\":[{\"error_x\":{\"color\":\"#2a3f5f\"},\"error_y\":{\"color\":\"#2a3f5f\"},\"marker\":{\"line\":{\"color\":\"#E5ECF6\",\"width\":0.5},\"pattern\":{\"fillmode\":\"overlay\",\"size\":10,\"solidity\":0.2}},\"type\":\"bar\"}],\"scattergeo\":[{\"type\":\"scattergeo\",\"marker\":{\"colorbar\":{\"outlinewidth\":0,\"ticks\":\"\"}}}],\"scatterpolar\":[{\"type\":\"scatterpolar\",\"marker\":{\"colorbar\":{\"outlinewidth\":0,\"ticks\":\"\"}}}],\"histogram\":[{\"marker\":{\"pattern\":{\"fillmode\":\"overlay\",\"size\":10,\"solidity\":0.2}},\"type\":\"histogram\"}],\"scattergl\":[{\"type\":\"scattergl\",\"marker\":{\"colorbar\":{\"outlinewidth\":0,\"ticks\":\"\"}}}],\"scatter3d\":[{\"type\":\"scatter3d\",\"line\":{\"colorbar\":{\"outlinewidth\":0,\"ticks\":\"\"}},\"marker\":{\"colorbar\":{\"outlinewidth\":0,\"ticks\":\"\"}}}],\"scattermapbox\":[{\"type\":\"scattermapbox\",\"marker\":{\"colorbar\":{\"outlinewidth\":0,\"ticks\":\"\"}}}],\"scatterternary\":[{\"type\":\"scatterternary\",\"marker\":{\"colorbar\":{\"outlinewidth\":0,\"ticks\":\"\"}}}],\"scattercarpet\":[{\"type\":\"scattercarpet\",\"marker\":{\"colorbar\":{\"outlinewidth\":0,\"ticks\":\"\"}}}],\"carpet\":[{\"aaxis\":{\"endlinecolor\":\"#2a3f5f\",\"gridcolor\":\"white\",\"linecolor\":\"white\",\"minorgridcolor\":\"white\",\"startlinecolor\":\"#2a3f5f\"},\"baxis\":{\"endlinecolor\":\"#2a3f5f\",\"gridcolor\":\"white\",\"linecolor\":\"white\",\"minorgridcolor\":\"white\",\"startlinecolor\":\"#2a3f5f\"},\"type\":\"carpet\"}],\"table\":[{\"cells\":{\"fill\":{\"color\":\"#EBF0F8\"},\"line\":{\"color\":\"white\"}},\"header\":{\"fill\":{\"color\":\"#C8D4E3\"},\"line\":{\"color\":\"white\"}},\"type\":\"table\"}],\"barpolar\":[{\"marker\":{\"line\":{\"color\":\"#E5ECF6\",\"width\":0.5},\"pattern\":{\"fillmode\":\"overlay\",\"size\":10,\"solidity\":0.2}},\"type\":\"barpolar\"}],\"pie\":[{\"automargin\":true,\"type\":\"pie\"}]},\"layout\":{\"autotypenumbers\":\"strict\",\"colorway\":[\"#636efa\",\"#EF553B\",\"#00cc96\",\"#ab63fa\",\"#FFA15A\",\"#19d3f3\",\"#FF6692\",\"#B6E880\",\"#FF97FF\",\"#FECB52\"],\"font\":{\"color\":\"#2a3f5f\"},\"hovermode\":\"closest\",\"hoverlabel\":{\"align\":\"left\"},\"paper_bgcolor\":\"white\",\"plot_bgcolor\":\"#E5ECF6\",\"polar\":{\"bgcolor\":\"#E5ECF6\",\"angularaxis\":{\"gridcolor\":\"white\",\"linecolor\":\"white\",\"ticks\":\"\"},\"radialaxis\":{\"gridcolor\":\"white\",\"linecolor\":\"white\",\"ticks\":\"\"}},\"ternary\":{\"bgcolor\":\"#E5ECF6\",\"aaxis\":{\"gridcolor\":\"white\",\"linecolor\":\"white\",\"ticks\":\"\"},\"baxis\":{\"gridcolor\":\"white\",\"linecolor\":\"white\",\"ticks\":\"\"},\"caxis\":{\"gridcolor\":\"white\",\"linecolor\":\"white\",\"ticks\":\"\"}},\"coloraxis\":{\"colorbar\":{\"outlinewidth\":0,\"ticks\":\"\"}},\"colorscale\":{\"sequential\":[[0.0,\"#0d0887\"],[0.1111111111111111,\"#46039f\"],[0.2222222222222222,\"#7201a8\"],[0.3333333333333333,\"#9c179e\"],[0.4444444444444444,\"#bd3786\"],[0.5555555555555556,\"#d8576b\"],[0.6666666666666666,\"#ed7953\"],[0.7777777777777778,\"#fb9f3a\"],[0.8888888888888888,\"#fdca26\"],[1.0,\"#f0f921\"]],\"sequentialminus\":[[0.0,\"#0d0887\"],[0.1111111111111111,\"#46039f\"],[0.2222222222222222,\"#7201a8\"],[0.3333333333333333,\"#9c179e\"],[0.4444444444444444,\"#bd3786\"],[0.5555555555555556,\"#d8576b\"],[0.6666666666666666,\"#ed7953\"],[0.7777777777777778,\"#fb9f3a\"],[0.8888888888888888,\"#fdca26\"],[1.0,\"#f0f921\"]],\"diverging\":[[0,\"#8e0152\"],[0.1,\"#c51b7d\"],[0.2,\"#de77ae\"],[0.3,\"#f1b6da\"],[0.4,\"#fde0ef\"],[0.5,\"#f7f7f7\"],[0.6,\"#e6f5d0\"],[0.7,\"#b8e186\"],[0.8,\"#7fbc41\"],[0.9,\"#4d9221\"],[1,\"#276419\"]]},\"xaxis\":{\"gridcolor\":\"white\",\"linecolor\":\"white\",\"ticks\":\"\",\"title\":{\"standoff\":15},\"zerolinecolor\":\"white\",\"automargin\":true,\"zerolinewidth\":2},\"yaxis\":{\"gridcolor\":\"white\",\"linecolor\":\"white\",\"ticks\":\"\",\"title\":{\"standoff\":15},\"zerolinecolor\":\"white\",\"automargin\":true,\"zerolinewidth\":2},\"scene\":{\"xaxis\":{\"backgroundcolor\":\"#E5ECF6\",\"gridcolor\":\"white\",\"linecolor\":\"white\",\"showbackground\":true,\"ticks\":\"\",\"zerolinecolor\":\"white\",\"gridwidth\":2},\"yaxis\":{\"backgroundcolor\":\"#E5ECF6\",\"gridcolor\":\"white\",\"linecolor\":\"white\",\"showbackground\":true,\"ticks\":\"\",\"zerolinecolor\":\"white\",\"gridwidth\":2},\"zaxis\":{\"backgroundcolor\":\"#E5ECF6\",\"gridcolor\":\"white\",\"linecolor\":\"white\",\"showbackground\":true,\"ticks\":\"\",\"zerolinecolor\":\"white\",\"gridwidth\":2}},\"shapedefaults\":{\"line\":{\"color\":\"#2a3f5f\"}},\"annotationdefaults\":{\"arrowcolor\":\"#2a3f5f\",\"arrowhead\":0,\"arrowwidth\":1},\"geo\":{\"bgcolor\":\"white\",\"landcolor\":\"#E5ECF6\",\"subunitcolor\":\"white\",\"showland\":true,\"showlakes\":true,\"lakecolor\":\"white\"},\"title\":{\"x\":0.05},\"mapbox\":{\"style\":\"light\"}}},\"title\":{\"text\":\"Countries with Largest Number of Unique Customers\",\"x\":0.45},\"xaxis\":{\"title\":{\"text\":\"Countries\"}},\"yaxis\":{\"title\":{\"text\":\"Number of Unique Customers\"}},\"plot_bgcolor\":\"white\"},                        {\"responsive\": true}                    ).then(function(){\n",
       "                            \n",
       "var gd = document.getElementById('c87c8692-22e9-43fe-98ed-f071592e32bc');\n",
       "var x = new MutationObserver(function (mutations, observer) {{\n",
       "        var display = window.getComputedStyle(gd).display;\n",
       "        if (!display || display === 'none') {{\n",
       "            console.log([gd, 'removed!']);\n",
       "            Plotly.purge(gd);\n",
       "            observer.disconnect();\n",
       "        }}\n",
       "}});\n",
       "\n",
       "// Listen for the removal of the full notebook cells\n",
       "var notebookContainer = gd.closest('#notebook-container');\n",
       "if (notebookContainer) {{\n",
       "    x.observe(notebookContainer, {childList: true});\n",
       "}}\n",
       "\n",
       "// Listen for the clearing of the current output cell\n",
       "var outputEl = gd.closest('.output');\n",
       "if (outputEl) {{\n",
       "    x.observe(outputEl, {childList: true});\n",
       "}}\n",
       "\n",
       "                        })                };                });            </script>        </div>"
      ]
     },
     "metadata": {},
     "output_type": "display_data"
    }
   ],
   "source": [
    "fig = go.Figure(data=[\n",
    "    go.Bar(name='Countries with Largest Number of Unique Customers', \n",
    "           x=retail_countries_customers_desc['Country'].astype(str), \n",
    "           y=retail_countries_customers_desc['Customer Count'],\n",
    "           marker_opacity=1,\n",
    "           marker={'color': retail_countries_customers_desc['Customer Count'],\n",
    "                   'colorscale': 'Rainbow'})\n",
    "    ])\n",
    "\n",
    "fig.update_traces(texttemplate='%{y:.3s}', textposition='outside')\n",
    "\n",
    "fig.update_layout(title='Countries with Largest Number of Unique Customers',\n",
    "                  title_x=0.45,\n",
    "                  xaxis_title=\"Countries\",\n",
    "                  yaxis_title=\"Number of Unique Customers\",\n",
    "                  plot_bgcolor='white')\n",
    "fig.show()"
   ]
  },
  {
   "cell_type": "code",
   "execution_count": 48,
   "id": "913b3500",
   "metadata": {
    "execution": {
     "iopub.execute_input": "2022-10-29T09:16:45.851779Z",
     "iopub.status.busy": "2022-10-29T09:16:45.851471Z",
     "iopub.status.idle": "2022-10-29T09:16:45.870266Z",
     "shell.execute_reply": "2022-10-29T09:16:45.869087Z"
    },
    "papermill": {
     "duration": 0.052524,
     "end_time": "2022-10-29T09:16:45.872757",
     "exception": false,
     "start_time": "2022-10-29T09:16:45.820233",
     "status": "completed"
    },
    "tags": []
   },
   "outputs": [
    {
     "data": {
      "text/html": [
       "<div>                            <div id=\"fd27355e-9a5f-4b7a-ba3c-dc9dafe45986\" class=\"plotly-graph-div\" style=\"height:525px; width:100%;\"></div>            <script type=\"text/javascript\">                require([\"plotly\"], function(Plotly) {                    window.PLOTLYENV=window.PLOTLYENV || {};                                    if (document.getElementById(\"fd27355e-9a5f-4b7a-ba3c-dc9dafe45986\")) {                    Plotly.newPlot(                        \"fd27355e-9a5f-4b7a-ba3c-dc9dafe45986\",                        [{\"marker\":{\"color\":[5397,106,94,40,29,24,23,22,19,17],\"colorscale\":[[0.0,\"rgb(150,0,90)\"],[0.125,\"rgb(0,0,200)\"],[0.25,\"rgb(0,25,255)\"],[0.375,\"rgb(0,152,255)\"],[0.5,\"rgb(44,255,150)\"],[0.625,\"rgb(151,255,0)\"],[0.75,\"rgb(255,234,0)\"],[0.875,\"rgb(255,111,0)\"],[1.0,\"rgb(255,0,0)\"]],\"opacity\":1},\"name\":\"Countries with Smallest Number of Unique Customers\",\"x\":[\"West Indies\",\"Thailand\",\"Singapore\",\"Saudi Arabia\",\"Nigeria\",\"Lithuania\",\"Czech Republic\",\"Lebanon\",\"Iceland\",\"European Community\"],\"y\":[1,1,1,1,1,1,1,1,1,1],\"type\":\"bar\",\"textposition\":\"inside\",\"texttemplate\":\"%{y:.3s}\"}],                        {\"template\":{\"data\":{\"histogram2dcontour\":[{\"type\":\"histogram2dcontour\",\"colorbar\":{\"outlinewidth\":0,\"ticks\":\"\"},\"colorscale\":[[0.0,\"#0d0887\"],[0.1111111111111111,\"#46039f\"],[0.2222222222222222,\"#7201a8\"],[0.3333333333333333,\"#9c179e\"],[0.4444444444444444,\"#bd3786\"],[0.5555555555555556,\"#d8576b\"],[0.6666666666666666,\"#ed7953\"],[0.7777777777777778,\"#fb9f3a\"],[0.8888888888888888,\"#fdca26\"],[1.0,\"#f0f921\"]]}],\"choropleth\":[{\"type\":\"choropleth\",\"colorbar\":{\"outlinewidth\":0,\"ticks\":\"\"}}],\"histogram2d\":[{\"type\":\"histogram2d\",\"colorbar\":{\"outlinewidth\":0,\"ticks\":\"\"},\"colorscale\":[[0.0,\"#0d0887\"],[0.1111111111111111,\"#46039f\"],[0.2222222222222222,\"#7201a8\"],[0.3333333333333333,\"#9c179e\"],[0.4444444444444444,\"#bd3786\"],[0.5555555555555556,\"#d8576b\"],[0.6666666666666666,\"#ed7953\"],[0.7777777777777778,\"#fb9f3a\"],[0.8888888888888888,\"#fdca26\"],[1.0,\"#f0f921\"]]}],\"heatmap\":[{\"type\":\"heatmap\",\"colorbar\":{\"outlinewidth\":0,\"ticks\":\"\"},\"colorscale\":[[0.0,\"#0d0887\"],[0.1111111111111111,\"#46039f\"],[0.2222222222222222,\"#7201a8\"],[0.3333333333333333,\"#9c179e\"],[0.4444444444444444,\"#bd3786\"],[0.5555555555555556,\"#d8576b\"],[0.6666666666666666,\"#ed7953\"],[0.7777777777777778,\"#fb9f3a\"],[0.8888888888888888,\"#fdca26\"],[1.0,\"#f0f921\"]]}],\"heatmapgl\":[{\"type\":\"heatmapgl\",\"colorbar\":{\"outlinewidth\":0,\"ticks\":\"\"},\"colorscale\":[[0.0,\"#0d0887\"],[0.1111111111111111,\"#46039f\"],[0.2222222222222222,\"#7201a8\"],[0.3333333333333333,\"#9c179e\"],[0.4444444444444444,\"#bd3786\"],[0.5555555555555556,\"#d8576b\"],[0.6666666666666666,\"#ed7953\"],[0.7777777777777778,\"#fb9f3a\"],[0.8888888888888888,\"#fdca26\"],[1.0,\"#f0f921\"]]}],\"contourcarpet\":[{\"type\":\"contourcarpet\",\"colorbar\":{\"outlinewidth\":0,\"ticks\":\"\"}}],\"contour\":[{\"type\":\"contour\",\"colorbar\":{\"outlinewidth\":0,\"ticks\":\"\"},\"colorscale\":[[0.0,\"#0d0887\"],[0.1111111111111111,\"#46039f\"],[0.2222222222222222,\"#7201a8\"],[0.3333333333333333,\"#9c179e\"],[0.4444444444444444,\"#bd3786\"],[0.5555555555555556,\"#d8576b\"],[0.6666666666666666,\"#ed7953\"],[0.7777777777777778,\"#fb9f3a\"],[0.8888888888888888,\"#fdca26\"],[1.0,\"#f0f921\"]]}],\"surface\":[{\"type\":\"surface\",\"colorbar\":{\"outlinewidth\":0,\"ticks\":\"\"},\"colorscale\":[[0.0,\"#0d0887\"],[0.1111111111111111,\"#46039f\"],[0.2222222222222222,\"#7201a8\"],[0.3333333333333333,\"#9c179e\"],[0.4444444444444444,\"#bd3786\"],[0.5555555555555556,\"#d8576b\"],[0.6666666666666666,\"#ed7953\"],[0.7777777777777778,\"#fb9f3a\"],[0.8888888888888888,\"#fdca26\"],[1.0,\"#f0f921\"]]}],\"mesh3d\":[{\"type\":\"mesh3d\",\"colorbar\":{\"outlinewidth\":0,\"ticks\":\"\"}}],\"scatter\":[{\"fillpattern\":{\"fillmode\":\"overlay\",\"size\":10,\"solidity\":0.2},\"type\":\"scatter\"}],\"parcoords\":[{\"type\":\"parcoords\",\"line\":{\"colorbar\":{\"outlinewidth\":0,\"ticks\":\"\"}}}],\"scatterpolargl\":[{\"type\":\"scatterpolargl\",\"marker\":{\"colorbar\":{\"outlinewidth\":0,\"ticks\":\"\"}}}],\"bar\":[{\"error_x\":{\"color\":\"#2a3f5f\"},\"error_y\":{\"color\":\"#2a3f5f\"},\"marker\":{\"line\":{\"color\":\"#E5ECF6\",\"width\":0.5},\"pattern\":{\"fillmode\":\"overlay\",\"size\":10,\"solidity\":0.2}},\"type\":\"bar\"}],\"scattergeo\":[{\"type\":\"scattergeo\",\"marker\":{\"colorbar\":{\"outlinewidth\":0,\"ticks\":\"\"}}}],\"scatterpolar\":[{\"type\":\"scatterpolar\",\"marker\":{\"colorbar\":{\"outlinewidth\":0,\"ticks\":\"\"}}}],\"histogram\":[{\"marker\":{\"pattern\":{\"fillmode\":\"overlay\",\"size\":10,\"solidity\":0.2}},\"type\":\"histogram\"}],\"scattergl\":[{\"type\":\"scattergl\",\"marker\":{\"colorbar\":{\"outlinewidth\":0,\"ticks\":\"\"}}}],\"scatter3d\":[{\"type\":\"scatter3d\",\"line\":{\"colorbar\":{\"outlinewidth\":0,\"ticks\":\"\"}},\"marker\":{\"colorbar\":{\"outlinewidth\":0,\"ticks\":\"\"}}}],\"scattermapbox\":[{\"type\":\"scattermapbox\",\"marker\":{\"colorbar\":{\"outlinewidth\":0,\"ticks\":\"\"}}}],\"scatterternary\":[{\"type\":\"scatterternary\",\"marker\":{\"colorbar\":{\"outlinewidth\":0,\"ticks\":\"\"}}}],\"scattercarpet\":[{\"type\":\"scattercarpet\",\"marker\":{\"colorbar\":{\"outlinewidth\":0,\"ticks\":\"\"}}}],\"carpet\":[{\"aaxis\":{\"endlinecolor\":\"#2a3f5f\",\"gridcolor\":\"white\",\"linecolor\":\"white\",\"minorgridcolor\":\"white\",\"startlinecolor\":\"#2a3f5f\"},\"baxis\":{\"endlinecolor\":\"#2a3f5f\",\"gridcolor\":\"white\",\"linecolor\":\"white\",\"minorgridcolor\":\"white\",\"startlinecolor\":\"#2a3f5f\"},\"type\":\"carpet\"}],\"table\":[{\"cells\":{\"fill\":{\"color\":\"#EBF0F8\"},\"line\":{\"color\":\"white\"}},\"header\":{\"fill\":{\"color\":\"#C8D4E3\"},\"line\":{\"color\":\"white\"}},\"type\":\"table\"}],\"barpolar\":[{\"marker\":{\"line\":{\"color\":\"#E5ECF6\",\"width\":0.5},\"pattern\":{\"fillmode\":\"overlay\",\"size\":10,\"solidity\":0.2}},\"type\":\"barpolar\"}],\"pie\":[{\"automargin\":true,\"type\":\"pie\"}]},\"layout\":{\"autotypenumbers\":\"strict\",\"colorway\":[\"#636efa\",\"#EF553B\",\"#00cc96\",\"#ab63fa\",\"#FFA15A\",\"#19d3f3\",\"#FF6692\",\"#B6E880\",\"#FF97FF\",\"#FECB52\"],\"font\":{\"color\":\"#2a3f5f\"},\"hovermode\":\"closest\",\"hoverlabel\":{\"align\":\"left\"},\"paper_bgcolor\":\"white\",\"plot_bgcolor\":\"#E5ECF6\",\"polar\":{\"bgcolor\":\"#E5ECF6\",\"angularaxis\":{\"gridcolor\":\"white\",\"linecolor\":\"white\",\"ticks\":\"\"},\"radialaxis\":{\"gridcolor\":\"white\",\"linecolor\":\"white\",\"ticks\":\"\"}},\"ternary\":{\"bgcolor\":\"#E5ECF6\",\"aaxis\":{\"gridcolor\":\"white\",\"linecolor\":\"white\",\"ticks\":\"\"},\"baxis\":{\"gridcolor\":\"white\",\"linecolor\":\"white\",\"ticks\":\"\"},\"caxis\":{\"gridcolor\":\"white\",\"linecolor\":\"white\",\"ticks\":\"\"}},\"coloraxis\":{\"colorbar\":{\"outlinewidth\":0,\"ticks\":\"\"}},\"colorscale\":{\"sequential\":[[0.0,\"#0d0887\"],[0.1111111111111111,\"#46039f\"],[0.2222222222222222,\"#7201a8\"],[0.3333333333333333,\"#9c179e\"],[0.4444444444444444,\"#bd3786\"],[0.5555555555555556,\"#d8576b\"],[0.6666666666666666,\"#ed7953\"],[0.7777777777777778,\"#fb9f3a\"],[0.8888888888888888,\"#fdca26\"],[1.0,\"#f0f921\"]],\"sequentialminus\":[[0.0,\"#0d0887\"],[0.1111111111111111,\"#46039f\"],[0.2222222222222222,\"#7201a8\"],[0.3333333333333333,\"#9c179e\"],[0.4444444444444444,\"#bd3786\"],[0.5555555555555556,\"#d8576b\"],[0.6666666666666666,\"#ed7953\"],[0.7777777777777778,\"#fb9f3a\"],[0.8888888888888888,\"#fdca26\"],[1.0,\"#f0f921\"]],\"diverging\":[[0,\"#8e0152\"],[0.1,\"#c51b7d\"],[0.2,\"#de77ae\"],[0.3,\"#f1b6da\"],[0.4,\"#fde0ef\"],[0.5,\"#f7f7f7\"],[0.6,\"#e6f5d0\"],[0.7,\"#b8e186\"],[0.8,\"#7fbc41\"],[0.9,\"#4d9221\"],[1,\"#276419\"]]},\"xaxis\":{\"gridcolor\":\"white\",\"linecolor\":\"white\",\"ticks\":\"\",\"title\":{\"standoff\":15},\"zerolinecolor\":\"white\",\"automargin\":true,\"zerolinewidth\":2},\"yaxis\":{\"gridcolor\":\"white\",\"linecolor\":\"white\",\"ticks\":\"\",\"title\":{\"standoff\":15},\"zerolinecolor\":\"white\",\"automargin\":true,\"zerolinewidth\":2},\"scene\":{\"xaxis\":{\"backgroundcolor\":\"#E5ECF6\",\"gridcolor\":\"white\",\"linecolor\":\"white\",\"showbackground\":true,\"ticks\":\"\",\"zerolinecolor\":\"white\",\"gridwidth\":2},\"yaxis\":{\"backgroundcolor\":\"#E5ECF6\",\"gridcolor\":\"white\",\"linecolor\":\"white\",\"showbackground\":true,\"ticks\":\"\",\"zerolinecolor\":\"white\",\"gridwidth\":2},\"zaxis\":{\"backgroundcolor\":\"#E5ECF6\",\"gridcolor\":\"white\",\"linecolor\":\"white\",\"showbackground\":true,\"ticks\":\"\",\"zerolinecolor\":\"white\",\"gridwidth\":2}},\"shapedefaults\":{\"line\":{\"color\":\"#2a3f5f\"}},\"annotationdefaults\":{\"arrowcolor\":\"#2a3f5f\",\"arrowhead\":0,\"arrowwidth\":1},\"geo\":{\"bgcolor\":\"white\",\"landcolor\":\"#E5ECF6\",\"subunitcolor\":\"white\",\"showland\":true,\"showlakes\":true,\"lakecolor\":\"white\"},\"title\":{\"x\":0.05},\"mapbox\":{\"style\":\"light\"}}},\"title\":{\"text\":\"Countries with Smallest Number of Unique Customers\",\"x\":0.45,\"y\":0.97},\"xaxis\":{\"title\":{\"text\":\"Countries\"}},\"yaxis\":{\"title\":{\"text\":\"Number of Unique Customers\"}},\"plot_bgcolor\":\"white\"},                        {\"responsive\": true}                    ).then(function(){\n",
       "                            \n",
       "var gd = document.getElementById('fd27355e-9a5f-4b7a-ba3c-dc9dafe45986');\n",
       "var x = new MutationObserver(function (mutations, observer) {{\n",
       "        var display = window.getComputedStyle(gd).display;\n",
       "        if (!display || display === 'none') {{\n",
       "            console.log([gd, 'removed!']);\n",
       "            Plotly.purge(gd);\n",
       "            observer.disconnect();\n",
       "        }}\n",
       "}});\n",
       "\n",
       "// Listen for the removal of the full notebook cells\n",
       "var notebookContainer = gd.closest('#notebook-container');\n",
       "if (notebookContainer) {{\n",
       "    x.observe(notebookContainer, {childList: true});\n",
       "}}\n",
       "\n",
       "// Listen for the clearing of the current output cell\n",
       "var outputEl = gd.closest('.output');\n",
       "if (outputEl) {{\n",
       "    x.observe(outputEl, {childList: true});\n",
       "}}\n",
       "\n",
       "                        })                };                });            </script>        </div>"
      ]
     },
     "metadata": {},
     "output_type": "display_data"
    }
   ],
   "source": [
    "fig = go.Figure(data=[\n",
    "    go.Bar(name='Countries with Smallest Number of Unique Customers', \n",
    "           x=retail_countries_customers_asc['Country'].astype(str), \n",
    "           y=retail_countries_customers_asc['Customer Count'],\n",
    "           marker_opacity=1,\n",
    "           marker={'color': retail_countries_customers_desc['Customer Count'],\n",
    "                   'colorscale': 'Rainbow'}\n",
    "          )\n",
    "    ])\n",
    "\n",
    "fig.update_traces(texttemplate='%{y:.3s}', textposition='inside')\n",
    "\n",
    "fig.update_layout(title='Countries with Smallest Number of Unique Customers',\n",
    "                  title_x=0.45,\n",
    "                  title_y=0.97,\n",
    "                  xaxis_title=\"Countries\",\n",
    "                  yaxis_title=\"Number of Unique Customers\",\n",
    "                  plot_bgcolor='white')\n",
    "fig.show()"
   ]
  },
  {
   "cell_type": "markdown",
   "id": "8ee7eaec",
   "metadata": {
    "execution": {
     "iopub.execute_input": "2022-10-29T05:58:27.208664Z",
     "iopub.status.busy": "2022-10-29T05:58:27.208281Z",
     "iopub.status.idle": "2022-10-29T05:58:27.215690Z",
     "shell.execute_reply": "2022-10-29T05:58:27.214390Z",
     "shell.execute_reply.started": "2022-10-29T05:58:27.208632Z"
    },
    "papermill": {
     "duration": 0.033423,
     "end_time": "2022-10-29T09:16:45.942723",
     "exception": false,
     "start_time": "2022-10-29T09:16:45.909300",
     "status": "completed"
    },
    "tags": []
   },
   "source": [
    "**In UK, 5.41k of unique customers have made purchases in two years, while Germany and France follow up with only 107 customers and 95 customers correspondingly. The difference between top position and the followers is indeed huge. Note that we have spotted the same while analysing purchases for each country.**\n",
    "\n",
    "**Also there are many countries with a single unique customer, such as Thailand, \n",
    "Nigeria, Iceland, Saudi Arabia etc. Here, Czech Republic is again an outlier in \n",
    "the list of Asian, South American and African countries, but now we see that also Lithuania and Iceland have only one customer. While Iceland has a relatively small population, it would be interesting to investigate and compare the reasons for Czech Republic and Lithuania.**"
   ]
  },
  {
   "cell_type": "markdown",
   "id": "14b81989",
   "metadata": {
    "papermill": {
     "duration": 0.030099,
     "end_time": "2022-10-29T09:16:46.002204",
     "exception": false,
     "start_time": "2022-10-29T09:16:45.972105",
     "status": "completed"
    },
    "tags": []
   },
   "source": [
    "# **Products Analysis: Quantity**"
   ]
  },
  {
   "cell_type": "markdown",
   "id": "7953e9fa",
   "metadata": {
    "papermill": {
     "duration": 0.030361,
     "end_time": "2022-10-29T09:16:46.064080",
     "exception": false,
     "start_time": "2022-10-29T09:16:46.033719",
     "status": "completed"
    },
    "tags": []
   },
   "source": [
    "**Next, I will find 10 bestselling products and 10 products which have top number\n",
    "of returns.**\n",
    "**I will remove products with description 'Discount' and 'CRUK Commission' to \n",
    "concentrate on the representative data.**"
   ]
  },
  {
   "cell_type": "code",
   "execution_count": 49,
   "id": "b9e3873b",
   "metadata": {
    "execution": {
     "iopub.execute_input": "2022-10-29T09:16:46.125761Z",
     "iopub.status.busy": "2022-10-29T09:16:46.125428Z",
     "iopub.status.idle": "2022-10-29T09:16:46.238734Z",
     "shell.execute_reply": "2022-10-29T09:16:46.237877Z"
    },
    "papermill": {
     "duration": 0.146295,
     "end_time": "2022-10-29T09:16:46.240424",
     "exception": false,
     "start_time": "2022-10-29T09:16:46.094129",
     "status": "completed"
    },
    "tags": []
   },
   "outputs": [
    {
     "data": {
      "text/html": [
       "<div>\n",
       "<style scoped>\n",
       "    .dataframe tbody tr th:only-of-type {\n",
       "        vertical-align: middle;\n",
       "    }\n",
       "\n",
       "    .dataframe tbody tr th {\n",
       "        vertical-align: top;\n",
       "    }\n",
       "\n",
       "    .dataframe thead th {\n",
       "        text-align: right;\n",
       "    }\n",
       "</style>\n",
       "<table border=\"1\" class=\"dataframe\">\n",
       "  <thead>\n",
       "    <tr style=\"text-align: right;\">\n",
       "      <th></th>\n",
       "      <th>Description</th>\n",
       "      <th>Quantity</th>\n",
       "    </tr>\n",
       "  </thead>\n",
       "  <tbody>\n",
       "    <tr>\n",
       "      <th>0</th>\n",
       "      <td>DOORMAT UNION JACK GUNS AND ROSES</td>\n",
       "      <td>167</td>\n",
       "    </tr>\n",
       "    <tr>\n",
       "      <th>1</th>\n",
       "      <td>3 STRIPEY MICE FELTCRAFT</td>\n",
       "      <td>660</td>\n",
       "    </tr>\n",
       "    <tr>\n",
       "      <th>2</th>\n",
       "      <td>4 PURPLE FLOCK DINNER CANDLES</td>\n",
       "      <td>275</td>\n",
       "    </tr>\n",
       "    <tr>\n",
       "      <th>3</th>\n",
       "      <td>50'S CHRISTMAS GIFT BAG LARGE</td>\n",
       "      <td>1853</td>\n",
       "    </tr>\n",
       "    <tr>\n",
       "      <th>4</th>\n",
       "      <td>ANIMAL STICKERS</td>\n",
       "      <td>385</td>\n",
       "    </tr>\n",
       "    <tr>\n",
       "      <th>...</th>\n",
       "      <td>...</td>\n",
       "      <td>...</td>\n",
       "    </tr>\n",
       "    <tr>\n",
       "      <th>5292</th>\n",
       "      <td>ZINC T-LIGHT HOLDER STARS SMALL</td>\n",
       "      <td>4767</td>\n",
       "    </tr>\n",
       "    <tr>\n",
       "      <th>5293</th>\n",
       "      <td>ZINC TOP  2 DOOR WOODEN SHELF</td>\n",
       "      <td>231</td>\n",
       "    </tr>\n",
       "    <tr>\n",
       "      <th>5294</th>\n",
       "      <td>ZINC WILLIE WINKIE  CANDLE STICK</td>\n",
       "      <td>6059</td>\n",
       "    </tr>\n",
       "    <tr>\n",
       "      <th>5295</th>\n",
       "      <td>ZINC WIRE KITCHEN ORGANISER</td>\n",
       "      <td>9</td>\n",
       "    </tr>\n",
       "    <tr>\n",
       "      <th>5296</th>\n",
       "      <td>ZINC WIRE SWEETHEART LETTER TRAY</td>\n",
       "      <td>67</td>\n",
       "    </tr>\n",
       "  </tbody>\n",
       "</table>\n",
       "<p>5297 rows × 2 columns</p>\n",
       "</div>"
      ],
      "text/plain": [
       "                              Description  Quantity\n",
       "0       DOORMAT UNION JACK GUNS AND ROSES       167\n",
       "1                3 STRIPEY MICE FELTCRAFT       660\n",
       "2           4 PURPLE FLOCK DINNER CANDLES       275\n",
       "3           50'S CHRISTMAS GIFT BAG LARGE      1853\n",
       "4                         ANIMAL STICKERS       385\n",
       "...                                   ...       ...\n",
       "5292      ZINC T-LIGHT HOLDER STARS SMALL      4767\n",
       "5293       ZINC TOP  2 DOOR WOODEN SHELF        231\n",
       "5294     ZINC WILLIE WINKIE  CANDLE STICK      6059\n",
       "5295          ZINC WIRE KITCHEN ORGANISER         9\n",
       "5296     ZINC WIRE SWEETHEART LETTER TRAY        67\n",
       "\n",
       "[5297 rows x 2 columns]"
      ]
     },
     "execution_count": 49,
     "metadata": {},
     "output_type": "execute_result"
    }
   ],
   "source": [
    "retail_products = retail.groupby(['Description'], as_index=False)['Quantity'].agg('sum')\n",
    "retail_products"
   ]
  },
  {
   "cell_type": "code",
   "execution_count": 50,
   "id": "f16d768f",
   "metadata": {
    "execution": {
     "iopub.execute_input": "2022-10-29T09:16:46.301762Z",
     "iopub.status.busy": "2022-10-29T09:16:46.301003Z",
     "iopub.status.idle": "2022-10-29T09:16:46.312705Z",
     "shell.execute_reply": "2022-10-29T09:16:46.312070Z"
    },
    "papermill": {
     "duration": 0.043899,
     "end_time": "2022-10-29T09:16:46.314365",
     "exception": false,
     "start_time": "2022-10-29T09:16:46.270466",
     "status": "completed"
    },
    "tags": []
   },
   "outputs": [
    {
     "data": {
      "text/html": [
       "<div>\n",
       "<style scoped>\n",
       "    .dataframe tbody tr th:only-of-type {\n",
       "        vertical-align: middle;\n",
       "    }\n",
       "\n",
       "    .dataframe tbody tr th {\n",
       "        vertical-align: top;\n",
       "    }\n",
       "\n",
       "    .dataframe thead th {\n",
       "        text-align: right;\n",
       "    }\n",
       "</style>\n",
       "<table border=\"1\" class=\"dataframe\">\n",
       "  <thead>\n",
       "    <tr style=\"text-align: right;\">\n",
       "      <th></th>\n",
       "      <th>Description</th>\n",
       "      <th>Quantity</th>\n",
       "    </tr>\n",
       "  </thead>\n",
       "  <tbody>\n",
       "    <tr>\n",
       "      <th>0</th>\n",
       "      <td>DOORMAT UNION JACK GUNS AND ROSES</td>\n",
       "      <td>167</td>\n",
       "    </tr>\n",
       "    <tr>\n",
       "      <th>1</th>\n",
       "      <td>3 STRIPEY MICE FELTCRAFT</td>\n",
       "      <td>660</td>\n",
       "    </tr>\n",
       "    <tr>\n",
       "      <th>2</th>\n",
       "      <td>4 PURPLE FLOCK DINNER CANDLES</td>\n",
       "      <td>275</td>\n",
       "    </tr>\n",
       "    <tr>\n",
       "      <th>3</th>\n",
       "      <td>50'S CHRISTMAS GIFT BAG LARGE</td>\n",
       "      <td>1853</td>\n",
       "    </tr>\n",
       "    <tr>\n",
       "      <th>4</th>\n",
       "      <td>ANIMAL STICKERS</td>\n",
       "      <td>385</td>\n",
       "    </tr>\n",
       "    <tr>\n",
       "      <th>...</th>\n",
       "      <td>...</td>\n",
       "      <td>...</td>\n",
       "    </tr>\n",
       "    <tr>\n",
       "      <th>5292</th>\n",
       "      <td>ZINC T-LIGHT HOLDER STARS SMALL</td>\n",
       "      <td>4767</td>\n",
       "    </tr>\n",
       "    <tr>\n",
       "      <th>5293</th>\n",
       "      <td>ZINC TOP  2 DOOR WOODEN SHELF</td>\n",
       "      <td>231</td>\n",
       "    </tr>\n",
       "    <tr>\n",
       "      <th>5294</th>\n",
       "      <td>ZINC WILLIE WINKIE  CANDLE STICK</td>\n",
       "      <td>6059</td>\n",
       "    </tr>\n",
       "    <tr>\n",
       "      <th>5295</th>\n",
       "      <td>ZINC WIRE KITCHEN ORGANISER</td>\n",
       "      <td>9</td>\n",
       "    </tr>\n",
       "    <tr>\n",
       "      <th>5296</th>\n",
       "      <td>ZINC WIRE SWEETHEART LETTER TRAY</td>\n",
       "      <td>67</td>\n",
       "    </tr>\n",
       "  </tbody>\n",
       "</table>\n",
       "<p>5295 rows × 2 columns</p>\n",
       "</div>"
      ],
      "text/plain": [
       "                              Description  Quantity\n",
       "0       DOORMAT UNION JACK GUNS AND ROSES       167\n",
       "1                3 STRIPEY MICE FELTCRAFT       660\n",
       "2           4 PURPLE FLOCK DINNER CANDLES       275\n",
       "3           50'S CHRISTMAS GIFT BAG LARGE      1853\n",
       "4                         ANIMAL STICKERS       385\n",
       "...                                   ...       ...\n",
       "5292      ZINC T-LIGHT HOLDER STARS SMALL      4767\n",
       "5293       ZINC TOP  2 DOOR WOODEN SHELF        231\n",
       "5294     ZINC WILLIE WINKIE  CANDLE STICK      6059\n",
       "5295          ZINC WIRE KITCHEN ORGANISER         9\n",
       "5296     ZINC WIRE SWEETHEART LETTER TRAY        67\n",
       "\n",
       "[5295 rows x 2 columns]"
      ]
     },
     "execution_count": 50,
     "metadata": {},
     "output_type": "execute_result"
    }
   ],
   "source": [
    "retail_products = retail_products.loc[~retail_products['Description'].isin(['CRUK Commission', 'Discount'])]\n",
    "retail_products"
   ]
  },
  {
   "cell_type": "code",
   "execution_count": 51,
   "id": "d0d1b04c",
   "metadata": {
    "execution": {
     "iopub.execute_input": "2022-10-29T09:16:46.376089Z",
     "iopub.status.busy": "2022-10-29T09:16:46.375739Z",
     "iopub.status.idle": "2022-10-29T09:16:46.384938Z",
     "shell.execute_reply": "2022-10-29T09:16:46.384190Z"
    },
    "papermill": {
     "duration": 0.041685,
     "end_time": "2022-10-29T09:16:46.386641",
     "exception": false,
     "start_time": "2022-10-29T09:16:46.344956",
     "status": "completed"
    },
    "tags": []
   },
   "outputs": [
    {
     "data": {
      "text/html": [
       "<div>\n",
       "<style scoped>\n",
       "    .dataframe tbody tr th:only-of-type {\n",
       "        vertical-align: middle;\n",
       "    }\n",
       "\n",
       "    .dataframe tbody tr th {\n",
       "        vertical-align: top;\n",
       "    }\n",
       "\n",
       "    .dataframe thead th {\n",
       "        text-align: right;\n",
       "    }\n",
       "</style>\n",
       "<table border=\"1\" class=\"dataframe\">\n",
       "  <thead>\n",
       "    <tr style=\"text-align: right;\">\n",
       "      <th></th>\n",
       "      <th>Description</th>\n",
       "      <th>Quantity</th>\n",
       "    </tr>\n",
       "  </thead>\n",
       "  <tbody>\n",
       "    <tr>\n",
       "      <th>5038</th>\n",
       "      <td>WHITE CHERRY LIGHTS</td>\n",
       "      <td>-105</td>\n",
       "    </tr>\n",
       "    <tr>\n",
       "      <th>4389</th>\n",
       "      <td>SILVER CHERRY LIGHTS</td>\n",
       "      <td>-93</td>\n",
       "    </tr>\n",
       "    <tr>\n",
       "      <th>4791</th>\n",
       "      <td>TREE OF NOAH FESTIVE SCENTED CANDLE</td>\n",
       "      <td>-46</td>\n",
       "    </tr>\n",
       "    <tr>\n",
       "      <th>4091</th>\n",
       "      <td>SET 6 MINI SUSHI SET FRIDGE MAGNETS</td>\n",
       "      <td>-12</td>\n",
       "    </tr>\n",
       "    <tr>\n",
       "      <th>5085</th>\n",
       "      <td>WHITE SCANDINAVIAN HEART CHRISTMAS</td>\n",
       "      <td>-11</td>\n",
       "    </tr>\n",
       "    <tr>\n",
       "      <th>4880</th>\n",
       "      <td>VINTAGE BLUE VACUUM FLASK 0.5L</td>\n",
       "      <td>-10</td>\n",
       "    </tr>\n",
       "    <tr>\n",
       "      <th>473</th>\n",
       "      <td>BLACK CHERRY LIGHTS</td>\n",
       "      <td>-9</td>\n",
       "    </tr>\n",
       "    <tr>\n",
       "      <th>1623</th>\n",
       "      <td>FEATHER HEART LIGHTS</td>\n",
       "      <td>-8</td>\n",
       "    </tr>\n",
       "    <tr>\n",
       "      <th>5073</th>\n",
       "      <td>WHITE ORCHID FLOWER LIGHTS</td>\n",
       "      <td>-6</td>\n",
       "    </tr>\n",
       "    <tr>\n",
       "      <th>4255</th>\n",
       "      <td>SET OF KITCHEN WALL  STICKERS</td>\n",
       "      <td>-4</td>\n",
       "    </tr>\n",
       "  </tbody>\n",
       "</table>\n",
       "</div>"
      ],
      "text/plain": [
       "                              Description  Quantity\n",
       "5038                  WHITE CHERRY LIGHTS      -105\n",
       "4389                 SILVER CHERRY LIGHTS       -93\n",
       "4791  TREE OF NOAH FESTIVE SCENTED CANDLE       -46\n",
       "4091  SET 6 MINI SUSHI SET FRIDGE MAGNETS       -12\n",
       "5085   WHITE SCANDINAVIAN HEART CHRISTMAS       -11\n",
       "4880      VINTAGE BLUE VACUUM FLASK 0.5L        -10\n",
       "473                   BLACK CHERRY LIGHTS        -9\n",
       "1623                 FEATHER HEART LIGHTS        -8\n",
       "5073           WHITE ORCHID FLOWER LIGHTS        -6\n",
       "4255        SET OF KITCHEN WALL  STICKERS        -4"
      ]
     },
     "execution_count": 51,
     "metadata": {},
     "output_type": "execute_result"
    }
   ],
   "source": [
    "retail_products_asc = retail_products.sort_values('Quantity').head(10)\n",
    "retail_products_asc"
   ]
  },
  {
   "cell_type": "code",
   "execution_count": 52,
   "id": "b1a7ae08",
   "metadata": {
    "execution": {
     "iopub.execute_input": "2022-10-29T09:16:46.448310Z",
     "iopub.status.busy": "2022-10-29T09:16:46.448000Z",
     "iopub.status.idle": "2022-10-29T09:16:46.457981Z",
     "shell.execute_reply": "2022-10-29T09:16:46.456938Z"
    },
    "papermill": {
     "duration": 0.042507,
     "end_time": "2022-10-29T09:16:46.459649",
     "exception": false,
     "start_time": "2022-10-29T09:16:46.417142",
     "status": "completed"
    },
    "tags": []
   },
   "outputs": [
    {
     "data": {
      "text/html": [
       "<div>\n",
       "<style scoped>\n",
       "    .dataframe tbody tr th:only-of-type {\n",
       "        vertical-align: middle;\n",
       "    }\n",
       "\n",
       "    .dataframe tbody tr th {\n",
       "        vertical-align: top;\n",
       "    }\n",
       "\n",
       "    .dataframe thead th {\n",
       "        text-align: right;\n",
       "    }\n",
       "</style>\n",
       "<table border=\"1\" class=\"dataframe\">\n",
       "  <thead>\n",
       "    <tr style=\"text-align: right;\">\n",
       "      <th></th>\n",
       "      <th>Description</th>\n",
       "      <th>Quantity</th>\n",
       "    </tr>\n",
       "  </thead>\n",
       "  <tbody>\n",
       "    <tr>\n",
       "      <th>5181</th>\n",
       "      <td>WORLD WAR 2 GLIDERS ASSTD DESIGNS</td>\n",
       "      <td>102436</td>\n",
       "    </tr>\n",
       "    <tr>\n",
       "      <th>5059</th>\n",
       "      <td>WHITE HANGING HEART T-LIGHT HOLDER</td>\n",
       "      <td>87543</td>\n",
       "    </tr>\n",
       "    <tr>\n",
       "      <th>292</th>\n",
       "      <td>ASSORTED COLOUR BIRD ORNAMENT</td>\n",
       "      <td>77105</td>\n",
       "    </tr>\n",
       "    <tr>\n",
       "      <th>2396</th>\n",
       "      <td>JUMBO BAG RED RETROSPOT</td>\n",
       "      <td>72629</td>\n",
       "    </tr>\n",
       "    <tr>\n",
       "      <th>753</th>\n",
       "      <td>BROCADE RING PURSE</td>\n",
       "      <td>69070</td>\n",
       "    </tr>\n",
       "    <tr>\n",
       "      <th>3071</th>\n",
       "      <td>PACK OF 60 PINK PAISLEY CAKE CASES</td>\n",
       "      <td>54178</td>\n",
       "    </tr>\n",
       "    <tr>\n",
       "      <th>157</th>\n",
       "      <td>60 TEATIME FAIRY CAKE CASES</td>\n",
       "      <td>52419</td>\n",
       "    </tr>\n",
       "    <tr>\n",
       "      <th>3073</th>\n",
       "      <td>PACK OF 72 RETRO SPOT CAKE CASES</td>\n",
       "      <td>44480</td>\n",
       "    </tr>\n",
       "    <tr>\n",
       "      <th>3074</th>\n",
       "      <td>PACK OF 72 RETROSPOT CAKE CASES</td>\n",
       "      <td>44170</td>\n",
       "    </tr>\n",
       "    <tr>\n",
       "      <th>4515</th>\n",
       "      <td>SMALL POPCORN HOLDER</td>\n",
       "      <td>42592</td>\n",
       "    </tr>\n",
       "  </tbody>\n",
       "</table>\n",
       "</div>"
      ],
      "text/plain": [
       "                             Description  Quantity\n",
       "5181   WORLD WAR 2 GLIDERS ASSTD DESIGNS    102436\n",
       "5059  WHITE HANGING HEART T-LIGHT HOLDER     87543\n",
       "292        ASSORTED COLOUR BIRD ORNAMENT     77105\n",
       "2396             JUMBO BAG RED RETROSPOT     72629\n",
       "753                  BROCADE RING PURSE      69070\n",
       "3071  PACK OF 60 PINK PAISLEY CAKE CASES     54178\n",
       "157          60 TEATIME FAIRY CAKE CASES     52419\n",
       "3073    PACK OF 72 RETRO SPOT CAKE CASES     44480\n",
       "3074     PACK OF 72 RETROSPOT CAKE CASES     44170\n",
       "4515                SMALL POPCORN HOLDER     42592"
      ]
     },
     "execution_count": 52,
     "metadata": {},
     "output_type": "execute_result"
    }
   ],
   "source": [
    "retail_products_asc['Quantity'] = retail_products_asc['Quantity'] * (-1)\n",
    "retail_products_desc = retail_products.sort_values('Quantity', ascending=False).head(10)\n",
    "retail_products_desc"
   ]
  },
  {
   "cell_type": "code",
   "execution_count": 53,
   "id": "066a6320",
   "metadata": {
    "execution": {
     "iopub.execute_input": "2022-10-29T09:16:46.521858Z",
     "iopub.status.busy": "2022-10-29T09:16:46.521555Z",
     "iopub.status.idle": "2022-10-29T09:16:46.536216Z",
     "shell.execute_reply": "2022-10-29T09:16:46.535585Z"
    },
    "papermill": {
     "duration": 0.047327,
     "end_time": "2022-10-29T09:16:46.537693",
     "exception": false,
     "start_time": "2022-10-29T09:16:46.490366",
     "status": "completed"
    },
    "tags": []
   },
   "outputs": [
    {
     "data": {
      "text/html": [
       "<div>                            <div id=\"16bb1127-7024-4850-a82d-ed7a32be068b\" class=\"plotly-graph-div\" style=\"height:525px; width:100%;\"></div>            <script type=\"text/javascript\">                require([\"plotly\"], function(Plotly) {                    window.PLOTLYENV=window.PLOTLYENV || {};                                    if (document.getElementById(\"16bb1127-7024-4850-a82d-ed7a32be068b\")) {                    Plotly.newPlot(                        \"16bb1127-7024-4850-a82d-ed7a32be068b\",                        [{\"marker\":{\"color\":[102436,87543,77105,72629,69070,54178,52419,44480,44170,42592],\"colorscale\":[[0.0,\"rgb(150,0,90)\"],[0.125,\"rgb(0,0,200)\"],[0.25,\"rgb(0,25,255)\"],[0.375,\"rgb(0,152,255)\"],[0.5,\"rgb(44,255,150)\"],[0.625,\"rgb(151,255,0)\"],[0.75,\"rgb(255,234,0)\"],[0.875,\"rgb(255,111,0)\"],[1.0,\"rgb(255,0,0)\"]],\"opacity\":1},\"name\":\"10 Bestselling Products\",\"x\":[\"WORLD WAR 2 GLIDERS ASSTD DESIGNS\",\"WHITE HANGING HEART T-LIGHT HOLDER\",\"ASSORTED COLOUR BIRD ORNAMENT\",\"JUMBO BAG RED RETROSPOT\",\"BROCADE RING PURSE \",\"PACK OF 60 PINK PAISLEY CAKE CASES\",\"60 TEATIME FAIRY CAKE CASES\",\"PACK OF 72 RETRO SPOT CAKE CASES\",\"PACK OF 72 RETROSPOT CAKE CASES\",\"SMALL POPCORN HOLDER\"],\"y\":[102436,87543,77105,72629,69070,54178,52419,44480,44170,42592],\"type\":\"bar\",\"textposition\":\"inside\",\"texttemplate\":\"%{y:.3s}\"}],                        {\"template\":{\"data\":{\"histogram2dcontour\":[{\"type\":\"histogram2dcontour\",\"colorbar\":{\"outlinewidth\":0,\"ticks\":\"\"},\"colorscale\":[[0.0,\"#0d0887\"],[0.1111111111111111,\"#46039f\"],[0.2222222222222222,\"#7201a8\"],[0.3333333333333333,\"#9c179e\"],[0.4444444444444444,\"#bd3786\"],[0.5555555555555556,\"#d8576b\"],[0.6666666666666666,\"#ed7953\"],[0.7777777777777778,\"#fb9f3a\"],[0.8888888888888888,\"#fdca26\"],[1.0,\"#f0f921\"]]}],\"choropleth\":[{\"type\":\"choropleth\",\"colorbar\":{\"outlinewidth\":0,\"ticks\":\"\"}}],\"histogram2d\":[{\"type\":\"histogram2d\",\"colorbar\":{\"outlinewidth\":0,\"ticks\":\"\"},\"colorscale\":[[0.0,\"#0d0887\"],[0.1111111111111111,\"#46039f\"],[0.2222222222222222,\"#7201a8\"],[0.3333333333333333,\"#9c179e\"],[0.4444444444444444,\"#bd3786\"],[0.5555555555555556,\"#d8576b\"],[0.6666666666666666,\"#ed7953\"],[0.7777777777777778,\"#fb9f3a\"],[0.8888888888888888,\"#fdca26\"],[1.0,\"#f0f921\"]]}],\"heatmap\":[{\"type\":\"heatmap\",\"colorbar\":{\"outlinewidth\":0,\"ticks\":\"\"},\"colorscale\":[[0.0,\"#0d0887\"],[0.1111111111111111,\"#46039f\"],[0.2222222222222222,\"#7201a8\"],[0.3333333333333333,\"#9c179e\"],[0.4444444444444444,\"#bd3786\"],[0.5555555555555556,\"#d8576b\"],[0.6666666666666666,\"#ed7953\"],[0.7777777777777778,\"#fb9f3a\"],[0.8888888888888888,\"#fdca26\"],[1.0,\"#f0f921\"]]}],\"heatmapgl\":[{\"type\":\"heatmapgl\",\"colorbar\":{\"outlinewidth\":0,\"ticks\":\"\"},\"colorscale\":[[0.0,\"#0d0887\"],[0.1111111111111111,\"#46039f\"],[0.2222222222222222,\"#7201a8\"],[0.3333333333333333,\"#9c179e\"],[0.4444444444444444,\"#bd3786\"],[0.5555555555555556,\"#d8576b\"],[0.6666666666666666,\"#ed7953\"],[0.7777777777777778,\"#fb9f3a\"],[0.8888888888888888,\"#fdca26\"],[1.0,\"#f0f921\"]]}],\"contourcarpet\":[{\"type\":\"contourcarpet\",\"colorbar\":{\"outlinewidth\":0,\"ticks\":\"\"}}],\"contour\":[{\"type\":\"contour\",\"colorbar\":{\"outlinewidth\":0,\"ticks\":\"\"},\"colorscale\":[[0.0,\"#0d0887\"],[0.1111111111111111,\"#46039f\"],[0.2222222222222222,\"#7201a8\"],[0.3333333333333333,\"#9c179e\"],[0.4444444444444444,\"#bd3786\"],[0.5555555555555556,\"#d8576b\"],[0.6666666666666666,\"#ed7953\"],[0.7777777777777778,\"#fb9f3a\"],[0.8888888888888888,\"#fdca26\"],[1.0,\"#f0f921\"]]}],\"surface\":[{\"type\":\"surface\",\"colorbar\":{\"outlinewidth\":0,\"ticks\":\"\"},\"colorscale\":[[0.0,\"#0d0887\"],[0.1111111111111111,\"#46039f\"],[0.2222222222222222,\"#7201a8\"],[0.3333333333333333,\"#9c179e\"],[0.4444444444444444,\"#bd3786\"],[0.5555555555555556,\"#d8576b\"],[0.6666666666666666,\"#ed7953\"],[0.7777777777777778,\"#fb9f3a\"],[0.8888888888888888,\"#fdca26\"],[1.0,\"#f0f921\"]]}],\"mesh3d\":[{\"type\":\"mesh3d\",\"colorbar\":{\"outlinewidth\":0,\"ticks\":\"\"}}],\"scatter\":[{\"fillpattern\":{\"fillmode\":\"overlay\",\"size\":10,\"solidity\":0.2},\"type\":\"scatter\"}],\"parcoords\":[{\"type\":\"parcoords\",\"line\":{\"colorbar\":{\"outlinewidth\":0,\"ticks\":\"\"}}}],\"scatterpolargl\":[{\"type\":\"scatterpolargl\",\"marker\":{\"colorbar\":{\"outlinewidth\":0,\"ticks\":\"\"}}}],\"bar\":[{\"error_x\":{\"color\":\"#2a3f5f\"},\"error_y\":{\"color\":\"#2a3f5f\"},\"marker\":{\"line\":{\"color\":\"#E5ECF6\",\"width\":0.5},\"pattern\":{\"fillmode\":\"overlay\",\"size\":10,\"solidity\":0.2}},\"type\":\"bar\"}],\"scattergeo\":[{\"type\":\"scattergeo\",\"marker\":{\"colorbar\":{\"outlinewidth\":0,\"ticks\":\"\"}}}],\"scatterpolar\":[{\"type\":\"scatterpolar\",\"marker\":{\"colorbar\":{\"outlinewidth\":0,\"ticks\":\"\"}}}],\"histogram\":[{\"marker\":{\"pattern\":{\"fillmode\":\"overlay\",\"size\":10,\"solidity\":0.2}},\"type\":\"histogram\"}],\"scattergl\":[{\"type\":\"scattergl\",\"marker\":{\"colorbar\":{\"outlinewidth\":0,\"ticks\":\"\"}}}],\"scatter3d\":[{\"type\":\"scatter3d\",\"line\":{\"colorbar\":{\"outlinewidth\":0,\"ticks\":\"\"}},\"marker\":{\"colorbar\":{\"outlinewidth\":0,\"ticks\":\"\"}}}],\"scattermapbox\":[{\"type\":\"scattermapbox\",\"marker\":{\"colorbar\":{\"outlinewidth\":0,\"ticks\":\"\"}}}],\"scatterternary\":[{\"type\":\"scatterternary\",\"marker\":{\"colorbar\":{\"outlinewidth\":0,\"ticks\":\"\"}}}],\"scattercarpet\":[{\"type\":\"scattercarpet\",\"marker\":{\"colorbar\":{\"outlinewidth\":0,\"ticks\":\"\"}}}],\"carpet\":[{\"aaxis\":{\"endlinecolor\":\"#2a3f5f\",\"gridcolor\":\"white\",\"linecolor\":\"white\",\"minorgridcolor\":\"white\",\"startlinecolor\":\"#2a3f5f\"},\"baxis\":{\"endlinecolor\":\"#2a3f5f\",\"gridcolor\":\"white\",\"linecolor\":\"white\",\"minorgridcolor\":\"white\",\"startlinecolor\":\"#2a3f5f\"},\"type\":\"carpet\"}],\"table\":[{\"cells\":{\"fill\":{\"color\":\"#EBF0F8\"},\"line\":{\"color\":\"white\"}},\"header\":{\"fill\":{\"color\":\"#C8D4E3\"},\"line\":{\"color\":\"white\"}},\"type\":\"table\"}],\"barpolar\":[{\"marker\":{\"line\":{\"color\":\"#E5ECF6\",\"width\":0.5},\"pattern\":{\"fillmode\":\"overlay\",\"size\":10,\"solidity\":0.2}},\"type\":\"barpolar\"}],\"pie\":[{\"automargin\":true,\"type\":\"pie\"}]},\"layout\":{\"autotypenumbers\":\"strict\",\"colorway\":[\"#636efa\",\"#EF553B\",\"#00cc96\",\"#ab63fa\",\"#FFA15A\",\"#19d3f3\",\"#FF6692\",\"#B6E880\",\"#FF97FF\",\"#FECB52\"],\"font\":{\"color\":\"#2a3f5f\"},\"hovermode\":\"closest\",\"hoverlabel\":{\"align\":\"left\"},\"paper_bgcolor\":\"white\",\"plot_bgcolor\":\"#E5ECF6\",\"polar\":{\"bgcolor\":\"#E5ECF6\",\"angularaxis\":{\"gridcolor\":\"white\",\"linecolor\":\"white\",\"ticks\":\"\"},\"radialaxis\":{\"gridcolor\":\"white\",\"linecolor\":\"white\",\"ticks\":\"\"}},\"ternary\":{\"bgcolor\":\"#E5ECF6\",\"aaxis\":{\"gridcolor\":\"white\",\"linecolor\":\"white\",\"ticks\":\"\"},\"baxis\":{\"gridcolor\":\"white\",\"linecolor\":\"white\",\"ticks\":\"\"},\"caxis\":{\"gridcolor\":\"white\",\"linecolor\":\"white\",\"ticks\":\"\"}},\"coloraxis\":{\"colorbar\":{\"outlinewidth\":0,\"ticks\":\"\"}},\"colorscale\":{\"sequential\":[[0.0,\"#0d0887\"],[0.1111111111111111,\"#46039f\"],[0.2222222222222222,\"#7201a8\"],[0.3333333333333333,\"#9c179e\"],[0.4444444444444444,\"#bd3786\"],[0.5555555555555556,\"#d8576b\"],[0.6666666666666666,\"#ed7953\"],[0.7777777777777778,\"#fb9f3a\"],[0.8888888888888888,\"#fdca26\"],[1.0,\"#f0f921\"]],\"sequentialminus\":[[0.0,\"#0d0887\"],[0.1111111111111111,\"#46039f\"],[0.2222222222222222,\"#7201a8\"],[0.3333333333333333,\"#9c179e\"],[0.4444444444444444,\"#bd3786\"],[0.5555555555555556,\"#d8576b\"],[0.6666666666666666,\"#ed7953\"],[0.7777777777777778,\"#fb9f3a\"],[0.8888888888888888,\"#fdca26\"],[1.0,\"#f0f921\"]],\"diverging\":[[0,\"#8e0152\"],[0.1,\"#c51b7d\"],[0.2,\"#de77ae\"],[0.3,\"#f1b6da\"],[0.4,\"#fde0ef\"],[0.5,\"#f7f7f7\"],[0.6,\"#e6f5d0\"],[0.7,\"#b8e186\"],[0.8,\"#7fbc41\"],[0.9,\"#4d9221\"],[1,\"#276419\"]]},\"xaxis\":{\"gridcolor\":\"white\",\"linecolor\":\"white\",\"ticks\":\"\",\"title\":{\"standoff\":15},\"zerolinecolor\":\"white\",\"automargin\":true,\"zerolinewidth\":2},\"yaxis\":{\"gridcolor\":\"white\",\"linecolor\":\"white\",\"ticks\":\"\",\"title\":{\"standoff\":15},\"zerolinecolor\":\"white\",\"automargin\":true,\"zerolinewidth\":2},\"scene\":{\"xaxis\":{\"backgroundcolor\":\"#E5ECF6\",\"gridcolor\":\"white\",\"linecolor\":\"white\",\"showbackground\":true,\"ticks\":\"\",\"zerolinecolor\":\"white\",\"gridwidth\":2},\"yaxis\":{\"backgroundcolor\":\"#E5ECF6\",\"gridcolor\":\"white\",\"linecolor\":\"white\",\"showbackground\":true,\"ticks\":\"\",\"zerolinecolor\":\"white\",\"gridwidth\":2},\"zaxis\":{\"backgroundcolor\":\"#E5ECF6\",\"gridcolor\":\"white\",\"linecolor\":\"white\",\"showbackground\":true,\"ticks\":\"\",\"zerolinecolor\":\"white\",\"gridwidth\":2}},\"shapedefaults\":{\"line\":{\"color\":\"#2a3f5f\"}},\"annotationdefaults\":{\"arrowcolor\":\"#2a3f5f\",\"arrowhead\":0,\"arrowwidth\":1},\"geo\":{\"bgcolor\":\"white\",\"landcolor\":\"#E5ECF6\",\"subunitcolor\":\"white\",\"showland\":true,\"showlakes\":true,\"lakecolor\":\"white\"},\"title\":{\"x\":0.05},\"mapbox\":{\"style\":\"light\"}}},\"title\":{\"text\":\"10 Bestselling Products\",\"x\":0.45},\"xaxis\":{\"title\":{\"text\":\"Products\"}},\"yaxis\":{\"title\":{\"text\":\"Total Quantity Sold\"}},\"plot_bgcolor\":\"grey\"},                        {\"responsive\": true}                    ).then(function(){\n",
       "                            \n",
       "var gd = document.getElementById('16bb1127-7024-4850-a82d-ed7a32be068b');\n",
       "var x = new MutationObserver(function (mutations, observer) {{\n",
       "        var display = window.getComputedStyle(gd).display;\n",
       "        if (!display || display === 'none') {{\n",
       "            console.log([gd, 'removed!']);\n",
       "            Plotly.purge(gd);\n",
       "            observer.disconnect();\n",
       "        }}\n",
       "}});\n",
       "\n",
       "// Listen for the removal of the full notebook cells\n",
       "var notebookContainer = gd.closest('#notebook-container');\n",
       "if (notebookContainer) {{\n",
       "    x.observe(notebookContainer, {childList: true});\n",
       "}}\n",
       "\n",
       "// Listen for the clearing of the current output cell\n",
       "var outputEl = gd.closest('.output');\n",
       "if (outputEl) {{\n",
       "    x.observe(outputEl, {childList: true});\n",
       "}}\n",
       "\n",
       "                        })                };                });            </script>        </div>"
      ]
     },
     "metadata": {},
     "output_type": "display_data"
    }
   ],
   "source": [
    "fig = go.Figure(data=[\n",
    "    go.Bar(name='10 Bestselling Products', \n",
    "           x=retail_products_desc['Description'].astype(str), \n",
    "           y=retail_products_desc['Quantity'],\n",
    "           marker_opacity=1,\n",
    "           marker={'color': retail_products_desc['Quantity'],\n",
    "                   'colorscale': 'Rainbow'})\n",
    "    ])\n",
    "\n",
    "fig.update_traces(texttemplate='%{y:.3s}', textposition='inside')\n",
    "# fig.update_layout(barmode='group', showlegend=False)\n",
    "\n",
    "fig.update_layout(title='10 Bestselling Products',\n",
    "                  title_x=0.45,\n",
    "                  xaxis_title=\"Products\",\n",
    "                  yaxis_title=\"Total Quantity Sold\",\n",
    "                  plot_bgcolor='grey')\n",
    "fig.show()"
   ]
  },
  {
   "cell_type": "code",
   "execution_count": 54,
   "id": "5871e370",
   "metadata": {
    "execution": {
     "iopub.execute_input": "2022-10-29T09:16:46.600328Z",
     "iopub.status.busy": "2022-10-29T09:16:46.600021Z",
     "iopub.status.idle": "2022-10-29T09:16:46.617623Z",
     "shell.execute_reply": "2022-10-29T09:16:46.617086Z"
    },
    "papermill": {
     "duration": 0.050367,
     "end_time": "2022-10-29T09:16:46.619103",
     "exception": false,
     "start_time": "2022-10-29T09:16:46.568736",
     "status": "completed"
    },
    "tags": []
   },
   "outputs": [
    {
     "data": {
      "text/html": [
       "<div>                            <div id=\"00e2af19-7563-4561-acb8-840956de679f\" class=\"plotly-graph-div\" style=\"height:525px; width:100%;\"></div>            <script type=\"text/javascript\">                require([\"plotly\"], function(Plotly) {                    window.PLOTLYENV=window.PLOTLYENV || {};                                    if (document.getElementById(\"00e2af19-7563-4561-acb8-840956de679f\")) {                    Plotly.newPlot(                        \"00e2af19-7563-4561-acb8-840956de679f\",                        [{\"marker\":{\"color\":[102436,87543,77105,72629,69070,54178,52419,44480,44170,42592],\"colorscale\":[[0.0,\"rgb(150,0,90)\"],[0.125,\"rgb(0,0,200)\"],[0.25,\"rgb(0,25,255)\"],[0.375,\"rgb(0,152,255)\"],[0.5,\"rgb(44,255,150)\"],[0.625,\"rgb(151,255,0)\"],[0.75,\"rgb(255,234,0)\"],[0.875,\"rgb(255,111,0)\"],[1.0,\"rgb(255,0,0)\"]],\"opacity\":1},\"name\":\"10 Products With Most Returns\",\"x\":[\"WHITE CHERRY LIGHTS\",\"SILVER CHERRY LIGHTS\",\"TREE OF NOAH FESTIVE SCENTED CANDLE\",\"SET 6 MINI SUSHI SET FRIDGE MAGNETS\",\"WHITE SCANDINAVIAN HEART CHRISTMAS\",\"VINTAGE BLUE VACUUM FLASK 0.5L \",\"BLACK CHERRY LIGHTS\",\"FEATHER HEART LIGHTS\",\"WHITE ORCHID FLOWER LIGHTS\",\"SET OF KITCHEN WALL  STICKERS\"],\"y\":[105,93,46,12,11,10,9,8,6,4],\"type\":\"bar\",\"textposition\":\"outside\",\"texttemplate\":\"%{y:.3s}\"}],                        {\"template\":{\"data\":{\"histogram2dcontour\":[{\"type\":\"histogram2dcontour\",\"colorbar\":{\"outlinewidth\":0,\"ticks\":\"\"},\"colorscale\":[[0.0,\"#0d0887\"],[0.1111111111111111,\"#46039f\"],[0.2222222222222222,\"#7201a8\"],[0.3333333333333333,\"#9c179e\"],[0.4444444444444444,\"#bd3786\"],[0.5555555555555556,\"#d8576b\"],[0.6666666666666666,\"#ed7953\"],[0.7777777777777778,\"#fb9f3a\"],[0.8888888888888888,\"#fdca26\"],[1.0,\"#f0f921\"]]}],\"choropleth\":[{\"type\":\"choropleth\",\"colorbar\":{\"outlinewidth\":0,\"ticks\":\"\"}}],\"histogram2d\":[{\"type\":\"histogram2d\",\"colorbar\":{\"outlinewidth\":0,\"ticks\":\"\"},\"colorscale\":[[0.0,\"#0d0887\"],[0.1111111111111111,\"#46039f\"],[0.2222222222222222,\"#7201a8\"],[0.3333333333333333,\"#9c179e\"],[0.4444444444444444,\"#bd3786\"],[0.5555555555555556,\"#d8576b\"],[0.6666666666666666,\"#ed7953\"],[0.7777777777777778,\"#fb9f3a\"],[0.8888888888888888,\"#fdca26\"],[1.0,\"#f0f921\"]]}],\"heatmap\":[{\"type\":\"heatmap\",\"colorbar\":{\"outlinewidth\":0,\"ticks\":\"\"},\"colorscale\":[[0.0,\"#0d0887\"],[0.1111111111111111,\"#46039f\"],[0.2222222222222222,\"#7201a8\"],[0.3333333333333333,\"#9c179e\"],[0.4444444444444444,\"#bd3786\"],[0.5555555555555556,\"#d8576b\"],[0.6666666666666666,\"#ed7953\"],[0.7777777777777778,\"#fb9f3a\"],[0.8888888888888888,\"#fdca26\"],[1.0,\"#f0f921\"]]}],\"heatmapgl\":[{\"type\":\"heatmapgl\",\"colorbar\":{\"outlinewidth\":0,\"ticks\":\"\"},\"colorscale\":[[0.0,\"#0d0887\"],[0.1111111111111111,\"#46039f\"],[0.2222222222222222,\"#7201a8\"],[0.3333333333333333,\"#9c179e\"],[0.4444444444444444,\"#bd3786\"],[0.5555555555555556,\"#d8576b\"],[0.6666666666666666,\"#ed7953\"],[0.7777777777777778,\"#fb9f3a\"],[0.8888888888888888,\"#fdca26\"],[1.0,\"#f0f921\"]]}],\"contourcarpet\":[{\"type\":\"contourcarpet\",\"colorbar\":{\"outlinewidth\":0,\"ticks\":\"\"}}],\"contour\":[{\"type\":\"contour\",\"colorbar\":{\"outlinewidth\":0,\"ticks\":\"\"},\"colorscale\":[[0.0,\"#0d0887\"],[0.1111111111111111,\"#46039f\"],[0.2222222222222222,\"#7201a8\"],[0.3333333333333333,\"#9c179e\"],[0.4444444444444444,\"#bd3786\"],[0.5555555555555556,\"#d8576b\"],[0.6666666666666666,\"#ed7953\"],[0.7777777777777778,\"#fb9f3a\"],[0.8888888888888888,\"#fdca26\"],[1.0,\"#f0f921\"]]}],\"surface\":[{\"type\":\"surface\",\"colorbar\":{\"outlinewidth\":0,\"ticks\":\"\"},\"colorscale\":[[0.0,\"#0d0887\"],[0.1111111111111111,\"#46039f\"],[0.2222222222222222,\"#7201a8\"],[0.3333333333333333,\"#9c179e\"],[0.4444444444444444,\"#bd3786\"],[0.5555555555555556,\"#d8576b\"],[0.6666666666666666,\"#ed7953\"],[0.7777777777777778,\"#fb9f3a\"],[0.8888888888888888,\"#fdca26\"],[1.0,\"#f0f921\"]]}],\"mesh3d\":[{\"type\":\"mesh3d\",\"colorbar\":{\"outlinewidth\":0,\"ticks\":\"\"}}],\"scatter\":[{\"fillpattern\":{\"fillmode\":\"overlay\",\"size\":10,\"solidity\":0.2},\"type\":\"scatter\"}],\"parcoords\":[{\"type\":\"parcoords\",\"line\":{\"colorbar\":{\"outlinewidth\":0,\"ticks\":\"\"}}}],\"scatterpolargl\":[{\"type\":\"scatterpolargl\",\"marker\":{\"colorbar\":{\"outlinewidth\":0,\"ticks\":\"\"}}}],\"bar\":[{\"error_x\":{\"color\":\"#2a3f5f\"},\"error_y\":{\"color\":\"#2a3f5f\"},\"marker\":{\"line\":{\"color\":\"#E5ECF6\",\"width\":0.5},\"pattern\":{\"fillmode\":\"overlay\",\"size\":10,\"solidity\":0.2}},\"type\":\"bar\"}],\"scattergeo\":[{\"type\":\"scattergeo\",\"marker\":{\"colorbar\":{\"outlinewidth\":0,\"ticks\":\"\"}}}],\"scatterpolar\":[{\"type\":\"scatterpolar\",\"marker\":{\"colorbar\":{\"outlinewidth\":0,\"ticks\":\"\"}}}],\"histogram\":[{\"marker\":{\"pattern\":{\"fillmode\":\"overlay\",\"size\":10,\"solidity\":0.2}},\"type\":\"histogram\"}],\"scattergl\":[{\"type\":\"scattergl\",\"marker\":{\"colorbar\":{\"outlinewidth\":0,\"ticks\":\"\"}}}],\"scatter3d\":[{\"type\":\"scatter3d\",\"line\":{\"colorbar\":{\"outlinewidth\":0,\"ticks\":\"\"}},\"marker\":{\"colorbar\":{\"outlinewidth\":0,\"ticks\":\"\"}}}],\"scattermapbox\":[{\"type\":\"scattermapbox\",\"marker\":{\"colorbar\":{\"outlinewidth\":0,\"ticks\":\"\"}}}],\"scatterternary\":[{\"type\":\"scatterternary\",\"marker\":{\"colorbar\":{\"outlinewidth\":0,\"ticks\":\"\"}}}],\"scattercarpet\":[{\"type\":\"scattercarpet\",\"marker\":{\"colorbar\":{\"outlinewidth\":0,\"ticks\":\"\"}}}],\"carpet\":[{\"aaxis\":{\"endlinecolor\":\"#2a3f5f\",\"gridcolor\":\"white\",\"linecolor\":\"white\",\"minorgridcolor\":\"white\",\"startlinecolor\":\"#2a3f5f\"},\"baxis\":{\"endlinecolor\":\"#2a3f5f\",\"gridcolor\":\"white\",\"linecolor\":\"white\",\"minorgridcolor\":\"white\",\"startlinecolor\":\"#2a3f5f\"},\"type\":\"carpet\"}],\"table\":[{\"cells\":{\"fill\":{\"color\":\"#EBF0F8\"},\"line\":{\"color\":\"white\"}},\"header\":{\"fill\":{\"color\":\"#C8D4E3\"},\"line\":{\"color\":\"white\"}},\"type\":\"table\"}],\"barpolar\":[{\"marker\":{\"line\":{\"color\":\"#E5ECF6\",\"width\":0.5},\"pattern\":{\"fillmode\":\"overlay\",\"size\":10,\"solidity\":0.2}},\"type\":\"barpolar\"}],\"pie\":[{\"automargin\":true,\"type\":\"pie\"}]},\"layout\":{\"autotypenumbers\":\"strict\",\"colorway\":[\"#636efa\",\"#EF553B\",\"#00cc96\",\"#ab63fa\",\"#FFA15A\",\"#19d3f3\",\"#FF6692\",\"#B6E880\",\"#FF97FF\",\"#FECB52\"],\"font\":{\"color\":\"#2a3f5f\"},\"hovermode\":\"closest\",\"hoverlabel\":{\"align\":\"left\"},\"paper_bgcolor\":\"white\",\"plot_bgcolor\":\"#E5ECF6\",\"polar\":{\"bgcolor\":\"#E5ECF6\",\"angularaxis\":{\"gridcolor\":\"white\",\"linecolor\":\"white\",\"ticks\":\"\"},\"radialaxis\":{\"gridcolor\":\"white\",\"linecolor\":\"white\",\"ticks\":\"\"}},\"ternary\":{\"bgcolor\":\"#E5ECF6\",\"aaxis\":{\"gridcolor\":\"white\",\"linecolor\":\"white\",\"ticks\":\"\"},\"baxis\":{\"gridcolor\":\"white\",\"linecolor\":\"white\",\"ticks\":\"\"},\"caxis\":{\"gridcolor\":\"white\",\"linecolor\":\"white\",\"ticks\":\"\"}},\"coloraxis\":{\"colorbar\":{\"outlinewidth\":0,\"ticks\":\"\"}},\"colorscale\":{\"sequential\":[[0.0,\"#0d0887\"],[0.1111111111111111,\"#46039f\"],[0.2222222222222222,\"#7201a8\"],[0.3333333333333333,\"#9c179e\"],[0.4444444444444444,\"#bd3786\"],[0.5555555555555556,\"#d8576b\"],[0.6666666666666666,\"#ed7953\"],[0.7777777777777778,\"#fb9f3a\"],[0.8888888888888888,\"#fdca26\"],[1.0,\"#f0f921\"]],\"sequentialminus\":[[0.0,\"#0d0887\"],[0.1111111111111111,\"#46039f\"],[0.2222222222222222,\"#7201a8\"],[0.3333333333333333,\"#9c179e\"],[0.4444444444444444,\"#bd3786\"],[0.5555555555555556,\"#d8576b\"],[0.6666666666666666,\"#ed7953\"],[0.7777777777777778,\"#fb9f3a\"],[0.8888888888888888,\"#fdca26\"],[1.0,\"#f0f921\"]],\"diverging\":[[0,\"#8e0152\"],[0.1,\"#c51b7d\"],[0.2,\"#de77ae\"],[0.3,\"#f1b6da\"],[0.4,\"#fde0ef\"],[0.5,\"#f7f7f7\"],[0.6,\"#e6f5d0\"],[0.7,\"#b8e186\"],[0.8,\"#7fbc41\"],[0.9,\"#4d9221\"],[1,\"#276419\"]]},\"xaxis\":{\"gridcolor\":\"white\",\"linecolor\":\"white\",\"ticks\":\"\",\"title\":{\"standoff\":15},\"zerolinecolor\":\"white\",\"automargin\":true,\"zerolinewidth\":2},\"yaxis\":{\"gridcolor\":\"white\",\"linecolor\":\"white\",\"ticks\":\"\",\"title\":{\"standoff\":15},\"zerolinecolor\":\"white\",\"automargin\":true,\"zerolinewidth\":2},\"scene\":{\"xaxis\":{\"backgroundcolor\":\"#E5ECF6\",\"gridcolor\":\"white\",\"linecolor\":\"white\",\"showbackground\":true,\"ticks\":\"\",\"zerolinecolor\":\"white\",\"gridwidth\":2},\"yaxis\":{\"backgroundcolor\":\"#E5ECF6\",\"gridcolor\":\"white\",\"linecolor\":\"white\",\"showbackground\":true,\"ticks\":\"\",\"zerolinecolor\":\"white\",\"gridwidth\":2},\"zaxis\":{\"backgroundcolor\":\"#E5ECF6\",\"gridcolor\":\"white\",\"linecolor\":\"white\",\"showbackground\":true,\"ticks\":\"\",\"zerolinecolor\":\"white\",\"gridwidth\":2}},\"shapedefaults\":{\"line\":{\"color\":\"#2a3f5f\"}},\"annotationdefaults\":{\"arrowcolor\":\"#2a3f5f\",\"arrowhead\":0,\"arrowwidth\":1},\"geo\":{\"bgcolor\":\"white\",\"landcolor\":\"#E5ECF6\",\"subunitcolor\":\"white\",\"showland\":true,\"showlakes\":true,\"lakecolor\":\"white\"},\"title\":{\"x\":0.05},\"mapbox\":{\"style\":\"light\"}}},\"barmode\":\"group\",\"showlegend\":false,\"title\":{\"text\":\"10 Products With Most Returns\",\"x\":0.45,\"y\":0.97},\"xaxis\":{\"title\":{\"text\":\"Products\"}},\"yaxis\":{\"title\":{\"text\":\"Total Quantity Returned\"}},\"plot_bgcolor\":\"white\"},                        {\"responsive\": true}                    ).then(function(){\n",
       "                            \n",
       "var gd = document.getElementById('00e2af19-7563-4561-acb8-840956de679f');\n",
       "var x = new MutationObserver(function (mutations, observer) {{\n",
       "        var display = window.getComputedStyle(gd).display;\n",
       "        if (!display || display === 'none') {{\n",
       "            console.log([gd, 'removed!']);\n",
       "            Plotly.purge(gd);\n",
       "            observer.disconnect();\n",
       "        }}\n",
       "}});\n",
       "\n",
       "// Listen for the removal of the full notebook cells\n",
       "var notebookContainer = gd.closest('#notebook-container');\n",
       "if (notebookContainer) {{\n",
       "    x.observe(notebookContainer, {childList: true});\n",
       "}}\n",
       "\n",
       "// Listen for the clearing of the current output cell\n",
       "var outputEl = gd.closest('.output');\n",
       "if (outputEl) {{\n",
       "    x.observe(outputEl, {childList: true});\n",
       "}}\n",
       "\n",
       "                        })                };                });            </script>        </div>"
      ]
     },
     "metadata": {},
     "output_type": "display_data"
    }
   ],
   "source": [
    "fig = go.Figure(data=[\n",
    "    go.Bar(name='10 Products With Most Returns', \n",
    "           x=retail_products_asc['Description'].astype(str), \n",
    "           y=retail_products_asc['Quantity'],\n",
    "           marker_opacity=1,\n",
    "           marker={'color': retail_products_desc['Quantity'],\n",
    "                   'colorscale': 'Rainbow'}\n",
    "          )\n",
    "    ])\n",
    "\n",
    "fig.update_traces(texttemplate='%{y:.3s}', textposition='outside')\n",
    "fig.update_layout(barmode='group', showlegend=False)\n",
    "\n",
    "fig.update_layout(title='10 Products With Most Returns',\n",
    "                  title_x=0.45,\n",
    "                  title_y=0.97,\n",
    "                  xaxis_title=\"Products\",\n",
    "                  yaxis_title=\"Total Quantity Returned\",\n",
    "                  plot_bgcolor='white')\n",
    "fig.show()\n"
   ]
  },
  {
   "cell_type": "markdown",
   "id": "a17fc3d9",
   "metadata": {
    "papermill": {
     "duration": 0.030108,
     "end_time": "2022-10-29T09:16:46.679610",
     "exception": false,
     "start_time": "2022-10-29T09:16:46.649502",
     "status": "completed"
    },
    "tags": []
   },
   "source": [
    "**We can see that World War II Gliders are clear bestsellers (the store has sold 107k of them in two years). However quite utilitary things also sell pretty well: mostly in the top ten different holders and cake cases prevail. Also a purse and a jumbo bag can be found there.**\n",
    "\n",
    "**The product with most returns is White Cherry Lights (105 of them were returned in two years). It is intereting that many decor items and gifts have made it to this list: various candles, flasks, pots, magnets and lights are here.**"
   ]
  },
  {
   "cell_type": "markdown",
   "id": "b951ea3d",
   "metadata": {
    "papermill": {
     "duration": 0.029868,
     "end_time": "2022-10-29T09:16:46.739511",
     "exception": false,
     "start_time": "2022-10-29T09:16:46.709643",
     "status": "completed"
    },
    "tags": []
   },
   "source": [
    "# **Cohort Analysis**"
   ]
  },
  {
   "cell_type": "markdown",
   "id": "95447638",
   "metadata": {
    "papermill": {
     "duration": 0.030953,
     "end_time": "2022-10-29T09:16:46.800717",
     "exception": false,
     "start_time": "2022-10-29T09:16:46.769764",
     "status": "completed"
    },
    "tags": []
   },
   "source": [
    "**Cohort analysis is generally used to show behavious of users, or in our case, \n",
    "customers, over time. It is an incredibly useful instrument to find some \n",
    "insights about customer experiences, and to understand how to improve that.**\n",
    "\n",
    "**I will use cohort analysis to investigate retention rate and average amount \n",
    "of products sold, and choose to use quarters of the year to define my cohorts. \n",
    "I will start by slightly transforming my data.**\n",
    "\n",
    "**Our dataset covers a timeframe of two years (2010-2011) and additionally \n",
    "December 2009. As December 2009 does not give us a full picture about the \n",
    "quarter, I will remove it.**\n",
    "\n",
    "**In order to make calculations easily, each quarter is mapped to an ID.**\n",
    "\n",
    "**I also define my cohort quarter, and calculate cohort index as a difference \n",
    "(number of quarters) between each quarter and the first quarter (having ID 0).**"
   ]
  },
  {
   "cell_type": "code",
   "execution_count": 55,
   "id": "c2100f1c",
   "metadata": {
    "execution": {
     "iopub.execute_input": "2022-10-29T09:16:46.863699Z",
     "iopub.status.busy": "2022-10-29T09:16:46.863368Z",
     "iopub.status.idle": "2022-10-29T09:16:47.809013Z",
     "shell.execute_reply": "2022-10-29T09:16:47.808237Z"
    },
    "papermill": {
     "duration": 0.979103,
     "end_time": "2022-10-29T09:16:47.810829",
     "exception": false,
     "start_time": "2022-10-29T09:16:46.831726",
     "status": "completed"
    },
    "tags": []
   },
   "outputs": [
    {
     "data": {
      "text/plain": [
       "76797     Q1/2010\n",
       "76796     Q1/2010\n",
       "76795     Q1/2010\n",
       "76794     Q1/2010\n",
       "76793     Q1/2010\n",
       "           ...   \n",
       "920141    Q4/2011\n",
       "920140    Q4/2011\n",
       "920139    Q4/2011\n",
       "920149    Q4/2011\n",
       "920159    Q4/2011\n",
       "Name: InvoiceQuarter, Length: 754323, dtype: object"
      ]
     },
     "execution_count": 55,
     "metadata": {},
     "output_type": "execute_result"
    }
   ],
   "source": [
    "retail = retail[retail['InvoiceDate_DT'].dt.year != 2009]\n",
    "retail['InvoiceQuarter'] = ('Q' + retail['InvoiceDate_DT'].dt.quarter.astype(str) + \n",
    "                            '/' + retail['InvoiceDate_DT'].dt.year.astype(str))\n",
    "retail['InvoiceQuarter']"
   ]
  },
  {
   "cell_type": "code",
   "execution_count": 56,
   "id": "7122d815",
   "metadata": {
    "execution": {
     "iopub.execute_input": "2022-10-29T09:16:47.874106Z",
     "iopub.status.busy": "2022-10-29T09:16:47.873756Z",
     "iopub.status.idle": "2022-10-29T09:16:47.971200Z",
     "shell.execute_reply": "2022-10-29T09:16:47.970198Z"
    },
    "papermill": {
     "duration": 0.131103,
     "end_time": "2022-10-29T09:16:47.973254",
     "exception": false,
     "start_time": "2022-10-29T09:16:47.842151",
     "status": "completed"
    },
    "tags": []
   },
   "outputs": [
    {
     "data": {
      "text/plain": [
       "{'Q1/2010': 0,\n",
       " 'Q2/2010': 1,\n",
       " 'Q3/2010': 2,\n",
       " 'Q4/2010': 3,\n",
       " 'Q1/2011': 4,\n",
       " 'Q2/2011': 5,\n",
       " 'Q3/2011': 6,\n",
       " 'Q4/2011': 7}"
      ]
     },
     "execution_count": 56,
     "metadata": {},
     "output_type": "execute_result"
    }
   ],
   "source": [
    "quarters_map = dict(zip(retail['InvoiceQuarter'].unique(), \n",
    "                        range(len(retail['InvoiceQuarter'].unique()))))\n",
    "quarters_map"
   ]
  },
  {
   "cell_type": "code",
   "execution_count": 57,
   "id": "26e80461",
   "metadata": {
    "execution": {
     "iopub.execute_input": "2022-10-29T09:16:48.038261Z",
     "iopub.status.busy": "2022-10-29T09:16:48.037916Z",
     "iopub.status.idle": "2022-10-29T09:16:48.106920Z",
     "shell.execute_reply": "2022-10-29T09:16:48.106331Z"
    },
    "papermill": {
     "duration": 0.103008,
     "end_time": "2022-10-29T09:16:48.108544",
     "exception": false,
     "start_time": "2022-10-29T09:16:48.005536",
     "status": "completed"
    },
    "tags": []
   },
   "outputs": [
    {
     "data": {
      "text/plain": [
       "76797     0\n",
       "76796     0\n",
       "76795     0\n",
       "76794     0\n",
       "76793     0\n",
       "         ..\n",
       "920141    7\n",
       "920140    7\n",
       "920139    7\n",
       "920149    7\n",
       "920159    7\n",
       "Name: InvoiceQuarterID, Length: 754323, dtype: int64"
      ]
     },
     "execution_count": 57,
     "metadata": {},
     "output_type": "execute_result"
    }
   ],
   "source": [
    "retail['InvoiceQuarterID'] = retail['InvoiceQuarter'].map(quarters_map)\n",
    "retail['InvoiceQuarterID']"
   ]
  },
  {
   "cell_type": "code",
   "execution_count": 58,
   "id": "c17c0f0d",
   "metadata": {
    "execution": {
     "iopub.execute_input": "2022-10-29T09:16:48.172124Z",
     "iopub.status.busy": "2022-10-29T09:16:48.171542Z",
     "iopub.status.idle": "2022-10-29T09:16:48.204932Z",
     "shell.execute_reply": "2022-10-29T09:16:48.203944Z"
    },
    "papermill": {
     "duration": 0.06701,
     "end_time": "2022-10-29T09:16:48.206778",
     "exception": false,
     "start_time": "2022-10-29T09:16:48.139768",
     "status": "completed"
    },
    "tags": []
   },
   "outputs": [
    {
     "data": {
      "text/plain": [
       "76797     0\n",
       "76796     0\n",
       "76795     0\n",
       "76794     0\n",
       "76793     0\n",
       "         ..\n",
       "920141    0\n",
       "920140    0\n",
       "920139    0\n",
       "920149    0\n",
       "920159    0\n",
       "Name: CohortQuarterID, Length: 754323, dtype: int64"
      ]
     },
     "execution_count": 58,
     "metadata": {},
     "output_type": "execute_result"
    }
   ],
   "source": [
    "retail['CohortQuarterID'] = retail.groupby('Customer ID')['InvoiceQuarterID'].transform('min')\n",
    "retail['CohortQuarterID'].unique()\n",
    "retail['CohortQuarterID']"
   ]
  },
  {
   "cell_type": "code",
   "execution_count": 59,
   "id": "52d02eae",
   "metadata": {
    "execution": {
     "iopub.execute_input": "2022-10-29T09:16:48.270276Z",
     "iopub.status.busy": "2022-10-29T09:16:48.269934Z",
     "iopub.status.idle": "2022-10-29T09:16:48.339105Z",
     "shell.execute_reply": "2022-10-29T09:16:48.338070Z"
    },
    "papermill": {
     "duration": 0.102881,
     "end_time": "2022-10-29T09:16:48.340894",
     "exception": false,
     "start_time": "2022-10-29T09:16:48.238013",
     "status": "completed"
    },
    "tags": []
   },
   "outputs": [
    {
     "data": {
      "text/plain": [
       "array(['Q1/2010', 'Q2/2010', 'Q3/2010', 'Q4/2010', 'Q1/2011', 'Q2/2011',\n",
       "       'Q3/2011', 'Q4/2011'], dtype=object)"
      ]
     },
     "execution_count": 59,
     "metadata": {},
     "output_type": "execute_result"
    }
   ],
   "source": [
    "retail['CohortQuarter'] = retail['CohortQuarterID'].map(dict(zip(quarters_map.values(), quarters_map.keys())))\n",
    "retail['CohortQuarter']\n",
    "retail['CohortQuarter'].unique()"
   ]
  },
  {
   "cell_type": "code",
   "execution_count": 60,
   "id": "9e59d486",
   "metadata": {
    "execution": {
     "iopub.execute_input": "2022-10-29T09:16:48.406140Z",
     "iopub.status.busy": "2022-10-29T09:16:48.405451Z",
     "iopub.status.idle": "2022-10-29T09:16:48.413615Z",
     "shell.execute_reply": "2022-10-29T09:16:48.413051Z"
    },
    "papermill": {
     "duration": 0.042839,
     "end_time": "2022-10-29T09:16:48.415545",
     "exception": false,
     "start_time": "2022-10-29T09:16:48.372706",
     "status": "completed"
    },
    "tags": []
   },
   "outputs": [
    {
     "data": {
      "text/plain": [
       "76797     0\n",
       "76796     0\n",
       "76795     0\n",
       "76794     0\n",
       "76793     0\n",
       "         ..\n",
       "920141    7\n",
       "920140    7\n",
       "920139    7\n",
       "920149    7\n",
       "920159    7\n",
       "Name: CohortIndex, Length: 754323, dtype: int64"
      ]
     },
     "execution_count": 60,
     "metadata": {},
     "output_type": "execute_result"
    }
   ],
   "source": [
    "retail['CohortIndex'] = retail['InvoiceQuarterID'] - retail['CohortQuarterID']\n",
    "retail['CohortIndex']"
   ]
  },
  {
   "cell_type": "markdown",
   "id": "1bc6363e",
   "metadata": {
    "papermill": {
     "duration": 0.031688,
     "end_time": "2022-10-29T09:16:48.479925",
     "exception": false,
     "start_time": "2022-10-29T09:16:48.448237",
     "status": "completed"
    },
    "tags": []
   },
   "source": [
    "**Retention Cohort Analysis**"
   ]
  },
  {
   "cell_type": "markdown",
   "id": "0bf14dcc",
   "metadata": {
    "papermill": {
     "duration": 0.07641,
     "end_time": "2022-10-29T09:16:48.589523",
     "exception": false,
     "start_time": "2022-10-29T09:16:48.513113",
     "status": "completed"
    },
    "tags": []
   },
   "source": [
    "First, I will perform retention analysis and investigate the number of \n",
    "active users. For that, I will group the data, build a pivot table and \n",
    "calculate retention rate in %. Finally, I will plot the triangle chart \n",
    "with Plotly heatmap."
   ]
  },
  {
   "cell_type": "code",
   "execution_count": 61,
   "id": "fd14c687",
   "metadata": {
    "execution": {
     "iopub.execute_input": "2022-10-29T09:16:48.657220Z",
     "iopub.status.busy": "2022-10-29T09:16:48.656524Z",
     "iopub.status.idle": "2022-10-29T09:16:48.744198Z",
     "shell.execute_reply": "2022-10-29T09:16:48.743218Z"
    },
    "papermill": {
     "duration": 0.123,
     "end_time": "2022-10-29T09:16:48.746064",
     "exception": false,
     "start_time": "2022-10-29T09:16:48.623064",
     "status": "completed"
    },
    "tags": []
   },
   "outputs": [
    {
     "data": {
      "text/html": [
       "<div>\n",
       "<style scoped>\n",
       "    .dataframe tbody tr th:only-of-type {\n",
       "        vertical-align: middle;\n",
       "    }\n",
       "\n",
       "    .dataframe tbody tr th {\n",
       "        vertical-align: top;\n",
       "    }\n",
       "\n",
       "    .dataframe thead th {\n",
       "        text-align: right;\n",
       "    }\n",
       "</style>\n",
       "<table border=\"1\" class=\"dataframe\">\n",
       "  <thead>\n",
       "    <tr style=\"text-align: right;\">\n",
       "      <th></th>\n",
       "      <th>CohortQuarterID</th>\n",
       "      <th>CohortIndex</th>\n",
       "      <th>Customer ID</th>\n",
       "    </tr>\n",
       "  </thead>\n",
       "  <tbody>\n",
       "    <tr>\n",
       "      <th>0</th>\n",
       "      <td>0</td>\n",
       "      <td>0</td>\n",
       "      <td>2141</td>\n",
       "    </tr>\n",
       "    <tr>\n",
       "      <th>1</th>\n",
       "      <td>0</td>\n",
       "      <td>1</td>\n",
       "      <td>1238</td>\n",
       "    </tr>\n",
       "    <tr>\n",
       "      <th>2</th>\n",
       "      <td>0</td>\n",
       "      <td>2</td>\n",
       "      <td>1291</td>\n",
       "    </tr>\n",
       "    <tr>\n",
       "      <th>3</th>\n",
       "      <td>0</td>\n",
       "      <td>3</td>\n",
       "      <td>1295</td>\n",
       "    </tr>\n",
       "    <tr>\n",
       "      <th>4</th>\n",
       "      <td>0</td>\n",
       "      <td>4</td>\n",
       "      <td>946</td>\n",
       "    </tr>\n",
       "    <tr>\n",
       "      <th>5</th>\n",
       "      <td>0</td>\n",
       "      <td>5</td>\n",
       "      <td>948</td>\n",
       "    </tr>\n",
       "    <tr>\n",
       "      <th>6</th>\n",
       "      <td>0</td>\n",
       "      <td>6</td>\n",
       "      <td>981</td>\n",
       "    </tr>\n",
       "    <tr>\n",
       "      <th>7</th>\n",
       "      <td>0</td>\n",
       "      <td>7</td>\n",
       "      <td>970</td>\n",
       "    </tr>\n",
       "    <tr>\n",
       "      <th>8</th>\n",
       "      <td>1</td>\n",
       "      <td>0</td>\n",
       "      <td>957</td>\n",
       "    </tr>\n",
       "    <tr>\n",
       "      <th>9</th>\n",
       "      <td>1</td>\n",
       "      <td>1</td>\n",
       "      <td>417</td>\n",
       "    </tr>\n",
       "    <tr>\n",
       "      <th>10</th>\n",
       "      <td>1</td>\n",
       "      <td>2</td>\n",
       "      <td>443</td>\n",
       "    </tr>\n",
       "    <tr>\n",
       "      <th>11</th>\n",
       "      <td>1</td>\n",
       "      <td>3</td>\n",
       "      <td>273</td>\n",
       "    </tr>\n",
       "    <tr>\n",
       "      <th>12</th>\n",
       "      <td>1</td>\n",
       "      <td>4</td>\n",
       "      <td>284</td>\n",
       "    </tr>\n",
       "    <tr>\n",
       "      <th>13</th>\n",
       "      <td>1</td>\n",
       "      <td>5</td>\n",
       "      <td>300</td>\n",
       "    </tr>\n",
       "    <tr>\n",
       "      <th>14</th>\n",
       "      <td>1</td>\n",
       "      <td>6</td>\n",
       "      <td>315</td>\n",
       "    </tr>\n",
       "    <tr>\n",
       "      <th>15</th>\n",
       "      <td>2</td>\n",
       "      <td>0</td>\n",
       "      <td>627</td>\n",
       "    </tr>\n",
       "    <tr>\n",
       "      <th>16</th>\n",
       "      <td>2</td>\n",
       "      <td>1</td>\n",
       "      <td>249</td>\n",
       "    </tr>\n",
       "    <tr>\n",
       "      <th>17</th>\n",
       "      <td>2</td>\n",
       "      <td>2</td>\n",
       "      <td>135</td>\n",
       "    </tr>\n",
       "    <tr>\n",
       "      <th>18</th>\n",
       "      <td>2</td>\n",
       "      <td>3</td>\n",
       "      <td>147</td>\n",
       "    </tr>\n",
       "    <tr>\n",
       "      <th>19</th>\n",
       "      <td>2</td>\n",
       "      <td>4</td>\n",
       "      <td>166</td>\n",
       "    </tr>\n",
       "    <tr>\n",
       "      <th>20</th>\n",
       "      <td>2</td>\n",
       "      <td>5</td>\n",
       "      <td>165</td>\n",
       "    </tr>\n",
       "    <tr>\n",
       "      <th>21</th>\n",
       "      <td>3</td>\n",
       "      <td>0</td>\n",
       "      <td>564</td>\n",
       "    </tr>\n",
       "    <tr>\n",
       "      <th>22</th>\n",
       "      <td>3</td>\n",
       "      <td>1</td>\n",
       "      <td>98</td>\n",
       "    </tr>\n",
       "    <tr>\n",
       "      <th>23</th>\n",
       "      <td>3</td>\n",
       "      <td>2</td>\n",
       "      <td>113</td>\n",
       "    </tr>\n",
       "    <tr>\n",
       "      <th>24</th>\n",
       "      <td>3</td>\n",
       "      <td>3</td>\n",
       "      <td>109</td>\n",
       "    </tr>\n",
       "    <tr>\n",
       "      <th>25</th>\n",
       "      <td>3</td>\n",
       "      <td>4</td>\n",
       "      <td>154</td>\n",
       "    </tr>\n",
       "    <tr>\n",
       "      <th>26</th>\n",
       "      <td>4</td>\n",
       "      <td>0</td>\n",
       "      <td>557</td>\n",
       "    </tr>\n",
       "    <tr>\n",
       "      <th>27</th>\n",
       "      <td>4</td>\n",
       "      <td>1</td>\n",
       "      <td>211</td>\n",
       "    </tr>\n",
       "    <tr>\n",
       "      <th>28</th>\n",
       "      <td>4</td>\n",
       "      <td>2</td>\n",
       "      <td>235</td>\n",
       "    </tr>\n",
       "    <tr>\n",
       "      <th>29</th>\n",
       "      <td>4</td>\n",
       "      <td>3</td>\n",
       "      <td>255</td>\n",
       "    </tr>\n",
       "    <tr>\n",
       "      <th>30</th>\n",
       "      <td>5</td>\n",
       "      <td>0</td>\n",
       "      <td>351</td>\n",
       "    </tr>\n",
       "    <tr>\n",
       "      <th>31</th>\n",
       "      <td>5</td>\n",
       "      <td>1</td>\n",
       "      <td>140</td>\n",
       "    </tr>\n",
       "    <tr>\n",
       "      <th>32</th>\n",
       "      <td>5</td>\n",
       "      <td>2</td>\n",
       "      <td>144</td>\n",
       "    </tr>\n",
       "    <tr>\n",
       "      <th>33</th>\n",
       "      <td>6</td>\n",
       "      <td>0</td>\n",
       "      <td>333</td>\n",
       "    </tr>\n",
       "    <tr>\n",
       "      <th>34</th>\n",
       "      <td>6</td>\n",
       "      <td>1</td>\n",
       "      <td>127</td>\n",
       "    </tr>\n",
       "    <tr>\n",
       "      <th>35</th>\n",
       "      <td>7</td>\n",
       "      <td>0</td>\n",
       "      <td>294</td>\n",
       "    </tr>\n",
       "  </tbody>\n",
       "</table>\n",
       "</div>"
      ],
      "text/plain": [
       "    CohortQuarterID  CohortIndex  Customer ID\n",
       "0                 0            0         2141\n",
       "1                 0            1         1238\n",
       "2                 0            2         1291\n",
       "3                 0            3         1295\n",
       "4                 0            4          946\n",
       "5                 0            5          948\n",
       "6                 0            6          981\n",
       "7                 0            7          970\n",
       "8                 1            0          957\n",
       "9                 1            1          417\n",
       "10                1            2          443\n",
       "11                1            3          273\n",
       "12                1            4          284\n",
       "13                1            5          300\n",
       "14                1            6          315\n",
       "15                2            0          627\n",
       "16                2            1          249\n",
       "17                2            2          135\n",
       "18                2            3          147\n",
       "19                2            4          166\n",
       "20                2            5          165\n",
       "21                3            0          564\n",
       "22                3            1           98\n",
       "23                3            2          113\n",
       "24                3            3          109\n",
       "25                3            4          154\n",
       "26                4            0          557\n",
       "27                4            1          211\n",
       "28                4            2          235\n",
       "29                4            3          255\n",
       "30                5            0          351\n",
       "31                5            1          140\n",
       "32                5            2          144\n",
       "33                6            0          333\n",
       "34                6            1          127\n",
       "35                7            0          294"
      ]
     },
     "execution_count": 61,
     "metadata": {},
     "output_type": "execute_result"
    }
   ],
   "source": [
    "cohort_retention = retail.groupby(['CohortQuarterID', 'CohortIndex'])['Customer ID'].apply(pd.Series.nunique).reset_index()\n",
    "cohort_retention"
   ]
  },
  {
   "cell_type": "code",
   "execution_count": 62,
   "id": "0a35a2b0",
   "metadata": {
    "execution": {
     "iopub.execute_input": "2022-10-29T09:16:48.810429Z",
     "iopub.status.busy": "2022-10-29T09:16:48.810125Z",
     "iopub.status.idle": "2022-10-29T09:16:48.838651Z",
     "shell.execute_reply": "2022-10-29T09:16:48.838078Z"
    },
    "papermill": {
     "duration": 0.062151,
     "end_time": "2022-10-29T09:16:48.840148",
     "exception": false,
     "start_time": "2022-10-29T09:16:48.777997",
     "status": "completed"
    },
    "tags": []
   },
   "outputs": [
    {
     "data": {
      "text/html": [
       "<div>\n",
       "<style scoped>\n",
       "    .dataframe tbody tr th:only-of-type {\n",
       "        vertical-align: middle;\n",
       "    }\n",
       "\n",
       "    .dataframe tbody tr th {\n",
       "        vertical-align: top;\n",
       "    }\n",
       "\n",
       "    .dataframe thead th {\n",
       "        text-align: right;\n",
       "    }\n",
       "</style>\n",
       "<table border=\"1\" class=\"dataframe\">\n",
       "  <thead>\n",
       "    <tr style=\"text-align: right;\">\n",
       "      <th>CohortIndex</th>\n",
       "      <th>0</th>\n",
       "      <th>1</th>\n",
       "      <th>2</th>\n",
       "      <th>3</th>\n",
       "      <th>4</th>\n",
       "      <th>5</th>\n",
       "      <th>6</th>\n",
       "      <th>7</th>\n",
       "    </tr>\n",
       "    <tr>\n",
       "      <th>CohortQuarterID</th>\n",
       "      <th></th>\n",
       "      <th></th>\n",
       "      <th></th>\n",
       "      <th></th>\n",
       "      <th></th>\n",
       "      <th></th>\n",
       "      <th></th>\n",
       "      <th></th>\n",
       "    </tr>\n",
       "  </thead>\n",
       "  <tbody>\n",
       "    <tr>\n",
       "      <th>0</th>\n",
       "      <td>2141.0</td>\n",
       "      <td>1238.0</td>\n",
       "      <td>1291.0</td>\n",
       "      <td>1295.0</td>\n",
       "      <td>946.0</td>\n",
       "      <td>948.0</td>\n",
       "      <td>981.0</td>\n",
       "      <td>970.0</td>\n",
       "    </tr>\n",
       "    <tr>\n",
       "      <th>1</th>\n",
       "      <td>957.0</td>\n",
       "      <td>417.0</td>\n",
       "      <td>443.0</td>\n",
       "      <td>273.0</td>\n",
       "      <td>284.0</td>\n",
       "      <td>300.0</td>\n",
       "      <td>315.0</td>\n",
       "      <td>NaN</td>\n",
       "    </tr>\n",
       "    <tr>\n",
       "      <th>2</th>\n",
       "      <td>627.0</td>\n",
       "      <td>249.0</td>\n",
       "      <td>135.0</td>\n",
       "      <td>147.0</td>\n",
       "      <td>166.0</td>\n",
       "      <td>165.0</td>\n",
       "      <td>NaN</td>\n",
       "      <td>NaN</td>\n",
       "    </tr>\n",
       "    <tr>\n",
       "      <th>3</th>\n",
       "      <td>564.0</td>\n",
       "      <td>98.0</td>\n",
       "      <td>113.0</td>\n",
       "      <td>109.0</td>\n",
       "      <td>154.0</td>\n",
       "      <td>NaN</td>\n",
       "      <td>NaN</td>\n",
       "      <td>NaN</td>\n",
       "    </tr>\n",
       "    <tr>\n",
       "      <th>4</th>\n",
       "      <td>557.0</td>\n",
       "      <td>211.0</td>\n",
       "      <td>235.0</td>\n",
       "      <td>255.0</td>\n",
       "      <td>NaN</td>\n",
       "      <td>NaN</td>\n",
       "      <td>NaN</td>\n",
       "      <td>NaN</td>\n",
       "    </tr>\n",
       "    <tr>\n",
       "      <th>5</th>\n",
       "      <td>351.0</td>\n",
       "      <td>140.0</td>\n",
       "      <td>144.0</td>\n",
       "      <td>NaN</td>\n",
       "      <td>NaN</td>\n",
       "      <td>NaN</td>\n",
       "      <td>NaN</td>\n",
       "      <td>NaN</td>\n",
       "    </tr>\n",
       "    <tr>\n",
       "      <th>6</th>\n",
       "      <td>333.0</td>\n",
       "      <td>127.0</td>\n",
       "      <td>NaN</td>\n",
       "      <td>NaN</td>\n",
       "      <td>NaN</td>\n",
       "      <td>NaN</td>\n",
       "      <td>NaN</td>\n",
       "      <td>NaN</td>\n",
       "    </tr>\n",
       "    <tr>\n",
       "      <th>7</th>\n",
       "      <td>294.0</td>\n",
       "      <td>NaN</td>\n",
       "      <td>NaN</td>\n",
       "      <td>NaN</td>\n",
       "      <td>NaN</td>\n",
       "      <td>NaN</td>\n",
       "      <td>NaN</td>\n",
       "      <td>NaN</td>\n",
       "    </tr>\n",
       "  </tbody>\n",
       "</table>\n",
       "</div>"
      ],
      "text/plain": [
       "CohortIndex           0       1       2       3      4      5      6      7\n",
       "CohortQuarterID                                                            \n",
       "0                2141.0  1238.0  1291.0  1295.0  946.0  948.0  981.0  970.0\n",
       "1                 957.0   417.0   443.0   273.0  284.0  300.0  315.0    NaN\n",
       "2                 627.0   249.0   135.0   147.0  166.0  165.0    NaN    NaN\n",
       "3                 564.0    98.0   113.0   109.0  154.0    NaN    NaN    NaN\n",
       "4                 557.0   211.0   235.0   255.0    NaN    NaN    NaN    NaN\n",
       "5                 351.0   140.0   144.0     NaN    NaN    NaN    NaN    NaN\n",
       "6                 333.0   127.0     NaN     NaN    NaN    NaN    NaN    NaN\n",
       "7                 294.0     NaN     NaN     NaN    NaN    NaN    NaN    NaN"
      ]
     },
     "execution_count": 62,
     "metadata": {},
     "output_type": "execute_result"
    }
   ],
   "source": [
    "cohort_retention.rename(columns={'Customer ID': 'Customer Count'}, inplace=True)\n",
    "cohort_retention_count = cohort_retention.pivot_table(index='CohortQuarterID', \n",
    "                                                      columns='CohortIndex', \n",
    "                                                      values='Customer Count')\n",
    "cohort_retention_count"
   ]
  },
  {
   "cell_type": "code",
   "execution_count": 63,
   "id": "c4aa5cd3",
   "metadata": {
    "execution": {
     "iopub.execute_input": "2022-10-29T09:16:48.904427Z",
     "iopub.status.busy": "2022-10-29T09:16:48.903979Z",
     "iopub.status.idle": "2022-10-29T09:16:48.910773Z",
     "shell.execute_reply": "2022-10-29T09:16:48.910244Z"
    },
    "papermill": {
     "duration": 0.040384,
     "end_time": "2022-10-29T09:16:48.912238",
     "exception": false,
     "start_time": "2022-10-29T09:16:48.871854",
     "status": "completed"
    },
    "tags": []
   },
   "outputs": [
    {
     "data": {
      "text/plain": [
       "CohortQuarterID\n",
       "0    Q1/2010\n",
       "1    Q2/2010\n",
       "2    Q3/2010\n",
       "3    Q4/2010\n",
       "4    Q1/2011\n",
       "5    Q2/2011\n",
       "6    Q3/2011\n",
       "7    Q4/2011\n",
       "Name: CohortQuarter, dtype: object"
      ]
     },
     "execution_count": 63,
     "metadata": {},
     "output_type": "execute_result"
    }
   ],
   "source": [
    "cohort_retention_count['CohortQuarter'] = cohort_retention_count.index.map(dict(zip(quarters_map.values(), \n",
    "                                                                                    quarters_map.keys())))\n",
    "cohort_retention_count['CohortQuarter']"
   ]
  },
  {
   "cell_type": "code",
   "execution_count": 64,
   "id": "82b98168",
   "metadata": {
    "execution": {
     "iopub.execute_input": "2022-10-29T09:16:48.976032Z",
     "iopub.status.busy": "2022-10-29T09:16:48.975726Z",
     "iopub.status.idle": "2022-10-29T09:16:48.995192Z",
     "shell.execute_reply": "2022-10-29T09:16:48.994092Z"
    },
    "papermill": {
     "duration": 0.05345,
     "end_time": "2022-10-29T09:16:48.996979",
     "exception": false,
     "start_time": "2022-10-29T09:16:48.943529",
     "status": "completed"
    },
    "tags": []
   },
   "outputs": [
    {
     "data": {
      "text/html": [
       "<div>\n",
       "<style scoped>\n",
       "    .dataframe tbody tr th:only-of-type {\n",
       "        vertical-align: middle;\n",
       "    }\n",
       "\n",
       "    .dataframe tbody tr th {\n",
       "        vertical-align: top;\n",
       "    }\n",
       "\n",
       "    .dataframe thead th {\n",
       "        text-align: right;\n",
       "    }\n",
       "</style>\n",
       "<table border=\"1\" class=\"dataframe\">\n",
       "  <thead>\n",
       "    <tr style=\"text-align: right;\">\n",
       "      <th>CohortIndex</th>\n",
       "      <th>0</th>\n",
       "      <th>1</th>\n",
       "      <th>2</th>\n",
       "      <th>3</th>\n",
       "      <th>4</th>\n",
       "      <th>5</th>\n",
       "      <th>6</th>\n",
       "      <th>7</th>\n",
       "    </tr>\n",
       "    <tr>\n",
       "      <th>CohortQuarter</th>\n",
       "      <th></th>\n",
       "      <th></th>\n",
       "      <th></th>\n",
       "      <th></th>\n",
       "      <th></th>\n",
       "      <th></th>\n",
       "      <th></th>\n",
       "      <th></th>\n",
       "    </tr>\n",
       "  </thead>\n",
       "  <tbody>\n",
       "    <tr>\n",
       "      <th>Q4/2011</th>\n",
       "      <td>100.0</td>\n",
       "      <td>NaN</td>\n",
       "      <td>NaN</td>\n",
       "      <td>NaN</td>\n",
       "      <td>NaN</td>\n",
       "      <td>NaN</td>\n",
       "      <td>NaN</td>\n",
       "      <td>NaN</td>\n",
       "    </tr>\n",
       "    <tr>\n",
       "      <th>Q3/2011</th>\n",
       "      <td>100.0</td>\n",
       "      <td>38.14</td>\n",
       "      <td>NaN</td>\n",
       "      <td>NaN</td>\n",
       "      <td>NaN</td>\n",
       "      <td>NaN</td>\n",
       "      <td>NaN</td>\n",
       "      <td>NaN</td>\n",
       "    </tr>\n",
       "    <tr>\n",
       "      <th>Q2/2011</th>\n",
       "      <td>100.0</td>\n",
       "      <td>39.89</td>\n",
       "      <td>41.03</td>\n",
       "      <td>NaN</td>\n",
       "      <td>NaN</td>\n",
       "      <td>NaN</td>\n",
       "      <td>NaN</td>\n",
       "      <td>NaN</td>\n",
       "    </tr>\n",
       "    <tr>\n",
       "      <th>Q1/2011</th>\n",
       "      <td>100.0</td>\n",
       "      <td>37.88</td>\n",
       "      <td>42.19</td>\n",
       "      <td>45.78</td>\n",
       "      <td>NaN</td>\n",
       "      <td>NaN</td>\n",
       "      <td>NaN</td>\n",
       "      <td>NaN</td>\n",
       "    </tr>\n",
       "    <tr>\n",
       "      <th>Q4/2010</th>\n",
       "      <td>100.0</td>\n",
       "      <td>17.38</td>\n",
       "      <td>20.04</td>\n",
       "      <td>19.33</td>\n",
       "      <td>27.30</td>\n",
       "      <td>NaN</td>\n",
       "      <td>NaN</td>\n",
       "      <td>NaN</td>\n",
       "    </tr>\n",
       "    <tr>\n",
       "      <th>Q3/2010</th>\n",
       "      <td>100.0</td>\n",
       "      <td>39.71</td>\n",
       "      <td>21.53</td>\n",
       "      <td>23.44</td>\n",
       "      <td>26.48</td>\n",
       "      <td>26.32</td>\n",
       "      <td>NaN</td>\n",
       "      <td>NaN</td>\n",
       "    </tr>\n",
       "    <tr>\n",
       "      <th>Q2/2010</th>\n",
       "      <td>100.0</td>\n",
       "      <td>43.57</td>\n",
       "      <td>46.29</td>\n",
       "      <td>28.53</td>\n",
       "      <td>29.68</td>\n",
       "      <td>31.35</td>\n",
       "      <td>32.92</td>\n",
       "      <td>NaN</td>\n",
       "    </tr>\n",
       "    <tr>\n",
       "      <th>Q1/2010</th>\n",
       "      <td>100.0</td>\n",
       "      <td>57.82</td>\n",
       "      <td>60.30</td>\n",
       "      <td>60.49</td>\n",
       "      <td>44.18</td>\n",
       "      <td>44.28</td>\n",
       "      <td>45.82</td>\n",
       "      <td>45.31</td>\n",
       "    </tr>\n",
       "  </tbody>\n",
       "</table>\n",
       "</div>"
      ],
      "text/plain": [
       "CohortIndex        0      1      2      3      4      5      6      7\n",
       "CohortQuarter                                                        \n",
       "Q4/2011        100.0    NaN    NaN    NaN    NaN    NaN    NaN    NaN\n",
       "Q3/2011        100.0  38.14    NaN    NaN    NaN    NaN    NaN    NaN\n",
       "Q2/2011        100.0  39.89  41.03    NaN    NaN    NaN    NaN    NaN\n",
       "Q1/2011        100.0  37.88  42.19  45.78    NaN    NaN    NaN    NaN\n",
       "Q4/2010        100.0  17.38  20.04  19.33  27.30    NaN    NaN    NaN\n",
       "Q3/2010        100.0  39.71  21.53  23.44  26.48  26.32    NaN    NaN\n",
       "Q2/2010        100.0  43.57  46.29  28.53  29.68  31.35  32.92    NaN\n",
       "Q1/2010        100.0  57.82  60.30  60.49  44.18  44.28  45.82  45.31"
      ]
     },
     "execution_count": 64,
     "metadata": {},
     "output_type": "execute_result"
    }
   ],
   "source": [
    "cohort_retention_count = cohort_retention_count.set_index('CohortQuarter')\n",
    "cohort_size = cohort_retention_count.iloc[:, 0]\n",
    "retention = cohort_retention_count.divide(cohort_size, axis = 0)\n",
    "retention = (retention*100).round(2)\n",
    "retention = retention.iloc[::-1]\n",
    "retention"
   ]
  },
  {
   "cell_type": "code",
   "execution_count": 65,
   "id": "74a0e9c1",
   "metadata": {
    "execution": {
     "iopub.execute_input": "2022-10-29T09:16:49.063488Z",
     "iopub.status.busy": "2022-10-29T09:16:49.062490Z",
     "iopub.status.idle": "2022-10-29T09:16:49.102079Z",
     "shell.execute_reply": "2022-10-29T09:16:49.101188Z"
    },
    "papermill": {
     "duration": 0.074028,
     "end_time": "2022-10-29T09:16:49.103864",
     "exception": false,
     "start_time": "2022-10-29T09:16:49.029836",
     "status": "completed"
    },
    "tags": []
   },
   "outputs": [
    {
     "data": {
      "text/html": [
       "<div>                            <div id=\"7392e48c-14e4-4598-b972-e29609c4153a\" class=\"plotly-graph-div\" style=\"height:525px; width:100%;\"></div>            <script type=\"text/javascript\">                require([\"plotly\"], function(Plotly) {                    window.PLOTLYENV=window.PLOTLYENV || {};                                    if (document.getElementById(\"7392e48c-14e4-4598-b972-e29609c4153a\")) {                    Plotly.newPlot(                        \"7392e48c-14e4-4598-b972-e29609c4153a\",                        [{\"colorbar\":{\"title\":{\"text\":\"Retention Rate, %\"}},\"colorscale\":[[0.0,\"rgb(247,252,245)\"],[0.125,\"rgb(229,245,224)\"],[0.25,\"rgb(199,233,192)\"],[0.375,\"rgb(161,217,155)\"],[0.5,\"rgb(116,196,118)\"],[0.625,\"rgb(65,171,93)\"],[0.75,\"rgb(35,139,69)\"],[0.875,\"rgb(0,109,44)\"],[1.0,\"rgb(0,68,27)\"]],\"text\":[[100.0,null,null,null,null,null,null,null],[100.0,38.14,null,null,null,null,null,null],[100.0,39.89,41.03,null,null,null,null,null],[100.0,37.88,42.19,45.78,null,null,null,null],[100.0,17.38,20.04,19.33,27.3,null,null,null],[100.0,39.71,21.53,23.44,26.48,26.32,null,null],[100.0,43.57,46.29,28.53,29.68,31.35,32.92,null],[100.0,57.82,60.3,60.49,44.18,44.28,45.82,45.31]],\"texttemplate\":\"%{text}%\",\"xgap\":3,\"y\":[\"Q4/2011\",\"Q3/2011\",\"Q2/2011\",\"Q1/2011\",\"Q4/2010\",\"Q3/2010\",\"Q2/2010\",\"Q1/2010\"],\"ygap\":3,\"z\":[[100.0,null,null,null,null,null,null,null],[100.0,38.14,null,null,null,null,null,null],[100.0,39.89,41.03,null,null,null,null,null],[100.0,37.88,42.19,45.78,null,null,null,null],[100.0,17.38,20.04,19.33,27.3,null,null,null],[100.0,39.71,21.53,23.44,26.48,26.32,null,null],[100.0,43.57,46.29,28.53,29.68,31.35,32.92,null],[100.0,57.82,60.3,60.49,44.18,44.28,45.82,45.31]],\"type\":\"heatmap\"}],                        {\"template\":{\"data\":{\"histogram2dcontour\":[{\"type\":\"histogram2dcontour\",\"colorbar\":{\"outlinewidth\":0,\"ticks\":\"\"},\"colorscale\":[[0.0,\"#0d0887\"],[0.1111111111111111,\"#46039f\"],[0.2222222222222222,\"#7201a8\"],[0.3333333333333333,\"#9c179e\"],[0.4444444444444444,\"#bd3786\"],[0.5555555555555556,\"#d8576b\"],[0.6666666666666666,\"#ed7953\"],[0.7777777777777778,\"#fb9f3a\"],[0.8888888888888888,\"#fdca26\"],[1.0,\"#f0f921\"]]}],\"choropleth\":[{\"type\":\"choropleth\",\"colorbar\":{\"outlinewidth\":0,\"ticks\":\"\"}}],\"histogram2d\":[{\"type\":\"histogram2d\",\"colorbar\":{\"outlinewidth\":0,\"ticks\":\"\"},\"colorscale\":[[0.0,\"#0d0887\"],[0.1111111111111111,\"#46039f\"],[0.2222222222222222,\"#7201a8\"],[0.3333333333333333,\"#9c179e\"],[0.4444444444444444,\"#bd3786\"],[0.5555555555555556,\"#d8576b\"],[0.6666666666666666,\"#ed7953\"],[0.7777777777777778,\"#fb9f3a\"],[0.8888888888888888,\"#fdca26\"],[1.0,\"#f0f921\"]]}],\"heatmap\":[{\"type\":\"heatmap\",\"colorbar\":{\"outlinewidth\":0,\"ticks\":\"\"},\"colorscale\":[[0.0,\"#0d0887\"],[0.1111111111111111,\"#46039f\"],[0.2222222222222222,\"#7201a8\"],[0.3333333333333333,\"#9c179e\"],[0.4444444444444444,\"#bd3786\"],[0.5555555555555556,\"#d8576b\"],[0.6666666666666666,\"#ed7953\"],[0.7777777777777778,\"#fb9f3a\"],[0.8888888888888888,\"#fdca26\"],[1.0,\"#f0f921\"]]}],\"heatmapgl\":[{\"type\":\"heatmapgl\",\"colorbar\":{\"outlinewidth\":0,\"ticks\":\"\"},\"colorscale\":[[0.0,\"#0d0887\"],[0.1111111111111111,\"#46039f\"],[0.2222222222222222,\"#7201a8\"],[0.3333333333333333,\"#9c179e\"],[0.4444444444444444,\"#bd3786\"],[0.5555555555555556,\"#d8576b\"],[0.6666666666666666,\"#ed7953\"],[0.7777777777777778,\"#fb9f3a\"],[0.8888888888888888,\"#fdca26\"],[1.0,\"#f0f921\"]]}],\"contourcarpet\":[{\"type\":\"contourcarpet\",\"colorbar\":{\"outlinewidth\":0,\"ticks\":\"\"}}],\"contour\":[{\"type\":\"contour\",\"colorbar\":{\"outlinewidth\":0,\"ticks\":\"\"},\"colorscale\":[[0.0,\"#0d0887\"],[0.1111111111111111,\"#46039f\"],[0.2222222222222222,\"#7201a8\"],[0.3333333333333333,\"#9c179e\"],[0.4444444444444444,\"#bd3786\"],[0.5555555555555556,\"#d8576b\"],[0.6666666666666666,\"#ed7953\"],[0.7777777777777778,\"#fb9f3a\"],[0.8888888888888888,\"#fdca26\"],[1.0,\"#f0f921\"]]}],\"surface\":[{\"type\":\"surface\",\"colorbar\":{\"outlinewidth\":0,\"ticks\":\"\"},\"colorscale\":[[0.0,\"#0d0887\"],[0.1111111111111111,\"#46039f\"],[0.2222222222222222,\"#7201a8\"],[0.3333333333333333,\"#9c179e\"],[0.4444444444444444,\"#bd3786\"],[0.5555555555555556,\"#d8576b\"],[0.6666666666666666,\"#ed7953\"],[0.7777777777777778,\"#fb9f3a\"],[0.8888888888888888,\"#fdca26\"],[1.0,\"#f0f921\"]]}],\"mesh3d\":[{\"type\":\"mesh3d\",\"colorbar\":{\"outlinewidth\":0,\"ticks\":\"\"}}],\"scatter\":[{\"fillpattern\":{\"fillmode\":\"overlay\",\"size\":10,\"solidity\":0.2},\"type\":\"scatter\"}],\"parcoords\":[{\"type\":\"parcoords\",\"line\":{\"colorbar\":{\"outlinewidth\":0,\"ticks\":\"\"}}}],\"scatterpolargl\":[{\"type\":\"scatterpolargl\",\"marker\":{\"colorbar\":{\"outlinewidth\":0,\"ticks\":\"\"}}}],\"bar\":[{\"error_x\":{\"color\":\"#2a3f5f\"},\"error_y\":{\"color\":\"#2a3f5f\"},\"marker\":{\"line\":{\"color\":\"#E5ECF6\",\"width\":0.5},\"pattern\":{\"fillmode\":\"overlay\",\"size\":10,\"solidity\":0.2}},\"type\":\"bar\"}],\"scattergeo\":[{\"type\":\"scattergeo\",\"marker\":{\"colorbar\":{\"outlinewidth\":0,\"ticks\":\"\"}}}],\"scatterpolar\":[{\"type\":\"scatterpolar\",\"marker\":{\"colorbar\":{\"outlinewidth\":0,\"ticks\":\"\"}}}],\"histogram\":[{\"marker\":{\"pattern\":{\"fillmode\":\"overlay\",\"size\":10,\"solidity\":0.2}},\"type\":\"histogram\"}],\"scattergl\":[{\"type\":\"scattergl\",\"marker\":{\"colorbar\":{\"outlinewidth\":0,\"ticks\":\"\"}}}],\"scatter3d\":[{\"type\":\"scatter3d\",\"line\":{\"colorbar\":{\"outlinewidth\":0,\"ticks\":\"\"}},\"marker\":{\"colorbar\":{\"outlinewidth\":0,\"ticks\":\"\"}}}],\"scattermapbox\":[{\"type\":\"scattermapbox\",\"marker\":{\"colorbar\":{\"outlinewidth\":0,\"ticks\":\"\"}}}],\"scatterternary\":[{\"type\":\"scatterternary\",\"marker\":{\"colorbar\":{\"outlinewidth\":0,\"ticks\":\"\"}}}],\"scattercarpet\":[{\"type\":\"scattercarpet\",\"marker\":{\"colorbar\":{\"outlinewidth\":0,\"ticks\":\"\"}}}],\"carpet\":[{\"aaxis\":{\"endlinecolor\":\"#2a3f5f\",\"gridcolor\":\"white\",\"linecolor\":\"white\",\"minorgridcolor\":\"white\",\"startlinecolor\":\"#2a3f5f\"},\"baxis\":{\"endlinecolor\":\"#2a3f5f\",\"gridcolor\":\"white\",\"linecolor\":\"white\",\"minorgridcolor\":\"white\",\"startlinecolor\":\"#2a3f5f\"},\"type\":\"carpet\"}],\"table\":[{\"cells\":{\"fill\":{\"color\":\"#EBF0F8\"},\"line\":{\"color\":\"white\"}},\"header\":{\"fill\":{\"color\":\"#C8D4E3\"},\"line\":{\"color\":\"white\"}},\"type\":\"table\"}],\"barpolar\":[{\"marker\":{\"line\":{\"color\":\"#E5ECF6\",\"width\":0.5},\"pattern\":{\"fillmode\":\"overlay\",\"size\":10,\"solidity\":0.2}},\"type\":\"barpolar\"}],\"pie\":[{\"automargin\":true,\"type\":\"pie\"}]},\"layout\":{\"autotypenumbers\":\"strict\",\"colorway\":[\"#636efa\",\"#EF553B\",\"#00cc96\",\"#ab63fa\",\"#FFA15A\",\"#19d3f3\",\"#FF6692\",\"#B6E880\",\"#FF97FF\",\"#FECB52\"],\"font\":{\"color\":\"#2a3f5f\"},\"hovermode\":\"closest\",\"hoverlabel\":{\"align\":\"left\"},\"paper_bgcolor\":\"white\",\"plot_bgcolor\":\"#E5ECF6\",\"polar\":{\"bgcolor\":\"#E5ECF6\",\"angularaxis\":{\"gridcolor\":\"white\",\"linecolor\":\"white\",\"ticks\":\"\"},\"radialaxis\":{\"gridcolor\":\"white\",\"linecolor\":\"white\",\"ticks\":\"\"}},\"ternary\":{\"bgcolor\":\"#E5ECF6\",\"aaxis\":{\"gridcolor\":\"white\",\"linecolor\":\"white\",\"ticks\":\"\"},\"baxis\":{\"gridcolor\":\"white\",\"linecolor\":\"white\",\"ticks\":\"\"},\"caxis\":{\"gridcolor\":\"white\",\"linecolor\":\"white\",\"ticks\":\"\"}},\"coloraxis\":{\"colorbar\":{\"outlinewidth\":0,\"ticks\":\"\"}},\"colorscale\":{\"sequential\":[[0.0,\"#0d0887\"],[0.1111111111111111,\"#46039f\"],[0.2222222222222222,\"#7201a8\"],[0.3333333333333333,\"#9c179e\"],[0.4444444444444444,\"#bd3786\"],[0.5555555555555556,\"#d8576b\"],[0.6666666666666666,\"#ed7953\"],[0.7777777777777778,\"#fb9f3a\"],[0.8888888888888888,\"#fdca26\"],[1.0,\"#f0f921\"]],\"sequentialminus\":[[0.0,\"#0d0887\"],[0.1111111111111111,\"#46039f\"],[0.2222222222222222,\"#7201a8\"],[0.3333333333333333,\"#9c179e\"],[0.4444444444444444,\"#bd3786\"],[0.5555555555555556,\"#d8576b\"],[0.6666666666666666,\"#ed7953\"],[0.7777777777777778,\"#fb9f3a\"],[0.8888888888888888,\"#fdca26\"],[1.0,\"#f0f921\"]],\"diverging\":[[0,\"#8e0152\"],[0.1,\"#c51b7d\"],[0.2,\"#de77ae\"],[0.3,\"#f1b6da\"],[0.4,\"#fde0ef\"],[0.5,\"#f7f7f7\"],[0.6,\"#e6f5d0\"],[0.7,\"#b8e186\"],[0.8,\"#7fbc41\"],[0.9,\"#4d9221\"],[1,\"#276419\"]]},\"xaxis\":{\"gridcolor\":\"white\",\"linecolor\":\"white\",\"ticks\":\"\",\"title\":{\"standoff\":15},\"zerolinecolor\":\"white\",\"automargin\":true,\"zerolinewidth\":2},\"yaxis\":{\"gridcolor\":\"white\",\"linecolor\":\"white\",\"ticks\":\"\",\"title\":{\"standoff\":15},\"zerolinecolor\":\"white\",\"automargin\":true,\"zerolinewidth\":2},\"scene\":{\"xaxis\":{\"backgroundcolor\":\"#E5ECF6\",\"gridcolor\":\"white\",\"linecolor\":\"white\",\"showbackground\":true,\"ticks\":\"\",\"zerolinecolor\":\"white\",\"gridwidth\":2},\"yaxis\":{\"backgroundcolor\":\"#E5ECF6\",\"gridcolor\":\"white\",\"linecolor\":\"white\",\"showbackground\":true,\"ticks\":\"\",\"zerolinecolor\":\"white\",\"gridwidth\":2},\"zaxis\":{\"backgroundcolor\":\"#E5ECF6\",\"gridcolor\":\"white\",\"linecolor\":\"white\",\"showbackground\":true,\"ticks\":\"\",\"zerolinecolor\":\"white\",\"gridwidth\":2}},\"shapedefaults\":{\"line\":{\"color\":\"#2a3f5f\"}},\"annotationdefaults\":{\"arrowcolor\":\"#2a3f5f\",\"arrowhead\":0,\"arrowwidth\":1},\"geo\":{\"bgcolor\":\"white\",\"landcolor\":\"#E5ECF6\",\"subunitcolor\":\"white\",\"showland\":true,\"showlakes\":true,\"lakecolor\":\"white\"},\"title\":{\"x\":0.05},\"mapbox\":{\"style\":\"light\"}}},\"xaxis\":{\"side\":\"top\",\"title\":{\"text\":\"Cohorts\"}},\"title\":{\"text\":\"Cohort Analysis: Retention Rate\",\"x\":0.5,\"y\":0.99},\"yaxis\":{\"title\":{\"text\":\"Quarters\"}},\"plot_bgcolor\":\"white\"},                        {\"responsive\": true}                    ).then(function(){\n",
       "                            \n",
       "var gd = document.getElementById('7392e48c-14e4-4598-b972-e29609c4153a');\n",
       "var x = new MutationObserver(function (mutations, observer) {{\n",
       "        var display = window.getComputedStyle(gd).display;\n",
       "        if (!display || display === 'none') {{\n",
       "            console.log([gd, 'removed!']);\n",
       "            Plotly.purge(gd);\n",
       "            observer.disconnect();\n",
       "        }}\n",
       "}});\n",
       "\n",
       "// Listen for the removal of the full notebook cells\n",
       "var notebookContainer = gd.closest('#notebook-container');\n",
       "if (notebookContainer) {{\n",
       "    x.observe(notebookContainer, {childList: true});\n",
       "}}\n",
       "\n",
       "// Listen for the clearing of the current output cell\n",
       "var outputEl = gd.closest('.output');\n",
       "if (outputEl) {{\n",
       "    x.observe(outputEl, {childList: true});\n",
       "}}\n",
       "\n",
       "                        })                };                });            </script>        </div>"
      ]
     },
     "metadata": {},
     "output_type": "display_data"
    }
   ],
   "source": [
    "fig = go.Figure(data=go.Heatmap(\n",
    "                    z=retention,\n",
    "                    y=retention.index,\n",
    "                    colorscale='Greens',\n",
    "                    text=retention,\n",
    "                    texttemplate = \"%{text}%\",\n",
    "                    colorbar_title='Retention Rate, %',\n",
    "                    xgap=3,\n",
    "                    ygap=3))\n",
    "\n",
    "fig.update_xaxes(side=\"top\")\n",
    "\n",
    "fig.update_layout(title=\"Cohort Analysis: Retention Rate\",\n",
    "                  xaxis_title=\"Cohorts\",\n",
    "                  yaxis_title=\"Quarters\",\n",
    "                  \n",
    "                  title_x=0.5,\n",
    "                  title_y=0.99,\n",
    "                  plot_bgcolor='white')\n",
    "fig.show()"
   ]
  },
  {
   "cell_type": "markdown",
   "id": "955ef795",
   "metadata": {
    "papermill": {
     "duration": 0.031775,
     "end_time": "2022-10-29T09:16:49.168118",
     "exception": false,
     "start_time": "2022-10-29T09:16:49.136343",
     "status": "completed"
    },
    "tags": []
   },
   "source": [
    "The results are quite interesting. Have you noticed how retention drops in 2010?\n",
    "An it seems that the store has implemented some measures to improve the \n",
    "situation in 2011, so more customers returned to shop here agein."
   ]
  },
  {
   "cell_type": "markdown",
   "id": "dbc18485",
   "metadata": {
    "papermill": {
     "duration": 0.031259,
     "end_time": "2022-10-29T09:16:49.231251",
     "exception": false,
     "start_time": "2022-10-29T09:16:49.199992",
     "status": "completed"
    },
    "tags": []
   },
   "source": [
    "**Average Quantity Cohort Analysis**"
   ]
  },
  {
   "cell_type": "markdown",
   "id": "a70586e8",
   "metadata": {
    "papermill": {
     "duration": 0.033955,
     "end_time": "2022-10-29T09:16:49.296980",
     "exception": false,
     "start_time": "2022-10-29T09:16:49.263025",
     "status": "completed"
    },
    "tags": []
   },
   "source": [
    "One more dimension I am interested is how many products are sold on average, \n",
    "and how this changes with time. Here, I will use the same method, but group my data using mean() function."
   ]
  },
  {
   "cell_type": "code",
   "execution_count": 66,
   "id": "cf863694",
   "metadata": {
    "execution": {
     "iopub.execute_input": "2022-10-29T09:16:49.366735Z",
     "iopub.status.busy": "2022-10-29T09:16:49.365815Z",
     "iopub.status.idle": "2022-10-29T09:16:49.421772Z",
     "shell.execute_reply": "2022-10-29T09:16:49.420947Z"
    },
    "papermill": {
     "duration": 0.092301,
     "end_time": "2022-10-29T09:16:49.423860",
     "exception": false,
     "start_time": "2022-10-29T09:16:49.331559",
     "status": "completed"
    },
    "tags": []
   },
   "outputs": [
    {
     "data": {
      "text/html": [
       "<div>\n",
       "<style scoped>\n",
       "    .dataframe tbody tr th:only-of-type {\n",
       "        vertical-align: middle;\n",
       "    }\n",
       "\n",
       "    .dataframe tbody tr th {\n",
       "        vertical-align: top;\n",
       "    }\n",
       "\n",
       "    .dataframe thead th {\n",
       "        text-align: right;\n",
       "    }\n",
       "</style>\n",
       "<table border=\"1\" class=\"dataframe\">\n",
       "  <thead>\n",
       "    <tr style=\"text-align: right;\">\n",
       "      <th>CohortIndex</th>\n",
       "      <th>0</th>\n",
       "      <th>1</th>\n",
       "      <th>2</th>\n",
       "      <th>3</th>\n",
       "      <th>4</th>\n",
       "      <th>5</th>\n",
       "      <th>6</th>\n",
       "      <th>7</th>\n",
       "    </tr>\n",
       "    <tr>\n",
       "      <th>CohortQuarter</th>\n",
       "      <th></th>\n",
       "      <th></th>\n",
       "      <th></th>\n",
       "      <th></th>\n",
       "      <th></th>\n",
       "      <th></th>\n",
       "      <th></th>\n",
       "      <th></th>\n",
       "    </tr>\n",
       "  </thead>\n",
       "  <tbody>\n",
       "    <tr>\n",
       "      <th>Q4/2011</th>\n",
       "      <td>10.5</td>\n",
       "      <td>NaN</td>\n",
       "      <td>NaN</td>\n",
       "      <td>NaN</td>\n",
       "      <td>NaN</td>\n",
       "      <td>NaN</td>\n",
       "      <td>NaN</td>\n",
       "      <td>NaN</td>\n",
       "    </tr>\n",
       "    <tr>\n",
       "      <th>Q3/2011</th>\n",
       "      <td>9.9</td>\n",
       "      <td>7.7</td>\n",
       "      <td>NaN</td>\n",
       "      <td>NaN</td>\n",
       "      <td>NaN</td>\n",
       "      <td>NaN</td>\n",
       "      <td>NaN</td>\n",
       "      <td>NaN</td>\n",
       "    </tr>\n",
       "    <tr>\n",
       "      <th>Q2/2011</th>\n",
       "      <td>9.1</td>\n",
       "      <td>10.7</td>\n",
       "      <td>9.8</td>\n",
       "      <td>NaN</td>\n",
       "      <td>NaN</td>\n",
       "      <td>NaN</td>\n",
       "      <td>NaN</td>\n",
       "      <td>NaN</td>\n",
       "    </tr>\n",
       "    <tr>\n",
       "      <th>Q1/2011</th>\n",
       "      <td>9.4</td>\n",
       "      <td>11.1</td>\n",
       "      <td>9.7</td>\n",
       "      <td>7.8</td>\n",
       "      <td>NaN</td>\n",
       "      <td>NaN</td>\n",
       "      <td>NaN</td>\n",
       "      <td>NaN</td>\n",
       "    </tr>\n",
       "    <tr>\n",
       "      <th>Q4/2010</th>\n",
       "      <td>7.8</td>\n",
       "      <td>10.4</td>\n",
       "      <td>11.6</td>\n",
       "      <td>12.2</td>\n",
       "      <td>9.6</td>\n",
       "      <td>NaN</td>\n",
       "      <td>NaN</td>\n",
       "      <td>NaN</td>\n",
       "    </tr>\n",
       "    <tr>\n",
       "      <th>Q3/2010</th>\n",
       "      <td>15.3</td>\n",
       "      <td>10.4</td>\n",
       "      <td>12.2</td>\n",
       "      <td>13.1</td>\n",
       "      <td>17.9</td>\n",
       "      <td>13.3</td>\n",
       "      <td>NaN</td>\n",
       "      <td>NaN</td>\n",
       "    </tr>\n",
       "    <tr>\n",
       "      <th>Q2/2010</th>\n",
       "      <td>10.2</td>\n",
       "      <td>10.1</td>\n",
       "      <td>10.0</td>\n",
       "      <td>11.5</td>\n",
       "      <td>13.5</td>\n",
       "      <td>12.2</td>\n",
       "      <td>9.0</td>\n",
       "      <td>NaN</td>\n",
       "    </tr>\n",
       "    <tr>\n",
       "      <th>Q1/2010</th>\n",
       "      <td>14.9</td>\n",
       "      <td>12.9</td>\n",
       "      <td>14.5</td>\n",
       "      <td>12.4</td>\n",
       "      <td>13.9</td>\n",
       "      <td>13.9</td>\n",
       "      <td>13.6</td>\n",
       "      <td>13.0</td>\n",
       "    </tr>\n",
       "  </tbody>\n",
       "</table>\n",
       "</div>"
      ],
      "text/plain": [
       "CohortIndex       0     1     2     3     4     5     6     7\n",
       "CohortQuarter                                                \n",
       "Q4/2011        10.5   NaN   NaN   NaN   NaN   NaN   NaN   NaN\n",
       "Q3/2011         9.9   7.7   NaN   NaN   NaN   NaN   NaN   NaN\n",
       "Q2/2011         9.1  10.7   9.8   NaN   NaN   NaN   NaN   NaN\n",
       "Q1/2011         9.4  11.1   9.7   7.8   NaN   NaN   NaN   NaN\n",
       "Q4/2010         7.8  10.4  11.6  12.2   9.6   NaN   NaN   NaN\n",
       "Q3/2010        15.3  10.4  12.2  13.1  17.9  13.3   NaN   NaN\n",
       "Q2/2010        10.2  10.1  10.0  11.5  13.5  12.2   9.0   NaN\n",
       "Q1/2010        14.9  12.9  14.5  12.4  13.9  13.9  13.6  13.0"
      ]
     },
     "execution_count": 66,
     "metadata": {},
     "output_type": "execute_result"
    }
   ],
   "source": [
    "cohort_quantity = retail.groupby(['CohortQuarterID', 'CohortIndex'])['Quantity'].mean().reset_index()\n",
    "cohort_quantity.rename(columns={'Quantity': 'Average Quantity'}, inplace=True)\n",
    "average_quantity  = cohort_quantity.pivot_table(index = 'CohortQuarterID',\n",
    "                                                columns = 'CohortIndex',\n",
    "                                                values = 'Average Quantity').round(1)\n",
    "average_quantity['CohortQuarter'] = average_quantity.index.map(dict(zip(quarters_map.values(), \n",
    "                                                                        quarters_map.keys())))\n",
    "average_quantity = average_quantity.set_index('CohortQuarter')\n",
    "average_quantity = average_quantity.iloc[::-1]\n",
    "average_quantity"
   ]
  },
  {
   "cell_type": "code",
   "execution_count": 67,
   "id": "6524a3d4",
   "metadata": {
    "execution": {
     "iopub.execute_input": "2022-10-29T09:16:49.490474Z",
     "iopub.status.busy": "2022-10-29T09:16:49.490149Z",
     "iopub.status.idle": "2022-10-29T09:16:49.507073Z",
     "shell.execute_reply": "2022-10-29T09:16:49.505989Z"
    },
    "papermill": {
     "duration": 0.052033,
     "end_time": "2022-10-29T09:16:49.508778",
     "exception": false,
     "start_time": "2022-10-29T09:16:49.456745",
     "status": "completed"
    },
    "tags": []
   },
   "outputs": [
    {
     "data": {
      "text/html": [
       "<div>                            <div id=\"bbe3add6-909e-409f-813c-d9f672f9c1c4\" class=\"plotly-graph-div\" style=\"height:525px; width:100%;\"></div>            <script type=\"text/javascript\">                require([\"plotly\"], function(Plotly) {                    window.PLOTLYENV=window.PLOTLYENV || {};                                    if (document.getElementById(\"bbe3add6-909e-409f-813c-d9f672f9c1c4\")) {                    Plotly.newPlot(                        \"bbe3add6-909e-409f-813c-d9f672f9c1c4\",                        [{\"colorbar\":{\"title\":{\"text\":\"Average Quantity\"}},\"colorscale\":[[0.0,\"rgb(247,251,255)\"],[0.125,\"rgb(222,235,247)\"],[0.25,\"rgb(198,219,239)\"],[0.375,\"rgb(158,202,225)\"],[0.5,\"rgb(107,174,214)\"],[0.625,\"rgb(66,146,198)\"],[0.75,\"rgb(33,113,181)\"],[0.875,\"rgb(8,81,156)\"],[1.0,\"rgb(8,48,107)\"]],\"text\":[[10.5,null,null,null,null,null,null,null],[9.9,7.7,null,null,null,null,null,null],[9.1,10.7,9.8,null,null,null,null,null],[9.4,11.1,9.7,7.8,null,null,null,null],[7.8,10.4,11.6,12.2,9.6,null,null,null],[15.3,10.4,12.2,13.1,17.9,13.3,null,null],[10.2,10.1,10.0,11.5,13.5,12.2,9.0,null],[14.9,12.9,14.5,12.4,13.9,13.9,13.6,13.0]],\"texttemplate\":\"%{text}\",\"xgap\":3,\"y\":[\"Q4/2011\",\"Q3/2011\",\"Q2/2011\",\"Q1/2011\",\"Q4/2010\",\"Q3/2010\",\"Q2/2010\",\"Q1/2010\"],\"ygap\":3,\"z\":[[10.5,null,null,null,null,null,null,null],[9.9,7.7,null,null,null,null,null,null],[9.1,10.7,9.8,null,null,null,null,null],[9.4,11.1,9.7,7.8,null,null,null,null],[7.8,10.4,11.6,12.2,9.6,null,null,null],[15.3,10.4,12.2,13.1,17.9,13.3,null,null],[10.2,10.1,10.0,11.5,13.5,12.2,9.0,null],[14.9,12.9,14.5,12.4,13.9,13.9,13.6,13.0]],\"type\":\"heatmap\"}],                        {\"template\":{\"data\":{\"histogram2dcontour\":[{\"type\":\"histogram2dcontour\",\"colorbar\":{\"outlinewidth\":0,\"ticks\":\"\"},\"colorscale\":[[0.0,\"#0d0887\"],[0.1111111111111111,\"#46039f\"],[0.2222222222222222,\"#7201a8\"],[0.3333333333333333,\"#9c179e\"],[0.4444444444444444,\"#bd3786\"],[0.5555555555555556,\"#d8576b\"],[0.6666666666666666,\"#ed7953\"],[0.7777777777777778,\"#fb9f3a\"],[0.8888888888888888,\"#fdca26\"],[1.0,\"#f0f921\"]]}],\"choropleth\":[{\"type\":\"choropleth\",\"colorbar\":{\"outlinewidth\":0,\"ticks\":\"\"}}],\"histogram2d\":[{\"type\":\"histogram2d\",\"colorbar\":{\"outlinewidth\":0,\"ticks\":\"\"},\"colorscale\":[[0.0,\"#0d0887\"],[0.1111111111111111,\"#46039f\"],[0.2222222222222222,\"#7201a8\"],[0.3333333333333333,\"#9c179e\"],[0.4444444444444444,\"#bd3786\"],[0.5555555555555556,\"#d8576b\"],[0.6666666666666666,\"#ed7953\"],[0.7777777777777778,\"#fb9f3a\"],[0.8888888888888888,\"#fdca26\"],[1.0,\"#f0f921\"]]}],\"heatmap\":[{\"type\":\"heatmap\",\"colorbar\":{\"outlinewidth\":0,\"ticks\":\"\"},\"colorscale\":[[0.0,\"#0d0887\"],[0.1111111111111111,\"#46039f\"],[0.2222222222222222,\"#7201a8\"],[0.3333333333333333,\"#9c179e\"],[0.4444444444444444,\"#bd3786\"],[0.5555555555555556,\"#d8576b\"],[0.6666666666666666,\"#ed7953\"],[0.7777777777777778,\"#fb9f3a\"],[0.8888888888888888,\"#fdca26\"],[1.0,\"#f0f921\"]]}],\"heatmapgl\":[{\"type\":\"heatmapgl\",\"colorbar\":{\"outlinewidth\":0,\"ticks\":\"\"},\"colorscale\":[[0.0,\"#0d0887\"],[0.1111111111111111,\"#46039f\"],[0.2222222222222222,\"#7201a8\"],[0.3333333333333333,\"#9c179e\"],[0.4444444444444444,\"#bd3786\"],[0.5555555555555556,\"#d8576b\"],[0.6666666666666666,\"#ed7953\"],[0.7777777777777778,\"#fb9f3a\"],[0.8888888888888888,\"#fdca26\"],[1.0,\"#f0f921\"]]}],\"contourcarpet\":[{\"type\":\"contourcarpet\",\"colorbar\":{\"outlinewidth\":0,\"ticks\":\"\"}}],\"contour\":[{\"type\":\"contour\",\"colorbar\":{\"outlinewidth\":0,\"ticks\":\"\"},\"colorscale\":[[0.0,\"#0d0887\"],[0.1111111111111111,\"#46039f\"],[0.2222222222222222,\"#7201a8\"],[0.3333333333333333,\"#9c179e\"],[0.4444444444444444,\"#bd3786\"],[0.5555555555555556,\"#d8576b\"],[0.6666666666666666,\"#ed7953\"],[0.7777777777777778,\"#fb9f3a\"],[0.8888888888888888,\"#fdca26\"],[1.0,\"#f0f921\"]]}],\"surface\":[{\"type\":\"surface\",\"colorbar\":{\"outlinewidth\":0,\"ticks\":\"\"},\"colorscale\":[[0.0,\"#0d0887\"],[0.1111111111111111,\"#46039f\"],[0.2222222222222222,\"#7201a8\"],[0.3333333333333333,\"#9c179e\"],[0.4444444444444444,\"#bd3786\"],[0.5555555555555556,\"#d8576b\"],[0.6666666666666666,\"#ed7953\"],[0.7777777777777778,\"#fb9f3a\"],[0.8888888888888888,\"#fdca26\"],[1.0,\"#f0f921\"]]}],\"mesh3d\":[{\"type\":\"mesh3d\",\"colorbar\":{\"outlinewidth\":0,\"ticks\":\"\"}}],\"scatter\":[{\"fillpattern\":{\"fillmode\":\"overlay\",\"size\":10,\"solidity\":0.2},\"type\":\"scatter\"}],\"parcoords\":[{\"type\":\"parcoords\",\"line\":{\"colorbar\":{\"outlinewidth\":0,\"ticks\":\"\"}}}],\"scatterpolargl\":[{\"type\":\"scatterpolargl\",\"marker\":{\"colorbar\":{\"outlinewidth\":0,\"ticks\":\"\"}}}],\"bar\":[{\"error_x\":{\"color\":\"#2a3f5f\"},\"error_y\":{\"color\":\"#2a3f5f\"},\"marker\":{\"line\":{\"color\":\"#E5ECF6\",\"width\":0.5},\"pattern\":{\"fillmode\":\"overlay\",\"size\":10,\"solidity\":0.2}},\"type\":\"bar\"}],\"scattergeo\":[{\"type\":\"scattergeo\",\"marker\":{\"colorbar\":{\"outlinewidth\":0,\"ticks\":\"\"}}}],\"scatterpolar\":[{\"type\":\"scatterpolar\",\"marker\":{\"colorbar\":{\"outlinewidth\":0,\"ticks\":\"\"}}}],\"histogram\":[{\"marker\":{\"pattern\":{\"fillmode\":\"overlay\",\"size\":10,\"solidity\":0.2}},\"type\":\"histogram\"}],\"scattergl\":[{\"type\":\"scattergl\",\"marker\":{\"colorbar\":{\"outlinewidth\":0,\"ticks\":\"\"}}}],\"scatter3d\":[{\"type\":\"scatter3d\",\"line\":{\"colorbar\":{\"outlinewidth\":0,\"ticks\":\"\"}},\"marker\":{\"colorbar\":{\"outlinewidth\":0,\"ticks\":\"\"}}}],\"scattermapbox\":[{\"type\":\"scattermapbox\",\"marker\":{\"colorbar\":{\"outlinewidth\":0,\"ticks\":\"\"}}}],\"scatterternary\":[{\"type\":\"scatterternary\",\"marker\":{\"colorbar\":{\"outlinewidth\":0,\"ticks\":\"\"}}}],\"scattercarpet\":[{\"type\":\"scattercarpet\",\"marker\":{\"colorbar\":{\"outlinewidth\":0,\"ticks\":\"\"}}}],\"carpet\":[{\"aaxis\":{\"endlinecolor\":\"#2a3f5f\",\"gridcolor\":\"white\",\"linecolor\":\"white\",\"minorgridcolor\":\"white\",\"startlinecolor\":\"#2a3f5f\"},\"baxis\":{\"endlinecolor\":\"#2a3f5f\",\"gridcolor\":\"white\",\"linecolor\":\"white\",\"minorgridcolor\":\"white\",\"startlinecolor\":\"#2a3f5f\"},\"type\":\"carpet\"}],\"table\":[{\"cells\":{\"fill\":{\"color\":\"#EBF0F8\"},\"line\":{\"color\":\"white\"}},\"header\":{\"fill\":{\"color\":\"#C8D4E3\"},\"line\":{\"color\":\"white\"}},\"type\":\"table\"}],\"barpolar\":[{\"marker\":{\"line\":{\"color\":\"#E5ECF6\",\"width\":0.5},\"pattern\":{\"fillmode\":\"overlay\",\"size\":10,\"solidity\":0.2}},\"type\":\"barpolar\"}],\"pie\":[{\"automargin\":true,\"type\":\"pie\"}]},\"layout\":{\"autotypenumbers\":\"strict\",\"colorway\":[\"#636efa\",\"#EF553B\",\"#00cc96\",\"#ab63fa\",\"#FFA15A\",\"#19d3f3\",\"#FF6692\",\"#B6E880\",\"#FF97FF\",\"#FECB52\"],\"font\":{\"color\":\"#2a3f5f\"},\"hovermode\":\"closest\",\"hoverlabel\":{\"align\":\"left\"},\"paper_bgcolor\":\"white\",\"plot_bgcolor\":\"#E5ECF6\",\"polar\":{\"bgcolor\":\"#E5ECF6\",\"angularaxis\":{\"gridcolor\":\"white\",\"linecolor\":\"white\",\"ticks\":\"\"},\"radialaxis\":{\"gridcolor\":\"white\",\"linecolor\":\"white\",\"ticks\":\"\"}},\"ternary\":{\"bgcolor\":\"#E5ECF6\",\"aaxis\":{\"gridcolor\":\"white\",\"linecolor\":\"white\",\"ticks\":\"\"},\"baxis\":{\"gridcolor\":\"white\",\"linecolor\":\"white\",\"ticks\":\"\"},\"caxis\":{\"gridcolor\":\"white\",\"linecolor\":\"white\",\"ticks\":\"\"}},\"coloraxis\":{\"colorbar\":{\"outlinewidth\":0,\"ticks\":\"\"}},\"colorscale\":{\"sequential\":[[0.0,\"#0d0887\"],[0.1111111111111111,\"#46039f\"],[0.2222222222222222,\"#7201a8\"],[0.3333333333333333,\"#9c179e\"],[0.4444444444444444,\"#bd3786\"],[0.5555555555555556,\"#d8576b\"],[0.6666666666666666,\"#ed7953\"],[0.7777777777777778,\"#fb9f3a\"],[0.8888888888888888,\"#fdca26\"],[1.0,\"#f0f921\"]],\"sequentialminus\":[[0.0,\"#0d0887\"],[0.1111111111111111,\"#46039f\"],[0.2222222222222222,\"#7201a8\"],[0.3333333333333333,\"#9c179e\"],[0.4444444444444444,\"#bd3786\"],[0.5555555555555556,\"#d8576b\"],[0.6666666666666666,\"#ed7953\"],[0.7777777777777778,\"#fb9f3a\"],[0.8888888888888888,\"#fdca26\"],[1.0,\"#f0f921\"]],\"diverging\":[[0,\"#8e0152\"],[0.1,\"#c51b7d\"],[0.2,\"#de77ae\"],[0.3,\"#f1b6da\"],[0.4,\"#fde0ef\"],[0.5,\"#f7f7f7\"],[0.6,\"#e6f5d0\"],[0.7,\"#b8e186\"],[0.8,\"#7fbc41\"],[0.9,\"#4d9221\"],[1,\"#276419\"]]},\"xaxis\":{\"gridcolor\":\"white\",\"linecolor\":\"white\",\"ticks\":\"\",\"title\":{\"standoff\":15},\"zerolinecolor\":\"white\",\"automargin\":true,\"zerolinewidth\":2},\"yaxis\":{\"gridcolor\":\"white\",\"linecolor\":\"white\",\"ticks\":\"\",\"title\":{\"standoff\":15},\"zerolinecolor\":\"white\",\"automargin\":true,\"zerolinewidth\":2},\"scene\":{\"xaxis\":{\"backgroundcolor\":\"#E5ECF6\",\"gridcolor\":\"white\",\"linecolor\":\"white\",\"showbackground\":true,\"ticks\":\"\",\"zerolinecolor\":\"white\",\"gridwidth\":2},\"yaxis\":{\"backgroundcolor\":\"#E5ECF6\",\"gridcolor\":\"white\",\"linecolor\":\"white\",\"showbackground\":true,\"ticks\":\"\",\"zerolinecolor\":\"white\",\"gridwidth\":2},\"zaxis\":{\"backgroundcolor\":\"#E5ECF6\",\"gridcolor\":\"white\",\"linecolor\":\"white\",\"showbackground\":true,\"ticks\":\"\",\"zerolinecolor\":\"white\",\"gridwidth\":2}},\"shapedefaults\":{\"line\":{\"color\":\"#2a3f5f\"}},\"annotationdefaults\":{\"arrowcolor\":\"#2a3f5f\",\"arrowhead\":0,\"arrowwidth\":1},\"geo\":{\"bgcolor\":\"white\",\"landcolor\":\"#E5ECF6\",\"subunitcolor\":\"white\",\"showland\":true,\"showlakes\":true,\"lakecolor\":\"white\"},\"title\":{\"x\":0.05},\"mapbox\":{\"style\":\"light\"}}},\"xaxis\":{\"side\":\"top\",\"title\":{\"text\":\"Cohorts\"}},\"title\":{\"text\":\"Cohort Analysis: Average Quantity\",\"x\":0.5,\"y\":0.99},\"yaxis\":{\"title\":{\"text\":\"Quarters\"}},\"plot_bgcolor\":\"white\"},                        {\"responsive\": true}                    ).then(function(){\n",
       "                            \n",
       "var gd = document.getElementById('bbe3add6-909e-409f-813c-d9f672f9c1c4');\n",
       "var x = new MutationObserver(function (mutations, observer) {{\n",
       "        var display = window.getComputedStyle(gd).display;\n",
       "        if (!display || display === 'none') {{\n",
       "            console.log([gd, 'removed!']);\n",
       "            Plotly.purge(gd);\n",
       "            observer.disconnect();\n",
       "        }}\n",
       "}});\n",
       "\n",
       "// Listen for the removal of the full notebook cells\n",
       "var notebookContainer = gd.closest('#notebook-container');\n",
       "if (notebookContainer) {{\n",
       "    x.observe(notebookContainer, {childList: true});\n",
       "}}\n",
       "\n",
       "// Listen for the clearing of the current output cell\n",
       "var outputEl = gd.closest('.output');\n",
       "if (outputEl) {{\n",
       "    x.observe(outputEl, {childList: true});\n",
       "}}\n",
       "\n",
       "                        })                };                });            </script>        </div>"
      ]
     },
     "metadata": {},
     "output_type": "display_data"
    }
   ],
   "source": [
    "fig = go.Figure(data=go.Heatmap(\n",
    "                    z=average_quantity,\n",
    "                    y=average_quantity.index,\n",
    "                    colorscale='Blues',\n",
    "                    text=average_quantity,\n",
    "                    texttemplate = \"%{text}\",\n",
    "                    colorbar_title='Average Quantity',\n",
    "                    xgap=3,\n",
    "                    ygap=3))\n",
    "\n",
    "fig.update_xaxes(side=\"top\")\n",
    "\n",
    "fig.update_layout(title=\"Cohort Analysis: Average Quantity\",\n",
    "                  xaxis_title=\"Cohorts\",\n",
    "                  yaxis_title=\"Quarters\",\n",
    "                  \n",
    "                  title_x=0.5,\n",
    "                  title_y=0.99,\n",
    "                  plot_bgcolor='white')\n",
    "fig.show()"
   ]
  },
  {
   "cell_type": "markdown",
   "id": "741a8006",
   "metadata": {
    "papermill": {
     "duration": 0.03198,
     "end_time": "2022-10-29T09:16:49.573795",
     "exception": false,
     "start_time": "2022-10-29T09:16:49.541815",
     "status": "completed"
    },
    "tags": []
   },
   "source": [
    "Here as well, a drop in the average sold quantity of products can be noticed in 2010. In 2011 things started to improve but then dropped back; however it may mean that more expensive products are now sold in smaller amounts.\n"
   ]
  },
  {
   "cell_type": "markdown",
   "id": "4c5308f6",
   "metadata": {
    "papermill": {
     "duration": 0.031866,
     "end_time": "2022-10-29T09:16:49.637942",
     "exception": false,
     "start_time": "2022-10-29T09:16:49.606076",
     "status": "completed"
    },
    "tags": []
   },
   "source": [
    "# **Online Sales on Timeline**"
   ]
  },
  {
   "cell_type": "markdown",
   "id": "daa8a501",
   "metadata": {
    "papermill": {
     "duration": 0.032204,
     "end_time": "2022-10-29T09:16:49.702376",
     "exception": false,
     "start_time": "2022-10-29T09:16:49.670172",
     "status": "completed"
    },
    "tags": []
   },
   "source": [
    "Finally, I will built two more charts to show how the sales amount was changing with time. I will break down data by quarters and by months."
   ]
  },
  {
   "cell_type": "markdown",
   "id": "30bdf802",
   "metadata": {
    "papermill": {
     "duration": 0.031852,
     "end_time": "2022-10-29T09:16:49.766535",
     "exception": false,
     "start_time": "2022-10-29T09:16:49.734683",
     "status": "completed"
    },
    "tags": []
   },
   "source": [
    "**Quarterly Sales**"
   ]
  },
  {
   "cell_type": "code",
   "execution_count": 68,
   "id": "a07a40d0",
   "metadata": {
    "execution": {
     "iopub.execute_input": "2022-10-29T09:16:49.835304Z",
     "iopub.status.busy": "2022-10-29T09:16:49.834500Z",
     "iopub.status.idle": "2022-10-29T09:16:49.969071Z",
     "shell.execute_reply": "2022-10-29T09:16:49.968259Z"
    },
    "papermill": {
     "duration": 0.169931,
     "end_time": "2022-10-29T09:16:49.970778",
     "exception": false,
     "start_time": "2022-10-29T09:16:49.800847",
     "status": "completed"
    },
    "tags": []
   },
   "outputs": [
    {
     "data": {
      "text/plain": [
       "0    Q1/2010\n",
       "1    Q2/2010\n",
       "2    Q3/2010\n",
       "3    Q4/2010\n",
       "4    Q1/2011\n",
       "5    Q2/2011\n",
       "6    Q3/2011\n",
       "7    Q4/2011\n",
       "Name: InvoiceQuarter, dtype: object"
      ]
     },
     "execution_count": 68,
     "metadata": {},
     "output_type": "execute_result"
    }
   ],
   "source": [
    "retail_quarters_by_sales = retail.groupby(['InvoiceQuarterID'], as_index=False)['Total'].agg('sum')\n",
    "retail_quarters_by_sales['InvoiceQuarter'] = retail_quarters_by_sales['InvoiceQuarterID'].map(dict(zip(quarters_map.values(), \n",
    "                                                                                                               quarters_map.keys())))\n",
    "retail_quarters_by_sales['InvoiceQuarter']"
   ]
  },
  {
   "cell_type": "code",
   "execution_count": 69,
   "id": "55043e6f",
   "metadata": {
    "execution": {
     "iopub.execute_input": "2022-10-29T09:16:50.038623Z",
     "iopub.status.busy": "2022-10-29T09:16:50.038129Z",
     "iopub.status.idle": "2022-10-29T09:16:50.056010Z",
     "shell.execute_reply": "2022-10-29T09:16:50.054998Z"
    },
    "papermill": {
     "duration": 0.053988,
     "end_time": "2022-10-29T09:16:50.057735",
     "exception": false,
     "start_time": "2022-10-29T09:16:50.003747",
     "status": "completed"
    },
    "tags": []
   },
   "outputs": [
    {
     "data": {
      "text/html": [
       "<div>                            <div id=\"e254793d-33b0-4e6b-a1e7-399ec889cd13\" class=\"plotly-graph-div\" style=\"height:525px; width:100%;\"></div>            <script type=\"text/javascript\">                require([\"plotly\"], function(Plotly) {                    window.PLOTLYENV=window.PLOTLYENV || {};                                    if (document.getElementById(\"e254793d-33b0-4e6b-a1e7-399ec889cd13\")) {                    Plotly.newPlot(                        \"e254793d-33b0-4e6b-a1e7-399ec889cd13\",                        [{\"marker\":{\"color\":[1715537.899,1724394.241,2252736.912,2211032.572,1602287.87,1810404.881,2052035.293,2017799.8],\"colorscale\":[[0.0,\"rgb(12,51,131)\"],[0.25,\"rgb(10,136,186)\"],[0.5,\"rgb(242,211,56)\"],[0.75,\"rgb(242,143,56)\"],[1.0,\"rgb(217,30,30)\"]],\"opacity\":1},\"name\":\"Quarterly Sales\",\"text\":\"Total\",\"x\":[\"Q1/2010\",\"Q2/2010\",\"Q3/2010\",\"Q4/2010\",\"Q1/2011\",\"Q2/2011\",\"Q3/2011\",\"Q4/2011\"],\"y\":[1715537.899,1724394.241,2252736.912,2211032.572,1602287.87,1810404.881,2052035.293,2017799.8],\"type\":\"bar\",\"textposition\":\"outside\",\"texttemplate\":\"%{text}: £%{y:.3s}\"}],                        {\"template\":{\"data\":{\"histogram2dcontour\":[{\"type\":\"histogram2dcontour\",\"colorbar\":{\"outlinewidth\":0,\"ticks\":\"\"},\"colorscale\":[[0.0,\"#0d0887\"],[0.1111111111111111,\"#46039f\"],[0.2222222222222222,\"#7201a8\"],[0.3333333333333333,\"#9c179e\"],[0.4444444444444444,\"#bd3786\"],[0.5555555555555556,\"#d8576b\"],[0.6666666666666666,\"#ed7953\"],[0.7777777777777778,\"#fb9f3a\"],[0.8888888888888888,\"#fdca26\"],[1.0,\"#f0f921\"]]}],\"choropleth\":[{\"type\":\"choropleth\",\"colorbar\":{\"outlinewidth\":0,\"ticks\":\"\"}}],\"histogram2d\":[{\"type\":\"histogram2d\",\"colorbar\":{\"outlinewidth\":0,\"ticks\":\"\"},\"colorscale\":[[0.0,\"#0d0887\"],[0.1111111111111111,\"#46039f\"],[0.2222222222222222,\"#7201a8\"],[0.3333333333333333,\"#9c179e\"],[0.4444444444444444,\"#bd3786\"],[0.5555555555555556,\"#d8576b\"],[0.6666666666666666,\"#ed7953\"],[0.7777777777777778,\"#fb9f3a\"],[0.8888888888888888,\"#fdca26\"],[1.0,\"#f0f921\"]]}],\"heatmap\":[{\"type\":\"heatmap\",\"colorbar\":{\"outlinewidth\":0,\"ticks\":\"\"},\"colorscale\":[[0.0,\"#0d0887\"],[0.1111111111111111,\"#46039f\"],[0.2222222222222222,\"#7201a8\"],[0.3333333333333333,\"#9c179e\"],[0.4444444444444444,\"#bd3786\"],[0.5555555555555556,\"#d8576b\"],[0.6666666666666666,\"#ed7953\"],[0.7777777777777778,\"#fb9f3a\"],[0.8888888888888888,\"#fdca26\"],[1.0,\"#f0f921\"]]}],\"heatmapgl\":[{\"type\":\"heatmapgl\",\"colorbar\":{\"outlinewidth\":0,\"ticks\":\"\"},\"colorscale\":[[0.0,\"#0d0887\"],[0.1111111111111111,\"#46039f\"],[0.2222222222222222,\"#7201a8\"],[0.3333333333333333,\"#9c179e\"],[0.4444444444444444,\"#bd3786\"],[0.5555555555555556,\"#d8576b\"],[0.6666666666666666,\"#ed7953\"],[0.7777777777777778,\"#fb9f3a\"],[0.8888888888888888,\"#fdca26\"],[1.0,\"#f0f921\"]]}],\"contourcarpet\":[{\"type\":\"contourcarpet\",\"colorbar\":{\"outlinewidth\":0,\"ticks\":\"\"}}],\"contour\":[{\"type\":\"contour\",\"colorbar\":{\"outlinewidth\":0,\"ticks\":\"\"},\"colorscale\":[[0.0,\"#0d0887\"],[0.1111111111111111,\"#46039f\"],[0.2222222222222222,\"#7201a8\"],[0.3333333333333333,\"#9c179e\"],[0.4444444444444444,\"#bd3786\"],[0.5555555555555556,\"#d8576b\"],[0.6666666666666666,\"#ed7953\"],[0.7777777777777778,\"#fb9f3a\"],[0.8888888888888888,\"#fdca26\"],[1.0,\"#f0f921\"]]}],\"surface\":[{\"type\":\"surface\",\"colorbar\":{\"outlinewidth\":0,\"ticks\":\"\"},\"colorscale\":[[0.0,\"#0d0887\"],[0.1111111111111111,\"#46039f\"],[0.2222222222222222,\"#7201a8\"],[0.3333333333333333,\"#9c179e\"],[0.4444444444444444,\"#bd3786\"],[0.5555555555555556,\"#d8576b\"],[0.6666666666666666,\"#ed7953\"],[0.7777777777777778,\"#fb9f3a\"],[0.8888888888888888,\"#fdca26\"],[1.0,\"#f0f921\"]]}],\"mesh3d\":[{\"type\":\"mesh3d\",\"colorbar\":{\"outlinewidth\":0,\"ticks\":\"\"}}],\"scatter\":[{\"fillpattern\":{\"fillmode\":\"overlay\",\"size\":10,\"solidity\":0.2},\"type\":\"scatter\"}],\"parcoords\":[{\"type\":\"parcoords\",\"line\":{\"colorbar\":{\"outlinewidth\":0,\"ticks\":\"\"}}}],\"scatterpolargl\":[{\"type\":\"scatterpolargl\",\"marker\":{\"colorbar\":{\"outlinewidth\":0,\"ticks\":\"\"}}}],\"bar\":[{\"error_x\":{\"color\":\"#2a3f5f\"},\"error_y\":{\"color\":\"#2a3f5f\"},\"marker\":{\"line\":{\"color\":\"#E5ECF6\",\"width\":0.5},\"pattern\":{\"fillmode\":\"overlay\",\"size\":10,\"solidity\":0.2}},\"type\":\"bar\"}],\"scattergeo\":[{\"type\":\"scattergeo\",\"marker\":{\"colorbar\":{\"outlinewidth\":0,\"ticks\":\"\"}}}],\"scatterpolar\":[{\"type\":\"scatterpolar\",\"marker\":{\"colorbar\":{\"outlinewidth\":0,\"ticks\":\"\"}}}],\"histogram\":[{\"marker\":{\"pattern\":{\"fillmode\":\"overlay\",\"size\":10,\"solidity\":0.2}},\"type\":\"histogram\"}],\"scattergl\":[{\"type\":\"scattergl\",\"marker\":{\"colorbar\":{\"outlinewidth\":0,\"ticks\":\"\"}}}],\"scatter3d\":[{\"type\":\"scatter3d\",\"line\":{\"colorbar\":{\"outlinewidth\":0,\"ticks\":\"\"}},\"marker\":{\"colorbar\":{\"outlinewidth\":0,\"ticks\":\"\"}}}],\"scattermapbox\":[{\"type\":\"scattermapbox\",\"marker\":{\"colorbar\":{\"outlinewidth\":0,\"ticks\":\"\"}}}],\"scatterternary\":[{\"type\":\"scatterternary\",\"marker\":{\"colorbar\":{\"outlinewidth\":0,\"ticks\":\"\"}}}],\"scattercarpet\":[{\"type\":\"scattercarpet\",\"marker\":{\"colorbar\":{\"outlinewidth\":0,\"ticks\":\"\"}}}],\"carpet\":[{\"aaxis\":{\"endlinecolor\":\"#2a3f5f\",\"gridcolor\":\"white\",\"linecolor\":\"white\",\"minorgridcolor\":\"white\",\"startlinecolor\":\"#2a3f5f\"},\"baxis\":{\"endlinecolor\":\"#2a3f5f\",\"gridcolor\":\"white\",\"linecolor\":\"white\",\"minorgridcolor\":\"white\",\"startlinecolor\":\"#2a3f5f\"},\"type\":\"carpet\"}],\"table\":[{\"cells\":{\"fill\":{\"color\":\"#EBF0F8\"},\"line\":{\"color\":\"white\"}},\"header\":{\"fill\":{\"color\":\"#C8D4E3\"},\"line\":{\"color\":\"white\"}},\"type\":\"table\"}],\"barpolar\":[{\"marker\":{\"line\":{\"color\":\"#E5ECF6\",\"width\":0.5},\"pattern\":{\"fillmode\":\"overlay\",\"size\":10,\"solidity\":0.2}},\"type\":\"barpolar\"}],\"pie\":[{\"automargin\":true,\"type\":\"pie\"}]},\"layout\":{\"autotypenumbers\":\"strict\",\"colorway\":[\"#636efa\",\"#EF553B\",\"#00cc96\",\"#ab63fa\",\"#FFA15A\",\"#19d3f3\",\"#FF6692\",\"#B6E880\",\"#FF97FF\",\"#FECB52\"],\"font\":{\"color\":\"#2a3f5f\"},\"hovermode\":\"closest\",\"hoverlabel\":{\"align\":\"left\"},\"paper_bgcolor\":\"white\",\"plot_bgcolor\":\"#E5ECF6\",\"polar\":{\"bgcolor\":\"#E5ECF6\",\"angularaxis\":{\"gridcolor\":\"white\",\"linecolor\":\"white\",\"ticks\":\"\"},\"radialaxis\":{\"gridcolor\":\"white\",\"linecolor\":\"white\",\"ticks\":\"\"}},\"ternary\":{\"bgcolor\":\"#E5ECF6\",\"aaxis\":{\"gridcolor\":\"white\",\"linecolor\":\"white\",\"ticks\":\"\"},\"baxis\":{\"gridcolor\":\"white\",\"linecolor\":\"white\",\"ticks\":\"\"},\"caxis\":{\"gridcolor\":\"white\",\"linecolor\":\"white\",\"ticks\":\"\"}},\"coloraxis\":{\"colorbar\":{\"outlinewidth\":0,\"ticks\":\"\"}},\"colorscale\":{\"sequential\":[[0.0,\"#0d0887\"],[0.1111111111111111,\"#46039f\"],[0.2222222222222222,\"#7201a8\"],[0.3333333333333333,\"#9c179e\"],[0.4444444444444444,\"#bd3786\"],[0.5555555555555556,\"#d8576b\"],[0.6666666666666666,\"#ed7953\"],[0.7777777777777778,\"#fb9f3a\"],[0.8888888888888888,\"#fdca26\"],[1.0,\"#f0f921\"]],\"sequentialminus\":[[0.0,\"#0d0887\"],[0.1111111111111111,\"#46039f\"],[0.2222222222222222,\"#7201a8\"],[0.3333333333333333,\"#9c179e\"],[0.4444444444444444,\"#bd3786\"],[0.5555555555555556,\"#d8576b\"],[0.6666666666666666,\"#ed7953\"],[0.7777777777777778,\"#fb9f3a\"],[0.8888888888888888,\"#fdca26\"],[1.0,\"#f0f921\"]],\"diverging\":[[0,\"#8e0152\"],[0.1,\"#c51b7d\"],[0.2,\"#de77ae\"],[0.3,\"#f1b6da\"],[0.4,\"#fde0ef\"],[0.5,\"#f7f7f7\"],[0.6,\"#e6f5d0\"],[0.7,\"#b8e186\"],[0.8,\"#7fbc41\"],[0.9,\"#4d9221\"],[1,\"#276419\"]]},\"xaxis\":{\"gridcolor\":\"white\",\"linecolor\":\"white\",\"ticks\":\"\",\"title\":{\"standoff\":15},\"zerolinecolor\":\"white\",\"automargin\":true,\"zerolinewidth\":2},\"yaxis\":{\"gridcolor\":\"white\",\"linecolor\":\"white\",\"ticks\":\"\",\"title\":{\"standoff\":15},\"zerolinecolor\":\"white\",\"automargin\":true,\"zerolinewidth\":2},\"scene\":{\"xaxis\":{\"backgroundcolor\":\"#E5ECF6\",\"gridcolor\":\"white\",\"linecolor\":\"white\",\"showbackground\":true,\"ticks\":\"\",\"zerolinecolor\":\"white\",\"gridwidth\":2},\"yaxis\":{\"backgroundcolor\":\"#E5ECF6\",\"gridcolor\":\"white\",\"linecolor\":\"white\",\"showbackground\":true,\"ticks\":\"\",\"zerolinecolor\":\"white\",\"gridwidth\":2},\"zaxis\":{\"backgroundcolor\":\"#E5ECF6\",\"gridcolor\":\"white\",\"linecolor\":\"white\",\"showbackground\":true,\"ticks\":\"\",\"zerolinecolor\":\"white\",\"gridwidth\":2}},\"shapedefaults\":{\"line\":{\"color\":\"#2a3f5f\"}},\"annotationdefaults\":{\"arrowcolor\":\"#2a3f5f\",\"arrowhead\":0,\"arrowwidth\":1},\"geo\":{\"bgcolor\":\"white\",\"landcolor\":\"#E5ECF6\",\"subunitcolor\":\"white\",\"showland\":true,\"showlakes\":true,\"lakecolor\":\"white\"},\"title\":{\"x\":0.05},\"mapbox\":{\"style\":\"light\"}}},\"barmode\":\"group\",\"showlegend\":false,\"title\":{\"text\":\"Quarterly Sales\",\"x\":0.45},\"xaxis\":{\"title\":{\"text\":\"Quarters\"}},\"yaxis\":{\"title\":{\"text\":\"Total Amount, £\"}},\"plot_bgcolor\":\"white\"},                        {\"responsive\": true}                    ).then(function(){\n",
       "                            \n",
       "var gd = document.getElementById('e254793d-33b0-4e6b-a1e7-399ec889cd13');\n",
       "var x = new MutationObserver(function (mutations, observer) {{\n",
       "        var display = window.getComputedStyle(gd).display;\n",
       "        if (!display || display === 'none') {{\n",
       "            console.log([gd, 'removed!']);\n",
       "            Plotly.purge(gd);\n",
       "            observer.disconnect();\n",
       "        }}\n",
       "}});\n",
       "\n",
       "// Listen for the removal of the full notebook cells\n",
       "var notebookContainer = gd.closest('#notebook-container');\n",
       "if (notebookContainer) {{\n",
       "    x.observe(notebookContainer, {childList: true});\n",
       "}}\n",
       "\n",
       "// Listen for the clearing of the current output cell\n",
       "var outputEl = gd.closest('.output');\n",
       "if (outputEl) {{\n",
       "    x.observe(outputEl, {childList: true});\n",
       "}}\n",
       "\n",
       "                        })                };                });            </script>        </div>"
      ]
     },
     "metadata": {},
     "output_type": "display_data"
    }
   ],
   "source": [
    "fig = go.Figure(data=[\n",
    "    go.Bar(name='Quarterly Sales', \n",
    "           x=retail_quarters_by_sales['InvoiceQuarter'],\n",
    "           y=retail_quarters_by_sales['Total'],\n",
    "           marker_opacity=1,\n",
    "           text='Total',\n",
    "           marker={'color': retail_quarters_by_sales['Total'],\n",
    "                   'colorscale': 'Portland'}\n",
    "          )\n",
    "    ])\n",
    "\n",
    "fig.update_traces(texttemplate='%{text}: £%{y:.3s}', textposition='outside')\n",
    "fig.update_layout(barmode='group', showlegend=False)\n",
    "\n",
    "fig.update_layout(title=\"Quarterly Sales\",\n",
    "                  title_x = 0.45,\n",
    "                  xaxis_title=\"Quarters\",\n",
    "                  yaxis_title=\"Total Amount, £\",\n",
    "                  plot_bgcolor='white')\n",
    "fig.show()"
   ]
  },
  {
   "cell_type": "markdown",
   "id": "a74acc23",
   "metadata": {
    "papermill": {
     "duration": 0.032208,
     "end_time": "2022-10-29T09:16:50.123459",
     "exception": false,
     "start_time": "2022-10-29T09:16:50.091251",
     "status": "completed"
    },
    "tags": []
   },
   "source": [
    "We can easily notice the seasonal fluctuations here: people tend to buy a lot before Christmas, and afterwards, a significant drop happens."
   ]
  },
  {
   "cell_type": "markdown",
   "id": "b6559d92",
   "metadata": {
    "papermill": {
     "duration": 0.031971,
     "end_time": "2022-10-29T09:16:50.187588",
     "exception": false,
     "start_time": "2022-10-29T09:16:50.155617",
     "status": "completed"
    },
    "tags": []
   },
   "source": [
    "**Monthly Sales**"
   ]
  },
  {
   "cell_type": "code",
   "execution_count": 70,
   "id": "881e45c6",
   "metadata": {
    "execution": {
     "iopub.execute_input": "2022-10-29T09:16:50.253828Z",
     "iopub.status.busy": "2022-10-29T09:16:50.252969Z",
     "iopub.status.idle": "2022-10-29T09:16:50.339838Z",
     "shell.execute_reply": "2022-10-29T09:16:50.338987Z"
    },
    "papermill": {
     "duration": 0.122247,
     "end_time": "2022-10-29T09:16:50.341942",
     "exception": false,
     "start_time": "2022-10-29T09:16:50.219695",
     "status": "completed"
    },
    "tags": []
   },
   "outputs": [],
   "source": [
    "retail_monthly = retail.copy()\n",
    "retail_monthly['InvoiceMonth'] = retail_monthly['InvoiceDate_DT'].dt.to_period('M')\n",
    "retail_monthly_by_sales = retail_monthly.groupby(['InvoiceMonth'], as_index=False)['Total'].agg('sum')"
   ]
  },
  {
   "cell_type": "code",
   "execution_count": 71,
   "id": "ca820421",
   "metadata": {
    "execution": {
     "iopub.execute_input": "2022-10-29T09:16:50.409617Z",
     "iopub.status.busy": "2022-10-29T09:16:50.409058Z",
     "iopub.status.idle": "2022-10-29T09:16:50.423720Z",
     "shell.execute_reply": "2022-10-29T09:16:50.423083Z"
    },
    "papermill": {
     "duration": 0.050052,
     "end_time": "2022-10-29T09:16:50.425371",
     "exception": false,
     "start_time": "2022-10-29T09:16:50.375319",
     "status": "completed"
    },
    "tags": []
   },
   "outputs": [
    {
     "data": {
      "text/html": [
       "<div>                            <div id=\"848327e7-4e41-4494-8abe-cb93393147c0\" class=\"plotly-graph-div\" style=\"height:525px; width:100%;\"></div>            <script type=\"text/javascript\">                require([\"plotly\"], function(Plotly) {                    window.PLOTLYENV=window.PLOTLYENV || {};                                    if (document.getElementById(\"848327e7-4e41-4494-8abe-cb93393147c0\")) {                    Plotly.newPlot(                        \"848327e7-4e41-4494-8abe-cb93393147c0\",                        [{\"marker\":{\"color\":[564798.923,541945.144,608793.832,620213.121,571243.1900000001,532937.93,750342.06,661748.181,840646.671,853805.71,880313.431,476913.431,508833.51,477622.46,615831.9,545428.281,646059.33,618917.27,635788.401,532179.01,884067.882,817394.45,1002902.29,197503.06],\"colorscale\":[[0.0,\"rgb(12,51,131)\"],[0.25,\"rgb(10,136,186)\"],[0.5,\"rgb(242,211,56)\"],[0.75,\"rgb(242,143,56)\"],[1.0,\"rgb(217,30,30)\"]],\"opacity\":1},\"name\":\"Monthly Sales\",\"x\":[\"2010-01\",\"2010-02\",\"2010-03\",\"2010-04\",\"2010-05\",\"2010-06\",\"2010-07\",\"2010-08\",\"2010-09\",\"2010-10\",\"2010-11\",\"2010-12\",\"2011-01\",\"2011-02\",\"2011-03\",\"2011-04\",\"2011-05\",\"2011-06\",\"2011-07\",\"2011-08\",\"2011-09\",\"2011-10\",\"2011-11\",\"2011-12\"],\"y\":[564798.923,541945.144,608793.832,620213.121,571243.1900000001,532937.93,750342.06,661748.181,840646.671,853805.71,880313.431,476913.431,508833.51,477622.46,615831.9,545428.281,646059.33,618917.27,635788.401,532179.01,884067.882,817394.45,1002902.29,197503.06],\"type\":\"bar\"}],                        {\"template\":{\"data\":{\"histogram2dcontour\":[{\"type\":\"histogram2dcontour\",\"colorbar\":{\"outlinewidth\":0,\"ticks\":\"\"},\"colorscale\":[[0.0,\"#0d0887\"],[0.1111111111111111,\"#46039f\"],[0.2222222222222222,\"#7201a8\"],[0.3333333333333333,\"#9c179e\"],[0.4444444444444444,\"#bd3786\"],[0.5555555555555556,\"#d8576b\"],[0.6666666666666666,\"#ed7953\"],[0.7777777777777778,\"#fb9f3a\"],[0.8888888888888888,\"#fdca26\"],[1.0,\"#f0f921\"]]}],\"choropleth\":[{\"type\":\"choropleth\",\"colorbar\":{\"outlinewidth\":0,\"ticks\":\"\"}}],\"histogram2d\":[{\"type\":\"histogram2d\",\"colorbar\":{\"outlinewidth\":0,\"ticks\":\"\"},\"colorscale\":[[0.0,\"#0d0887\"],[0.1111111111111111,\"#46039f\"],[0.2222222222222222,\"#7201a8\"],[0.3333333333333333,\"#9c179e\"],[0.4444444444444444,\"#bd3786\"],[0.5555555555555556,\"#d8576b\"],[0.6666666666666666,\"#ed7953\"],[0.7777777777777778,\"#fb9f3a\"],[0.8888888888888888,\"#fdca26\"],[1.0,\"#f0f921\"]]}],\"heatmap\":[{\"type\":\"heatmap\",\"colorbar\":{\"outlinewidth\":0,\"ticks\":\"\"},\"colorscale\":[[0.0,\"#0d0887\"],[0.1111111111111111,\"#46039f\"],[0.2222222222222222,\"#7201a8\"],[0.3333333333333333,\"#9c179e\"],[0.4444444444444444,\"#bd3786\"],[0.5555555555555556,\"#d8576b\"],[0.6666666666666666,\"#ed7953\"],[0.7777777777777778,\"#fb9f3a\"],[0.8888888888888888,\"#fdca26\"],[1.0,\"#f0f921\"]]}],\"heatmapgl\":[{\"type\":\"heatmapgl\",\"colorbar\":{\"outlinewidth\":0,\"ticks\":\"\"},\"colorscale\":[[0.0,\"#0d0887\"],[0.1111111111111111,\"#46039f\"],[0.2222222222222222,\"#7201a8\"],[0.3333333333333333,\"#9c179e\"],[0.4444444444444444,\"#bd3786\"],[0.5555555555555556,\"#d8576b\"],[0.6666666666666666,\"#ed7953\"],[0.7777777777777778,\"#fb9f3a\"],[0.8888888888888888,\"#fdca26\"],[1.0,\"#f0f921\"]]}],\"contourcarpet\":[{\"type\":\"contourcarpet\",\"colorbar\":{\"outlinewidth\":0,\"ticks\":\"\"}}],\"contour\":[{\"type\":\"contour\",\"colorbar\":{\"outlinewidth\":0,\"ticks\":\"\"},\"colorscale\":[[0.0,\"#0d0887\"],[0.1111111111111111,\"#46039f\"],[0.2222222222222222,\"#7201a8\"],[0.3333333333333333,\"#9c179e\"],[0.4444444444444444,\"#bd3786\"],[0.5555555555555556,\"#d8576b\"],[0.6666666666666666,\"#ed7953\"],[0.7777777777777778,\"#fb9f3a\"],[0.8888888888888888,\"#fdca26\"],[1.0,\"#f0f921\"]]}],\"surface\":[{\"type\":\"surface\",\"colorbar\":{\"outlinewidth\":0,\"ticks\":\"\"},\"colorscale\":[[0.0,\"#0d0887\"],[0.1111111111111111,\"#46039f\"],[0.2222222222222222,\"#7201a8\"],[0.3333333333333333,\"#9c179e\"],[0.4444444444444444,\"#bd3786\"],[0.5555555555555556,\"#d8576b\"],[0.6666666666666666,\"#ed7953\"],[0.7777777777777778,\"#fb9f3a\"],[0.8888888888888888,\"#fdca26\"],[1.0,\"#f0f921\"]]}],\"mesh3d\":[{\"type\":\"mesh3d\",\"colorbar\":{\"outlinewidth\":0,\"ticks\":\"\"}}],\"scatter\":[{\"fillpattern\":{\"fillmode\":\"overlay\",\"size\":10,\"solidity\":0.2},\"type\":\"scatter\"}],\"parcoords\":[{\"type\":\"parcoords\",\"line\":{\"colorbar\":{\"outlinewidth\":0,\"ticks\":\"\"}}}],\"scatterpolargl\":[{\"type\":\"scatterpolargl\",\"marker\":{\"colorbar\":{\"outlinewidth\":0,\"ticks\":\"\"}}}],\"bar\":[{\"error_x\":{\"color\":\"#2a3f5f\"},\"error_y\":{\"color\":\"#2a3f5f\"},\"marker\":{\"line\":{\"color\":\"#E5ECF6\",\"width\":0.5},\"pattern\":{\"fillmode\":\"overlay\",\"size\":10,\"solidity\":0.2}},\"type\":\"bar\"}],\"scattergeo\":[{\"type\":\"scattergeo\",\"marker\":{\"colorbar\":{\"outlinewidth\":0,\"ticks\":\"\"}}}],\"scatterpolar\":[{\"type\":\"scatterpolar\",\"marker\":{\"colorbar\":{\"outlinewidth\":0,\"ticks\":\"\"}}}],\"histogram\":[{\"marker\":{\"pattern\":{\"fillmode\":\"overlay\",\"size\":10,\"solidity\":0.2}},\"type\":\"histogram\"}],\"scattergl\":[{\"type\":\"scattergl\",\"marker\":{\"colorbar\":{\"outlinewidth\":0,\"ticks\":\"\"}}}],\"scatter3d\":[{\"type\":\"scatter3d\",\"line\":{\"colorbar\":{\"outlinewidth\":0,\"ticks\":\"\"}},\"marker\":{\"colorbar\":{\"outlinewidth\":0,\"ticks\":\"\"}}}],\"scattermapbox\":[{\"type\":\"scattermapbox\",\"marker\":{\"colorbar\":{\"outlinewidth\":0,\"ticks\":\"\"}}}],\"scatterternary\":[{\"type\":\"scatterternary\",\"marker\":{\"colorbar\":{\"outlinewidth\":0,\"ticks\":\"\"}}}],\"scattercarpet\":[{\"type\":\"scattercarpet\",\"marker\":{\"colorbar\":{\"outlinewidth\":0,\"ticks\":\"\"}}}],\"carpet\":[{\"aaxis\":{\"endlinecolor\":\"#2a3f5f\",\"gridcolor\":\"white\",\"linecolor\":\"white\",\"minorgridcolor\":\"white\",\"startlinecolor\":\"#2a3f5f\"},\"baxis\":{\"endlinecolor\":\"#2a3f5f\",\"gridcolor\":\"white\",\"linecolor\":\"white\",\"minorgridcolor\":\"white\",\"startlinecolor\":\"#2a3f5f\"},\"type\":\"carpet\"}],\"table\":[{\"cells\":{\"fill\":{\"color\":\"#EBF0F8\"},\"line\":{\"color\":\"white\"}},\"header\":{\"fill\":{\"color\":\"#C8D4E3\"},\"line\":{\"color\":\"white\"}},\"type\":\"table\"}],\"barpolar\":[{\"marker\":{\"line\":{\"color\":\"#E5ECF6\",\"width\":0.5},\"pattern\":{\"fillmode\":\"overlay\",\"size\":10,\"solidity\":0.2}},\"type\":\"barpolar\"}],\"pie\":[{\"automargin\":true,\"type\":\"pie\"}]},\"layout\":{\"autotypenumbers\":\"strict\",\"colorway\":[\"#636efa\",\"#EF553B\",\"#00cc96\",\"#ab63fa\",\"#FFA15A\",\"#19d3f3\",\"#FF6692\",\"#B6E880\",\"#FF97FF\",\"#FECB52\"],\"font\":{\"color\":\"#2a3f5f\"},\"hovermode\":\"closest\",\"hoverlabel\":{\"align\":\"left\"},\"paper_bgcolor\":\"white\",\"plot_bgcolor\":\"#E5ECF6\",\"polar\":{\"bgcolor\":\"#E5ECF6\",\"angularaxis\":{\"gridcolor\":\"white\",\"linecolor\":\"white\",\"ticks\":\"\"},\"radialaxis\":{\"gridcolor\":\"white\",\"linecolor\":\"white\",\"ticks\":\"\"}},\"ternary\":{\"bgcolor\":\"#E5ECF6\",\"aaxis\":{\"gridcolor\":\"white\",\"linecolor\":\"white\",\"ticks\":\"\"},\"baxis\":{\"gridcolor\":\"white\",\"linecolor\":\"white\",\"ticks\":\"\"},\"caxis\":{\"gridcolor\":\"white\",\"linecolor\":\"white\",\"ticks\":\"\"}},\"coloraxis\":{\"colorbar\":{\"outlinewidth\":0,\"ticks\":\"\"}},\"colorscale\":{\"sequential\":[[0.0,\"#0d0887\"],[0.1111111111111111,\"#46039f\"],[0.2222222222222222,\"#7201a8\"],[0.3333333333333333,\"#9c179e\"],[0.4444444444444444,\"#bd3786\"],[0.5555555555555556,\"#d8576b\"],[0.6666666666666666,\"#ed7953\"],[0.7777777777777778,\"#fb9f3a\"],[0.8888888888888888,\"#fdca26\"],[1.0,\"#f0f921\"]],\"sequentialminus\":[[0.0,\"#0d0887\"],[0.1111111111111111,\"#46039f\"],[0.2222222222222222,\"#7201a8\"],[0.3333333333333333,\"#9c179e\"],[0.4444444444444444,\"#bd3786\"],[0.5555555555555556,\"#d8576b\"],[0.6666666666666666,\"#ed7953\"],[0.7777777777777778,\"#fb9f3a\"],[0.8888888888888888,\"#fdca26\"],[1.0,\"#f0f921\"]],\"diverging\":[[0,\"#8e0152\"],[0.1,\"#c51b7d\"],[0.2,\"#de77ae\"],[0.3,\"#f1b6da\"],[0.4,\"#fde0ef\"],[0.5,\"#f7f7f7\"],[0.6,\"#e6f5d0\"],[0.7,\"#b8e186\"],[0.8,\"#7fbc41\"],[0.9,\"#4d9221\"],[1,\"#276419\"]]},\"xaxis\":{\"gridcolor\":\"white\",\"linecolor\":\"white\",\"ticks\":\"\",\"title\":{\"standoff\":15},\"zerolinecolor\":\"white\",\"automargin\":true,\"zerolinewidth\":2},\"yaxis\":{\"gridcolor\":\"white\",\"linecolor\":\"white\",\"ticks\":\"\",\"title\":{\"standoff\":15},\"zerolinecolor\":\"white\",\"automargin\":true,\"zerolinewidth\":2},\"scene\":{\"xaxis\":{\"backgroundcolor\":\"#E5ECF6\",\"gridcolor\":\"white\",\"linecolor\":\"white\",\"showbackground\":true,\"ticks\":\"\",\"zerolinecolor\":\"white\",\"gridwidth\":2},\"yaxis\":{\"backgroundcolor\":\"#E5ECF6\",\"gridcolor\":\"white\",\"linecolor\":\"white\",\"showbackground\":true,\"ticks\":\"\",\"zerolinecolor\":\"white\",\"gridwidth\":2},\"zaxis\":{\"backgroundcolor\":\"#E5ECF6\",\"gridcolor\":\"white\",\"linecolor\":\"white\",\"showbackground\":true,\"ticks\":\"\",\"zerolinecolor\":\"white\",\"gridwidth\":2}},\"shapedefaults\":{\"line\":{\"color\":\"#2a3f5f\"}},\"annotationdefaults\":{\"arrowcolor\":\"#2a3f5f\",\"arrowhead\":0,\"arrowwidth\":1},\"geo\":{\"bgcolor\":\"white\",\"landcolor\":\"#E5ECF6\",\"subunitcolor\":\"white\",\"showland\":true,\"showlakes\":true,\"lakecolor\":\"white\"},\"title\":{\"x\":0.05},\"mapbox\":{\"style\":\"light\"}}},\"barmode\":\"group\",\"showlegend\":false,\"title\":{\"text\":\"Monthly Sales\",\"x\":0.45},\"xaxis\":{\"title\":{\"text\":\"Months\"}},\"yaxis\":{\"title\":{\"text\":\"Total Amount, £\"}},\"plot_bgcolor\":\"white\"},                        {\"responsive\": true}                    ).then(function(){\n",
       "                            \n",
       "var gd = document.getElementById('848327e7-4e41-4494-8abe-cb93393147c0');\n",
       "var x = new MutationObserver(function (mutations, observer) {{\n",
       "        var display = window.getComputedStyle(gd).display;\n",
       "        if (!display || display === 'none') {{\n",
       "            console.log([gd, 'removed!']);\n",
       "            Plotly.purge(gd);\n",
       "            observer.disconnect();\n",
       "        }}\n",
       "}});\n",
       "\n",
       "// Listen for the removal of the full notebook cells\n",
       "var notebookContainer = gd.closest('#notebook-container');\n",
       "if (notebookContainer) {{\n",
       "    x.observe(notebookContainer, {childList: true});\n",
       "}}\n",
       "\n",
       "// Listen for the clearing of the current output cell\n",
       "var outputEl = gd.closest('.output');\n",
       "if (outputEl) {{\n",
       "    x.observe(outputEl, {childList: true});\n",
       "}}\n",
       "\n",
       "                        })                };                });            </script>        </div>"
      ]
     },
     "metadata": {},
     "output_type": "display_data"
    }
   ],
   "source": [
    "fig = go.Figure(data=[\n",
    "    go.Bar(name='Monthly Sales', \n",
    "           x=retail_monthly_by_sales['InvoiceMonth'].astype(str),\n",
    "           y=retail_monthly_by_sales['Total'],\n",
    "           marker_opacity=1,\n",
    "           marker={'color': retail_monthly_by_sales['Total'],\n",
    "                   'colorscale': 'Portland'}\n",
    "          )\n",
    "    ])\n",
    "\n",
    "fig.update_layout(barmode='group', showlegend=False)\n",
    "\n",
    "fig.update_layout(title=\"Monthly Sales\",\n",
    "                  title_x = 0.45,\n",
    "                  xaxis_title=\"Months\",\n",
    "                  yaxis_title=\"Total Amount, £\",\n",
    "                  plot_bgcolor='white')\n",
    "fig.show()"
   ]
  },
  {
   "cell_type": "markdown",
   "id": "54eac708",
   "metadata": {
    "papermill": {
     "duration": 0.032389,
     "end_time": "2022-10-29T09:16:50.490619",
     "exception": false,
     "start_time": "2022-10-29T09:16:50.458230",
     "status": "completed"
    },
    "tags": []
   },
   "source": [
    "Remarks !!!\n",
    "\n",
    "1. The most expensive product costs £38970, while the cheapest one is priced at \n",
    "£0.001.\n",
    "2. Customer with ID 18102, who lives in the UK, has purchased different goods \n",
    "for the total value of £598k in the last two years, which makes him the most \n",
    "valuable client. \n",
    "3. Another customer from the UK has returned goods for £25k during the same \n",
    "time slot, which is the lowest purchase amount (negative).\n",
    "4. United Kingdom is leading in purchases with amount of £13.8M and has the \n",
    "largest number of unique customers, while the country with the smallest purchase value is Saudi Arabia. Interestingly, customers from Czech Republic tend to buy very little from the store, unlike other European countries. This might be valuable for the marketing team!\n",
    "Generally, utilitary items like holders and cases prevail among bestsellers. \n",
    "5. However the winner is 'World War II Gliders' - maybe airplane models? Also, \n",
    "different decor items tend to be returned most.\n",
    "6. Retention rate has dropped significantly in 2010, matching the drop in \n",
    "average sold products, but has raised again in 2011. \n",
    "7. It would be indeed great to dig into the reasons, if we had more data to \n",
    "explore.\n",
    "8. Store sales are prominently seasonal, however, with December 2011 being \n",
    "twice less good in terms of income compared to December 2010. \n",
    "This would make also a great starting point for a deeper analysis."
   ]
  },
  {
   "cell_type": "markdown",
   "id": "a38bf0d5",
   "metadata": {
    "papermill": {
     "duration": 0.032216,
     "end_time": "2022-10-29T09:16:50.555927",
     "exception": false,
     "start_time": "2022-10-29T09:16:50.523711",
     "status": "completed"
    },
    "tags": []
   },
   "source": [
    "# **Adding New Dataset**"
   ]
  },
  {
   "cell_type": "code",
   "execution_count": 72,
   "id": "5d79f879",
   "metadata": {
    "execution": {
     "iopub.execute_input": "2022-10-29T09:16:50.623506Z",
     "iopub.status.busy": "2022-10-29T09:16:50.622608Z",
     "iopub.status.idle": "2022-10-29T09:16:51.655175Z",
     "shell.execute_reply": "2022-10-29T09:16:51.654300Z"
    },
    "papermill": {
     "duration": 1.068473,
     "end_time": "2022-10-29T09:16:51.657149",
     "exception": false,
     "start_time": "2022-10-29T09:16:50.588676",
     "status": "completed"
    },
    "tags": []
   },
   "outputs": [],
   "source": [
    "data = pd.read_csv('../input/onlineretailnew/online_retail_new.csv')"
   ]
  },
  {
   "cell_type": "code",
   "execution_count": 73,
   "id": "a3484fc4",
   "metadata": {
    "execution": {
     "iopub.execute_input": "2022-10-29T09:16:51.725998Z",
     "iopub.status.busy": "2022-10-29T09:16:51.724925Z",
     "iopub.status.idle": "2022-10-29T09:16:52.041637Z",
     "shell.execute_reply": "2022-10-29T09:16:52.040696Z"
    },
    "papermill": {
     "duration": 0.3527,
     "end_time": "2022-10-29T09:16:52.043503",
     "exception": false,
     "start_time": "2022-10-29T09:16:51.690803",
     "status": "completed"
    },
    "tags": []
   },
   "outputs": [
    {
     "data": {
      "text/plain": [
       "5268"
      ]
     },
     "execution_count": 73,
     "metadata": {},
     "output_type": "execute_result"
    }
   ],
   "source": [
    "data.duplicated().sum()"
   ]
  },
  {
   "cell_type": "markdown",
   "id": "618916fb",
   "metadata": {
    "papermill": {
     "duration": 0.03262,
     "end_time": "2022-10-29T09:16:52.109639",
     "exception": false,
     "start_time": "2022-10-29T09:16:52.077019",
     "status": "completed"
    },
    "tags": []
   },
   "source": [
    "# **Data Cleaning**"
   ]
  },
  {
   "cell_type": "markdown",
   "id": "815d1824",
   "metadata": {
    "papermill": {
     "duration": 0.032631,
     "end_time": "2022-10-29T09:16:52.175113",
     "exception": false,
     "start_time": "2022-10-29T09:16:52.142482",
     "status": "completed"
    },
    "tags": []
   },
   "source": [
    "* Drop duplicates\n",
    "* Description: missing values, we are going to drop them, also maybe some simple text cleaning.\n",
    "* CustomerID: since it has too 140k missing values, which is 25% of the data, we can either drop it or fill it by \"unknown\".\n",
    "* UnitPrice: negative values, using absolute value gets the job done.\n",
    "* Quantity: negative values, using absolute value gets the job done.\n",
    "* TotalSale: negative values, using absolute value gets the job done."
   ]
  },
  {
   "cell_type": "code",
   "execution_count": 74,
   "id": "0a3b809c",
   "metadata": {
    "execution": {
     "iopub.execute_input": "2022-10-29T09:16:52.243015Z",
     "iopub.status.busy": "2022-10-29T09:16:52.242458Z",
     "iopub.status.idle": "2022-10-29T09:16:52.943406Z",
     "shell.execute_reply": "2022-10-29T09:16:52.942347Z"
    },
    "papermill": {
     "duration": 0.737296,
     "end_time": "2022-10-29T09:16:52.945667",
     "exception": false,
     "start_time": "2022-10-29T09:16:52.208371",
     "status": "completed"
    },
    "tags": []
   },
   "outputs": [],
   "source": [
    "# Fix 1: dropping duplicates\n",
    "data.drop_duplicates(inplace=True)\n",
    "\n",
    "# resetting the index\n",
    "data.reset_index(drop=True, inplace=True)\n",
    "\n",
    "# Fix 2: dropping missing values\n",
    "data.dropna(subset=['Description'], axis=0, inplace=True)\n",
    "\n",
    "# making all items lower\n",
    "data.Description = data.Description.apply(str.lower)\n",
    "\n",
    "# rmeoving leading and trailing white spaces, also removing \".\", I can't remove other punctuations since it might be part of the item itself\n",
    "data.Description = data.Description.apply(lambda x: x.replace(\".\", \"\").strip())\n",
    "\n",
    "# Fix 3: we can either fill it with 0 or drop it\n",
    "data.CustomerID.fillna(0, inplace=True)\n",
    "#data.dropna(subset=['CustomerID'], axis=0, inplace=True)\n",
    "\n",
    "# Fix 4: getting the absolute value\n",
    "data.UnitPrice = data.UnitPrice.abs()\n",
    "data.Quantity = data.Quantity.abs()\n",
    "data.Totalsale = data.Totalsale.abs()"
   ]
  },
  {
   "cell_type": "code",
   "execution_count": 75,
   "id": "d718847e",
   "metadata": {
    "execution": {
     "iopub.execute_input": "2022-10-29T09:16:53.016983Z",
     "iopub.status.busy": "2022-10-29T09:16:53.016009Z",
     "iopub.status.idle": "2022-10-29T09:16:53.142941Z",
     "shell.execute_reply": "2022-10-29T09:16:53.142063Z"
    },
    "papermill": {
     "duration": 0.165221,
     "end_time": "2022-10-29T09:16:53.145168",
     "exception": false,
     "start_time": "2022-10-29T09:16:52.979947",
     "status": "completed"
    },
    "tags": []
   },
   "outputs": [],
   "source": [
    "# making sure all the invoice date are formatted well\n",
    "data.InvoiceDate = pd.to_datetime(data.InvoiceDate, format=\"%d-%m-%Y\")\n",
    "\n",
    "# extracting Year and Month columns\n",
    "data['Year'] = pd.DatetimeIndex(data['InvoiceDate']).year \n",
    "data['Month'] = pd.DatetimeIndex(data['InvoiceDate']).month\n",
    "\n",
    "# Making new Season column \n",
    "# seasons = [4, 4, 1, 1, 1, 2, 2, 2, 3, 3, 3, 4]\n",
    "seasons = [\"Winter\", \"Winter\", \"Spring\", \"Spring\", \"Spring\", \"Summer\", \"Summer\", \"Summer\", \"Fall\", \"Fall\", \"Fall\", \"Winter\"]\n",
    "\n",
    "month_to_season = dict(zip(range(1, 13), seasons))\n",
    "\n",
    "data['Season'] = data.Month.map(month_to_season) "
   ]
  },
  {
   "cell_type": "code",
   "execution_count": 76,
   "id": "94eeb917",
   "metadata": {
    "execution": {
     "iopub.execute_input": "2022-10-29T09:16:53.212932Z",
     "iopub.status.busy": "2022-10-29T09:16:53.212637Z",
     "iopub.status.idle": "2022-10-29T09:16:53.217242Z",
     "shell.execute_reply": "2022-10-29T09:16:53.216247Z"
    },
    "papermill": {
     "duration": 0.040443,
     "end_time": "2022-10-29T09:16:53.219383",
     "exception": false,
     "start_time": "2022-10-29T09:16:53.178940",
     "status": "completed"
    },
    "tags": []
   },
   "outputs": [],
   "source": [
    "def extract_am_pm(time):\n",
    "    \"\"\"\n",
    "    This function takes time as string and extract\n",
    "    if it's AM or PM\n",
    "\n",
    "    param time: time as string\n",
    "    return: AM or PM\n",
    "    \"\"\"\n",
    "    # getting the second part of the string time\n",
    "    am_pm = time.split()[1] \n",
    "\n",
    "    # returning the value\n",
    "    return am_pm"
   ]
  },
  {
   "cell_type": "code",
   "execution_count": 77,
   "id": "277b4903",
   "metadata": {
    "execution": {
     "iopub.execute_input": "2022-10-29T09:16:53.287395Z",
     "iopub.status.busy": "2022-10-29T09:16:53.287112Z",
     "iopub.status.idle": "2022-10-29T09:16:53.473405Z",
     "shell.execute_reply": "2022-10-29T09:16:53.472446Z"
    },
    "papermill": {
     "duration": 0.221678,
     "end_time": "2022-10-29T09:16:53.475491",
     "exception": false,
     "start_time": "2022-10-29T09:16:53.253813",
     "status": "completed"
    },
    "tags": []
   },
   "outputs": [],
   "source": [
    "data['AM_or_PM'] = data.InvoiceTime.apply(extract_am_pm)"
   ]
  },
  {
   "cell_type": "markdown",
   "id": "bee2d28e",
   "metadata": {
    "papermill": {
     "duration": 0.032609,
     "end_time": "2022-10-29T09:16:53.542136",
     "exception": false,
     "start_time": "2022-10-29T09:16:53.509527",
     "status": "completed"
    },
    "tags": []
   },
   "source": [
    "# **General Analysis**"
   ]
  },
  {
   "cell_type": "code",
   "execution_count": 78,
   "id": "12e791a8",
   "metadata": {
    "execution": {
     "iopub.execute_input": "2022-10-29T09:16:53.609418Z",
     "iopub.status.busy": "2022-10-29T09:16:53.608535Z",
     "iopub.status.idle": "2022-10-29T09:16:54.648826Z",
     "shell.execute_reply": "2022-10-29T09:16:54.647918Z"
    },
    "papermill": {
     "duration": 1.075821,
     "end_time": "2022-10-29T09:16:54.650647",
     "exception": false,
     "start_time": "2022-10-29T09:16:53.574826",
     "status": "completed"
    },
    "tags": []
   },
   "outputs": [
    {
     "data": {
      "image/png": "[encoded data removed]",
      "text/plain": [
       "<Figure size 864x576 with 9 Axes>"
      ]
     },
     "metadata": {
      "needs_background": "light"
     },
     "output_type": "display_data"
    }
   ],
   "source": [
    "data.hist(figsize=(12, 8));"
   ]
  },
  {
   "cell_type": "code",
   "execution_count": 79,
   "id": "697ecd61",
   "metadata": {
    "execution": {
     "iopub.execute_input": "2022-10-29T09:16:54.722113Z",
     "iopub.status.busy": "2022-10-29T09:16:54.721357Z",
     "iopub.status.idle": "2022-10-29T09:16:55.376178Z",
     "shell.execute_reply": "2022-10-29T09:16:55.375317Z"
    },
    "papermill": {
     "duration": 0.693494,
     "end_time": "2022-10-29T09:16:55.378386",
     "exception": false,
     "start_time": "2022-10-29T09:16:54.684892",
     "status": "completed"
    },
    "tags": []
   },
   "outputs": [],
   "source": [
    "import matplotlib.pyplot as plt\n",
    "import seaborn as sns"
   ]
  },
  {
   "cell_type": "code",
   "execution_count": 80,
   "id": "b4fa06a0",
   "metadata": {
    "execution": {
     "iopub.execute_input": "2022-10-29T09:16:55.449172Z",
     "iopub.status.busy": "2022-10-29T09:16:55.448828Z",
     "iopub.status.idle": "2022-10-29T09:16:55.693463Z",
     "shell.execute_reply": "2022-10-29T09:16:55.692507Z"
    },
    "papermill": {
     "duration": 0.281468,
     "end_time": "2022-10-29T09:16:55.695213",
     "exception": false,
     "start_time": "2022-10-29T09:16:55.413745",
     "status": "completed"
    },
    "tags": []
   },
   "outputs": [
    {
     "data": {
      "image/png": "[encoded data removed]",
      "text/plain": [
       "<Figure size 864x576 with 2 Axes>"
      ]
     },
     "metadata": {
      "needs_background": "light"
     },
     "output_type": "display_data"
    }
   ],
   "source": [
    "plt.figure(figsize=(12, 8))\n",
    "sns.heatmap(data.corr());"
   ]
  },
  {
   "cell_type": "code",
   "execution_count": 81,
   "id": "d82a1f91",
   "metadata": {
    "execution": {
     "iopub.execute_input": "2022-10-29T09:16:55.763575Z",
     "iopub.status.busy": "2022-10-29T09:16:55.763235Z",
     "iopub.status.idle": "2022-10-29T09:16:55.767810Z",
     "shell.execute_reply": "2022-10-29T09:16:55.766917Z"
    },
    "papermill": {
     "duration": 0.04044,
     "end_time": "2022-10-29T09:16:55.769498",
     "exception": false,
     "start_time": "2022-10-29T09:16:55.729058",
     "status": "completed"
    },
    "tags": []
   },
   "outputs": [],
   "source": [
    "def number_of_unique(dataframe):\n",
    "    for col in dataframe.columns:\n",
    "        print(\"{} Column has {} number of unique values.\".format(col, dataframe[col].nunique()))"
   ]
  },
  {
   "cell_type": "code",
   "execution_count": 82,
   "id": "d122df26",
   "metadata": {
    "execution": {
     "iopub.execute_input": "2022-10-29T09:16:55.838513Z",
     "iopub.status.busy": "2022-10-29T09:16:55.837532Z",
     "iopub.status.idle": "2022-10-29T09:16:56.128225Z",
     "shell.execute_reply": "2022-10-29T09:16:56.126791Z"
    },
    "papermill": {
     "duration": 0.327072,
     "end_time": "2022-10-29T09:16:56.130211",
     "exception": false,
     "start_time": "2022-10-29T09:16:55.803139",
     "status": "completed"
    },
    "tags": []
   },
   "outputs": [
    {
     "name": "stdout",
     "output_type": "stream",
     "text": [
      "InvoiceNo Column has 24446 number of unique values.\n",
      "InvoiceDate Column has 305 number of unique values.\n",
      "InvoiceTime Column has 774 number of unique values.\n",
      "StockCode Column has 3958 number of unique values.\n",
      "Description Column has 4191 number of unique values.\n",
      "Quantity Column has 457 number of unique values.\n",
      "UnitPrice Column has 1629 number of unique values.\n",
      "Totalsale Column has 4914 number of unique values.\n",
      "CustomerID Column has 4373 number of unique values.\n",
      "Country Column has 38 number of unique values.\n",
      "Year Column has 2 number of unique values.\n",
      "Month Column has 12 number of unique values.\n",
      "Season Column has 4 number of unique values.\n",
      "AM_or_PM Column has 2 number of unique values.\n"
     ]
    }
   ],
   "source": [
    "number_of_unique(data)"
   ]
  },
  {
   "cell_type": "code",
   "execution_count": 83,
   "id": "9b55f3fd",
   "metadata": {
    "execution": {
     "iopub.execute_input": "2022-10-29T09:16:56.200404Z",
     "iopub.status.busy": "2022-10-29T09:16:56.200074Z",
     "iopub.status.idle": "2022-10-29T09:16:56.207138Z",
     "shell.execute_reply": "2022-10-29T09:16:56.206202Z"
    },
    "papermill": {
     "duration": 0.043969,
     "end_time": "2022-10-29T09:16:56.208850",
     "exception": false,
     "start_time": "2022-10-29T09:16:56.164881",
     "status": "completed"
    },
    "tags": []
   },
   "outputs": [],
   "source": [
    "def barplot_percentage(column, title=\"\", slice=12):\n",
    "    # number of rows\n",
    "    total = data.shape[0]\n",
    "\n",
    "    f, ax = plt.subplots(figsize=(14, 8))\n",
    "    ax = sns.barplot(data[column].value_counts()[: slice].index, data[column].value_counts()[: slice])\n",
    "    ax.set_title(title)\n",
    "\n",
    "    # Adding percentage to the bars\n",
    "    for p in ax.patches:\n",
    "        percentage = '{:.1f}%'.format(100 * p.get_height() / total)\n",
    "        width = p.get_width()\n",
    "        height = p.get_height()\n",
    "        x, y = p.get_xy() \n",
    "        ax.annotate(f'{percentage}', (x + width/2, y + height*1.02), ha='center')\n",
    "\n",
    "    plt.ylabel(\"Count\")\n",
    "    plt.show()"
   ]
  },
  {
   "cell_type": "code",
   "execution_count": 84,
   "id": "e48242fb",
   "metadata": {
    "execution": {
     "iopub.execute_input": "2022-10-29T09:16:56.277702Z",
     "iopub.status.busy": "2022-10-29T09:16:56.277413Z",
     "iopub.status.idle": "2022-10-29T09:16:56.532878Z",
     "shell.execute_reply": "2022-10-29T09:16:56.531969Z"
    },
    "papermill": {
     "duration": 0.291965,
     "end_time": "2022-10-29T09:16:56.534654",
     "exception": false,
     "start_time": "2022-10-29T09:16:56.242689",
     "status": "completed"
    },
    "tags": []
   },
   "outputs": [
    {
     "data": {
      "image/png": "[encoded data removed]",
      "text/plain": [
       "<Figure size 1008x576 with 1 Axes>"
      ]
     },
     "metadata": {
      "needs_background": "light"
     },
     "output_type": "display_data"
    }
   ],
   "source": [
    "barplot_percentage(\"StockCode\", \"Top 12 StockCode\")"
   ]
  },
  {
   "cell_type": "code",
   "execution_count": 85,
   "id": "ecdee1d8",
   "metadata": {
    "execution": {
     "iopub.execute_input": "2022-10-29T09:16:56.604912Z",
     "iopub.status.busy": "2022-10-29T09:16:56.604608Z",
     "iopub.status.idle": "2022-10-29T09:16:56.834881Z",
     "shell.execute_reply": "2022-10-29T09:16:56.834064Z"
    },
    "papermill": {
     "duration": 0.267444,
     "end_time": "2022-10-29T09:16:56.836685",
     "exception": false,
     "start_time": "2022-10-29T09:16:56.569241",
     "status": "completed"
    },
    "tags": []
   },
   "outputs": [
    {
     "data": {
      "image/png": "[encoded data removed]",
      "text/plain": [
       "<Figure size 1008x576 with 1 Axes>"
      ]
     },
     "metadata": {
      "needs_background": "light"
     },
     "output_type": "display_data"
    }
   ],
   "source": [
    "barplot_percentage(\"Description\", \"Top 5 Items\", 5)"
   ]
  },
  {
   "cell_type": "code",
   "execution_count": 86,
   "id": "373767cc",
   "metadata": {
    "execution": {
     "iopub.execute_input": "2022-10-29T09:16:56.920999Z",
     "iopub.status.busy": "2022-10-29T09:16:56.920609Z",
     "iopub.status.idle": "2022-10-29T09:16:57.195858Z",
     "shell.execute_reply": "2022-10-29T09:16:57.195010Z"
    },
    "papermill": {
     "duration": 0.321581,
     "end_time": "2022-10-29T09:16:57.197773",
     "exception": false,
     "start_time": "2022-10-29T09:16:56.876192",
     "status": "completed"
    },
    "tags": []
   },
   "outputs": [
    {
     "data": {
      "image/png": "[encoded data removed]",
      "text/plain": [
       "<Figure size 1008x576 with 1 Axes>"
      ]
     },
     "metadata": {
      "needs_background": "light"
     },
     "output_type": "display_data"
    }
   ],
   "source": [
    "barplot_percentage(\"Country\", \"Top 12 Countries\")"
   ]
  },
  {
   "cell_type": "code",
   "execution_count": 87,
   "id": "6f60f737",
   "metadata": {
    "execution": {
     "iopub.execute_input": "2022-10-29T09:16:57.270152Z",
     "iopub.status.busy": "2022-10-29T09:16:57.269402Z",
     "iopub.status.idle": "2022-10-29T09:16:57.402949Z",
     "shell.execute_reply": "2022-10-29T09:16:57.402241Z"
    },
    "papermill": {
     "duration": 0.171406,
     "end_time": "2022-10-29T09:16:57.404744",
     "exception": false,
     "start_time": "2022-10-29T09:16:57.233338",
     "status": "completed"
    },
    "tags": []
   },
   "outputs": [
    {
     "data": {
      "image/png": "[encoded data removed]",
      "text/plain": [
       "<Figure size 1008x576 with 1 Axes>"
      ]
     },
     "metadata": {
      "needs_background": "light"
     },
     "output_type": "display_data"
    }
   ],
   "source": [
    "barplot_percentage(\"Year\", \"Count Vs. Year\")"
   ]
  },
  {
   "cell_type": "code",
   "execution_count": 88,
   "id": "fb34b8b3",
   "metadata": {
    "execution": {
     "iopub.execute_input": "2022-10-29T09:16:57.479713Z",
     "iopub.status.busy": "2022-10-29T09:16:57.478888Z",
     "iopub.status.idle": "2022-10-29T09:16:57.485899Z",
     "shell.execute_reply": "2022-10-29T09:16:57.484880Z"
    },
    "papermill": {
     "duration": 0.04447,
     "end_time": "2022-10-29T09:16:57.487470",
     "exception": false,
     "start_time": "2022-10-29T09:16:57.443000",
     "status": "completed"
    },
    "tags": []
   },
   "outputs": [
    {
     "name": "stdout",
     "output_type": "stream",
     "text": [
      "The oldest date is: 2010-12-01 00:00:00, while the latest date is: 2011-12-09 00:00:00\n"
     ]
    }
   ],
   "source": [
    "print(\"The oldest date is: {}, while the latest date is: {}\".format(data.InvoiceDate.min(), data.InvoiceDate.max()))"
   ]
  },
  {
   "cell_type": "code",
   "execution_count": 89,
   "id": "23835f3c",
   "metadata": {
    "execution": {
     "iopub.execute_input": "2022-10-29T09:16:57.559659Z",
     "iopub.status.busy": "2022-10-29T09:16:57.559018Z",
     "iopub.status.idle": "2022-10-29T09:16:57.790716Z",
     "shell.execute_reply": "2022-10-29T09:16:57.789905Z"
    },
    "papermill": {
     "duration": 0.269815,
     "end_time": "2022-10-29T09:16:57.792953",
     "exception": false,
     "start_time": "2022-10-29T09:16:57.523138",
     "status": "completed"
    },
    "tags": []
   },
   "outputs": [
    {
     "data": {
      "image/png": "[encoded data removed]",
      "text/plain": [
       "<Figure size 1008x576 with 1 Axes>"
      ]
     },
     "metadata": {
      "needs_background": "light"
     },
     "output_type": "display_data"
    }
   ],
   "source": [
    "barplot_percentage(\"Month\", \"Months by Propotion\")"
   ]
  },
  {
   "cell_type": "code",
   "execution_count": 90,
   "id": "aef3e456",
   "metadata": {
    "execution": {
     "iopub.execute_input": "2022-10-29T09:16:57.867681Z",
     "iopub.status.busy": "2022-10-29T09:16:57.867362Z",
     "iopub.status.idle": "2022-10-29T09:16:58.067330Z",
     "shell.execute_reply": "2022-10-29T09:16:58.066317Z"
    },
    "papermill": {
     "duration": 0.240367,
     "end_time": "2022-10-29T09:16:58.069051",
     "exception": false,
     "start_time": "2022-10-29T09:16:57.828684",
     "status": "completed"
    },
    "tags": []
   },
   "outputs": [
    {
     "data": {
      "image/png": "[encoded data removed]",
      "text/plain": [
       "<Figure size 1008x576 with 1 Axes>"
      ]
     },
     "metadata": {
      "needs_background": "light"
     },
     "output_type": "display_data"
    }
   ],
   "source": [
    "barplot_percentage(\"Season\", \"Seasons by Propotion\")"
   ]
  },
  {
   "cell_type": "code",
   "execution_count": 91,
   "id": "a313d0bc",
   "metadata": {
    "execution": {
     "iopub.execute_input": "2022-10-29T09:16:58.141324Z",
     "iopub.status.busy": "2022-10-29T09:16:58.140997Z",
     "iopub.status.idle": "2022-10-29T09:16:58.345338Z",
     "shell.execute_reply": "2022-10-29T09:16:58.344615Z"
    },
    "papermill": {
     "duration": 0.242641,
     "end_time": "2022-10-29T09:16:58.347185",
     "exception": false,
     "start_time": "2022-10-29T09:16:58.104544",
     "status": "completed"
    },
    "tags": []
   },
   "outputs": [
    {
     "data": {
      "image/png": "[encoded data removed]",
      "text/plain": [
       "<Figure size 1008x576 with 1 Axes>"
      ]
     },
     "metadata": {
      "needs_background": "light"
     },
     "output_type": "display_data"
    }
   ],
   "source": [
    "barplot_percentage(\"AM_or_PM\", \"After Midday vs. Before Midday\")"
   ]
  },
  {
   "cell_type": "markdown",
   "id": "40695341",
   "metadata": {
    "execution": {
     "iopub.execute_input": "2022-10-29T05:53:30.234558Z",
     "iopub.status.busy": "2022-10-29T05:53:30.234105Z",
     "iopub.status.idle": "2022-10-29T05:53:30.243041Z",
     "shell.execute_reply": "2022-10-29T05:53:30.241296Z",
     "shell.execute_reply.started": "2022-10-29T05:53:30.234520Z"
    },
    "papermill": {
     "duration": 0.034813,
     "end_time": "2022-10-29T09:16:58.417940",
     "exception": false,
     "start_time": "2022-10-29T09:16:58.383127",
     "status": "completed"
    },
    "tags": []
   },
   "source": [
    "**We can see that United Kingdom is approximately 91% of the contries in our data. Most transcations are in 2011, and just one month which is december in 2010. November, December and Octobor are the highest. Fall is the highest season, follows it Winter, Summer then Spring. 70% of invoices are made after midday \"noon\".**"
   ]
  },
  {
   "cell_type": "markdown",
   "id": "7f14ee7e",
   "metadata": {
    "papermill": {
     "duration": 0.034961,
     "end_time": "2022-10-29T09:16:58.487966",
     "exception": false,
     "start_time": "2022-10-29T09:16:58.453005",
     "status": "completed"
    },
    "tags": []
   },
   "source": [
    "# **FP-Algorithm**"
   ]
  },
  {
   "cell_type": "markdown",
   "id": "6bd75fcb",
   "metadata": {
    "papermill": {
     "duration": 0.034669,
     "end_time": "2022-10-29T09:16:58.557976",
     "exception": false,
     "start_time": "2022-10-29T09:16:58.523307",
     "status": "completed"
    },
    "tags": []
   },
   "source": [
    "We know there is 24k invoices and almost 4200 items, so i'm going to take a \n",
    "portion, since taking all transacations is so computationally expensive."
   ]
  },
  {
   "cell_type": "code",
   "execution_count": 92,
   "id": "b7dbda7e",
   "metadata": {
    "execution": {
     "iopub.execute_input": "2022-10-29T09:16:58.630079Z",
     "iopub.status.busy": "2022-10-29T09:16:58.629119Z",
     "iopub.status.idle": "2022-10-29T09:16:58.666816Z",
     "shell.execute_reply": "2022-10-29T09:16:58.666109Z"
    },
    "papermill": {
     "duration": 0.075576,
     "end_time": "2022-10-29T09:16:58.668489",
     "exception": false,
     "start_time": "2022-10-29T09:16:58.592913",
     "status": "completed"
    },
    "tags": []
   },
   "outputs": [],
   "source": [
    "# getting 200 invoices ids\n",
    "invoices_ids = data.InvoiceNo.unique()[: 200]"
   ]
  },
  {
   "cell_type": "code",
   "execution_count": 93,
   "id": "398d74ff",
   "metadata": {
    "execution": {
     "iopub.execute_input": "2022-10-29T09:16:58.742098Z",
     "iopub.status.busy": "2022-10-29T09:16:58.741472Z",
     "iopub.status.idle": "2022-10-29T09:17:04.941331Z",
     "shell.execute_reply": "2022-10-29T09:17:04.940407Z"
    },
    "papermill": {
     "duration": 6.239381,
     "end_time": "2022-10-29T09:17:04.943475",
     "exception": false,
     "start_time": "2022-10-29T09:16:58.704094",
     "status": "completed"
    },
    "tags": []
   },
   "outputs": [],
   "source": [
    "# this code just gets me unique items, so I can use them as column\n",
    "# this is my method, i'm sure there is better than this\n",
    "\n",
    "all_items = []\n",
    "for val in invoices_ids:\n",
    "    general_items = data[data['InvoiceNo'] == val]['Description'].unique()\n",
    "    #print(\"val: {}\".format(val), general_items)\n",
    "    all_items.append(list(general_items))\n",
    "\n",
    "from functools import reduce\n",
    "\n",
    "flatten_list = reduce(lambda z, y :z + y, all_items) # concatenating\n",
    "flatten_list = set(flatten_list) # removing duplicates\n",
    "# printing flatten_list\n",
    "#print (flatten_list)"
   ]
  },
  {
   "cell_type": "code",
   "execution_count": 94,
   "id": "f6bb2e72",
   "metadata": {
    "execution": {
     "iopub.execute_input": "2022-10-29T09:17:05.019148Z",
     "iopub.status.busy": "2022-10-29T09:17:05.018502Z",
     "iopub.status.idle": "2022-10-29T09:17:05.179100Z",
     "shell.execute_reply": "2022-10-29T09:17:05.178219Z"
    },
    "papermill": {
     "duration": 0.200392,
     "end_time": "2022-10-29T09:17:05.181148",
     "exception": false,
     "start_time": "2022-10-29T09:17:04.980756",
     "status": "completed"
    },
    "tags": []
   },
   "outputs": [
    {
     "data": {
      "text/html": [
       "<div>\n",
       "<style scoped>\n",
       "    .dataframe tbody tr th:only-of-type {\n",
       "        vertical-align: middle;\n",
       "    }\n",
       "\n",
       "    .dataframe tbody tr th {\n",
       "        vertical-align: top;\n",
       "    }\n",
       "\n",
       "    .dataframe thead th {\n",
       "        text-align: right;\n",
       "    }\n",
       "</style>\n",
       "<table border=\"1\" class=\"dataframe\">\n",
       "  <thead>\n",
       "    <tr style=\"text-align: right;\">\n",
       "      <th></th>\n",
       "      <th>oven mitt apples design</th>\n",
       "      <th>lunch bag  black skull</th>\n",
       "      <th>letter \"s\" bling key ring</th>\n",
       "      <th>skulls storage box small</th>\n",
       "      <th>magnets pack of 4 home sweet home</th>\n",
       "      <th>party cones carnival assorted</th>\n",
       "      <th>basket of toadstools</th>\n",
       "      <th>red star card holder</th>\n",
       "      <th>set of 2 tins jardin de provence</th>\n",
       "      <th>red retrospot tape</th>\n",
       "      <th>...</th>\n",
       "      <th>christmas lights 10 vintage baubles</th>\n",
       "      <th>doormat welcome puppies</th>\n",
       "      <th>green christmas tree card holder</th>\n",
       "      <th>blue sweetheart bracelet</th>\n",
       "      <th>3d sheet of cat stickers</th>\n",
       "      <th>polkadot mug pink</th>\n",
       "      <th>square floor cushion vintage red</th>\n",
       "      <th>home small wood letters</th>\n",
       "      <th>fairy dreams incense</th>\n",
       "      <th>empire tissue box</th>\n",
       "    </tr>\n",
       "  </thead>\n",
       "  <tbody>\n",
       "    <tr>\n",
       "      <th>536365</th>\n",
       "      <td>0</td>\n",
       "      <td>0</td>\n",
       "      <td>0</td>\n",
       "      <td>0</td>\n",
       "      <td>0</td>\n",
       "      <td>0</td>\n",
       "      <td>0</td>\n",
       "      <td>0</td>\n",
       "      <td>0</td>\n",
       "      <td>0</td>\n",
       "      <td>...</td>\n",
       "      <td>0</td>\n",
       "      <td>0</td>\n",
       "      <td>0</td>\n",
       "      <td>0</td>\n",
       "      <td>0</td>\n",
       "      <td>0</td>\n",
       "      <td>0</td>\n",
       "      <td>0</td>\n",
       "      <td>0</td>\n",
       "      <td>0</td>\n",
       "    </tr>\n",
       "    <tr>\n",
       "      <th>536366</th>\n",
       "      <td>0</td>\n",
       "      <td>0</td>\n",
       "      <td>0</td>\n",
       "      <td>0</td>\n",
       "      <td>0</td>\n",
       "      <td>0</td>\n",
       "      <td>0</td>\n",
       "      <td>0</td>\n",
       "      <td>0</td>\n",
       "      <td>0</td>\n",
       "      <td>...</td>\n",
       "      <td>0</td>\n",
       "      <td>0</td>\n",
       "      <td>0</td>\n",
       "      <td>0</td>\n",
       "      <td>0</td>\n",
       "      <td>0</td>\n",
       "      <td>0</td>\n",
       "      <td>0</td>\n",
       "      <td>0</td>\n",
       "      <td>0</td>\n",
       "    </tr>\n",
       "    <tr>\n",
       "      <th>536367</th>\n",
       "      <td>0</td>\n",
       "      <td>0</td>\n",
       "      <td>0</td>\n",
       "      <td>0</td>\n",
       "      <td>0</td>\n",
       "      <td>0</td>\n",
       "      <td>0</td>\n",
       "      <td>0</td>\n",
       "      <td>0</td>\n",
       "      <td>0</td>\n",
       "      <td>...</td>\n",
       "      <td>0</td>\n",
       "      <td>0</td>\n",
       "      <td>0</td>\n",
       "      <td>0</td>\n",
       "      <td>0</td>\n",
       "      <td>0</td>\n",
       "      <td>0</td>\n",
       "      <td>0</td>\n",
       "      <td>0</td>\n",
       "      <td>0</td>\n",
       "    </tr>\n",
       "    <tr>\n",
       "      <th>536368</th>\n",
       "      <td>0</td>\n",
       "      <td>0</td>\n",
       "      <td>0</td>\n",
       "      <td>0</td>\n",
       "      <td>0</td>\n",
       "      <td>0</td>\n",
       "      <td>0</td>\n",
       "      <td>0</td>\n",
       "      <td>0</td>\n",
       "      <td>0</td>\n",
       "      <td>...</td>\n",
       "      <td>0</td>\n",
       "      <td>0</td>\n",
       "      <td>0</td>\n",
       "      <td>0</td>\n",
       "      <td>0</td>\n",
       "      <td>0</td>\n",
       "      <td>0</td>\n",
       "      <td>0</td>\n",
       "      <td>0</td>\n",
       "      <td>0</td>\n",
       "    </tr>\n",
       "    <tr>\n",
       "      <th>536369</th>\n",
       "      <td>0</td>\n",
       "      <td>0</td>\n",
       "      <td>0</td>\n",
       "      <td>0</td>\n",
       "      <td>0</td>\n",
       "      <td>0</td>\n",
       "      <td>0</td>\n",
       "      <td>0</td>\n",
       "      <td>0</td>\n",
       "      <td>0</td>\n",
       "      <td>...</td>\n",
       "      <td>0</td>\n",
       "      <td>0</td>\n",
       "      <td>0</td>\n",
       "      <td>0</td>\n",
       "      <td>0</td>\n",
       "      <td>0</td>\n",
       "      <td>0</td>\n",
       "      <td>0</td>\n",
       "      <td>0</td>\n",
       "      <td>0</td>\n",
       "    </tr>\n",
       "  </tbody>\n",
       "</table>\n",
       "<p>5 rows × 1455 columns</p>\n",
       "</div>"
      ],
      "text/plain": [
       "        oven mitt apples design  lunch bag  black skull  \\\n",
       "536365                        0                       0   \n",
       "536366                        0                       0   \n",
       "536367                        0                       0   \n",
       "536368                        0                       0   \n",
       "536369                        0                       0   \n",
       "\n",
       "        letter \"s\" bling key ring  skulls storage box small  \\\n",
       "536365                          0                         0   \n",
       "536366                          0                         0   \n",
       "536367                          0                         0   \n",
       "536368                          0                         0   \n",
       "536369                          0                         0   \n",
       "\n",
       "        magnets pack of 4 home sweet home  party cones carnival assorted  \\\n",
       "536365                                  0                              0   \n",
       "536366                                  0                              0   \n",
       "536367                                  0                              0   \n",
       "536368                                  0                              0   \n",
       "536369                                  0                              0   \n",
       "\n",
       "        basket of toadstools  red star card holder  \\\n",
       "536365                     0                     0   \n",
       "536366                     0                     0   \n",
       "536367                     0                     0   \n",
       "536368                     0                     0   \n",
       "536369                     0                     0   \n",
       "\n",
       "        set of 2 tins jardin de provence  red retrospot tape  ...  \\\n",
       "536365                                 0                   0  ...   \n",
       "536366                                 0                   0  ...   \n",
       "536367                                 0                   0  ...   \n",
       "536368                                 0                   0  ...   \n",
       "536369                                 0                   0  ...   \n",
       "\n",
       "        christmas lights 10 vintage baubles  doormat welcome puppies  \\\n",
       "536365                                    0                        0   \n",
       "536366                                    0                        0   \n",
       "536367                                    0                        0   \n",
       "536368                                    0                        0   \n",
       "536369                                    0                        0   \n",
       "\n",
       "        green christmas tree card holder  blue sweetheart bracelet  \\\n",
       "536365                                 0                         0   \n",
       "536366                                 0                         0   \n",
       "536367                                 0                         0   \n",
       "536368                                 0                         0   \n",
       "536369                                 0                         0   \n",
       "\n",
       "        3d sheet of cat stickers  polkadot mug pink  \\\n",
       "536365                         0                  0   \n",
       "536366                         0                  0   \n",
       "536367                         0                  0   \n",
       "536368                         0                  0   \n",
       "536369                         0                  0   \n",
       "\n",
       "        square floor cushion vintage red  home small wood letters  \\\n",
       "536365                                 0                        0   \n",
       "536366                                 0                        0   \n",
       "536367                                 0                        0   \n",
       "536368                                 0                        0   \n",
       "536369                                 0                        0   \n",
       "\n",
       "        fairy dreams incense  empire tissue box  \n",
       "536365                     0                  0  \n",
       "536366                     0                  0  \n",
       "536367                     0                  0  \n",
       "536368                     0                  0  \n",
       "536369                     0                  0  \n",
       "\n",
       "[5 rows x 1455 columns]"
      ]
     },
     "execution_count": 94,
     "metadata": {},
     "output_type": "execute_result"
    }
   ],
   "source": [
    "# making a dataframe where index is the invoice id, and columns are the items we made previously\n",
    "fp_growth_df = pd.DataFrame(index=invoices_ids, columns=flatten_list)\n",
    "fp_growth_df.fillna(0, inplace=True)\n",
    "fp_growth_df.head()"
   ]
  },
  {
   "cell_type": "code",
   "execution_count": 95,
   "id": "f10526ca",
   "metadata": {
    "execution": {
     "iopub.execute_input": "2022-10-29T09:17:05.256278Z",
     "iopub.status.busy": "2022-10-29T09:17:05.255548Z",
     "iopub.status.idle": "2022-10-29T09:17:11.891457Z",
     "shell.execute_reply": "2022-10-29T09:17:11.890584Z"
    },
    "papermill": {
     "duration": 6.67518,
     "end_time": "2022-10-29T09:17:11.893197",
     "exception": false,
     "start_time": "2022-10-29T09:17:05.218017",
     "status": "completed"
    },
    "tags": []
   },
   "outputs": [
    {
     "data": {
      "text/html": [
       "<div>\n",
       "<style scoped>\n",
       "    .dataframe tbody tr th:only-of-type {\n",
       "        vertical-align: middle;\n",
       "    }\n",
       "\n",
       "    .dataframe tbody tr th {\n",
       "        vertical-align: top;\n",
       "    }\n",
       "\n",
       "    .dataframe thead th {\n",
       "        text-align: right;\n",
       "    }\n",
       "</style>\n",
       "<table border=\"1\" class=\"dataframe\">\n",
       "  <thead>\n",
       "    <tr style=\"text-align: right;\">\n",
       "      <th></th>\n",
       "      <th>oven mitt apples design</th>\n",
       "      <th>lunch bag  black skull</th>\n",
       "      <th>letter \"s\" bling key ring</th>\n",
       "      <th>skulls storage box small</th>\n",
       "      <th>magnets pack of 4 home sweet home</th>\n",
       "      <th>party cones carnival assorted</th>\n",
       "      <th>basket of toadstools</th>\n",
       "      <th>red star card holder</th>\n",
       "      <th>set of 2 tins jardin de provence</th>\n",
       "      <th>red retrospot tape</th>\n",
       "      <th>...</th>\n",
       "      <th>christmas lights 10 vintage baubles</th>\n",
       "      <th>doormat welcome puppies</th>\n",
       "      <th>green christmas tree card holder</th>\n",
       "      <th>blue sweetheart bracelet</th>\n",
       "      <th>3d sheet of cat stickers</th>\n",
       "      <th>polkadot mug pink</th>\n",
       "      <th>square floor cushion vintage red</th>\n",
       "      <th>home small wood letters</th>\n",
       "      <th>fairy dreams incense</th>\n",
       "      <th>empire tissue box</th>\n",
       "    </tr>\n",
       "  </thead>\n",
       "  <tbody>\n",
       "    <tr>\n",
       "      <th>536365</th>\n",
       "      <td>0</td>\n",
       "      <td>0</td>\n",
       "      <td>0</td>\n",
       "      <td>0</td>\n",
       "      <td>0</td>\n",
       "      <td>0</td>\n",
       "      <td>0</td>\n",
       "      <td>0</td>\n",
       "      <td>0</td>\n",
       "      <td>0</td>\n",
       "      <td>...</td>\n",
       "      <td>0</td>\n",
       "      <td>0</td>\n",
       "      <td>0</td>\n",
       "      <td>0</td>\n",
       "      <td>0</td>\n",
       "      <td>0</td>\n",
       "      <td>0</td>\n",
       "      <td>0</td>\n",
       "      <td>0</td>\n",
       "      <td>0</td>\n",
       "    </tr>\n",
       "    <tr>\n",
       "      <th>536366</th>\n",
       "      <td>0</td>\n",
       "      <td>0</td>\n",
       "      <td>0</td>\n",
       "      <td>0</td>\n",
       "      <td>0</td>\n",
       "      <td>0</td>\n",
       "      <td>0</td>\n",
       "      <td>0</td>\n",
       "      <td>0</td>\n",
       "      <td>0</td>\n",
       "      <td>...</td>\n",
       "      <td>0</td>\n",
       "      <td>0</td>\n",
       "      <td>0</td>\n",
       "      <td>0</td>\n",
       "      <td>0</td>\n",
       "      <td>0</td>\n",
       "      <td>0</td>\n",
       "      <td>0</td>\n",
       "      <td>0</td>\n",
       "      <td>0</td>\n",
       "    </tr>\n",
       "    <tr>\n",
       "      <th>536367</th>\n",
       "      <td>0</td>\n",
       "      <td>0</td>\n",
       "      <td>0</td>\n",
       "      <td>0</td>\n",
       "      <td>0</td>\n",
       "      <td>0</td>\n",
       "      <td>0</td>\n",
       "      <td>0</td>\n",
       "      <td>0</td>\n",
       "      <td>0</td>\n",
       "      <td>...</td>\n",
       "      <td>0</td>\n",
       "      <td>0</td>\n",
       "      <td>0</td>\n",
       "      <td>0</td>\n",
       "      <td>0</td>\n",
       "      <td>0</td>\n",
       "      <td>0</td>\n",
       "      <td>0</td>\n",
       "      <td>0</td>\n",
       "      <td>0</td>\n",
       "    </tr>\n",
       "    <tr>\n",
       "      <th>536368</th>\n",
       "      <td>0</td>\n",
       "      <td>0</td>\n",
       "      <td>0</td>\n",
       "      <td>0</td>\n",
       "      <td>0</td>\n",
       "      <td>0</td>\n",
       "      <td>0</td>\n",
       "      <td>0</td>\n",
       "      <td>0</td>\n",
       "      <td>0</td>\n",
       "      <td>...</td>\n",
       "      <td>0</td>\n",
       "      <td>0</td>\n",
       "      <td>0</td>\n",
       "      <td>0</td>\n",
       "      <td>0</td>\n",
       "      <td>0</td>\n",
       "      <td>0</td>\n",
       "      <td>0</td>\n",
       "      <td>0</td>\n",
       "      <td>0</td>\n",
       "    </tr>\n",
       "    <tr>\n",
       "      <th>536369</th>\n",
       "      <td>0</td>\n",
       "      <td>0</td>\n",
       "      <td>0</td>\n",
       "      <td>0</td>\n",
       "      <td>0</td>\n",
       "      <td>0</td>\n",
       "      <td>0</td>\n",
       "      <td>0</td>\n",
       "      <td>0</td>\n",
       "      <td>0</td>\n",
       "      <td>...</td>\n",
       "      <td>0</td>\n",
       "      <td>0</td>\n",
       "      <td>0</td>\n",
       "      <td>0</td>\n",
       "      <td>0</td>\n",
       "      <td>0</td>\n",
       "      <td>0</td>\n",
       "      <td>0</td>\n",
       "      <td>0</td>\n",
       "      <td>0</td>\n",
       "    </tr>\n",
       "  </tbody>\n",
       "</table>\n",
       "<p>5 rows × 1455 columns</p>\n",
       "</div>"
      ],
      "text/plain": [
       "        oven mitt apples design  lunch bag  black skull  \\\n",
       "536365                        0                       0   \n",
       "536366                        0                       0   \n",
       "536367                        0                       0   \n",
       "536368                        0                       0   \n",
       "536369                        0                       0   \n",
       "\n",
       "        letter \"s\" bling key ring  skulls storage box small  \\\n",
       "536365                          0                         0   \n",
       "536366                          0                         0   \n",
       "536367                          0                         0   \n",
       "536368                          0                         0   \n",
       "536369                          0                         0   \n",
       "\n",
       "        magnets pack of 4 home sweet home  party cones carnival assorted  \\\n",
       "536365                                  0                              0   \n",
       "536366                                  0                              0   \n",
       "536367                                  0                              0   \n",
       "536368                                  0                              0   \n",
       "536369                                  0                              0   \n",
       "\n",
       "        basket of toadstools  red star card holder  \\\n",
       "536365                     0                     0   \n",
       "536366                     0                     0   \n",
       "536367                     0                     0   \n",
       "536368                     0                     0   \n",
       "536369                     0                     0   \n",
       "\n",
       "        set of 2 tins jardin de provence  red retrospot tape  ...  \\\n",
       "536365                                 0                   0  ...   \n",
       "536366                                 0                   0  ...   \n",
       "536367                                 0                   0  ...   \n",
       "536368                                 0                   0  ...   \n",
       "536369                                 0                   0  ...   \n",
       "\n",
       "        christmas lights 10 vintage baubles  doormat welcome puppies  \\\n",
       "536365                                    0                        0   \n",
       "536366                                    0                        0   \n",
       "536367                                    0                        0   \n",
       "536368                                    0                        0   \n",
       "536369                                    0                        0   \n",
       "\n",
       "        green christmas tree card holder  blue sweetheart bracelet  \\\n",
       "536365                                 0                         0   \n",
       "536366                                 0                         0   \n",
       "536367                                 0                         0   \n",
       "536368                                 0                         0   \n",
       "536369                                 0                         0   \n",
       "\n",
       "        3d sheet of cat stickers  polkadot mug pink  \\\n",
       "536365                         0                  0   \n",
       "536366                         0                  0   \n",
       "536367                         0                  0   \n",
       "536368                         0                  0   \n",
       "536369                         0                  0   \n",
       "\n",
       "        square floor cushion vintage red  home small wood letters  \\\n",
       "536365                                 0                        0   \n",
       "536366                                 0                        0   \n",
       "536367                                 0                        0   \n",
       "536368                                 0                        0   \n",
       "536369                                 0                        0   \n",
       "\n",
       "        fairy dreams incense  empire tissue box  \n",
       "536365                     0                  0  \n",
       "536366                     0                  0  \n",
       "536367                     0                  0  \n",
       "536368                     0                  0  \n",
       "536369                     0                  0  \n",
       "\n",
       "[5 rows x 1455 columns]"
      ]
     },
     "execution_count": 95,
     "metadata": {},
     "output_type": "execute_result"
    }
   ],
   "source": [
    "# assigning 1 if this item X was in that invoice id Y\n",
    "for val in invoices_ids:\n",
    "    general_items = data[data['InvoiceNo'] == val]['Description'].unique()\n",
    "    for item in general_items:\n",
    "        fp_growth_df.loc[val][item] = 1\n",
    "fp_growth_df.head()"
   ]
  },
  {
   "cell_type": "markdown",
   "id": "446b7503",
   "metadata": {
    "papermill": {
     "duration": 0.035298,
     "end_time": "2022-10-29T09:17:11.965071",
     "exception": false,
     "start_time": "2022-10-29T09:17:11.929773",
     "status": "completed"
    },
    "tags": []
   },
   "source": [
    "# **Mlxtend**"
   ]
  },
  {
   "cell_type": "markdown",
   "id": "0a2cdec8",
   "metadata": {
    "papermill": {
     "duration": 0.035516,
     "end_time": "2022-10-29T09:17:12.036270",
     "exception": false,
     "start_time": "2022-10-29T09:17:12.000754",
     "status": "completed"
    },
    "tags": []
   },
   "source": [
    "Mlxtend (machine learning extensions) is a Python library of useful tools for \n",
    "the day-to-day data science tasks."
   ]
  },
  {
   "cell_type": "code",
   "execution_count": 96,
   "id": "c9f06559",
   "metadata": {
    "execution": {
     "iopub.execute_input": "2022-10-29T09:17:12.109157Z",
     "iopub.status.busy": "2022-10-29T09:17:12.108801Z",
     "iopub.status.idle": "2022-10-29T09:17:12.417240Z",
     "shell.execute_reply": "2022-10-29T09:17:12.416368Z"
    },
    "papermill": {
     "duration": 0.347477,
     "end_time": "2022-10-29T09:17:12.419619",
     "exception": false,
     "start_time": "2022-10-29T09:17:12.072142",
     "status": "completed"
    },
    "tags": []
   },
   "outputs": [
    {
     "name": "stderr",
     "output_type": "stream",
     "text": [
      "/opt/conda/lib/python3.7/site-packages/mlxtend/frequent_patterns/fpcommon.py:115: DeprecationWarning:\n",
      "\n",
      "DataFrames with non-bool types result in worse computationalperformance and their support might be discontinued in the future.Please use a DataFrame with bool type\n",
      "\n"
     ]
    },
    {
     "data": {
      "text/html": [
       "<div>\n",
       "<style scoped>\n",
       "    .dataframe tbody tr th:only-of-type {\n",
       "        vertical-align: middle;\n",
       "    }\n",
       "\n",
       "    .dataframe tbody tr th {\n",
       "        vertical-align: top;\n",
       "    }\n",
       "\n",
       "    .dataframe thead th {\n",
       "        text-align: right;\n",
       "    }\n",
       "</style>\n",
       "<table border=\"1\" class=\"dataframe\">\n",
       "  <thead>\n",
       "    <tr style=\"text-align: right;\">\n",
       "      <th></th>\n",
       "      <th>support</th>\n",
       "      <th>itemsets</th>\n",
       "    </tr>\n",
       "  </thead>\n",
       "  <tbody>\n",
       "    <tr>\n",
       "      <th>0</th>\n",
       "      <td>0.130</td>\n",
       "      <td>(white hanging heart t-light holder)</td>\n",
       "    </tr>\n",
       "    <tr>\n",
       "      <th>1</th>\n",
       "      <td>0.115</td>\n",
       "      <td>(red woolly hottie white heart)</td>\n",
       "    </tr>\n",
       "    <tr>\n",
       "      <th>2</th>\n",
       "      <td>0.095</td>\n",
       "      <td>(set 7 babushka nesting boxes)</td>\n",
       "    </tr>\n",
       "    <tr>\n",
       "      <th>3</th>\n",
       "      <td>0.090</td>\n",
       "      <td>(knitted union flag hot water bottle)</td>\n",
       "    </tr>\n",
       "    <tr>\n",
       "      <th>4</th>\n",
       "      <td>0.070</td>\n",
       "      <td>(white metal lantern)</td>\n",
       "    </tr>\n",
       "    <tr>\n",
       "      <th>5</th>\n",
       "      <td>0.065</td>\n",
       "      <td>(cream cupid hearts coat hanger)</td>\n",
       "    </tr>\n",
       "    <tr>\n",
       "      <th>6</th>\n",
       "      <td>0.065</td>\n",
       "      <td>(glass star frosted t-light holder)</td>\n",
       "    </tr>\n",
       "    <tr>\n",
       "      <th>7</th>\n",
       "      <td>0.120</td>\n",
       "      <td>(hand warmer union jack)</td>\n",
       "    </tr>\n",
       "    <tr>\n",
       "      <th>8</th>\n",
       "      <td>0.065</td>\n",
       "      <td>(hand warmer red polka dot)</td>\n",
       "    </tr>\n",
       "    <tr>\n",
       "      <th>9</th>\n",
       "      <td>0.055</td>\n",
       "      <td>(assorted colour bird ornament)</td>\n",
       "    </tr>\n",
       "  </tbody>\n",
       "</table>\n",
       "</div>"
      ],
      "text/plain": [
       "   support                               itemsets\n",
       "0    0.130   (white hanging heart t-light holder)\n",
       "1    0.115        (red woolly hottie white heart)\n",
       "2    0.095         (set 7 babushka nesting boxes)\n",
       "3    0.090  (knitted union flag hot water bottle)\n",
       "4    0.070                  (white metal lantern)\n",
       "5    0.065       (cream cupid hearts coat hanger)\n",
       "6    0.065    (glass star frosted t-light holder)\n",
       "7    0.120               (hand warmer union jack)\n",
       "8    0.065            (hand warmer red polka dot)\n",
       "9    0.055        (assorted colour bird ornament)"
      ]
     },
     "execution_count": 96,
     "metadata": {},
     "output_type": "execute_result"
    }
   ],
   "source": [
    "#Importing Libraries\n",
    "from mlxtend.frequent_patterns import fpgrowth\n",
    "\n",
    "#running the fpgrowth algorithm\n",
    "res = fpgrowth(fp_growth_df, min_support=0.05, use_colnames=True)\n",
    "\n",
    "# printing top 10\n",
    "res.head(10) "
   ]
  },
  {
   "cell_type": "code",
   "execution_count": 97,
   "id": "4ff71d35",
   "metadata": {
    "execution": {
     "iopub.execute_input": "2022-10-29T09:17:12.494535Z",
     "iopub.status.busy": "2022-10-29T09:17:12.493795Z",
     "iopub.status.idle": "2022-10-29T09:17:12.498828Z",
     "shell.execute_reply": "2022-10-29T09:17:12.498272Z"
    },
    "papermill": {
     "duration": 0.043747,
     "end_time": "2022-10-29T09:17:12.500326",
     "exception": false,
     "start_time": "2022-10-29T09:17:12.456579",
     "status": "completed"
    },
    "tags": []
   },
   "outputs": [
    {
     "data": {
      "text/plain": [
       "(17924, 2)"
      ]
     },
     "execution_count": 97,
     "metadata": {},
     "output_type": "execute_result"
    }
   ],
   "source": [
    "res.shape"
   ]
  },
  {
   "cell_type": "markdown",
   "id": "9b06538b",
   "metadata": {
    "papermill": {
     "duration": 0.035726,
     "end_time": "2022-10-29T09:17:12.572303",
     "exception": false,
     "start_time": "2022-10-29T09:17:12.536577",
     "status": "completed"
    },
    "tags": []
   },
   "source": [
    "# **Implementing association_rule module - Mlxtend**"
   ]
  },
  {
   "cell_type": "code",
   "execution_count": 98,
   "id": "e57d01c3",
   "metadata": {
    "execution": {
     "iopub.execute_input": "2022-10-29T09:17:12.646317Z",
     "iopub.status.busy": "2022-10-29T09:17:12.645311Z",
     "iopub.status.idle": "2022-10-29T09:17:51.120626Z",
     "shell.execute_reply": "2022-10-29T09:17:51.119767Z"
    },
    "papermill": {
     "duration": 38.551468,
     "end_time": "2022-10-29T09:17:51.160015",
     "exception": false,
     "start_time": "2022-10-29T09:17:12.608547",
     "status": "completed"
    },
    "tags": []
   },
   "outputs": [
    {
     "data": {
      "text/html": [
       "<div>\n",
       "<style scoped>\n",
       "    .dataframe tbody tr th:only-of-type {\n",
       "        vertical-align: middle;\n",
       "    }\n",
       "\n",
       "    .dataframe tbody tr th {\n",
       "        vertical-align: top;\n",
       "    }\n",
       "\n",
       "    .dataframe thead th {\n",
       "        text-align: right;\n",
       "    }\n",
       "</style>\n",
       "<table border=\"1\" class=\"dataframe\">\n",
       "  <thead>\n",
       "    <tr style=\"text-align: right;\">\n",
       "      <th></th>\n",
       "      <th>antecedents</th>\n",
       "      <th>consequents</th>\n",
       "      <th>antecedent support</th>\n",
       "      <th>consequent support</th>\n",
       "      <th>support</th>\n",
       "      <th>confidence</th>\n",
       "      <th>lift</th>\n",
       "      <th>leverage</th>\n",
       "      <th>conviction</th>\n",
       "    </tr>\n",
       "  </thead>\n",
       "  <tbody>\n",
       "    <tr>\n",
       "      <th>0</th>\n",
       "      <td>(red woolly hottie white heart)</td>\n",
       "      <td>(white hanging heart t-light holder)</td>\n",
       "      <td>0.115</td>\n",
       "      <td>0.130</td>\n",
       "      <td>0.08</td>\n",
       "      <td>0.695652</td>\n",
       "      <td>5.351171</td>\n",
       "      <td>0.065050</td>\n",
       "      <td>2.858571</td>\n",
       "    </tr>\n",
       "    <tr>\n",
       "      <th>1</th>\n",
       "      <td>(white hanging heart t-light holder)</td>\n",
       "      <td>(red woolly hottie white heart)</td>\n",
       "      <td>0.130</td>\n",
       "      <td>0.115</td>\n",
       "      <td>0.08</td>\n",
       "      <td>0.615385</td>\n",
       "      <td>5.351171</td>\n",
       "      <td>0.065050</td>\n",
       "      <td>2.301000</td>\n",
       "    </tr>\n",
       "    <tr>\n",
       "      <th>2</th>\n",
       "      <td>(red woolly hottie white heart)</td>\n",
       "      <td>(set 7 babushka nesting boxes)</td>\n",
       "      <td>0.115</td>\n",
       "      <td>0.095</td>\n",
       "      <td>0.06</td>\n",
       "      <td>0.521739</td>\n",
       "      <td>5.491991</td>\n",
       "      <td>0.049075</td>\n",
       "      <td>1.892273</td>\n",
       "    </tr>\n",
       "    <tr>\n",
       "      <th>3</th>\n",
       "      <td>(set 7 babushka nesting boxes)</td>\n",
       "      <td>(red woolly hottie white heart)</td>\n",
       "      <td>0.095</td>\n",
       "      <td>0.115</td>\n",
       "      <td>0.06</td>\n",
       "      <td>0.631579</td>\n",
       "      <td>5.491991</td>\n",
       "      <td>0.049075</td>\n",
       "      <td>2.402143</td>\n",
       "    </tr>\n",
       "    <tr>\n",
       "      <th>4</th>\n",
       "      <td>(white hanging heart t-light holder)</td>\n",
       "      <td>(set 7 babushka nesting boxes)</td>\n",
       "      <td>0.130</td>\n",
       "      <td>0.095</td>\n",
       "      <td>0.06</td>\n",
       "      <td>0.461538</td>\n",
       "      <td>4.858300</td>\n",
       "      <td>0.047650</td>\n",
       "      <td>1.680714</td>\n",
       "    </tr>\n",
       "    <tr>\n",
       "      <th>...</th>\n",
       "      <td>...</td>\n",
       "      <td>...</td>\n",
       "      <td>...</td>\n",
       "      <td>...</td>\n",
       "      <td>...</td>\n",
       "      <td>...</td>\n",
       "      <td>...</td>\n",
       "      <td>...</td>\n",
       "      <td>...</td>\n",
       "    </tr>\n",
       "    <tr>\n",
       "      <th>4904189</th>\n",
       "      <td>(hand warmer owl design, hand warmer scotty do...</td>\n",
       "      <td>(hand warmer red retrospot)</td>\n",
       "      <td>0.065</td>\n",
       "      <td>0.090</td>\n",
       "      <td>0.05</td>\n",
       "      <td>0.769231</td>\n",
       "      <td>8.547009</td>\n",
       "      <td>0.044150</td>\n",
       "      <td>3.943333</td>\n",
       "    </tr>\n",
       "    <tr>\n",
       "      <th>4904190</th>\n",
       "      <td>(hand warmer red retrospot, hand warmer scotty...</td>\n",
       "      <td>(hand warmer owl design)</td>\n",
       "      <td>0.050</td>\n",
       "      <td>0.075</td>\n",
       "      <td>0.05</td>\n",
       "      <td>1.000000</td>\n",
       "      <td>13.333333</td>\n",
       "      <td>0.046250</td>\n",
       "      <td>inf</td>\n",
       "    </tr>\n",
       "    <tr>\n",
       "      <th>4904191</th>\n",
       "      <td>(hand warmer owl design)</td>\n",
       "      <td>(hand warmer red retrospot, hand warmer scotty...</td>\n",
       "      <td>0.075</td>\n",
       "      <td>0.050</td>\n",
       "      <td>0.05</td>\n",
       "      <td>0.666667</td>\n",
       "      <td>13.333333</td>\n",
       "      <td>0.046250</td>\n",
       "      <td>2.850000</td>\n",
       "    </tr>\n",
       "    <tr>\n",
       "      <th>4904192</th>\n",
       "      <td>(hand warmer red retrospot)</td>\n",
       "      <td>(hand warmer owl design, hand warmer scotty do...</td>\n",
       "      <td>0.090</td>\n",
       "      <td>0.065</td>\n",
       "      <td>0.05</td>\n",
       "      <td>0.555556</td>\n",
       "      <td>8.547009</td>\n",
       "      <td>0.044150</td>\n",
       "      <td>2.103750</td>\n",
       "    </tr>\n",
       "    <tr>\n",
       "      <th>4904193</th>\n",
       "      <td>(hand warmer scotty dog design)</td>\n",
       "      <td>(hand warmer owl design, hand warmer red retro...</td>\n",
       "      <td>0.090</td>\n",
       "      <td>0.055</td>\n",
       "      <td>0.05</td>\n",
       "      <td>0.555556</td>\n",
       "      <td>10.101010</td>\n",
       "      <td>0.045050</td>\n",
       "      <td>2.126250</td>\n",
       "    </tr>\n",
       "  </tbody>\n",
       "</table>\n",
       "<p>4904194 rows × 9 columns</p>\n",
       "</div>"
      ],
      "text/plain": [
       "                                               antecedents  \\\n",
       "0                          (red woolly hottie white heart)   \n",
       "1                     (white hanging heart t-light holder)   \n",
       "2                          (red woolly hottie white heart)   \n",
       "3                           (set 7 babushka nesting boxes)   \n",
       "4                     (white hanging heart t-light holder)   \n",
       "...                                                    ...   \n",
       "4904189  (hand warmer owl design, hand warmer scotty do...   \n",
       "4904190  (hand warmer red retrospot, hand warmer scotty...   \n",
       "4904191                           (hand warmer owl design)   \n",
       "4904192                        (hand warmer red retrospot)   \n",
       "4904193                    (hand warmer scotty dog design)   \n",
       "\n",
       "                                               consequents  \\\n",
       "0                     (white hanging heart t-light holder)   \n",
       "1                          (red woolly hottie white heart)   \n",
       "2                           (set 7 babushka nesting boxes)   \n",
       "3                          (red woolly hottie white heart)   \n",
       "4                           (set 7 babushka nesting boxes)   \n",
       "...                                                    ...   \n",
       "4904189                        (hand warmer red retrospot)   \n",
       "4904190                           (hand warmer owl design)   \n",
       "4904191  (hand warmer red retrospot, hand warmer scotty...   \n",
       "4904192  (hand warmer owl design, hand warmer scotty do...   \n",
       "4904193  (hand warmer owl design, hand warmer red retro...   \n",
       "\n",
       "         antecedent support  consequent support  support  confidence  \\\n",
       "0                     0.115               0.130     0.08    0.695652   \n",
       "1                     0.130               0.115     0.08    0.615385   \n",
       "2                     0.115               0.095     0.06    0.521739   \n",
       "3                     0.095               0.115     0.06    0.631579   \n",
       "4                     0.130               0.095     0.06    0.461538   \n",
       "...                     ...                 ...      ...         ...   \n",
       "4904189               0.065               0.090     0.05    0.769231   \n",
       "4904190               0.050               0.075     0.05    1.000000   \n",
       "4904191               0.075               0.050     0.05    0.666667   \n",
       "4904192               0.090               0.065     0.05    0.555556   \n",
       "4904193               0.090               0.055     0.05    0.555556   \n",
       "\n",
       "              lift  leverage  conviction  \n",
       "0         5.351171  0.065050    2.858571  \n",
       "1         5.351171  0.065050    2.301000  \n",
       "2         5.491991  0.049075    1.892273  \n",
       "3         5.491991  0.049075    2.402143  \n",
       "4         4.858300  0.047650    1.680714  \n",
       "...            ...       ...         ...  \n",
       "4904189   8.547009  0.044150    3.943333  \n",
       "4904190  13.333333  0.046250         inf  \n",
       "4904191  13.333333  0.046250    2.850000  \n",
       "4904192   8.547009  0.044150    2.103750  \n",
       "4904193  10.101010  0.045050    2.126250  \n",
       "\n",
       "[4904194 rows x 9 columns]"
      ]
     },
     "execution_count": 98,
     "metadata": {},
     "output_type": "execute_result"
    }
   ],
   "source": [
    "# importing required module\n",
    "from mlxtend.frequent_patterns import association_rules\n",
    "\n",
    "# creating asssociation rules\n",
    "res = association_rules(res, metric=\"lift\", min_threshold=1)\n",
    "\n",
    "# printing association rules\n",
    "res "
   ]
  },
  {
   "cell_type": "code",
   "execution_count": 99,
   "id": "6421aaad",
   "metadata": {
    "execution": {
     "iopub.execute_input": "2022-10-29T09:17:51.237255Z",
     "iopub.status.busy": "2022-10-29T09:17:51.236900Z",
     "iopub.status.idle": "2022-10-29T09:17:52.163729Z",
     "shell.execute_reply": "2022-10-29T09:17:52.162937Z"
    },
    "papermill": {
     "duration": 0.967769,
     "end_time": "2022-10-29T09:17:52.165739",
     "exception": false,
     "start_time": "2022-10-29T09:17:51.197970",
     "status": "completed"
    },
    "tags": []
   },
   "outputs": [
    {
     "data": {
      "text/html": [
       "<div>\n",
       "<style scoped>\n",
       "    .dataframe tbody tr th:only-of-type {\n",
       "        vertical-align: middle;\n",
       "    }\n",
       "\n",
       "    .dataframe tbody tr th {\n",
       "        vertical-align: top;\n",
       "    }\n",
       "\n",
       "    .dataframe thead th {\n",
       "        text-align: right;\n",
       "    }\n",
       "</style>\n",
       "<table border=\"1\" class=\"dataframe\">\n",
       "  <thead>\n",
       "    <tr style=\"text-align: right;\">\n",
       "      <th></th>\n",
       "      <th>antecedents</th>\n",
       "      <th>consequents</th>\n",
       "      <th>antecedent support</th>\n",
       "      <th>consequent support</th>\n",
       "      <th>support</th>\n",
       "      <th>confidence</th>\n",
       "      <th>lift</th>\n",
       "      <th>leverage</th>\n",
       "      <th>conviction</th>\n",
       "    </tr>\n",
       "  </thead>\n",
       "  <tbody>\n",
       "    <tr>\n",
       "      <th>2452097</th>\n",
       "      <td>(glass star frosted t-light holder, save the p...</td>\n",
       "      <td>(cream cupid hearts coat hanger, vintage billb...</td>\n",
       "      <td>0.05</td>\n",
       "      <td>0.05</td>\n",
       "      <td>0.05</td>\n",
       "      <td>1.000000</td>\n",
       "      <td>20.000000</td>\n",
       "      <td>0.0475</td>\n",
       "      <td>inf</td>\n",
       "    </tr>\n",
       "    <tr>\n",
       "      <th>3054333</th>\n",
       "      <td>(knitted union flag hot water bottle, save the...</td>\n",
       "      <td>(wood 2 drawer cabinet white finish, wooden pi...</td>\n",
       "      <td>0.05</td>\n",
       "      <td>0.05</td>\n",
       "      <td>0.05</td>\n",
       "      <td>1.000000</td>\n",
       "      <td>20.000000</td>\n",
       "      <td>0.0475</td>\n",
       "      <td>inf</td>\n",
       "    </tr>\n",
       "    <tr>\n",
       "      <th>3054302</th>\n",
       "      <td>(knitted union flag hot water bottle, vintage ...</td>\n",
       "      <td>(wooden picture frame white finish, white hang...</td>\n",
       "      <td>0.05</td>\n",
       "      <td>0.05</td>\n",
       "      <td>0.05</td>\n",
       "      <td>1.000000</td>\n",
       "      <td>20.000000</td>\n",
       "      <td>0.0475</td>\n",
       "      <td>inf</td>\n",
       "    </tr>\n",
       "    <tr>\n",
       "      <th>3054303</th>\n",
       "      <td>(vintage billboard drink me mug, white hanging...</td>\n",
       "      <td>(knitted union flag hot water bottle, wooden p...</td>\n",
       "      <td>0.05</td>\n",
       "      <td>0.05</td>\n",
       "      <td>0.05</td>\n",
       "      <td>1.000000</td>\n",
       "      <td>20.000000</td>\n",
       "      <td>0.0475</td>\n",
       "      <td>inf</td>\n",
       "    </tr>\n",
       "    <tr>\n",
       "      <th>3054304</th>\n",
       "      <td>(knitted union flag hot water bottle, white ha...</td>\n",
       "      <td>(wooden picture frame white finish, wood 2 dra...</td>\n",
       "      <td>0.05</td>\n",
       "      <td>0.05</td>\n",
       "      <td>0.05</td>\n",
       "      <td>1.000000</td>\n",
       "      <td>20.000000</td>\n",
       "      <td>0.0475</td>\n",
       "      <td>inf</td>\n",
       "    </tr>\n",
       "    <tr>\n",
       "      <th>...</th>\n",
       "      <td>...</td>\n",
       "      <td>...</td>\n",
       "      <td>...</td>\n",
       "      <td>...</td>\n",
       "      <td>...</td>\n",
       "      <td>...</td>\n",
       "      <td>...</td>\n",
       "      <td>...</td>\n",
       "      <td>...</td>\n",
       "    </tr>\n",
       "    <tr>\n",
       "      <th>730583</th>\n",
       "      <td>(white hanging heart t-light holder)</td>\n",
       "      <td>(red woolly hottie white heart, wood 2 drawer ...</td>\n",
       "      <td>0.13</td>\n",
       "      <td>0.05</td>\n",
       "      <td>0.05</td>\n",
       "      <td>0.384615</td>\n",
       "      <td>7.692308</td>\n",
       "      <td>0.0435</td>\n",
       "      <td>1.54375</td>\n",
       "    </tr>\n",
       "    <tr>\n",
       "      <th>730457</th>\n",
       "      <td>(white hanging heart t-light holder)</td>\n",
       "      <td>(red woolly hottie white heart, wood 2 drawer ...</td>\n",
       "      <td>0.13</td>\n",
       "      <td>0.05</td>\n",
       "      <td>0.05</td>\n",
       "      <td>0.384615</td>\n",
       "      <td>7.692308</td>\n",
       "      <td>0.0435</td>\n",
       "      <td>1.54375</td>\n",
       "    </tr>\n",
       "    <tr>\n",
       "      <th>3338667</th>\n",
       "      <td>(white hanging heart t-light holder)</td>\n",
       "      <td>(wood 2 drawer cabinet white finish, glass sta...</td>\n",
       "      <td>0.13</td>\n",
       "      <td>0.05</td>\n",
       "      <td>0.05</td>\n",
       "      <td>0.384615</td>\n",
       "      <td>7.692308</td>\n",
       "      <td>0.0435</td>\n",
       "      <td>1.54375</td>\n",
       "    </tr>\n",
       "    <tr>\n",
       "      <th>730331</th>\n",
       "      <td>(white hanging heart t-light holder)</td>\n",
       "      <td>(red woolly hottie white heart, wood 2 drawer ...</td>\n",
       "      <td>0.13</td>\n",
       "      <td>0.05</td>\n",
       "      <td>0.05</td>\n",
       "      <td>0.384615</td>\n",
       "      <td>7.692308</td>\n",
       "      <td>0.0435</td>\n",
       "      <td>1.54375</td>\n",
       "    </tr>\n",
       "    <tr>\n",
       "      <th>882055</th>\n",
       "      <td>(white hanging heart t-light holder)</td>\n",
       "      <td>(red woolly hottie white heart, wood 2 drawer ...</td>\n",
       "      <td>0.13</td>\n",
       "      <td>0.05</td>\n",
       "      <td>0.05</td>\n",
       "      <td>0.384615</td>\n",
       "      <td>7.692308</td>\n",
       "      <td>0.0435</td>\n",
       "      <td>1.54375</td>\n",
       "    </tr>\n",
       "  </tbody>\n",
       "</table>\n",
       "<p>4904194 rows × 9 columns</p>\n",
       "</div>"
      ],
      "text/plain": [
       "                                               antecedents  \\\n",
       "2452097  (glass star frosted t-light holder, save the p...   \n",
       "3054333  (knitted union flag hot water bottle, save the...   \n",
       "3054302  (knitted union flag hot water bottle, vintage ...   \n",
       "3054303  (vintage billboard drink me mug, white hanging...   \n",
       "3054304  (knitted union flag hot water bottle, white ha...   \n",
       "...                                                    ...   \n",
       "730583                (white hanging heart t-light holder)   \n",
       "730457                (white hanging heart t-light holder)   \n",
       "3338667               (white hanging heart t-light holder)   \n",
       "730331                (white hanging heart t-light holder)   \n",
       "882055                (white hanging heart t-light holder)   \n",
       "\n",
       "                                               consequents  \\\n",
       "2452097  (cream cupid hearts coat hanger, vintage billb...   \n",
       "3054333  (wood 2 drawer cabinet white finish, wooden pi...   \n",
       "3054302  (wooden picture frame white finish, white hang...   \n",
       "3054303  (knitted union flag hot water bottle, wooden p...   \n",
       "3054304  (wooden picture frame white finish, wood 2 dra...   \n",
       "...                                                    ...   \n",
       "730583   (red woolly hottie white heart, wood 2 drawer ...   \n",
       "730457   (red woolly hottie white heart, wood 2 drawer ...   \n",
       "3338667  (wood 2 drawer cabinet white finish, glass sta...   \n",
       "730331   (red woolly hottie white heart, wood 2 drawer ...   \n",
       "882055   (red woolly hottie white heart, wood 2 drawer ...   \n",
       "\n",
       "         antecedent support  consequent support  support  confidence  \\\n",
       "2452097                0.05                0.05     0.05    1.000000   \n",
       "3054333                0.05                0.05     0.05    1.000000   \n",
       "3054302                0.05                0.05     0.05    1.000000   \n",
       "3054303                0.05                0.05     0.05    1.000000   \n",
       "3054304                0.05                0.05     0.05    1.000000   \n",
       "...                     ...                 ...      ...         ...   \n",
       "730583                 0.13                0.05     0.05    0.384615   \n",
       "730457                 0.13                0.05     0.05    0.384615   \n",
       "3338667                0.13                0.05     0.05    0.384615   \n",
       "730331                 0.13                0.05     0.05    0.384615   \n",
       "882055                 0.13                0.05     0.05    0.384615   \n",
       "\n",
       "              lift  leverage  conviction  \n",
       "2452097  20.000000    0.0475         inf  \n",
       "3054333  20.000000    0.0475         inf  \n",
       "3054302  20.000000    0.0475         inf  \n",
       "3054303  20.000000    0.0475         inf  \n",
       "3054304  20.000000    0.0475         inf  \n",
       "...            ...       ...         ...  \n",
       "730583    7.692308    0.0435     1.54375  \n",
       "730457    7.692308    0.0435     1.54375  \n",
       "3338667   7.692308    0.0435     1.54375  \n",
       "730331    7.692308    0.0435     1.54375  \n",
       "882055    7.692308    0.0435     1.54375  \n",
       "\n",
       "[4904194 rows x 9 columns]"
      ]
     },
     "execution_count": 99,
     "metadata": {},
     "output_type": "execute_result"
    }
   ],
   "source": [
    "# Sort values based on confidence\n",
    "res.sort_values(\"confidence\",ascending=False)"
   ]
  }
 ],
 "metadata": {
  "kernelspec": {
   "display_name": "Python 3",
   "language": "python",
   "name": "python3"
  },
  "language_info": {
   "codemirror_mode": {
    "name": "ipython",
    "version": 3
   },
   "file_extension": ".py",
   "mimetype": "text/x-python",
   "name": "python",
   "nbconvert_exporter": "python",
   "pygments_lexer": "ipython3",
   "version": "3.7.12"
  },
  "papermill": {
   "default_parameters": {},
   "duration": 92.503198,
   "end_time": "2022-10-29T09:17:55.022203",
   "environment_variables": {},
   "exception": null,
   "input_path": "__notebook__.ipynb",
   "output_path": "__notebook__.ipynb",
   "parameters": {},
   "start_time": "2022-10-29T09:16:22.519005",
   "version": "2.3.4"
  }
 },
 "nbformat": 4,
 "nbformat_minor": 5
}
